{
 "cells": [
  {
   "cell_type": "code",
   "execution_count": 1,
   "id": "bdf90f06",
   "metadata": {
    "_cell_guid": "b1076dfc-b9ad-4769-8c92-a6c4dae69d19",
    "_uuid": "8f2839f25d086af736a60e9eeb907d3b93b6e0e5",
    "execution": {
     "iopub.execute_input": "2025-02-11T02:33:43.245918Z",
     "iopub.status.busy": "2025-02-11T02:33:43.245403Z",
     "iopub.status.idle": "2025-02-11T02:33:46.893615Z",
     "shell.execute_reply": "2025-02-11T02:33:46.892447Z"
    },
    "papermill": {
     "duration": 3.656689,
     "end_time": "2025-02-11T02:33:46.895589",
     "exception": false,
     "start_time": "2025-02-11T02:33:43.238900",
     "status": "completed"
    },
    "tags": []
   },
   "outputs": [],
   "source": [
    "import numpy as np\n",
    "import pandas as pd \n",
    "import matplotlib.pyplot as plt\n",
    "import seaborn as sns\n",
    "from sklearn.ensemble import RandomForestClassifier\n",
    "from sklearn.metrics import accuracy_score, classification_report\n",
    "from sklearn.model_selection import train_test_split\n",
    "from sklearn.preprocessing import StandardScaler\n",
    "from imblearn.over_sampling import SMOTE\n",
    "import joblib\n",
    "import re"
   ]
  },
  {
   "cell_type": "code",
   "execution_count": 2,
   "id": "f7974ea9",
   "metadata": {
    "execution": {
     "iopub.execute_input": "2025-02-11T02:33:46.906724Z",
     "iopub.status.busy": "2025-02-11T02:33:46.906161Z",
     "iopub.status.idle": "2025-02-11T02:33:56.298705Z",
     "shell.execute_reply": "2025-02-11T02:33:56.297593Z"
    },
    "papermill": {
     "duration": 9.399953,
     "end_time": "2025-02-11T02:33:56.300558",
     "exception": false,
     "start_time": "2025-02-11T02:33:46.900605",
     "status": "completed"
    },
    "tags": []
   },
   "outputs": [
    {
     "data": {
      "text/html": [
       "<div>\n",
       "<style scoped>\n",
       "    .dataframe tbody tr th:only-of-type {\n",
       "        vertical-align: middle;\n",
       "    }\n",
       "\n",
       "    .dataframe tbody tr th {\n",
       "        vertical-align: top;\n",
       "    }\n",
       "\n",
       "    .dataframe thead th {\n",
       "        text-align: right;\n",
       "    }\n",
       "</style>\n",
       "<table border=\"1\" class=\"dataframe\">\n",
       "  <thead>\n",
       "    <tr style=\"text-align: right;\">\n",
       "      <th></th>\n",
       "      <th>Timestamp</th>\n",
       "      <th>CAN ID</th>\n",
       "      <th>DLC</th>\n",
       "      <th>DATA0</th>\n",
       "      <th>DATA1</th>\n",
       "      <th>DATA2</th>\n",
       "      <th>DATA3</th>\n",
       "      <th>DATA4</th>\n",
       "      <th>DATA5</th>\n",
       "      <th>DATA6</th>\n",
       "      <th>DATA7</th>\n",
       "      <th>Flag</th>\n",
       "    </tr>\n",
       "  </thead>\n",
       "  <tbody>\n",
       "    <tr>\n",
       "      <th>0</th>\n",
       "      <td>1.478191e+09</td>\n",
       "      <td>018f</td>\n",
       "      <td>8</td>\n",
       "      <td>fe</td>\n",
       "      <td>3b</td>\n",
       "      <td>00</td>\n",
       "      <td>00</td>\n",
       "      <td>00</td>\n",
       "      <td>3c</td>\n",
       "      <td>00</td>\n",
       "      <td>00</td>\n",
       "      <td>R</td>\n",
       "    </tr>\n",
       "    <tr>\n",
       "      <th>1</th>\n",
       "      <td>1.478191e+09</td>\n",
       "      <td>0260</td>\n",
       "      <td>8</td>\n",
       "      <td>19</td>\n",
       "      <td>22</td>\n",
       "      <td>22</td>\n",
       "      <td>30</td>\n",
       "      <td>ff</td>\n",
       "      <td>8f</td>\n",
       "      <td>6e</td>\n",
       "      <td>3f</td>\n",
       "      <td>R</td>\n",
       "    </tr>\n",
       "    <tr>\n",
       "      <th>2</th>\n",
       "      <td>1.478191e+09</td>\n",
       "      <td>02a0</td>\n",
       "      <td>8</td>\n",
       "      <td>60</td>\n",
       "      <td>00</td>\n",
       "      <td>83</td>\n",
       "      <td>1d</td>\n",
       "      <td>96</td>\n",
       "      <td>02</td>\n",
       "      <td>bd</td>\n",
       "      <td>00</td>\n",
       "      <td>R</td>\n",
       "    </tr>\n",
       "    <tr>\n",
       "      <th>3</th>\n",
       "      <td>1.478191e+09</td>\n",
       "      <td>0329</td>\n",
       "      <td>8</td>\n",
       "      <td>dc</td>\n",
       "      <td>b8</td>\n",
       "      <td>7e</td>\n",
       "      <td>14</td>\n",
       "      <td>11</td>\n",
       "      <td>20</td>\n",
       "      <td>00</td>\n",
       "      <td>14</td>\n",
       "      <td>R</td>\n",
       "    </tr>\n",
       "    <tr>\n",
       "      <th>4</th>\n",
       "      <td>1.478191e+09</td>\n",
       "      <td>0545</td>\n",
       "      <td>8</td>\n",
       "      <td>d8</td>\n",
       "      <td>00</td>\n",
       "      <td>00</td>\n",
       "      <td>83</td>\n",
       "      <td>00</td>\n",
       "      <td>00</td>\n",
       "      <td>00</td>\n",
       "      <td>00</td>\n",
       "      <td>R</td>\n",
       "    </tr>\n",
       "  </tbody>\n",
       "</table>\n",
       "</div>"
      ],
      "text/plain": [
       "      Timestamp CAN ID  DLC DATA0 DATA1 DATA2 DATA3 DATA4 DATA5 DATA6 DATA7  \\\n",
       "0  1.478191e+09   018f    8    fe    3b    00    00    00    3c    00    00   \n",
       "1  1.478191e+09   0260    8    19    22    22    30    ff    8f    6e    3f   \n",
       "2  1.478191e+09   02a0    8    60    00    83    1d    96    02    bd    00   \n",
       "3  1.478191e+09   0329    8    dc    b8    7e    14    11    20    00    14   \n",
       "4  1.478191e+09   0545    8    d8    00    00    83    00    00    00    00   \n",
       "\n",
       "  Flag  \n",
       "0    R  \n",
       "1    R  \n",
       "2    R  \n",
       "3    R  \n",
       "4    R  "
      ]
     },
     "execution_count": 2,
     "metadata": {},
     "output_type": "execute_result"
    }
   ],
   "source": [
    "df = pd.read_csv('/kaggle/input/car-hacking-dataset/RPM_dataset.csv')\n",
    "df.columns = ['Timestamp', 'CAN ID', 'DLC', 'DATA0', 'DATA1', 'DATA2', 'DATA3', 'DATA4', 'DATA5', 'DATA6', 'DATA7', 'Flag']\n",
    "df.head()"
   ]
  },
  {
   "cell_type": "code",
   "execution_count": 3,
   "id": "b58477aa",
   "metadata": {
    "execution": {
     "iopub.execute_input": "2025-02-11T02:33:56.311507Z",
     "iopub.status.busy": "2025-02-11T02:33:56.311086Z",
     "iopub.status.idle": "2025-02-11T02:33:58.323307Z",
     "shell.execute_reply": "2025-02-11T02:33:58.322039Z"
    },
    "papermill": {
     "duration": 2.020704,
     "end_time": "2025-02-11T02:33:58.326272",
     "exception": false,
     "start_time": "2025-02-11T02:33:56.305568",
     "status": "completed"
    },
    "tags": []
   },
   "outputs": [
    {
     "data": {
      "text/html": [
       "<div>\n",
       "<style scoped>\n",
       "    .dataframe tbody tr th:only-of-type {\n",
       "        vertical-align: middle;\n",
       "    }\n",
       "\n",
       "    .dataframe tbody tr th {\n",
       "        vertical-align: top;\n",
       "    }\n",
       "\n",
       "    .dataframe thead th {\n",
       "        text-align: right;\n",
       "    }\n",
       "</style>\n",
       "<table border=\"1\" class=\"dataframe\">\n",
       "  <thead>\n",
       "    <tr style=\"text-align: right;\">\n",
       "      <th></th>\n",
       "      <th>Timestamp</th>\n",
       "      <th>CAN ID</th>\n",
       "      <th>DLC</th>\n",
       "      <th>DATA0</th>\n",
       "      <th>DATA1</th>\n",
       "      <th>DATA2</th>\n",
       "      <th>DATA3</th>\n",
       "      <th>DATA4</th>\n",
       "      <th>DATA5</th>\n",
       "      <th>DATA6</th>\n",
       "      <th>DATA7</th>\n",
       "      <th>Flag</th>\n",
       "    </tr>\n",
       "  </thead>\n",
       "  <tbody>\n",
       "    <tr>\n",
       "      <th>0</th>\n",
       "      <td>1970-01-01 00:00:01.478191030</td>\n",
       "      <td>018f</td>\n",
       "      <td>8</td>\n",
       "      <td>fe</td>\n",
       "      <td>3b</td>\n",
       "      <td>00</td>\n",
       "      <td>00</td>\n",
       "      <td>00</td>\n",
       "      <td>3c</td>\n",
       "      <td>00</td>\n",
       "      <td>00</td>\n",
       "      <td>R</td>\n",
       "    </tr>\n",
       "    <tr>\n",
       "      <th>1</th>\n",
       "      <td>1970-01-01 00:00:01.478191030</td>\n",
       "      <td>0260</td>\n",
       "      <td>8</td>\n",
       "      <td>19</td>\n",
       "      <td>22</td>\n",
       "      <td>22</td>\n",
       "      <td>30</td>\n",
       "      <td>ff</td>\n",
       "      <td>8f</td>\n",
       "      <td>6e</td>\n",
       "      <td>3f</td>\n",
       "      <td>R</td>\n",
       "    </tr>\n",
       "    <tr>\n",
       "      <th>2</th>\n",
       "      <td>1970-01-01 00:00:01.478191030</td>\n",
       "      <td>02a0</td>\n",
       "      <td>8</td>\n",
       "      <td>60</td>\n",
       "      <td>00</td>\n",
       "      <td>83</td>\n",
       "      <td>1d</td>\n",
       "      <td>96</td>\n",
       "      <td>02</td>\n",
       "      <td>bd</td>\n",
       "      <td>00</td>\n",
       "      <td>R</td>\n",
       "    </tr>\n",
       "    <tr>\n",
       "      <th>3</th>\n",
       "      <td>1970-01-01 00:00:01.478191030</td>\n",
       "      <td>0329</td>\n",
       "      <td>8</td>\n",
       "      <td>dc</td>\n",
       "      <td>b8</td>\n",
       "      <td>7e</td>\n",
       "      <td>14</td>\n",
       "      <td>11</td>\n",
       "      <td>20</td>\n",
       "      <td>00</td>\n",
       "      <td>14</td>\n",
       "      <td>R</td>\n",
       "    </tr>\n",
       "    <tr>\n",
       "      <th>4</th>\n",
       "      <td>1970-01-01 00:00:01.478191030</td>\n",
       "      <td>0545</td>\n",
       "      <td>8</td>\n",
       "      <td>d8</td>\n",
       "      <td>00</td>\n",
       "      <td>00</td>\n",
       "      <td>83</td>\n",
       "      <td>00</td>\n",
       "      <td>00</td>\n",
       "      <td>00</td>\n",
       "      <td>00</td>\n",
       "      <td>R</td>\n",
       "    </tr>\n",
       "  </tbody>\n",
       "</table>\n",
       "</div>"
      ],
      "text/plain": [
       "                      Timestamp CAN ID  DLC DATA0 DATA1 DATA2 DATA3 DATA4  \\\n",
       "0 1970-01-01 00:00:01.478191030   018f    8    fe    3b    00    00    00   \n",
       "1 1970-01-01 00:00:01.478191030   0260    8    19    22    22    30    ff   \n",
       "2 1970-01-01 00:00:01.478191030   02a0    8    60    00    83    1d    96   \n",
       "3 1970-01-01 00:00:01.478191030   0329    8    dc    b8    7e    14    11   \n",
       "4 1970-01-01 00:00:01.478191030   0545    8    d8    00    00    83    00   \n",
       "\n",
       "  DATA5 DATA6 DATA7 Flag  \n",
       "0    3c    00    00    R  \n",
       "1    8f    6e    3f    R  \n",
       "2    02    bd    00    R  \n",
       "3    20    00    14    R  \n",
       "4    00    00    00    R  "
      ]
     },
     "execution_count": 3,
     "metadata": {},
     "output_type": "execute_result"
    }
   ],
   "source": [
    "# Convert Timestamp to datetime\n",
    "df['Timestamp'] = pd.to_datetime(df['Timestamp'], errors='coerce')\n",
    "df.head()"
   ]
  },
  {
   "cell_type": "code",
   "execution_count": 4,
   "id": "af608265",
   "metadata": {
    "execution": {
     "iopub.execute_input": "2025-02-11T02:33:58.337933Z",
     "iopub.status.busy": "2025-02-11T02:33:58.337591Z",
     "iopub.status.idle": "2025-02-11T02:34:00.399370Z",
     "shell.execute_reply": "2025-02-11T02:34:00.398318Z"
    },
    "papermill": {
     "duration": 2.06945,
     "end_time": "2025-02-11T02:34:00.400997",
     "exception": false,
     "start_time": "2025-02-11T02:33:58.331547",
     "status": "completed"
    },
    "tags": []
   },
   "outputs": [
    {
     "data": {
      "text/plain": [
       "Timestamp    2436\n",
       "CAN ID         26\n",
       "DLC             2\n",
       "DATA0         113\n",
       "DATA1          85\n",
       "DATA2          89\n",
       "DATA3          28\n",
       "DATA4         192\n",
       "DATA5         256\n",
       "DATA6          80\n",
       "DATA7         256\n",
       "Flag            2\n",
       "dtype: int64"
      ]
     },
     "execution_count": 4,
     "metadata": {},
     "output_type": "execute_result"
    }
   ],
   "source": [
    "df.nunique()"
   ]
  },
  {
   "cell_type": "code",
   "execution_count": 5,
   "id": "f2ca2c6b",
   "metadata": {
    "execution": {
     "iopub.execute_input": "2025-02-11T02:34:00.412372Z",
     "iopub.status.busy": "2025-02-11T02:34:00.411975Z",
     "iopub.status.idle": "2025-02-11T02:34:00.851324Z",
     "shell.execute_reply": "2025-02-11T02:34:00.850332Z"
    },
    "papermill": {
     "duration": 0.446945,
     "end_time": "2025-02-11T02:34:00.853169",
     "exception": false,
     "start_time": "2025-02-11T02:34:00.406224",
     "status": "completed"
    },
    "tags": []
   },
   "outputs": [],
   "source": [
    "df_2 = df.copy()"
   ]
  },
  {
   "cell_type": "code",
   "execution_count": 6,
   "id": "57df9681",
   "metadata": {
    "execution": {
     "iopub.execute_input": "2025-02-11T02:34:00.864952Z",
     "iopub.status.busy": "2025-02-11T02:34:00.864608Z",
     "iopub.status.idle": "2025-02-11T02:34:18.914371Z",
     "shell.execute_reply": "2025-02-11T02:34:18.912981Z"
    },
    "papermill": {
     "duration": 18.057602,
     "end_time": "2025-02-11T02:34:18.916062",
     "exception": false,
     "start_time": "2025-02-11T02:34:00.858460",
     "status": "completed"
    },
    "tags": []
   },
   "outputs": [
    {
     "name": "stdout",
     "output_type": "stream",
     "text": [
      "Rows with non-hex values in DATA columns:\n",
      "                            Timestamp CAN ID  DLC DATA0 DATA1 DATA2 DATA3  \\\n",
      "42      1970-01-01 00:00:01.478191030   05f0    2    01    00     R   NaN   \n",
      "134     1970-01-01 00:00:01.478191030   05f0    2    01    00     R   NaN   \n",
      "227     1970-01-01 00:00:01.478191030   05f0    2    01    00     R   NaN   \n",
      "319     1970-01-01 00:00:01.478191030   05f0    2    01    00     R   NaN   \n",
      "412     1970-01-01 00:00:01.478191030   05f0    2    01    00     R   NaN   \n",
      "...                               ...    ...  ...   ...   ...   ...   ...   \n",
      "4621281 1970-01-01 00:00:01.478201208   05f0    2    01    00     R   NaN   \n",
      "4621373 1970-01-01 00:00:01.478201208   05f0    2    01    00     R   NaN   \n",
      "4621466 1970-01-01 00:00:01.478201208   05f0    2    01    00     R   NaN   \n",
      "4621558 1970-01-01 00:00:01.478201208   05f0    2    01    00     R   NaN   \n",
      "4621651 1970-01-01 00:00:01.478201209   05f0    2    01    00     R   NaN   \n",
      "\n",
      "        DATA4 DATA5 DATA6 DATA7 Flag  \n",
      "42        NaN   NaN   NaN   NaN  NaN  \n",
      "134       NaN   NaN   NaN   NaN  NaN  \n",
      "227       NaN   NaN   NaN   NaN  NaN  \n",
      "319       NaN   NaN   NaN   NaN  NaN  \n",
      "412       NaN   NaN   NaN   NaN  NaN  \n",
      "...       ...   ...   ...   ...  ...  \n",
      "4621281   NaN   NaN   NaN   NaN  NaN  \n",
      "4621373   NaN   NaN   NaN   NaN  NaN  \n",
      "4621466   NaN   NaN   NaN   NaN  NaN  \n",
      "4621558   NaN   NaN   NaN   NaN  NaN  \n",
      "4621651   NaN   NaN   NaN   NaN  NaN  \n",
      "\n",
      "[41476 rows x 12 columns]\n"
     ]
    }
   ],
   "source": [
    "# Define columns to check (DATA0-DATA7)\n",
    "data_columns = ['DATA0', 'DATA1', 'DATA2', 'DATA3', 'DATA4', 'DATA5', 'DATA6', 'DATA7']\n",
    "\n",
    "# Create regex pattern for valid hex\n",
    "hex_pattern = r'^[0-9A-Fa-f]{2}$'\n",
    "\n",
    "# Check for non-hex values\n",
    "mask = df_2[data_columns].apply(lambda col: ~col.str.match(hex_pattern, na=False))\n",
    "\n",
    "# Get rows with any invalid entries\n",
    "invalid_rows = df_2[mask.any(axis=1)]\n",
    "\n",
    "# Show results\n",
    "print(\"Rows with non-hex values in DATA columns:\")\n",
    "print(invalid_rows if not invalid_rows.empty else \"No non-hex values found\")"
   ]
  },
  {
   "cell_type": "code",
   "execution_count": 7,
   "id": "06e883e6",
   "metadata": {
    "execution": {
     "iopub.execute_input": "2025-02-11T02:34:18.928277Z",
     "iopub.status.busy": "2025-02-11T02:34:18.927860Z",
     "iopub.status.idle": "2025-02-11T02:34:21.006269Z",
     "shell.execute_reply": "2025-02-11T02:34:21.005045Z"
    },
    "papermill": {
     "duration": 2.086343,
     "end_time": "2025-02-11T02:34:21.008013",
     "exception": false,
     "start_time": "2025-02-11T02:34:18.921670",
     "status": "completed"
    },
    "tags": []
   },
   "outputs": [
    {
     "name": "stdout",
     "output_type": "stream",
     "text": [
      "=== Invalid CAN IDs ===\n",
      "All CAN IDs are valid hex\n"
     ]
    }
   ],
   "source": [
    "# Define validation patterns\n",
    "can_id_pattern = r'^[0-9A-Fa-f]{4}$'  # 4-character hex\n",
    "\n",
    "# Check CAN ID column\n",
    "can_id_mask = ~df_2['CAN ID'].str.match(can_id_pattern, na=False)\n",
    "invalid_can_id = df_2[can_id_mask]\n",
    "\n",
    "# Display results\n",
    "print(\"=== Invalid CAN IDs ===\")\n",
    "print(invalid_can_id if not invalid_can_id.empty else \"All CAN IDs are valid hex\")\n",
    "\n",
    "# Optional: Show specific invalid values\n",
    "if not invalid_can_id.empty:\n",
    "    print(\"\\nInvalid CAN ID entries:\")\n",
    "    print(df_2.loc[can_id_mask, 'CAN ID'])\n"
   ]
  },
  {
   "cell_type": "code",
   "execution_count": 8,
   "id": "16f4c0ab",
   "metadata": {
    "execution": {
     "iopub.execute_input": "2025-02-11T02:34:21.019766Z",
     "iopub.status.busy": "2025-02-11T02:34:21.019416Z",
     "iopub.status.idle": "2025-02-11T02:34:21.447466Z",
     "shell.execute_reply": "2025-02-11T02:34:21.446463Z"
    },
    "papermill": {
     "duration": 0.436013,
     "end_time": "2025-02-11T02:34:21.449342",
     "exception": false,
     "start_time": "2025-02-11T02:34:21.013329",
     "status": "completed"
    },
    "tags": []
   },
   "outputs": [],
   "source": [
    "df_3 = df_2.copy()"
   ]
  },
  {
   "cell_type": "code",
   "execution_count": 9,
   "id": "2f412a9e",
   "metadata": {
    "execution": {
     "iopub.execute_input": "2025-02-11T02:34:21.460769Z",
     "iopub.status.busy": "2025-02-11T02:34:21.460456Z",
     "iopub.status.idle": "2025-02-11T02:34:21.473782Z",
     "shell.execute_reply": "2025-02-11T02:34:21.472980Z"
    },
    "papermill": {
     "duration": 0.020677,
     "end_time": "2025-02-11T02:34:21.475288",
     "exception": false,
     "start_time": "2025-02-11T02:34:21.454611",
     "status": "completed"
    },
    "tags": []
   },
   "outputs": [
    {
     "data": {
      "text/html": [
       "<div>\n",
       "<style scoped>\n",
       "    .dataframe tbody tr th:only-of-type {\n",
       "        vertical-align: middle;\n",
       "    }\n",
       "\n",
       "    .dataframe tbody tr th {\n",
       "        vertical-align: top;\n",
       "    }\n",
       "\n",
       "    .dataframe thead th {\n",
       "        text-align: right;\n",
       "    }\n",
       "</style>\n",
       "<table border=\"1\" class=\"dataframe\">\n",
       "  <thead>\n",
       "    <tr style=\"text-align: right;\">\n",
       "      <th></th>\n",
       "      <th>Timestamp</th>\n",
       "      <th>CAN ID</th>\n",
       "      <th>DLC</th>\n",
       "      <th>DATA0</th>\n",
       "      <th>DATA1</th>\n",
       "      <th>DATA2</th>\n",
       "      <th>DATA3</th>\n",
       "      <th>DATA4</th>\n",
       "      <th>DATA5</th>\n",
       "      <th>DATA6</th>\n",
       "      <th>DATA7</th>\n",
       "      <th>Flag</th>\n",
       "    </tr>\n",
       "  </thead>\n",
       "  <tbody>\n",
       "    <tr>\n",
       "      <th>0</th>\n",
       "      <td>1970-01-01 00:00:01.478191030</td>\n",
       "      <td>018f</td>\n",
       "      <td>8</td>\n",
       "      <td>fe</td>\n",
       "      <td>3b</td>\n",
       "      <td>00</td>\n",
       "      <td>00</td>\n",
       "      <td>00</td>\n",
       "      <td>3c</td>\n",
       "      <td>00</td>\n",
       "      <td>00</td>\n",
       "      <td>R</td>\n",
       "    </tr>\n",
       "    <tr>\n",
       "      <th>1</th>\n",
       "      <td>1970-01-01 00:00:01.478191030</td>\n",
       "      <td>0260</td>\n",
       "      <td>8</td>\n",
       "      <td>19</td>\n",
       "      <td>22</td>\n",
       "      <td>22</td>\n",
       "      <td>30</td>\n",
       "      <td>ff</td>\n",
       "      <td>8f</td>\n",
       "      <td>6e</td>\n",
       "      <td>3f</td>\n",
       "      <td>R</td>\n",
       "    </tr>\n",
       "    <tr>\n",
       "      <th>2</th>\n",
       "      <td>1970-01-01 00:00:01.478191030</td>\n",
       "      <td>02a0</td>\n",
       "      <td>8</td>\n",
       "      <td>60</td>\n",
       "      <td>00</td>\n",
       "      <td>83</td>\n",
       "      <td>1d</td>\n",
       "      <td>96</td>\n",
       "      <td>02</td>\n",
       "      <td>bd</td>\n",
       "      <td>00</td>\n",
       "      <td>R</td>\n",
       "    </tr>\n",
       "    <tr>\n",
       "      <th>3</th>\n",
       "      <td>1970-01-01 00:00:01.478191030</td>\n",
       "      <td>0329</td>\n",
       "      <td>8</td>\n",
       "      <td>dc</td>\n",
       "      <td>b8</td>\n",
       "      <td>7e</td>\n",
       "      <td>14</td>\n",
       "      <td>11</td>\n",
       "      <td>20</td>\n",
       "      <td>00</td>\n",
       "      <td>14</td>\n",
       "      <td>R</td>\n",
       "    </tr>\n",
       "    <tr>\n",
       "      <th>4</th>\n",
       "      <td>1970-01-01 00:00:01.478191030</td>\n",
       "      <td>0545</td>\n",
       "      <td>8</td>\n",
       "      <td>d8</td>\n",
       "      <td>00</td>\n",
       "      <td>00</td>\n",
       "      <td>83</td>\n",
       "      <td>00</td>\n",
       "      <td>00</td>\n",
       "      <td>00</td>\n",
       "      <td>00</td>\n",
       "      <td>R</td>\n",
       "    </tr>\n",
       "  </tbody>\n",
       "</table>\n",
       "</div>"
      ],
      "text/plain": [
       "                      Timestamp CAN ID  DLC DATA0 DATA1 DATA2 DATA3 DATA4  \\\n",
       "0 1970-01-01 00:00:01.478191030   018f    8    fe    3b    00    00    00   \n",
       "1 1970-01-01 00:00:01.478191030   0260    8    19    22    22    30    ff   \n",
       "2 1970-01-01 00:00:01.478191030   02a0    8    60    00    83    1d    96   \n",
       "3 1970-01-01 00:00:01.478191030   0329    8    dc    b8    7e    14    11   \n",
       "4 1970-01-01 00:00:01.478191030   0545    8    d8    00    00    83    00   \n",
       "\n",
       "  DATA5 DATA6 DATA7 Flag  \n",
       "0    3c    00    00    R  \n",
       "1    8f    6e    3f    R  \n",
       "2    02    bd    00    R  \n",
       "3    20    00    14    R  \n",
       "4    00    00    00    R  "
      ]
     },
     "execution_count": 9,
     "metadata": {},
     "output_type": "execute_result"
    }
   ],
   "source": [
    "df_3.head()"
   ]
  },
  {
   "cell_type": "code",
   "execution_count": 10,
   "id": "bf56cda9",
   "metadata": {
    "execution": {
     "iopub.execute_input": "2025-02-11T02:34:21.487189Z",
     "iopub.status.busy": "2025-02-11T02:34:21.486847Z",
     "iopub.status.idle": "2025-02-11T02:34:29.665709Z",
     "shell.execute_reply": "2025-02-11T02:34:29.664724Z"
    },
    "papermill": {
     "duration": 8.186799,
     "end_time": "2025-02-11T02:34:29.667635",
     "exception": false,
     "start_time": "2025-02-11T02:34:21.480836",
     "status": "completed"
    },
    "tags": []
   },
   "outputs": [],
   "source": [
    "# Function to convert hex to decimal\n",
    "def hex_to_int(hex_str: str) -> int:\n",
    "    try:\n",
    "        return hex_str  # Convert hex to int\n",
    "    except ValueError:\n",
    "        return np.nan \n",
    "\n",
    "# Convert all DATA columns\n",
    "for col in df_3.columns[1:-1]:  # Exclude 'Flag' column\n",
    "    df_3[col] = df_3[col].apply(hex_to_int)"
   ]
  },
  {
   "cell_type": "code",
   "execution_count": 11,
   "id": "bd7d8bf7",
   "metadata": {
    "execution": {
     "iopub.execute_input": "2025-02-11T02:34:29.680112Z",
     "iopub.status.busy": "2025-02-11T02:34:29.679766Z",
     "iopub.status.idle": "2025-02-11T02:34:32.595887Z",
     "shell.execute_reply": "2025-02-11T02:34:32.594683Z"
    },
    "papermill": {
     "duration": 2.924747,
     "end_time": "2025-02-11T02:34:32.597936",
     "exception": false,
     "start_time": "2025-02-11T02:34:29.673189",
     "status": "completed"
    },
    "tags": []
   },
   "outputs": [],
   "source": [
    "df_4 = df_3.copy()"
   ]
  },
  {
   "cell_type": "code",
   "execution_count": 12,
   "id": "0a7ea604",
   "metadata": {
    "execution": {
     "iopub.execute_input": "2025-02-11T02:34:32.610308Z",
     "iopub.status.busy": "2025-02-11T02:34:32.609915Z",
     "iopub.status.idle": "2025-02-11T02:34:32.624354Z",
     "shell.execute_reply": "2025-02-11T02:34:32.623050Z"
    },
    "papermill": {
     "duration": 0.022469,
     "end_time": "2025-02-11T02:34:32.626130",
     "exception": false,
     "start_time": "2025-02-11T02:34:32.603661",
     "status": "completed"
    },
    "tags": []
   },
   "outputs": [
    {
     "data": {
      "text/html": [
       "<div>\n",
       "<style scoped>\n",
       "    .dataframe tbody tr th:only-of-type {\n",
       "        vertical-align: middle;\n",
       "    }\n",
       "\n",
       "    .dataframe tbody tr th {\n",
       "        vertical-align: top;\n",
       "    }\n",
       "\n",
       "    .dataframe thead th {\n",
       "        text-align: right;\n",
       "    }\n",
       "</style>\n",
       "<table border=\"1\" class=\"dataframe\">\n",
       "  <thead>\n",
       "    <tr style=\"text-align: right;\">\n",
       "      <th></th>\n",
       "      <th>Timestamp</th>\n",
       "      <th>CAN ID</th>\n",
       "      <th>DLC</th>\n",
       "      <th>DATA0</th>\n",
       "      <th>DATA1</th>\n",
       "      <th>DATA2</th>\n",
       "      <th>DATA3</th>\n",
       "      <th>DATA4</th>\n",
       "      <th>DATA5</th>\n",
       "      <th>DATA6</th>\n",
       "      <th>DATA7</th>\n",
       "      <th>Flag</th>\n",
       "    </tr>\n",
       "  </thead>\n",
       "  <tbody>\n",
       "    <tr>\n",
       "      <th>0</th>\n",
       "      <td>1970-01-01 00:00:01.478191030</td>\n",
       "      <td>018f</td>\n",
       "      <td>8</td>\n",
       "      <td>fe</td>\n",
       "      <td>3b</td>\n",
       "      <td>00</td>\n",
       "      <td>00</td>\n",
       "      <td>00</td>\n",
       "      <td>3c</td>\n",
       "      <td>00</td>\n",
       "      <td>00</td>\n",
       "      <td>R</td>\n",
       "    </tr>\n",
       "    <tr>\n",
       "      <th>1</th>\n",
       "      <td>1970-01-01 00:00:01.478191030</td>\n",
       "      <td>0260</td>\n",
       "      <td>8</td>\n",
       "      <td>19</td>\n",
       "      <td>22</td>\n",
       "      <td>22</td>\n",
       "      <td>30</td>\n",
       "      <td>ff</td>\n",
       "      <td>8f</td>\n",
       "      <td>6e</td>\n",
       "      <td>3f</td>\n",
       "      <td>R</td>\n",
       "    </tr>\n",
       "    <tr>\n",
       "      <th>2</th>\n",
       "      <td>1970-01-01 00:00:01.478191030</td>\n",
       "      <td>02a0</td>\n",
       "      <td>8</td>\n",
       "      <td>60</td>\n",
       "      <td>00</td>\n",
       "      <td>83</td>\n",
       "      <td>1d</td>\n",
       "      <td>96</td>\n",
       "      <td>02</td>\n",
       "      <td>bd</td>\n",
       "      <td>00</td>\n",
       "      <td>R</td>\n",
       "    </tr>\n",
       "    <tr>\n",
       "      <th>3</th>\n",
       "      <td>1970-01-01 00:00:01.478191030</td>\n",
       "      <td>0329</td>\n",
       "      <td>8</td>\n",
       "      <td>dc</td>\n",
       "      <td>b8</td>\n",
       "      <td>7e</td>\n",
       "      <td>14</td>\n",
       "      <td>11</td>\n",
       "      <td>20</td>\n",
       "      <td>00</td>\n",
       "      <td>14</td>\n",
       "      <td>R</td>\n",
       "    </tr>\n",
       "    <tr>\n",
       "      <th>4</th>\n",
       "      <td>1970-01-01 00:00:01.478191030</td>\n",
       "      <td>0545</td>\n",
       "      <td>8</td>\n",
       "      <td>d8</td>\n",
       "      <td>00</td>\n",
       "      <td>00</td>\n",
       "      <td>83</td>\n",
       "      <td>00</td>\n",
       "      <td>00</td>\n",
       "      <td>00</td>\n",
       "      <td>00</td>\n",
       "      <td>R</td>\n",
       "    </tr>\n",
       "  </tbody>\n",
       "</table>\n",
       "</div>"
      ],
      "text/plain": [
       "                      Timestamp CAN ID  DLC DATA0 DATA1 DATA2 DATA3 DATA4  \\\n",
       "0 1970-01-01 00:00:01.478191030   018f    8    fe    3b    00    00    00   \n",
       "1 1970-01-01 00:00:01.478191030   0260    8    19    22    22    30    ff   \n",
       "2 1970-01-01 00:00:01.478191030   02a0    8    60    00    83    1d    96   \n",
       "3 1970-01-01 00:00:01.478191030   0329    8    dc    b8    7e    14    11   \n",
       "4 1970-01-01 00:00:01.478191030   0545    8    d8    00    00    83    00   \n",
       "\n",
       "  DATA5 DATA6 DATA7 Flag  \n",
       "0    3c    00    00    R  \n",
       "1    8f    6e    3f    R  \n",
       "2    02    bd    00    R  \n",
       "3    20    00    14    R  \n",
       "4    00    00    00    R  "
      ]
     },
     "execution_count": 12,
     "metadata": {},
     "output_type": "execute_result"
    }
   ],
   "source": [
    "df_4.head()"
   ]
  },
  {
   "cell_type": "code",
   "execution_count": 13,
   "id": "6fa60f0a",
   "metadata": {
    "execution": {
     "iopub.execute_input": "2025-02-11T02:34:32.639127Z",
     "iopub.status.busy": "2025-02-11T02:34:32.638754Z",
     "iopub.status.idle": "2025-02-11T02:34:34.852566Z",
     "shell.execute_reply": "2025-02-11T02:34:34.851423Z"
    },
    "papermill": {
     "duration": 2.222013,
     "end_time": "2025-02-11T02:34:34.854161",
     "exception": false,
     "start_time": "2025-02-11T02:34:32.632148",
     "status": "completed"
    },
    "tags": []
   },
   "outputs": [
    {
     "data": {
      "text/plain": [
       "Timestamp        0\n",
       "CAN ID           0\n",
       "DLC              0\n",
       "DATA0            0\n",
       "DATA1            0\n",
       "DATA2            0\n",
       "DATA3        41476\n",
       "DATA4        41476\n",
       "DATA5        41476\n",
       "DATA6        41476\n",
       "DATA7        41476\n",
       "Flag         41476\n",
       "dtype: int64"
      ]
     },
     "execution_count": 13,
     "metadata": {},
     "output_type": "execute_result"
    }
   ],
   "source": [
    "df_4.isnull().sum()\n"
   ]
  },
  {
   "cell_type": "code",
   "execution_count": 14,
   "id": "3a2c811e",
   "metadata": {
    "execution": {
     "iopub.execute_input": "2025-02-11T02:34:34.867860Z",
     "iopub.status.busy": "2025-02-11T02:34:34.867527Z",
     "iopub.status.idle": "2025-02-11T02:34:38.174576Z",
     "shell.execute_reply": "2025-02-11T02:34:38.173470Z"
    },
    "papermill": {
     "duration": 3.315964,
     "end_time": "2025-02-11T02:34:38.176618",
     "exception": false,
     "start_time": "2025-02-11T02:34:34.860654",
     "status": "completed"
    },
    "tags": []
   },
   "outputs": [
    {
     "data": {
      "text/plain": [
       "(4580225, 12)"
      ]
     },
     "execution_count": 14,
     "metadata": {},
     "output_type": "execute_result"
    }
   ],
   "source": [
    "df_5 = df_4.dropna().copy()\n",
    "df_5.shape"
   ]
  },
  {
   "cell_type": "code",
   "execution_count": 15,
   "id": "1557200e",
   "metadata": {
    "execution": {
     "iopub.execute_input": "2025-02-11T02:34:38.189332Z",
     "iopub.status.busy": "2025-02-11T02:34:38.188964Z",
     "iopub.status.idle": "2025-02-11T02:34:40.427889Z",
     "shell.execute_reply": "2025-02-11T02:34:40.426537Z"
    },
    "papermill": {
     "duration": 2.247259,
     "end_time": "2025-02-11T02:34:40.429812",
     "exception": false,
     "start_time": "2025-02-11T02:34:38.182553",
     "status": "completed"
    },
    "tags": []
   },
   "outputs": [
    {
     "data": {
      "text/plain": [
       "Timestamp    0\n",
       "CAN ID       0\n",
       "DLC          0\n",
       "DATA0        0\n",
       "DATA1        0\n",
       "DATA2        0\n",
       "DATA3        0\n",
       "DATA4        0\n",
       "DATA5        0\n",
       "DATA6        0\n",
       "DATA7        0\n",
       "Flag         0\n",
       "dtype: int64"
      ]
     },
     "execution_count": 15,
     "metadata": {},
     "output_type": "execute_result"
    }
   ],
   "source": [
    "df_5.isnull().sum()"
   ]
  },
  {
   "cell_type": "code",
   "execution_count": 16,
   "id": "44eafaa6",
   "metadata": {
    "execution": {
     "iopub.execute_input": "2025-02-11T02:34:40.444430Z",
     "iopub.status.busy": "2025-02-11T02:34:40.443947Z",
     "iopub.status.idle": "2025-02-11T02:34:57.118786Z",
     "shell.execute_reply": "2025-02-11T02:34:57.117367Z"
    },
    "papermill": {
     "duration": 16.683979,
     "end_time": "2025-02-11T02:34:57.120633",
     "exception": false,
     "start_time": "2025-02-11T02:34:40.436654",
     "status": "completed"
    },
    "tags": []
   },
   "outputs": [
    {
     "name": "stdout",
     "output_type": "stream",
     "text": [
      "Rows with non-hex values in DATA columns:\n",
      "No non-hex values found\n"
     ]
    }
   ],
   "source": [
    "# Define columns to check (DATA0-DATA7)\n",
    "data_columns = ['DATA0', 'DATA1', 'DATA2', 'DATA3', 'DATA4', 'DATA5', 'DATA6', 'DATA7']\n",
    "\n",
    "# Create regex pattern for valid hex\n",
    "hex_pattern = r'^[0-9A-Fa-f]{2}$'\n",
    "\n",
    "# Check for non-hex values\n",
    "mask = df_5[data_columns].apply(lambda col: ~col.str.match(hex_pattern, na=False))\n",
    "\n",
    "# Get rows with any invalid entries\n",
    "invalid_rows = df_5[mask.any(axis=1)]\n",
    "\n",
    "# Show results\n",
    "print(\"Rows with non-hex values in DATA columns:\")\n",
    "print(invalid_rows if not invalid_rows.empty else \"No non-hex values found\")"
   ]
  },
  {
   "cell_type": "code",
   "execution_count": 17,
   "id": "720c035a",
   "metadata": {
    "execution": {
     "iopub.execute_input": "2025-02-11T02:34:57.134190Z",
     "iopub.status.busy": "2025-02-11T02:34:57.133805Z",
     "iopub.status.idle": "2025-02-11T02:34:57.566846Z",
     "shell.execute_reply": "2025-02-11T02:34:57.565343Z"
    },
    "papermill": {
     "duration": 0.442482,
     "end_time": "2025-02-11T02:34:57.569284",
     "exception": false,
     "start_time": "2025-02-11T02:34:57.126802",
     "status": "completed"
    },
    "tags": []
   },
   "outputs": [],
   "source": [
    "df_6 = df_5.copy()"
   ]
  },
  {
   "cell_type": "code",
   "execution_count": 18,
   "id": "c3ad8a2d",
   "metadata": {
    "execution": {
     "iopub.execute_input": "2025-02-11T02:34:57.583029Z",
     "iopub.status.busy": "2025-02-11T02:34:57.582657Z",
     "iopub.status.idle": "2025-02-11T02:34:57.596712Z",
     "shell.execute_reply": "2025-02-11T02:34:57.595608Z"
    },
    "papermill": {
     "duration": 0.022793,
     "end_time": "2025-02-11T02:34:57.598409",
     "exception": false,
     "start_time": "2025-02-11T02:34:57.575616",
     "status": "completed"
    },
    "tags": []
   },
   "outputs": [
    {
     "data": {
      "text/html": [
       "<div>\n",
       "<style scoped>\n",
       "    .dataframe tbody tr th:only-of-type {\n",
       "        vertical-align: middle;\n",
       "    }\n",
       "\n",
       "    .dataframe tbody tr th {\n",
       "        vertical-align: top;\n",
       "    }\n",
       "\n",
       "    .dataframe thead th {\n",
       "        text-align: right;\n",
       "    }\n",
       "</style>\n",
       "<table border=\"1\" class=\"dataframe\">\n",
       "  <thead>\n",
       "    <tr style=\"text-align: right;\">\n",
       "      <th></th>\n",
       "      <th>Timestamp</th>\n",
       "      <th>CAN ID</th>\n",
       "      <th>DLC</th>\n",
       "      <th>DATA0</th>\n",
       "      <th>DATA1</th>\n",
       "      <th>DATA2</th>\n",
       "      <th>DATA3</th>\n",
       "      <th>DATA4</th>\n",
       "      <th>DATA5</th>\n",
       "      <th>DATA6</th>\n",
       "      <th>DATA7</th>\n",
       "      <th>Flag</th>\n",
       "    </tr>\n",
       "  </thead>\n",
       "  <tbody>\n",
       "    <tr>\n",
       "      <th>0</th>\n",
       "      <td>1970-01-01 00:00:01.478191030</td>\n",
       "      <td>018f</td>\n",
       "      <td>8</td>\n",
       "      <td>fe</td>\n",
       "      <td>3b</td>\n",
       "      <td>00</td>\n",
       "      <td>00</td>\n",
       "      <td>00</td>\n",
       "      <td>3c</td>\n",
       "      <td>00</td>\n",
       "      <td>00</td>\n",
       "      <td>R</td>\n",
       "    </tr>\n",
       "    <tr>\n",
       "      <th>1</th>\n",
       "      <td>1970-01-01 00:00:01.478191030</td>\n",
       "      <td>0260</td>\n",
       "      <td>8</td>\n",
       "      <td>19</td>\n",
       "      <td>22</td>\n",
       "      <td>22</td>\n",
       "      <td>30</td>\n",
       "      <td>ff</td>\n",
       "      <td>8f</td>\n",
       "      <td>6e</td>\n",
       "      <td>3f</td>\n",
       "      <td>R</td>\n",
       "    </tr>\n",
       "    <tr>\n",
       "      <th>2</th>\n",
       "      <td>1970-01-01 00:00:01.478191030</td>\n",
       "      <td>02a0</td>\n",
       "      <td>8</td>\n",
       "      <td>60</td>\n",
       "      <td>00</td>\n",
       "      <td>83</td>\n",
       "      <td>1d</td>\n",
       "      <td>96</td>\n",
       "      <td>02</td>\n",
       "      <td>bd</td>\n",
       "      <td>00</td>\n",
       "      <td>R</td>\n",
       "    </tr>\n",
       "    <tr>\n",
       "      <th>3</th>\n",
       "      <td>1970-01-01 00:00:01.478191030</td>\n",
       "      <td>0329</td>\n",
       "      <td>8</td>\n",
       "      <td>dc</td>\n",
       "      <td>b8</td>\n",
       "      <td>7e</td>\n",
       "      <td>14</td>\n",
       "      <td>11</td>\n",
       "      <td>20</td>\n",
       "      <td>00</td>\n",
       "      <td>14</td>\n",
       "      <td>R</td>\n",
       "    </tr>\n",
       "    <tr>\n",
       "      <th>4</th>\n",
       "      <td>1970-01-01 00:00:01.478191030</td>\n",
       "      <td>0545</td>\n",
       "      <td>8</td>\n",
       "      <td>d8</td>\n",
       "      <td>00</td>\n",
       "      <td>00</td>\n",
       "      <td>83</td>\n",
       "      <td>00</td>\n",
       "      <td>00</td>\n",
       "      <td>00</td>\n",
       "      <td>00</td>\n",
       "      <td>R</td>\n",
       "    </tr>\n",
       "  </tbody>\n",
       "</table>\n",
       "</div>"
      ],
      "text/plain": [
       "                      Timestamp CAN ID  DLC DATA0 DATA1 DATA2 DATA3 DATA4  \\\n",
       "0 1970-01-01 00:00:01.478191030   018f    8    fe    3b    00    00    00   \n",
       "1 1970-01-01 00:00:01.478191030   0260    8    19    22    22    30    ff   \n",
       "2 1970-01-01 00:00:01.478191030   02a0    8    60    00    83    1d    96   \n",
       "3 1970-01-01 00:00:01.478191030   0329    8    dc    b8    7e    14    11   \n",
       "4 1970-01-01 00:00:01.478191030   0545    8    d8    00    00    83    00   \n",
       "\n",
       "  DATA5 DATA6 DATA7 Flag  \n",
       "0    3c    00    00    R  \n",
       "1    8f    6e    3f    R  \n",
       "2    02    bd    00    R  \n",
       "3    20    00    14    R  \n",
       "4    00    00    00    R  "
      ]
     },
     "execution_count": 18,
     "metadata": {},
     "output_type": "execute_result"
    }
   ],
   "source": [
    "df_6.head()"
   ]
  },
  {
   "cell_type": "code",
   "execution_count": 19,
   "id": "7ce6fd11",
   "metadata": {
    "execution": {
     "iopub.execute_input": "2025-02-11T02:34:57.612249Z",
     "iopub.status.busy": "2025-02-11T02:34:57.611844Z",
     "iopub.status.idle": "2025-02-11T02:35:25.767348Z",
     "shell.execute_reply": "2025-02-11T02:35:25.766072Z"
    },
    "papermill": {
     "duration": 28.165916,
     "end_time": "2025-02-11T02:35:25.770533",
     "exception": false,
     "start_time": "2025-02-11T02:34:57.604617",
     "status": "completed"
    },
    "tags": []
   },
   "outputs": [],
   "source": [
    "# Function to convert hex to decimal\n",
    "def hex_to_int(hex_str: str) -> int:\n",
    "    try:\n",
    "        return int(str(hex_str).strip(), 16)   # Convert hex to int\n",
    "    except ValueError:\n",
    "        return np.nan \n",
    "\n",
    "# Convert all DATA columns\n",
    "for col in df_6.columns[1:-1]:  # Exclude 'Flag' column\n",
    "    df_6[col] = df_6[col].apply(hex_to_int)"
   ]
  },
  {
   "cell_type": "code",
   "execution_count": 20,
   "id": "bde27893",
   "metadata": {
    "execution": {
     "iopub.execute_input": "2025-02-11T02:35:25.792062Z",
     "iopub.status.busy": "2025-02-11T02:35:25.791592Z",
     "iopub.status.idle": "2025-02-11T02:35:25.806662Z",
     "shell.execute_reply": "2025-02-11T02:35:25.803928Z"
    },
    "papermill": {
     "duration": 0.028236,
     "end_time": "2025-02-11T02:35:25.808971",
     "exception": false,
     "start_time": "2025-02-11T02:35:25.780735",
     "status": "completed"
    },
    "tags": []
   },
   "outputs": [
    {
     "data": {
      "text/html": [
       "<div>\n",
       "<style scoped>\n",
       "    .dataframe tbody tr th:only-of-type {\n",
       "        vertical-align: middle;\n",
       "    }\n",
       "\n",
       "    .dataframe tbody tr th {\n",
       "        vertical-align: top;\n",
       "    }\n",
       "\n",
       "    .dataframe thead th {\n",
       "        text-align: right;\n",
       "    }\n",
       "</style>\n",
       "<table border=\"1\" class=\"dataframe\">\n",
       "  <thead>\n",
       "    <tr style=\"text-align: right;\">\n",
       "      <th></th>\n",
       "      <th>Timestamp</th>\n",
       "      <th>CAN ID</th>\n",
       "      <th>DLC</th>\n",
       "      <th>DATA0</th>\n",
       "      <th>DATA1</th>\n",
       "      <th>DATA2</th>\n",
       "      <th>DATA3</th>\n",
       "      <th>DATA4</th>\n",
       "      <th>DATA5</th>\n",
       "      <th>DATA6</th>\n",
       "      <th>DATA7</th>\n",
       "      <th>Flag</th>\n",
       "    </tr>\n",
       "  </thead>\n",
       "  <tbody>\n",
       "    <tr>\n",
       "      <th>0</th>\n",
       "      <td>1970-01-01 00:00:01.478191030</td>\n",
       "      <td>399</td>\n",
       "      <td>8</td>\n",
       "      <td>254</td>\n",
       "      <td>59</td>\n",
       "      <td>0</td>\n",
       "      <td>0</td>\n",
       "      <td>0</td>\n",
       "      <td>60</td>\n",
       "      <td>0</td>\n",
       "      <td>0</td>\n",
       "      <td>R</td>\n",
       "    </tr>\n",
       "    <tr>\n",
       "      <th>1</th>\n",
       "      <td>1970-01-01 00:00:01.478191030</td>\n",
       "      <td>608</td>\n",
       "      <td>8</td>\n",
       "      <td>25</td>\n",
       "      <td>34</td>\n",
       "      <td>34</td>\n",
       "      <td>48</td>\n",
       "      <td>255</td>\n",
       "      <td>143</td>\n",
       "      <td>110</td>\n",
       "      <td>63</td>\n",
       "      <td>R</td>\n",
       "    </tr>\n",
       "    <tr>\n",
       "      <th>2</th>\n",
       "      <td>1970-01-01 00:00:01.478191030</td>\n",
       "      <td>672</td>\n",
       "      <td>8</td>\n",
       "      <td>96</td>\n",
       "      <td>0</td>\n",
       "      <td>131</td>\n",
       "      <td>29</td>\n",
       "      <td>150</td>\n",
       "      <td>2</td>\n",
       "      <td>189</td>\n",
       "      <td>0</td>\n",
       "      <td>R</td>\n",
       "    </tr>\n",
       "    <tr>\n",
       "      <th>3</th>\n",
       "      <td>1970-01-01 00:00:01.478191030</td>\n",
       "      <td>809</td>\n",
       "      <td>8</td>\n",
       "      <td>220</td>\n",
       "      <td>184</td>\n",
       "      <td>126</td>\n",
       "      <td>20</td>\n",
       "      <td>17</td>\n",
       "      <td>32</td>\n",
       "      <td>0</td>\n",
       "      <td>20</td>\n",
       "      <td>R</td>\n",
       "    </tr>\n",
       "    <tr>\n",
       "      <th>4</th>\n",
       "      <td>1970-01-01 00:00:01.478191030</td>\n",
       "      <td>1349</td>\n",
       "      <td>8</td>\n",
       "      <td>216</td>\n",
       "      <td>0</td>\n",
       "      <td>0</td>\n",
       "      <td>131</td>\n",
       "      <td>0</td>\n",
       "      <td>0</td>\n",
       "      <td>0</td>\n",
       "      <td>0</td>\n",
       "      <td>R</td>\n",
       "    </tr>\n",
       "  </tbody>\n",
       "</table>\n",
       "</div>"
      ],
      "text/plain": [
       "                      Timestamp  CAN ID  DLC  DATA0  DATA1  DATA2  DATA3  \\\n",
       "0 1970-01-01 00:00:01.478191030     399    8    254     59      0      0   \n",
       "1 1970-01-01 00:00:01.478191030     608    8     25     34     34     48   \n",
       "2 1970-01-01 00:00:01.478191030     672    8     96      0    131     29   \n",
       "3 1970-01-01 00:00:01.478191030     809    8    220    184    126     20   \n",
       "4 1970-01-01 00:00:01.478191030    1349    8    216      0      0    131   \n",
       "\n",
       "   DATA4  DATA5  DATA6  DATA7 Flag  \n",
       "0      0     60      0      0    R  \n",
       "1    255    143    110     63    R  \n",
       "2    150      2    189      0    R  \n",
       "3     17     32      0     20    R  \n",
       "4      0      0      0      0    R  "
      ]
     },
     "execution_count": 20,
     "metadata": {},
     "output_type": "execute_result"
    }
   ],
   "source": [
    "df_6.head()"
   ]
  },
  {
   "cell_type": "code",
   "execution_count": null,
   "id": "9a06d5aa",
   "metadata": {
    "papermill": {
     "duration": 0.006236,
     "end_time": "2025-02-11T02:35:25.825649",
     "exception": false,
     "start_time": "2025-02-11T02:35:25.819413",
     "status": "completed"
    },
    "tags": []
   },
   "outputs": [],
   "source": []
  }
 ],
 "metadata": {
  "kaggle": {
   "accelerator": "none",
   "dataSources": [
    {
     "datasetId": 6592386,
     "sourceId": 10647102,
     "sourceType": "datasetVersion"
    }
   ],
   "dockerImageVersionId": 30839,
   "isGpuEnabled": false,
   "isInternetEnabled": true,
   "language": "python",
   "sourceType": "notebook"
  },
  "kernelspec": {
   "display_name": "Python 3",
   "language": "python",
   "name": "python3"
  },
  "language_info": {
   "codemirror_mode": {
    "name": "ipython",
    "version": 3
   },
   "file_extension": ".py",
   "mimetype": "text/x-python",
   "name": "python",
   "nbconvert_exporter": "python",
   "pygments_lexer": "ipython3",
   "version": "3.10.12"
  },
  "papermill": {
   "default_parameters": {},
   "duration": 107.525447,
   "end_time": "2025-02-11T02:35:27.456148",
   "environment_variables": {},
   "exception": null,
   "input_path": "__notebook__.ipynb",
   "output_path": "__notebook__.ipynb",
   "parameters": {},
   "start_time": "2025-02-11T02:33:39.930701",
   "version": "2.6.0"
  }
 },
 "nbformat": 4,
 "nbformat_minor": 5
}
