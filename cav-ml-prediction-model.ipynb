{
 "cells": [
  {
   "cell_type": "code",
   "execution_count": 1,
   "id": "0d6f2ae5",
   "metadata": {
    "_cell_guid": "b1076dfc-b9ad-4769-8c92-a6c4dae69d19",
    "_uuid": "8f2839f25d086af736a60e9eeb907d3b93b6e0e5",
    "execution": {
     "iopub.execute_input": "2025-02-05T04:59:16.590003Z",
     "iopub.status.busy": "2025-02-05T04:59:16.589599Z",
     "iopub.status.idle": "2025-02-05T04:59:19.342784Z",
     "shell.execute_reply": "2025-02-05T04:59:19.341600Z"
    },
    "papermill": {
     "duration": 2.760167,
     "end_time": "2025-02-05T04:59:19.344729",
     "exception": false,
     "start_time": "2025-02-05T04:59:16.584562",
     "status": "completed"
    },
    "tags": []
   },
   "outputs": [],
   "source": [
    "import numpy as np\n",
    "import pandas as pd \n",
    "import matplotlib.pyplot as plt\n",
    "import seaborn as sns"
   ]
  },
  {
   "cell_type": "code",
   "execution_count": 2,
   "id": "e681c2be",
   "metadata": {
    "execution": {
     "iopub.execute_input": "2025-02-05T04:59:19.354001Z",
     "iopub.status.busy": "2025-02-05T04:59:19.353467Z",
     "iopub.status.idle": "2025-02-05T04:59:26.898464Z",
     "shell.execute_reply": "2025-02-05T04:59:26.897331Z"
    },
    "papermill": {
     "duration": 7.551711,
     "end_time": "2025-02-05T04:59:26.900415",
     "exception": false,
     "start_time": "2025-02-05T04:59:19.348704",
     "status": "completed"
    },
    "tags": []
   },
   "outputs": [
    {
     "data": {
      "text/html": [
       "<div>\n",
       "<style scoped>\n",
       "    .dataframe tbody tr th:only-of-type {\n",
       "        vertical-align: middle;\n",
       "    }\n",
       "\n",
       "    .dataframe tbody tr th {\n",
       "        vertical-align: top;\n",
       "    }\n",
       "\n",
       "    .dataframe thead th {\n",
       "        text-align: right;\n",
       "    }\n",
       "</style>\n",
       "<table border=\"1\" class=\"dataframe\">\n",
       "  <thead>\n",
       "    <tr style=\"text-align: right;\">\n",
       "      <th></th>\n",
       "      <th>Timestamp</th>\n",
       "      <th>CAN ID</th>\n",
       "      <th>DLC</th>\n",
       "      <th>DATA0</th>\n",
       "      <th>DATA1</th>\n",
       "      <th>DATA2</th>\n",
       "      <th>DATA3</th>\n",
       "      <th>DATA4</th>\n",
       "      <th>DATA5</th>\n",
       "      <th>DATA6</th>\n",
       "      <th>DATA7</th>\n",
       "      <th>Flag</th>\n",
       "    </tr>\n",
       "  </thead>\n",
       "  <tbody>\n",
       "    <tr>\n",
       "      <th>0</th>\n",
       "      <td>1.478198e+09</td>\n",
       "      <td>018f</td>\n",
       "      <td>8</td>\n",
       "      <td>fe</td>\n",
       "      <td>5b</td>\n",
       "      <td>00</td>\n",
       "      <td>00</td>\n",
       "      <td>00</td>\n",
       "      <td>3c</td>\n",
       "      <td>00</td>\n",
       "      <td>00</td>\n",
       "      <td>R</td>\n",
       "    </tr>\n",
       "    <tr>\n",
       "      <th>1</th>\n",
       "      <td>1.478198e+09</td>\n",
       "      <td>0260</td>\n",
       "      <td>8</td>\n",
       "      <td>19</td>\n",
       "      <td>21</td>\n",
       "      <td>22</td>\n",
       "      <td>30</td>\n",
       "      <td>08</td>\n",
       "      <td>8e</td>\n",
       "      <td>6d</td>\n",
       "      <td>3a</td>\n",
       "      <td>R</td>\n",
       "    </tr>\n",
       "    <tr>\n",
       "      <th>2</th>\n",
       "      <td>1.478198e+09</td>\n",
       "      <td>02a0</td>\n",
       "      <td>8</td>\n",
       "      <td>64</td>\n",
       "      <td>00</td>\n",
       "      <td>9a</td>\n",
       "      <td>1d</td>\n",
       "      <td>97</td>\n",
       "      <td>02</td>\n",
       "      <td>bd</td>\n",
       "      <td>00</td>\n",
       "      <td>R</td>\n",
       "    </tr>\n",
       "    <tr>\n",
       "      <th>3</th>\n",
       "      <td>1.478198e+09</td>\n",
       "      <td>0329</td>\n",
       "      <td>8</td>\n",
       "      <td>40</td>\n",
       "      <td>bb</td>\n",
       "      <td>7f</td>\n",
       "      <td>14</td>\n",
       "      <td>11</td>\n",
       "      <td>20</td>\n",
       "      <td>00</td>\n",
       "      <td>14</td>\n",
       "      <td>R</td>\n",
       "    </tr>\n",
       "    <tr>\n",
       "      <th>4</th>\n",
       "      <td>1.478198e+09</td>\n",
       "      <td>0545</td>\n",
       "      <td>8</td>\n",
       "      <td>d8</td>\n",
       "      <td>00</td>\n",
       "      <td>00</td>\n",
       "      <td>8a</td>\n",
       "      <td>00</td>\n",
       "      <td>00</td>\n",
       "      <td>00</td>\n",
       "      <td>00</td>\n",
       "      <td>R</td>\n",
       "    </tr>\n",
       "  </tbody>\n",
       "</table>\n",
       "</div>"
      ],
      "text/plain": [
       "      Timestamp CAN ID  DLC DATA0 DATA1 DATA2 DATA3 DATA4 DATA5 DATA6 DATA7  \\\n",
       "0  1.478198e+09   018f    8    fe    5b    00    00    00    3c    00    00   \n",
       "1  1.478198e+09   0260    8    19    21    22    30    08    8e    6d    3a   \n",
       "2  1.478198e+09   02a0    8    64    00    9a    1d    97    02    bd    00   \n",
       "3  1.478198e+09   0329    8    40    bb    7f    14    11    20    00    14   \n",
       "4  1.478198e+09   0545    8    d8    00    00    8a    00    00    00    00   \n",
       "\n",
       "  Flag  \n",
       "0    R  \n",
       "1    R  \n",
       "2    R  \n",
       "3    R  \n",
       "4    R  "
      ]
     },
     "execution_count": 2,
     "metadata": {},
     "output_type": "execute_result"
    }
   ],
   "source": [
    "dos = pd.read_csv('/kaggle/input/car-hacking-dataset/DoS_dataset.csv')\n",
    "dos.columns = ['Timestamp', 'CAN ID', 'DLC', 'DATA0', 'DATA1', 'DATA2', 'DATA3', 'DATA4', 'DATA5', 'DATA6', 'DATA7', 'Flag']\n",
    "dos.head()"
   ]
  },
  {
   "cell_type": "code",
   "execution_count": 3,
   "id": "76af0b10",
   "metadata": {
    "execution": {
     "iopub.execute_input": "2025-02-05T04:59:26.910379Z",
     "iopub.status.busy": "2025-02-05T04:59:26.910016Z",
     "iopub.status.idle": "2025-02-05T04:59:27.230189Z",
     "shell.execute_reply": "2025-02-05T04:59:27.229217Z"
    },
    "papermill": {
     "duration": 0.328218,
     "end_time": "2025-02-05T04:59:27.232500",
     "exception": false,
     "start_time": "2025-02-05T04:59:26.904282",
     "status": "completed"
    },
    "tags": []
   },
   "outputs": [
    {
     "data": {
      "text/html": [
       "<div>\n",
       "<style scoped>\n",
       "    .dataframe tbody tr th:only-of-type {\n",
       "        vertical-align: middle;\n",
       "    }\n",
       "\n",
       "    .dataframe tbody tr th {\n",
       "        vertical-align: top;\n",
       "    }\n",
       "\n",
       "    .dataframe thead th {\n",
       "        text-align: right;\n",
       "    }\n",
       "</style>\n",
       "<table border=\"1\" class=\"dataframe\">\n",
       "  <thead>\n",
       "    <tr style=\"text-align: right;\">\n",
       "      <th></th>\n",
       "      <th>DATA0</th>\n",
       "      <th>DATA1</th>\n",
       "      <th>DATA2</th>\n",
       "      <th>DATA3</th>\n",
       "      <th>DATA4</th>\n",
       "      <th>DATA5</th>\n",
       "      <th>DATA6</th>\n",
       "      <th>DATA7</th>\n",
       "      <th>Flag</th>\n",
       "    </tr>\n",
       "  </thead>\n",
       "  <tbody>\n",
       "    <tr>\n",
       "      <th>0</th>\n",
       "      <td>fe</td>\n",
       "      <td>5b</td>\n",
       "      <td>00</td>\n",
       "      <td>00</td>\n",
       "      <td>00</td>\n",
       "      <td>3c</td>\n",
       "      <td>00</td>\n",
       "      <td>00</td>\n",
       "      <td>R</td>\n",
       "    </tr>\n",
       "    <tr>\n",
       "      <th>1</th>\n",
       "      <td>19</td>\n",
       "      <td>21</td>\n",
       "      <td>22</td>\n",
       "      <td>30</td>\n",
       "      <td>08</td>\n",
       "      <td>8e</td>\n",
       "      <td>6d</td>\n",
       "      <td>3a</td>\n",
       "      <td>R</td>\n",
       "    </tr>\n",
       "    <tr>\n",
       "      <th>2</th>\n",
       "      <td>64</td>\n",
       "      <td>00</td>\n",
       "      <td>9a</td>\n",
       "      <td>1d</td>\n",
       "      <td>97</td>\n",
       "      <td>02</td>\n",
       "      <td>bd</td>\n",
       "      <td>00</td>\n",
       "      <td>R</td>\n",
       "    </tr>\n",
       "    <tr>\n",
       "      <th>3</th>\n",
       "      <td>40</td>\n",
       "      <td>bb</td>\n",
       "      <td>7f</td>\n",
       "      <td>14</td>\n",
       "      <td>11</td>\n",
       "      <td>20</td>\n",
       "      <td>00</td>\n",
       "      <td>14</td>\n",
       "      <td>R</td>\n",
       "    </tr>\n",
       "    <tr>\n",
       "      <th>4</th>\n",
       "      <td>d8</td>\n",
       "      <td>00</td>\n",
       "      <td>00</td>\n",
       "      <td>8a</td>\n",
       "      <td>00</td>\n",
       "      <td>00</td>\n",
       "      <td>00</td>\n",
       "      <td>00</td>\n",
       "      <td>R</td>\n",
       "    </tr>\n",
       "  </tbody>\n",
       "</table>\n",
       "</div>"
      ],
      "text/plain": [
       "  DATA0 DATA1 DATA2 DATA3 DATA4 DATA5 DATA6 DATA7 Flag\n",
       "0    fe    5b    00    00    00    3c    00    00    R\n",
       "1    19    21    22    30    08    8e    6d    3a    R\n",
       "2    64    00    9a    1d    97    02    bd    00    R\n",
       "3    40    bb    7f    14    11    20    00    14    R\n",
       "4    d8    00    00    8a    00    00    00    00    R"
      ]
     },
     "execution_count": 3,
     "metadata": {},
     "output_type": "execute_result"
    }
   ],
   "source": [
    "# Drop unnecessary columns\n",
    "df = dos.drop(['CAN ID', \"Timestamp\", \"DLC\"], axis=1)\n",
    "df.head()"
   ]
  },
  {
   "cell_type": "code",
   "execution_count": 4,
   "id": "e47dbac2",
   "metadata": {
    "execution": {
     "iopub.execute_input": "2025-02-05T04:59:27.242721Z",
     "iopub.status.busy": "2025-02-05T04:59:27.242367Z",
     "iopub.status.idle": "2025-02-05T04:59:45.166511Z",
     "shell.execute_reply": "2025-02-05T04:59:45.165356Z"
    },
    "papermill": {
     "duration": 17.9315,
     "end_time": "2025-02-05T04:59:45.168619",
     "exception": false,
     "start_time": "2025-02-05T04:59:27.237119",
     "status": "completed"
    },
    "tags": []
   },
   "outputs": [],
   "source": [
    "# Function to convert hex to decimal\n",
    "def hex_to_int(x):\n",
    "    try:\n",
    "        return int(str(x).strip(), 16)  # Convert hex to int\n",
    "    except ValueError:\n",
    "        return np.nan  # Assign NaN for invalid values\n",
    "\n",
    "# # Convert CAN ID\n",
    "# df[\"CAN ID\"] = df[\"CAN ID\"].apply(hex_to_int)\n",
    "\n",
    "# Convert all DATA columns\n",
    "for col in df.columns[:-1]:  # Exclude 'Flag' column\n",
    "    df[col] = df[col].apply(hex_to_int)"
   ]
  },
  {
   "cell_type": "code",
   "execution_count": 5,
   "id": "e237a502",
   "metadata": {
    "execution": {
     "iopub.execute_input": "2025-02-05T04:59:45.178958Z",
     "iopub.status.busy": "2025-02-05T04:59:45.178584Z",
     "iopub.status.idle": "2025-02-05T04:59:45.194093Z",
     "shell.execute_reply": "2025-02-05T04:59:45.192978Z"
    },
    "papermill": {
     "duration": 0.022918,
     "end_time": "2025-02-05T04:59:45.195909",
     "exception": false,
     "start_time": "2025-02-05T04:59:45.172991",
     "status": "completed"
    },
    "tags": []
   },
   "outputs": [
    {
     "data": {
      "text/html": [
       "<div>\n",
       "<style scoped>\n",
       "    .dataframe tbody tr th:only-of-type {\n",
       "        vertical-align: middle;\n",
       "    }\n",
       "\n",
       "    .dataframe tbody tr th {\n",
       "        vertical-align: top;\n",
       "    }\n",
       "\n",
       "    .dataframe thead th {\n",
       "        text-align: right;\n",
       "    }\n",
       "</style>\n",
       "<table border=\"1\" class=\"dataframe\">\n",
       "  <thead>\n",
       "    <tr style=\"text-align: right;\">\n",
       "      <th></th>\n",
       "      <th>DATA0</th>\n",
       "      <th>DATA1</th>\n",
       "      <th>DATA2</th>\n",
       "      <th>DATA3</th>\n",
       "      <th>DATA4</th>\n",
       "      <th>DATA5</th>\n",
       "      <th>DATA6</th>\n",
       "      <th>DATA7</th>\n",
       "      <th>Flag</th>\n",
       "    </tr>\n",
       "  </thead>\n",
       "  <tbody>\n",
       "    <tr>\n",
       "      <th>0</th>\n",
       "      <td>254</td>\n",
       "      <td>91</td>\n",
       "      <td>0.0</td>\n",
       "      <td>0.0</td>\n",
       "      <td>0.0</td>\n",
       "      <td>60.0</td>\n",
       "      <td>0.0</td>\n",
       "      <td>0.0</td>\n",
       "      <td>R</td>\n",
       "    </tr>\n",
       "    <tr>\n",
       "      <th>1</th>\n",
       "      <td>25</td>\n",
       "      <td>33</td>\n",
       "      <td>34.0</td>\n",
       "      <td>48.0</td>\n",
       "      <td>8.0</td>\n",
       "      <td>142.0</td>\n",
       "      <td>109.0</td>\n",
       "      <td>58.0</td>\n",
       "      <td>R</td>\n",
       "    </tr>\n",
       "    <tr>\n",
       "      <th>2</th>\n",
       "      <td>100</td>\n",
       "      <td>0</td>\n",
       "      <td>154.0</td>\n",
       "      <td>29.0</td>\n",
       "      <td>151.0</td>\n",
       "      <td>2.0</td>\n",
       "      <td>189.0</td>\n",
       "      <td>0.0</td>\n",
       "      <td>R</td>\n",
       "    </tr>\n",
       "    <tr>\n",
       "      <th>3</th>\n",
       "      <td>64</td>\n",
       "      <td>187</td>\n",
       "      <td>127.0</td>\n",
       "      <td>20.0</td>\n",
       "      <td>17.0</td>\n",
       "      <td>32.0</td>\n",
       "      <td>0.0</td>\n",
       "      <td>20.0</td>\n",
       "      <td>R</td>\n",
       "    </tr>\n",
       "    <tr>\n",
       "      <th>4</th>\n",
       "      <td>216</td>\n",
       "      <td>0</td>\n",
       "      <td>0.0</td>\n",
       "      <td>138.0</td>\n",
       "      <td>0.0</td>\n",
       "      <td>0.0</td>\n",
       "      <td>0.0</td>\n",
       "      <td>0.0</td>\n",
       "      <td>R</td>\n",
       "    </tr>\n",
       "  </tbody>\n",
       "</table>\n",
       "</div>"
      ],
      "text/plain": [
       "   DATA0  DATA1  DATA2  DATA3  DATA4  DATA5  DATA6  DATA7 Flag\n",
       "0    254     91    0.0    0.0    0.0   60.0    0.0    0.0    R\n",
       "1     25     33   34.0   48.0    8.0  142.0  109.0   58.0    R\n",
       "2    100      0  154.0   29.0  151.0    2.0  189.0    0.0    R\n",
       "3     64    187  127.0   20.0   17.0   32.0    0.0   20.0    R\n",
       "4    216      0    0.0  138.0    0.0    0.0    0.0    0.0    R"
      ]
     },
     "execution_count": 5,
     "metadata": {},
     "output_type": "execute_result"
    }
   ],
   "source": [
    "df.head()"
   ]
  },
  {
   "cell_type": "code",
   "execution_count": 6,
   "id": "6088d34c",
   "metadata": {
    "execution": {
     "iopub.execute_input": "2025-02-05T04:59:45.206626Z",
     "iopub.status.busy": "2025-02-05T04:59:45.206253Z",
     "iopub.status.idle": "2025-02-05T04:59:45.212586Z",
     "shell.execute_reply": "2025-02-05T04:59:45.211381Z"
    },
    "papermill": {
     "duration": 0.014167,
     "end_time": "2025-02-05T04:59:45.214337",
     "exception": false,
     "start_time": "2025-02-05T04:59:45.200170",
     "status": "completed"
    },
    "tags": []
   },
   "outputs": [
    {
     "data": {
      "text/plain": [
       "(3665770, 9)"
      ]
     },
     "execution_count": 6,
     "metadata": {},
     "output_type": "execute_result"
    }
   ],
   "source": [
    "df.shape"
   ]
  },
  {
   "cell_type": "code",
   "execution_count": 7,
   "id": "7d5f809d",
   "metadata": {
    "execution": {
     "iopub.execute_input": "2025-02-05T04:59:45.224508Z",
     "iopub.status.busy": "2025-02-05T04:59:45.224167Z",
     "iopub.status.idle": "2025-02-05T04:59:45.510340Z",
     "shell.execute_reply": "2025-02-05T04:59:45.509168Z"
    },
    "papermill": {
     "duration": 0.293249,
     "end_time": "2025-02-05T04:59:45.512144",
     "exception": false,
     "start_time": "2025-02-05T04:59:45.218895",
     "status": "completed"
    },
    "tags": []
   },
   "outputs": [
    {
     "data": {
      "text/plain": [
       "DATA0        0\n",
       "DATA1        0\n",
       "DATA2    31188\n",
       "DATA3    31188\n",
       "DATA4    31188\n",
       "DATA5    31188\n",
       "DATA6    31188\n",
       "DATA7    31188\n",
       "Flag     31188\n",
       "dtype: int64"
      ]
     },
     "execution_count": 7,
     "metadata": {},
     "output_type": "execute_result"
    }
   ],
   "source": [
    "df.isnull().sum()"
   ]
  },
  {
   "cell_type": "code",
   "execution_count": 8,
   "id": "99fb5ea1",
   "metadata": {
    "execution": {
     "iopub.execute_input": "2025-02-05T04:59:45.521922Z",
     "iopub.status.busy": "2025-02-05T04:59:45.521554Z",
     "iopub.status.idle": "2025-02-05T04:59:46.071946Z",
     "shell.execute_reply": "2025-02-05T04:59:46.070805Z"
    },
    "papermill": {
     "duration": 0.55747,
     "end_time": "2025-02-05T04:59:46.073903",
     "exception": false,
     "start_time": "2025-02-05T04:59:45.516433",
     "status": "completed"
    },
    "tags": []
   },
   "outputs": [
    {
     "data": {
      "text/plain": [
       "(3634582, 9)"
      ]
     },
     "execution_count": 8,
     "metadata": {},
     "output_type": "execute_result"
    }
   ],
   "source": [
    "df_2 = df.dropna()\n",
    "df_2.shape"
   ]
  },
  {
   "cell_type": "code",
   "execution_count": 9,
   "id": "ef200fc4",
   "metadata": {
    "execution": {
     "iopub.execute_input": "2025-02-05T04:59:46.084798Z",
     "iopub.status.busy": "2025-02-05T04:59:46.084455Z",
     "iopub.status.idle": "2025-02-05T04:59:46.355589Z",
     "shell.execute_reply": "2025-02-05T04:59:46.354386Z"
    },
    "papermill": {
     "duration": 0.279063,
     "end_time": "2025-02-05T04:59:46.357602",
     "exception": false,
     "start_time": "2025-02-05T04:59:46.078539",
     "status": "completed"
    },
    "tags": []
   },
   "outputs": [
    {
     "data": {
      "text/plain": [
       "DATA0    0\n",
       "DATA1    0\n",
       "DATA2    0\n",
       "DATA3    0\n",
       "DATA4    0\n",
       "DATA5    0\n",
       "DATA6    0\n",
       "DATA7    0\n",
       "Flag     0\n",
       "dtype: int64"
      ]
     },
     "execution_count": 9,
     "metadata": {},
     "output_type": "execute_result"
    }
   ],
   "source": [
    "df_2.isnull().sum()"
   ]
  },
  {
   "cell_type": "code",
   "execution_count": 10,
   "id": "45fcaf57",
   "metadata": {
    "execution": {
     "iopub.execute_input": "2025-02-05T04:59:46.368365Z",
     "iopub.status.busy": "2025-02-05T04:59:46.368011Z",
     "iopub.status.idle": "2025-02-05T04:59:46.972682Z",
     "shell.execute_reply": "2025-02-05T04:59:46.971605Z"
    },
    "papermill": {
     "duration": 0.611828,
     "end_time": "2025-02-05T04:59:46.974504",
     "exception": false,
     "start_time": "2025-02-05T04:59:46.362676",
     "status": "completed"
    },
    "tags": []
   },
   "outputs": [
    {
     "data": {
      "text/html": [
       "<div>\n",
       "<style scoped>\n",
       "    .dataframe tbody tr th:only-of-type {\n",
       "        vertical-align: middle;\n",
       "    }\n",
       "\n",
       "    .dataframe tbody tr th {\n",
       "        vertical-align: top;\n",
       "    }\n",
       "\n",
       "    .dataframe thead th {\n",
       "        text-align: right;\n",
       "    }\n",
       "</style>\n",
       "<table border=\"1\" class=\"dataframe\">\n",
       "  <thead>\n",
       "    <tr style=\"text-align: right;\">\n",
       "      <th></th>\n",
       "      <th>DATA0</th>\n",
       "      <th>DATA1</th>\n",
       "      <th>DATA2</th>\n",
       "      <th>DATA3</th>\n",
       "      <th>DATA4</th>\n",
       "      <th>DATA5</th>\n",
       "      <th>DATA6</th>\n",
       "      <th>DATA7</th>\n",
       "      <th>Flag</th>\n",
       "    </tr>\n",
       "  </thead>\n",
       "  <tbody>\n",
       "    <tr>\n",
       "      <th>0</th>\n",
       "      <td>254</td>\n",
       "      <td>91</td>\n",
       "      <td>0.0</td>\n",
       "      <td>0.0</td>\n",
       "      <td>0.0</td>\n",
       "      <td>60.0</td>\n",
       "      <td>0.0</td>\n",
       "      <td>0.0</td>\n",
       "      <td>R</td>\n",
       "    </tr>\n",
       "    <tr>\n",
       "      <th>1</th>\n",
       "      <td>25</td>\n",
       "      <td>33</td>\n",
       "      <td>34.0</td>\n",
       "      <td>48.0</td>\n",
       "      <td>8.0</td>\n",
       "      <td>142.0</td>\n",
       "      <td>109.0</td>\n",
       "      <td>58.0</td>\n",
       "      <td>R</td>\n",
       "    </tr>\n",
       "    <tr>\n",
       "      <th>2</th>\n",
       "      <td>100</td>\n",
       "      <td>0</td>\n",
       "      <td>154.0</td>\n",
       "      <td>29.0</td>\n",
       "      <td>151.0</td>\n",
       "      <td>2.0</td>\n",
       "      <td>189.0</td>\n",
       "      <td>0.0</td>\n",
       "      <td>R</td>\n",
       "    </tr>\n",
       "    <tr>\n",
       "      <th>3</th>\n",
       "      <td>64</td>\n",
       "      <td>187</td>\n",
       "      <td>127.0</td>\n",
       "      <td>20.0</td>\n",
       "      <td>17.0</td>\n",
       "      <td>32.0</td>\n",
       "      <td>0.0</td>\n",
       "      <td>20.0</td>\n",
       "      <td>R</td>\n",
       "    </tr>\n",
       "    <tr>\n",
       "      <th>4</th>\n",
       "      <td>216</td>\n",
       "      <td>0</td>\n",
       "      <td>0.0</td>\n",
       "      <td>138.0</td>\n",
       "      <td>0.0</td>\n",
       "      <td>0.0</td>\n",
       "      <td>0.0</td>\n",
       "      <td>0.0</td>\n",
       "      <td>R</td>\n",
       "    </tr>\n",
       "    <tr>\n",
       "      <th>...</th>\n",
       "      <td>...</td>\n",
       "      <td>...</td>\n",
       "      <td>...</td>\n",
       "      <td>...</td>\n",
       "      <td>...</td>\n",
       "      <td>...</td>\n",
       "      <td>...</td>\n",
       "      <td>...</td>\n",
       "      <td>...</td>\n",
       "    </tr>\n",
       "    <tr>\n",
       "      <th>3665765</th>\n",
       "      <td>254</td>\n",
       "      <td>89</td>\n",
       "      <td>0.0</td>\n",
       "      <td>0.0</td>\n",
       "      <td>0.0</td>\n",
       "      <td>65.0</td>\n",
       "      <td>0.0</td>\n",
       "      <td>0.0</td>\n",
       "      <td>R</td>\n",
       "    </tr>\n",
       "    <tr>\n",
       "      <th>3665766</th>\n",
       "      <td>24</td>\n",
       "      <td>33</td>\n",
       "      <td>33.0</td>\n",
       "      <td>48.0</td>\n",
       "      <td>8.0</td>\n",
       "      <td>143.0</td>\n",
       "      <td>109.0</td>\n",
       "      <td>25.0</td>\n",
       "      <td>R</td>\n",
       "    </tr>\n",
       "    <tr>\n",
       "      <th>3665767</th>\n",
       "      <td>36</td>\n",
       "      <td>0</td>\n",
       "      <td>154.0</td>\n",
       "      <td>29.0</td>\n",
       "      <td>151.0</td>\n",
       "      <td>2.0</td>\n",
       "      <td>189.0</td>\n",
       "      <td>0.0</td>\n",
       "      <td>R</td>\n",
       "    </tr>\n",
       "    <tr>\n",
       "      <th>3665768</th>\n",
       "      <td>220</td>\n",
       "      <td>183</td>\n",
       "      <td>127.0</td>\n",
       "      <td>20.0</td>\n",
       "      <td>17.0</td>\n",
       "      <td>32.0</td>\n",
       "      <td>0.0</td>\n",
       "      <td>20.0</td>\n",
       "      <td>R</td>\n",
       "    </tr>\n",
       "    <tr>\n",
       "      <th>3665769</th>\n",
       "      <td>216</td>\n",
       "      <td>0</td>\n",
       "      <td>0.0</td>\n",
       "      <td>139.0</td>\n",
       "      <td>0.0</td>\n",
       "      <td>0.0</td>\n",
       "      <td>0.0</td>\n",
       "      <td>0.0</td>\n",
       "      <td>R</td>\n",
       "    </tr>\n",
       "  </tbody>\n",
       "</table>\n",
       "<p>3634582 rows × 9 columns</p>\n",
       "</div>"
      ],
      "text/plain": [
       "         DATA0  DATA1  DATA2  DATA3  DATA4  DATA5  DATA6  DATA7 Flag\n",
       "0          254     91    0.0    0.0    0.0   60.0    0.0    0.0    R\n",
       "1           25     33   34.0   48.0    8.0  142.0  109.0   58.0    R\n",
       "2          100      0  154.0   29.0  151.0    2.0  189.0    0.0    R\n",
       "3           64    187  127.0   20.0   17.0   32.0    0.0   20.0    R\n",
       "4          216      0    0.0  138.0    0.0    0.0    0.0    0.0    R\n",
       "...        ...    ...    ...    ...    ...    ...    ...    ...  ...\n",
       "3665765    254     89    0.0    0.0    0.0   65.0    0.0    0.0    R\n",
       "3665766     24     33   33.0   48.0    8.0  143.0  109.0   25.0    R\n",
       "3665767     36      0  154.0   29.0  151.0    2.0  189.0    0.0    R\n",
       "3665768    220    183  127.0   20.0   17.0   32.0    0.0   20.0    R\n",
       "3665769    216      0    0.0  139.0    0.0    0.0    0.0    0.0    R\n",
       "\n",
       "[3634582 rows x 9 columns]"
      ]
     },
     "execution_count": 10,
     "metadata": {},
     "output_type": "execute_result"
    }
   ],
   "source": [
    "df_2.dropna()"
   ]
  },
  {
   "cell_type": "code",
   "execution_count": 11,
   "id": "091b209c",
   "metadata": {
    "execution": {
     "iopub.execute_input": "2025-02-05T04:59:46.985377Z",
     "iopub.status.busy": "2025-02-05T04:59:46.985039Z",
     "iopub.status.idle": "2025-02-05T04:59:47.003186Z",
     "shell.execute_reply": "2025-02-05T04:59:47.002072Z"
    },
    "papermill": {
     "duration": 0.025529,
     "end_time": "2025-02-05T04:59:47.004963",
     "exception": false,
     "start_time": "2025-02-05T04:59:46.979434",
     "status": "completed"
    },
    "tags": []
   },
   "outputs": [
    {
     "name": "stdout",
     "output_type": "stream",
     "text": [
      "<class 'pandas.core.frame.DataFrame'>\n",
      "Index: 3634582 entries, 0 to 3665769\n",
      "Data columns (total 9 columns):\n",
      " #   Column  Dtype  \n",
      "---  ------  -----  \n",
      " 0   DATA0   int64  \n",
      " 1   DATA1   int64  \n",
      " 2   DATA2   float64\n",
      " 3   DATA3   float64\n",
      " 4   DATA4   float64\n",
      " 5   DATA5   float64\n",
      " 6   DATA6   float64\n",
      " 7   DATA7   float64\n",
      " 8   Flag    object \n",
      "dtypes: float64(6), int64(2), object(1)\n",
      "memory usage: 277.3+ MB\n"
     ]
    }
   ],
   "source": [
    "df_2.info()"
   ]
  },
  {
   "cell_type": "code",
   "execution_count": 12,
   "id": "012032f7",
   "metadata": {
    "execution": {
     "iopub.execute_input": "2025-02-05T04:59:47.016310Z",
     "iopub.status.busy": "2025-02-05T04:59:47.015854Z",
     "iopub.status.idle": "2025-02-05T04:59:47.792541Z",
     "shell.execute_reply": "2025-02-05T04:59:47.791296Z"
    },
    "papermill": {
     "duration": 0.784276,
     "end_time": "2025-02-05T04:59:47.794481",
     "exception": false,
     "start_time": "2025-02-05T04:59:47.010205",
     "status": "completed"
    },
    "tags": []
   },
   "outputs": [],
   "source": [
    "df_3 = df_2.drop_duplicates()"
   ]
  },
  {
   "cell_type": "code",
   "execution_count": 13,
   "id": "c7fcae5d",
   "metadata": {
    "execution": {
     "iopub.execute_input": "2025-02-05T04:59:47.805455Z",
     "iopub.status.busy": "2025-02-05T04:59:47.805127Z",
     "iopub.status.idle": "2025-02-05T04:59:47.855468Z",
     "shell.execute_reply": "2025-02-05T04:59:47.854408Z"
    },
    "papermill": {
     "duration": 0.058169,
     "end_time": "2025-02-05T04:59:47.857557",
     "exception": false,
     "start_time": "2025-02-05T04:59:47.799388",
     "status": "completed"
    },
    "tags": []
   },
   "outputs": [
    {
     "data": {
      "text/html": [
       "<div>\n",
       "<style scoped>\n",
       "    .dataframe tbody tr th:only-of-type {\n",
       "        vertical-align: middle;\n",
       "    }\n",
       "\n",
       "    .dataframe tbody tr th {\n",
       "        vertical-align: top;\n",
       "    }\n",
       "\n",
       "    .dataframe thead th {\n",
       "        text-align: right;\n",
       "    }\n",
       "</style>\n",
       "<table border=\"1\" class=\"dataframe\">\n",
       "  <thead>\n",
       "    <tr style=\"text-align: right;\">\n",
       "      <th></th>\n",
       "      <th>DATA0</th>\n",
       "      <th>DATA1</th>\n",
       "      <th>DATA2</th>\n",
       "      <th>DATA3</th>\n",
       "      <th>DATA4</th>\n",
       "      <th>DATA5</th>\n",
       "      <th>DATA6</th>\n",
       "      <th>DATA7</th>\n",
       "    </tr>\n",
       "  </thead>\n",
       "  <tbody>\n",
       "    <tr>\n",
       "      <th>count</th>\n",
       "      <td>66914.000000</td>\n",
       "      <td>66914.000000</td>\n",
       "      <td>66914.000000</td>\n",
       "      <td>66914.000000</td>\n",
       "      <td>66914.000000</td>\n",
       "      <td>66914.000000</td>\n",
       "      <td>66914.000000</td>\n",
       "      <td>66914.000000</td>\n",
       "    </tr>\n",
       "    <tr>\n",
       "      <th>mean</th>\n",
       "      <td>55.738171</td>\n",
       "      <td>115.441537</td>\n",
       "      <td>6.742460</td>\n",
       "      <td>142.780689</td>\n",
       "      <td>67.260319</td>\n",
       "      <td>118.927429</td>\n",
       "      <td>13.220866</td>\n",
       "      <td>117.613743</td>\n",
       "    </tr>\n",
       "    <tr>\n",
       "      <th>std</th>\n",
       "      <td>79.637617</td>\n",
       "      <td>34.732800</td>\n",
       "      <td>26.252947</td>\n",
       "      <td>123.978114</td>\n",
       "      <td>74.966998</td>\n",
       "      <td>30.930760</td>\n",
       "      <td>23.100161</td>\n",
       "      <td>76.906502</td>\n",
       "    </tr>\n",
       "    <tr>\n",
       "      <th>min</th>\n",
       "      <td>0.000000</td>\n",
       "      <td>0.000000</td>\n",
       "      <td>0.000000</td>\n",
       "      <td>0.000000</td>\n",
       "      <td>0.000000</td>\n",
       "      <td>0.000000</td>\n",
       "      <td>0.000000</td>\n",
       "      <td>0.000000</td>\n",
       "    </tr>\n",
       "    <tr>\n",
       "      <th>25%</th>\n",
       "      <td>14.000000</td>\n",
       "      <td>127.000000</td>\n",
       "      <td>0.000000</td>\n",
       "      <td>0.000000</td>\n",
       "      <td>19.000000</td>\n",
       "      <td>127.000000</td>\n",
       "      <td>3.000000</td>\n",
       "      <td>49.000000</td>\n",
       "    </tr>\n",
       "    <tr>\n",
       "      <th>50%</th>\n",
       "      <td>23.000000</td>\n",
       "      <td>128.000000</td>\n",
       "      <td>0.000000</td>\n",
       "      <td>255.000000</td>\n",
       "      <td>42.000000</td>\n",
       "      <td>127.000000</td>\n",
       "      <td>8.000000</td>\n",
       "      <td>113.000000</td>\n",
       "    </tr>\n",
       "    <tr>\n",
       "      <th>75%</th>\n",
       "      <td>33.000000</td>\n",
       "      <td>128.000000</td>\n",
       "      <td>0.000000</td>\n",
       "      <td>255.000000</td>\n",
       "      <td>74.000000</td>\n",
       "      <td>128.000000</td>\n",
       "      <td>12.000000</td>\n",
       "      <td>184.000000</td>\n",
       "    </tr>\n",
       "    <tr>\n",
       "      <th>max</th>\n",
       "      <td>255.000000</td>\n",
       "      <td>192.000000</td>\n",
       "      <td>252.000000</td>\n",
       "      <td>255.000000</td>\n",
       "      <td>255.000000</td>\n",
       "      <td>255.000000</td>\n",
       "      <td>209.000000</td>\n",
       "      <td>255.000000</td>\n",
       "    </tr>\n",
       "  </tbody>\n",
       "</table>\n",
       "</div>"
      ],
      "text/plain": [
       "              DATA0         DATA1         DATA2         DATA3         DATA4  \\\n",
       "count  66914.000000  66914.000000  66914.000000  66914.000000  66914.000000   \n",
       "mean      55.738171    115.441537      6.742460    142.780689     67.260319   \n",
       "std       79.637617     34.732800     26.252947    123.978114     74.966998   \n",
       "min        0.000000      0.000000      0.000000      0.000000      0.000000   \n",
       "25%       14.000000    127.000000      0.000000      0.000000     19.000000   \n",
       "50%       23.000000    128.000000      0.000000    255.000000     42.000000   \n",
       "75%       33.000000    128.000000      0.000000    255.000000     74.000000   \n",
       "max      255.000000    192.000000    252.000000    255.000000    255.000000   \n",
       "\n",
       "              DATA5         DATA6         DATA7  \n",
       "count  66914.000000  66914.000000  66914.000000  \n",
       "mean     118.927429     13.220866    117.613743  \n",
       "std       30.930760     23.100161     76.906502  \n",
       "min        0.000000      0.000000      0.000000  \n",
       "25%      127.000000      3.000000     49.000000  \n",
       "50%      127.000000      8.000000    113.000000  \n",
       "75%      128.000000     12.000000    184.000000  \n",
       "max      255.000000    209.000000    255.000000  "
      ]
     },
     "execution_count": 13,
     "metadata": {},
     "output_type": "execute_result"
    }
   ],
   "source": [
    "df_3.describe()"
   ]
  },
  {
   "cell_type": "code",
   "execution_count": null,
   "id": "f520117e",
   "metadata": {
    "papermill": {
     "duration": 0.004756,
     "end_time": "2025-02-05T04:59:47.867724",
     "exception": false,
     "start_time": "2025-02-05T04:59:47.862968",
     "status": "completed"
    },
    "tags": []
   },
   "outputs": [],
   "source": []
  }
 ],
 "metadata": {
  "kaggle": {
   "accelerator": "none",
   "dataSources": [
    {
     "datasetId": 6592386,
     "sourceId": 10647102,
     "sourceType": "datasetVersion"
    }
   ],
   "dockerImageVersionId": 30839,
   "isGpuEnabled": false,
   "isInternetEnabled": true,
   "language": "python",
   "sourceType": "notebook"
  },
  "kernelspec": {
   "display_name": "Python 3",
   "language": "python",
   "name": "python3"
  },
  "language_info": {
   "codemirror_mode": {
    "name": "ipython",
    "version": 3
   },
   "file_extension": ".py",
   "mimetype": "text/x-python",
   "name": "python",
   "nbconvert_exporter": "python",
   "pygments_lexer": "ipython3",
   "version": "3.10.12"
  },
  "papermill": {
   "default_parameters": {},
   "duration": 34.95695,
   "end_time": "2025-02-05T04:59:48.693784",
   "environment_variables": {},
   "exception": null,
   "input_path": "__notebook__.ipynb",
   "output_path": "__notebook__.ipynb",
   "parameters": {},
   "start_time": "2025-02-05T04:59:13.736834",
   "version": "2.6.0"
  }
 },
 "nbformat": 4,
 "nbformat_minor": 5
}
