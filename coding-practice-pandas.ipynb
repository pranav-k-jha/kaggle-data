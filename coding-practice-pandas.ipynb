{
 "cells": [
  {
   "cell_type": "code",
   "execution_count": 1,
   "id": "223d6b62",
   "metadata": {
    "_cell_guid": "b1076dfc-b9ad-4769-8c92-a6c4dae69d19",
    "_uuid": "8f2839f25d086af736a60e9eeb907d3b93b6e0e5",
    "execution": {
     "iopub.execute_input": "2024-09-01T22:43:22.680041Z",
     "iopub.status.busy": "2024-09-01T22:43:22.679588Z",
     "iopub.status.idle": "2024-09-01T22:43:23.149644Z",
     "shell.execute_reply": "2024-09-01T22:43:23.148562Z"
    },
    "papermill": {
     "duration": 0.480182,
     "end_time": "2024-09-01T22:43:23.152481",
     "exception": false,
     "start_time": "2024-09-01T22:43:22.672299",
     "status": "completed"
    },
    "tags": []
   },
   "outputs": [],
   "source": [
    "# This Python 3 environment comes with many helpful analytics libraries installed\n",
    "# It is defined by the kaggle/python Docker image: https://github.com/kaggle/docker-python\n",
    "# For example, here's several helpful packages to load\n",
    "\n",
    "import numpy as np # linear algebra\n",
    "import pandas as pd # data processing, CSV file I/O (e.g. pd.read_csv)\n",
    "\n",
    "# Input data files are available in the read-only \"../input/\" directory\n",
    "# For example, running this (by clicking run or pressing Shift+Enter) will list all files under the input directory\n",
    "\n",
    "import os\n",
    "for dirname, _, filenames in os.walk('/kaggle/input'):\n",
    "    for filename in filenames:\n",
    "        print(os.path.join(dirname, filename))\n",
    "\n",
    "# You can write up to 20GB to the current directory (/kaggle/working/) that gets preserved as output when you create a version using \"Save & Run All\" \n",
    "# You can also write temporary files to /kaggle/temp/, but they won't be saved outside of the current session"
   ]
  },
  {
   "cell_type": "code",
   "execution_count": 2,
   "id": "642be9a6",
   "metadata": {
    "execution": {
     "iopub.execute_input": "2024-09-01T22:43:23.164406Z",
     "iopub.status.busy": "2024-09-01T22:43:23.163795Z",
     "iopub.status.idle": "2024-09-01T22:43:23.173863Z",
     "shell.execute_reply": "2024-09-01T22:43:23.172691Z"
    },
    "papermill": {
     "duration": 0.018952,
     "end_time": "2024-09-01T22:43:23.176429",
     "exception": false,
     "start_time": "2024-09-01T22:43:23.157477",
     "status": "completed"
    },
    "tags": []
   },
   "outputs": [],
   "source": [
    "\n",
    "data = {\n",
    "    'article_id': [1, 1, 2, 2, 4, 3, 3],\n",
    "    'author_id': [3, 3, 7, 7, 7, 4, 4],\n",
    "    'viewer_id': [5, 6, 7, 6, 1, 4, 4],\n",
    "    'view_date': ['2019-08-01', '2019-08-02', '2019-08-01', '2019-08-02', '2019-07-22', '2019-07-21', '2019-07-21']\n",
    "}\n",
    "\n",
    "views = pd.DataFrame(data)\n"
   ]
  },
  {
   "cell_type": "code",
   "execution_count": 3,
   "id": "e1a46e6f",
   "metadata": {
    "execution": {
     "iopub.execute_input": "2024-09-01T22:43:23.187698Z",
     "iopub.status.busy": "2024-09-01T22:43:23.187227Z",
     "iopub.status.idle": "2024-09-01T22:43:23.211388Z",
     "shell.execute_reply": "2024-09-01T22:43:23.210293Z"
    },
    "papermill": {
     "duration": 0.032691,
     "end_time": "2024-09-01T22:43:23.213957",
     "exception": false,
     "start_time": "2024-09-01T22:43:23.181266",
     "status": "completed"
    },
    "tags": []
   },
   "outputs": [
    {
     "data": {
      "text/html": [
       "<div>\n",
       "<style scoped>\n",
       "    .dataframe tbody tr th:only-of-type {\n",
       "        vertical-align: middle;\n",
       "    }\n",
       "\n",
       "    .dataframe tbody tr th {\n",
       "        vertical-align: top;\n",
       "    }\n",
       "\n",
       "    .dataframe thead th {\n",
       "        text-align: right;\n",
       "    }\n",
       "</style>\n",
       "<table border=\"1\" class=\"dataframe\">\n",
       "  <thead>\n",
       "    <tr style=\"text-align: right;\">\n",
       "      <th></th>\n",
       "      <th>article_id</th>\n",
       "      <th>author_id</th>\n",
       "      <th>viewer_id</th>\n",
       "      <th>view_date</th>\n",
       "    </tr>\n",
       "  </thead>\n",
       "  <tbody>\n",
       "    <tr>\n",
       "      <th>0</th>\n",
       "      <td>1</td>\n",
       "      <td>3</td>\n",
       "      <td>5</td>\n",
       "      <td>2019-08-01</td>\n",
       "    </tr>\n",
       "    <tr>\n",
       "      <th>1</th>\n",
       "      <td>1</td>\n",
       "      <td>3</td>\n",
       "      <td>6</td>\n",
       "      <td>2019-08-02</td>\n",
       "    </tr>\n",
       "    <tr>\n",
       "      <th>2</th>\n",
       "      <td>2</td>\n",
       "      <td>7</td>\n",
       "      <td>7</td>\n",
       "      <td>2019-08-01</td>\n",
       "    </tr>\n",
       "    <tr>\n",
       "      <th>3</th>\n",
       "      <td>2</td>\n",
       "      <td>7</td>\n",
       "      <td>6</td>\n",
       "      <td>2019-08-02</td>\n",
       "    </tr>\n",
       "    <tr>\n",
       "      <th>4</th>\n",
       "      <td>4</td>\n",
       "      <td>7</td>\n",
       "      <td>1</td>\n",
       "      <td>2019-07-22</td>\n",
       "    </tr>\n",
       "    <tr>\n",
       "      <th>5</th>\n",
       "      <td>3</td>\n",
       "      <td>4</td>\n",
       "      <td>4</td>\n",
       "      <td>2019-07-21</td>\n",
       "    </tr>\n",
       "    <tr>\n",
       "      <th>6</th>\n",
       "      <td>3</td>\n",
       "      <td>4</td>\n",
       "      <td>4</td>\n",
       "      <td>2019-07-21</td>\n",
       "    </tr>\n",
       "  </tbody>\n",
       "</table>\n",
       "</div>"
      ],
      "text/plain": [
       "   article_id  author_id  viewer_id   view_date\n",
       "0           1          3          5  2019-08-01\n",
       "1           1          3          6  2019-08-02\n",
       "2           2          7          7  2019-08-01\n",
       "3           2          7          6  2019-08-02\n",
       "4           4          7          1  2019-07-22\n",
       "5           3          4          4  2019-07-21\n",
       "6           3          4          4  2019-07-21"
      ]
     },
     "execution_count": 3,
     "metadata": {},
     "output_type": "execute_result"
    }
   ],
   "source": [
    "views"
   ]
  },
  {
   "cell_type": "code",
   "execution_count": 4,
   "id": "7b4dff55",
   "metadata": {
    "execution": {
     "iopub.execute_input": "2024-09-01T22:43:23.226170Z",
     "iopub.status.busy": "2024-09-01T22:43:23.225712Z",
     "iopub.status.idle": "2024-09-01T22:43:23.233579Z",
     "shell.execute_reply": "2024-09-01T22:43:23.231984Z"
    },
    "papermill": {
     "duration": 0.017266,
     "end_time": "2024-09-01T22:43:23.236318",
     "exception": false,
     "start_time": "2024-09-01T22:43:23.219052",
     "status": "completed"
    },
    "tags": []
   },
   "outputs": [],
   "source": [
    "import pandas as pd\n",
    "\n",
    "def article_views(views: pd.DataFrame) -> pd.DataFrame:\n",
    "    df = views[views['author_id'] == views['viewer_id']]\n",
    "    df_unique = df[['author_id']].drop_duplicates().rename(columns={'author_id': 'id'}).sort_values('id').reset_index(drop=True)\n",
    "    df_final = df_unique[['id']]\n",
    "    return df_final"
   ]
  },
  {
   "cell_type": "code",
   "execution_count": 5,
   "id": "4989a153",
   "metadata": {
    "execution": {
     "iopub.execute_input": "2024-09-01T22:43:23.248595Z",
     "iopub.status.busy": "2024-09-01T22:43:23.248113Z",
     "iopub.status.idle": "2024-09-01T22:43:23.277747Z",
     "shell.execute_reply": "2024-09-01T22:43:23.276425Z"
    },
    "papermill": {
     "duration": 0.039318,
     "end_time": "2024-09-01T22:43:23.280796",
     "exception": false,
     "start_time": "2024-09-01T22:43:23.241478",
     "status": "completed"
    },
    "tags": []
   },
   "outputs": [
    {
     "data": {
      "text/html": [
       "<div>\n",
       "<style scoped>\n",
       "    .dataframe tbody tr th:only-of-type {\n",
       "        vertical-align: middle;\n",
       "    }\n",
       "\n",
       "    .dataframe tbody tr th {\n",
       "        vertical-align: top;\n",
       "    }\n",
       "\n",
       "    .dataframe thead th {\n",
       "        text-align: right;\n",
       "    }\n",
       "</style>\n",
       "<table border=\"1\" class=\"dataframe\">\n",
       "  <thead>\n",
       "    <tr style=\"text-align: right;\">\n",
       "      <th></th>\n",
       "      <th>id</th>\n",
       "    </tr>\n",
       "  </thead>\n",
       "  <tbody>\n",
       "    <tr>\n",
       "      <th>0</th>\n",
       "      <td>4</td>\n",
       "    </tr>\n",
       "    <tr>\n",
       "      <th>1</th>\n",
       "      <td>7</td>\n",
       "    </tr>\n",
       "  </tbody>\n",
       "</table>\n",
       "</div>"
      ],
      "text/plain": [
       "   id\n",
       "0   4\n",
       "1   7"
      ]
     },
     "execution_count": 5,
     "metadata": {},
     "output_type": "execute_result"
    }
   ],
   "source": [
    "article_views(views)"
   ]
  },
  {
   "cell_type": "code",
   "execution_count": 6,
   "id": "a9cbca27",
   "metadata": {
    "execution": {
     "iopub.execute_input": "2024-09-01T22:43:23.293918Z",
     "iopub.status.busy": "2024-09-01T22:43:23.293466Z",
     "iopub.status.idle": "2024-09-01T22:43:23.305324Z",
     "shell.execute_reply": "2024-09-01T22:43:23.303797Z"
    },
    "papermill": {
     "duration": 0.021707,
     "end_time": "2024-09-01T22:43:23.308007",
     "exception": false,
     "start_time": "2024-09-01T22:43:23.286300",
     "status": "completed"
    },
    "tags": []
   },
   "outputs": [
    {
     "name": "stdout",
     "output_type": "stream",
     "text": [
      "   user_id   name\n",
      "0        1   John\n",
      "1        2  Alice\n",
      "2        3    Bob\n"
     ]
    }
   ],
   "source": [
    "import pandas as pd\n",
    "\n",
    "# Sample data\n",
    "data = {'user_id': [1, 2, 3], 'name': ['john', 'ALICE', 'bOB']}\n",
    "df = pd.DataFrame(data)\n",
    "\n",
    "# Fixing the names using a lambda function\n",
    "df['name'] = df['name'].apply(lambda x: x.capitalize())\n",
    "\n",
    "# Sorting by user_id\n",
    "df = df.sort_values('user_id')\n",
    "\n",
    "# Display the result\n",
    "print(df)\n"
   ]
  },
  {
   "cell_type": "code",
   "execution_count": 7,
   "id": "6bdcd7f5",
   "metadata": {
    "execution": {
     "iopub.execute_input": "2024-09-01T22:43:23.320628Z",
     "iopub.status.busy": "2024-09-01T22:43:23.320141Z",
     "iopub.status.idle": "2024-09-01T22:43:23.326488Z",
     "shell.execute_reply": "2024-09-01T22:43:23.325315Z"
    },
    "papermill": {
     "duration": 0.015872,
     "end_time": "2024-09-01T22:43:23.329150",
     "exception": false,
     "start_time": "2024-09-01T22:43:23.313278",
     "status": "completed"
    },
    "tags": []
   },
   "outputs": [],
   "source": [
    "import pandas as pd\n",
    "\n",
    "def valid_emails(users: pd.DataFrame) -> pd.DataFrame:\n",
    "    df_valid = users[users['mail'].str.contains(r'^[a-zA-Z][a-zA-Z0-9._-]*@leetcode\\.com$')]\n",
    "    return df_valid"
   ]
  },
  {
   "cell_type": "code",
   "execution_count": 8,
   "id": "d69a15d0",
   "metadata": {
    "execution": {
     "iopub.execute_input": "2024-09-01T22:43:23.342057Z",
     "iopub.status.busy": "2024-09-01T22:43:23.341627Z",
     "iopub.status.idle": "2024-09-01T22:43:23.353168Z",
     "shell.execute_reply": "2024-09-01T22:43:23.351988Z"
    },
    "papermill": {
     "duration": 0.020913,
     "end_time": "2024-09-01T22:43:23.355634",
     "exception": false,
     "start_time": "2024-09-01T22:43:23.334721",
     "status": "completed"
    },
    "tags": []
   },
   "outputs": [
    {
     "name": "stdout",
     "output_type": "stream",
     "text": [
      "   patient_id patient_name    conditions\n",
      "2           3          Bob  DIAB100 MYOP\n",
      "3           4       George  ACNE DIAB100\n"
     ]
    }
   ],
   "source": [
    "import pandas as pd\n",
    "\n",
    "# Sample data\n",
    "data = {\n",
    "    'patient_id': [1, 2, 3, 4, 5],\n",
    "    'patient_name': ['Daniel', 'Alice', 'Bob', 'George', 'Alain'],\n",
    "    'conditions': ['YFEV COUGH', '', 'DIAB100 MYOP', 'ACNE DIAB100', 'DIAB201']\n",
    "}\n",
    "df = pd.DataFrame(data)\n",
    "\n",
    "# Filter patients with conditions starting with DIAB1\n",
    "diabetes_patients_df = df[df['conditions'].str.contains(r'\\bDIAB1[0-9]*\\b', regex=True)]\n",
    "\n",
    "# Display the result\n",
    "print(diabetes_patients_df)\n"
   ]
  },
  {
   "cell_type": "code",
   "execution_count": 9,
   "id": "96a94fdf",
   "metadata": {
    "execution": {
     "iopub.execute_input": "2024-09-01T22:43:23.368601Z",
     "iopub.status.busy": "2024-09-01T22:43:23.368130Z",
     "iopub.status.idle": "2024-09-01T22:43:23.376747Z",
     "shell.execute_reply": "2024-09-01T22:43:23.375321Z"
    },
    "papermill": {
     "duration": 0.018551,
     "end_time": "2024-09-01T22:43:23.379607",
     "exception": false,
     "start_time": "2024-09-01T22:43:23.361056",
     "status": "completed"
    },
    "tags": []
   },
   "outputs": [
    {
     "name": "stdout",
     "output_type": "stream",
     "text": [
      "3\n"
     ]
    }
   ],
   "source": [
    "def count_occurrences(text: str, substring: str) -> int:\n",
    "    # Initialize a variable to keep track of the count\n",
    "    count = 0\n",
    "    \n",
    "    # Loop through the text\n",
    "    for i in range(len(text) - len(substring) + 1):\n",
    "        # Logical part: Check if the substring matches the current part of the text\n",
    "        if text[i:i+len(substring)]== substring:\n",
    "            # If it matches, increment the count\n",
    "            count += 1\n",
    "    \n",
    "    # Return the final count\n",
    "    return count\n",
    "\n",
    "# Example usage\n",
    "text = \"abababa\"\n",
    "substring = \"aba\"\n",
    "print(count_occurrences(text, substring))  # Expected output: 3\n"
   ]
  },
  {
   "cell_type": "code",
   "execution_count": 10,
   "id": "30703667",
   "metadata": {
    "execution": {
     "iopub.execute_input": "2024-09-01T22:43:23.393507Z",
     "iopub.status.busy": "2024-09-01T22:43:23.393022Z",
     "iopub.status.idle": "2024-09-01T22:43:23.415192Z",
     "shell.execute_reply": "2024-09-01T22:43:23.413821Z"
    },
    "papermill": {
     "duration": 0.032601,
     "end_time": "2024-09-01T22:43:23.417951",
     "exception": false,
     "start_time": "2024-09-01T22:43:23.385350",
     "status": "completed"
    },
    "tags": []
   },
   "outputs": [
    {
     "name": "stdout",
     "output_type": "stream",
     "text": [
      "   getNthHighestSalary(2)\n",
      "0                     200\n",
      "   getNthHighestSalary(2)\n",
      "0                     NaN\n"
     ]
    }
   ],
   "source": [
    "import pandas as pd\n",
    "import numpy as np\n",
    "\n",
    "def nth_highest_salary(employee: pd.DataFrame, N: int) -> pd.DataFrame:\n",
    "    # Remove duplicate salaries and sort in descending order\n",
    "    df_unique = employee[['salary']].drop_duplicates()\n",
    "    df_sorted = df_unique.sort_values(by='salary', ascending=False)\n",
    "    \n",
    "    # Determine the nth highest salary\n",
    "    if N > len(df_sorted):\n",
    "        nth_highest_salary = np.nan\n",
    "    else:\n",
    "        nth_highest_salary = df_sorted.iloc[N-1]['salary']\n",
    "    \n",
    "    # Create and return the result DataFrame\n",
    "    result_df = pd.DataFrame({f'getNthHighestSalary({N})': [nth_highest_salary]})\n",
    "    return result_df\n",
    "\n",
    "# Example usage\n",
    "# Creating the DataFrame for testing\n",
    "data = {'id': [1, 2, 3], 'salary': [100, 200, 300]}\n",
    "df = pd.DataFrame(data)\n",
    "\n",
    "# Get the 2nd highest salary\n",
    "result = nth_highest_salary(df, 2)\n",
    "print(result)  # Output: DataFrame with the 2nd highest salary\n",
    "\n",
    "# Example with not enough salaries\n",
    "data = {'id': [1], 'salary': [100]}\n",
    "df = pd.DataFrame(data)\n",
    "\n",
    "# Get the 2nd highest salary\n",
    "result = nth_highest_salary(df, 2)\n",
    "print(result)  # Output: DataFrame with NaN\n"
   ]
  },
  {
   "cell_type": "code",
   "execution_count": 11,
   "id": "08c31883",
   "metadata": {
    "execution": {
     "iopub.execute_input": "2024-09-01T22:43:23.431458Z",
     "iopub.status.busy": "2024-09-01T22:43:23.431028Z",
     "iopub.status.idle": "2024-09-01T22:43:23.440769Z",
     "shell.execute_reply": "2024-09-01T22:43:23.439406Z"
    },
    "papermill": {
     "duration": 0.019794,
     "end_time": "2024-09-01T22:43:23.443610",
     "exception": false,
     "start_time": "2024-09-01T22:43:23.423816",
     "status": "completed"
    },
    "tags": []
   },
   "outputs": [],
   "source": [
    "import pandas as pd\n",
    "import numpy as np\n",
    "\n",
    "def nth_highest_salary(employee: pd.DataFrame, N: int) -> pd.DataFrame:\n",
    "    df_unique = employee['salary'].drop_duplicates()\n",
    "    df_sorted = df_unique.sort_values(ascending=False)\n",
    "    if N>len(df_sorted) or N<=0:\n",
    "        nth_highest_salary =  np.nan\n",
    "    else:\n",
    "        nth_highest_salary = df_sorted.iloc[N-1]\n",
    "    result_df = pd.DataFrame({f'getNthHighestSalary({N})' : [nth_highest_salary]})\n",
    "    return result_df"
   ]
  },
  {
   "cell_type": "code",
   "execution_count": 12,
   "id": "81fe16c1",
   "metadata": {
    "execution": {
     "iopub.execute_input": "2024-09-01T22:43:23.457204Z",
     "iopub.status.busy": "2024-09-01T22:43:23.456803Z",
     "iopub.status.idle": "2024-09-01T22:43:23.464613Z",
     "shell.execute_reply": "2024-09-01T22:43:23.463409Z"
    },
    "papermill": {
     "duration": 0.017589,
     "end_time": "2024-09-01T22:43:23.467070",
     "exception": false,
     "start_time": "2024-09-01T22:43:23.449481",
     "status": "completed"
    },
    "tags": []
   },
   "outputs": [],
   "source": [
    "import pandas as pd\n",
    "import numpy as np\n",
    "\n",
    "def second_highest_salary(employee: pd.DataFrame) -> pd.DataFrame:\n",
    "    df_unique = employee['salary'].drop_duplicates()\n",
    "    df_sorted = df_unique.sort_values(ascending=False)\n",
    "    if len(df_sorted)>=2:\n",
    "        SecondHighestSalary = df_sorted.iloc[1]\n",
    "    else:\n",
    "        SecondHighestSalary =  np.nan\n",
    "    result_df = pd.DataFrame({'SecondHighestSalary' : [SecondHighestSalary]})\n",
    "    return result_df"
   ]
  }
 ],
 "metadata": {
  "kaggle": {
   "accelerator": "none",
   "dataSources": [],
   "dockerImageVersionId": 30761,
   "isGpuEnabled": false,
   "isInternetEnabled": true,
   "language": "python",
   "sourceType": "notebook"
  },
  "kernelspec": {
   "display_name": "Python 3",
   "language": "python",
   "name": "python3"
  },
  "language_info": {
   "codemirror_mode": {
    "name": "ipython",
    "version": 3
   },
   "file_extension": ".py",
   "mimetype": "text/x-python",
   "name": "python",
   "nbconvert_exporter": "python",
   "pygments_lexer": "ipython3",
   "version": "3.10.14"
  },
  "papermill": {
   "default_parameters": {},
   "duration": 4.597886,
   "end_time": "2024-09-01T22:43:23.994979",
   "environment_variables": {},
   "exception": null,
   "input_path": "__notebook__.ipynb",
   "output_path": "__notebook__.ipynb",
   "parameters": {},
   "start_time": "2024-09-01T22:43:19.397093",
   "version": "2.6.0"
  }
 },
 "nbformat": 4,
 "nbformat_minor": 5
}
