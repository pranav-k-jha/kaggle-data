{
 "cells": [
  {
   "cell_type": "code",
   "execution_count": 1,
   "id": "2f4b03e3",
   "metadata": {
    "_cell_guid": "b1076dfc-b9ad-4769-8c92-a6c4dae69d19",
    "_uuid": "8f2839f25d086af736a60e9eeb907d3b93b6e0e5",
    "execution": {
     "iopub.execute_input": "2024-08-27T23:34:53.909033Z",
     "iopub.status.busy": "2024-08-27T23:34:53.908620Z",
     "iopub.status.idle": "2024-08-27T23:34:54.301115Z",
     "shell.execute_reply": "2024-08-27T23:34:54.300049Z"
    },
    "papermill": {
     "duration": 0.400201,
     "end_time": "2024-08-27T23:34:54.303961",
     "exception": false,
     "start_time": "2024-08-27T23:34:53.903760",
     "status": "completed"
    },
    "tags": []
   },
   "outputs": [],
   "source": [
    "# This Python 3 environment comes with many helpful analytics libraries installed\n",
    "# It is defined by the kaggle/python Docker image: https://github.com/kaggle/docker-python\n",
    "# For example, here's several helpful packages to load\n",
    "\n",
    "import numpy as np # linear algebra\n",
    "import pandas as pd # data processing, CSV file I/O (e.g. pd.read_csv)\n",
    "\n",
    "# Input data files are available in the read-only \"../input/\" directory\n",
    "# For example, running this (by clicking run or pressing Shift+Enter) will list all files under the input directory\n",
    "\n",
    "import os\n",
    "for dirname, _, filenames in os.walk('/kaggle/input'):\n",
    "    for filename in filenames:\n",
    "        print(os.path.join(dirname, filename))\n",
    "\n",
    "# You can write up to 20GB to the current directory (/kaggle/working/) that gets preserved as output when you create a version using \"Save & Run All\" \n",
    "# You can also write temporary files to /kaggle/temp/, but they won't be saved outside of the current session"
   ]
  },
  {
   "cell_type": "code",
   "execution_count": 2,
   "id": "0fc0a722",
   "metadata": {
    "execution": {
     "iopub.execute_input": "2024-08-27T23:34:54.311134Z",
     "iopub.status.busy": "2024-08-27T23:34:54.310604Z",
     "iopub.status.idle": "2024-08-27T23:34:54.319008Z",
     "shell.execute_reply": "2024-08-27T23:34:54.318059Z"
    },
    "papermill": {
     "duration": 0.014382,
     "end_time": "2024-08-27T23:34:54.321188",
     "exception": false,
     "start_time": "2024-08-27T23:34:54.306806",
     "status": "completed"
    },
    "tags": []
   },
   "outputs": [],
   "source": [
    "\n",
    "data = {\n",
    "    'article_id': [1, 1, 2, 2, 4, 3, 3],\n",
    "    'author_id': [3, 3, 7, 7, 7, 4, 4],\n",
    "    'viewer_id': [5, 6, 7, 6, 1, 4, 4],\n",
    "    'view_date': ['2019-08-01', '2019-08-02', '2019-08-01', '2019-08-02', '2019-07-22', '2019-07-21', '2019-07-21']\n",
    "}\n",
    "\n",
    "views = pd.DataFrame(data)\n"
   ]
  },
  {
   "cell_type": "code",
   "execution_count": 3,
   "id": "65a5de50",
   "metadata": {
    "execution": {
     "iopub.execute_input": "2024-08-27T23:34:54.328090Z",
     "iopub.status.busy": "2024-08-27T23:34:54.327675Z",
     "iopub.status.idle": "2024-08-27T23:34:54.349118Z",
     "shell.execute_reply": "2024-08-27T23:34:54.348009Z"
    },
    "papermill": {
     "duration": 0.027385,
     "end_time": "2024-08-27T23:34:54.351331",
     "exception": false,
     "start_time": "2024-08-27T23:34:54.323946",
     "status": "completed"
    },
    "tags": []
   },
   "outputs": [
    {
     "data": {
      "text/html": [
       "<div>\n",
       "<style scoped>\n",
       "    .dataframe tbody tr th:only-of-type {\n",
       "        vertical-align: middle;\n",
       "    }\n",
       "\n",
       "    .dataframe tbody tr th {\n",
       "        vertical-align: top;\n",
       "    }\n",
       "\n",
       "    .dataframe thead th {\n",
       "        text-align: right;\n",
       "    }\n",
       "</style>\n",
       "<table border=\"1\" class=\"dataframe\">\n",
       "  <thead>\n",
       "    <tr style=\"text-align: right;\">\n",
       "      <th></th>\n",
       "      <th>article_id</th>\n",
       "      <th>author_id</th>\n",
       "      <th>viewer_id</th>\n",
       "      <th>view_date</th>\n",
       "    </tr>\n",
       "  </thead>\n",
       "  <tbody>\n",
       "    <tr>\n",
       "      <th>0</th>\n",
       "      <td>1</td>\n",
       "      <td>3</td>\n",
       "      <td>5</td>\n",
       "      <td>2019-08-01</td>\n",
       "    </tr>\n",
       "    <tr>\n",
       "      <th>1</th>\n",
       "      <td>1</td>\n",
       "      <td>3</td>\n",
       "      <td>6</td>\n",
       "      <td>2019-08-02</td>\n",
       "    </tr>\n",
       "    <tr>\n",
       "      <th>2</th>\n",
       "      <td>2</td>\n",
       "      <td>7</td>\n",
       "      <td>7</td>\n",
       "      <td>2019-08-01</td>\n",
       "    </tr>\n",
       "    <tr>\n",
       "      <th>3</th>\n",
       "      <td>2</td>\n",
       "      <td>7</td>\n",
       "      <td>6</td>\n",
       "      <td>2019-08-02</td>\n",
       "    </tr>\n",
       "    <tr>\n",
       "      <th>4</th>\n",
       "      <td>4</td>\n",
       "      <td>7</td>\n",
       "      <td>1</td>\n",
       "      <td>2019-07-22</td>\n",
       "    </tr>\n",
       "    <tr>\n",
       "      <th>5</th>\n",
       "      <td>3</td>\n",
       "      <td>4</td>\n",
       "      <td>4</td>\n",
       "      <td>2019-07-21</td>\n",
       "    </tr>\n",
       "    <tr>\n",
       "      <th>6</th>\n",
       "      <td>3</td>\n",
       "      <td>4</td>\n",
       "      <td>4</td>\n",
       "      <td>2019-07-21</td>\n",
       "    </tr>\n",
       "  </tbody>\n",
       "</table>\n",
       "</div>"
      ],
      "text/plain": [
       "   article_id  author_id  viewer_id   view_date\n",
       "0           1          3          5  2019-08-01\n",
       "1           1          3          6  2019-08-02\n",
       "2           2          7          7  2019-08-01\n",
       "3           2          7          6  2019-08-02\n",
       "4           4          7          1  2019-07-22\n",
       "5           3          4          4  2019-07-21\n",
       "6           3          4          4  2019-07-21"
      ]
     },
     "execution_count": 3,
     "metadata": {},
     "output_type": "execute_result"
    }
   ],
   "source": [
    "views"
   ]
  },
  {
   "cell_type": "code",
   "execution_count": 4,
   "id": "90dfce5c",
   "metadata": {
    "execution": {
     "iopub.execute_input": "2024-08-27T23:34:54.358646Z",
     "iopub.status.busy": "2024-08-27T23:34:54.358255Z",
     "iopub.status.idle": "2024-08-27T23:34:54.364216Z",
     "shell.execute_reply": "2024-08-27T23:34:54.363214Z"
    },
    "papermill": {
     "duration": 0.011976,
     "end_time": "2024-08-27T23:34:54.366220",
     "exception": false,
     "start_time": "2024-08-27T23:34:54.354244",
     "status": "completed"
    },
    "tags": []
   },
   "outputs": [],
   "source": [
    "import pandas as pd\n",
    "\n",
    "def article_views(views: pd.DataFrame) -> pd.DataFrame:\n",
    "    df = views[views['author_id'] == views['viewer_id']]\n",
    "    df_unique = df[['author_id']].drop_duplicates().rename(columns={'author_id': 'id'}).sort_values('id').reset_index(drop=True)\n",
    "    df_final = df_unique[['id']]\n",
    "    return df_final"
   ]
  },
  {
   "cell_type": "code",
   "execution_count": 5,
   "id": "9a6b15c5",
   "metadata": {
    "execution": {
     "iopub.execute_input": "2024-08-27T23:34:54.373327Z",
     "iopub.status.busy": "2024-08-27T23:34:54.372966Z",
     "iopub.status.idle": "2024-08-27T23:34:54.395201Z",
     "shell.execute_reply": "2024-08-27T23:34:54.394215Z"
    },
    "papermill": {
     "duration": 0.028203,
     "end_time": "2024-08-27T23:34:54.397391",
     "exception": false,
     "start_time": "2024-08-27T23:34:54.369188",
     "status": "completed"
    },
    "tags": []
   },
   "outputs": [
    {
     "data": {
      "text/html": [
       "<div>\n",
       "<style scoped>\n",
       "    .dataframe tbody tr th:only-of-type {\n",
       "        vertical-align: middle;\n",
       "    }\n",
       "\n",
       "    .dataframe tbody tr th {\n",
       "        vertical-align: top;\n",
       "    }\n",
       "\n",
       "    .dataframe thead th {\n",
       "        text-align: right;\n",
       "    }\n",
       "</style>\n",
       "<table border=\"1\" class=\"dataframe\">\n",
       "  <thead>\n",
       "    <tr style=\"text-align: right;\">\n",
       "      <th></th>\n",
       "      <th>id</th>\n",
       "    </tr>\n",
       "  </thead>\n",
       "  <tbody>\n",
       "    <tr>\n",
       "      <th>0</th>\n",
       "      <td>4</td>\n",
       "    </tr>\n",
       "    <tr>\n",
       "      <th>1</th>\n",
       "      <td>7</td>\n",
       "    </tr>\n",
       "  </tbody>\n",
       "</table>\n",
       "</div>"
      ],
      "text/plain": [
       "   id\n",
       "0   4\n",
       "1   7"
      ]
     },
     "execution_count": 5,
     "metadata": {},
     "output_type": "execute_result"
    }
   ],
   "source": [
    "article_views(views)"
   ]
  },
  {
   "cell_type": "code",
   "execution_count": null,
   "id": "68cb7234",
   "metadata": {
    "papermill": {
     "duration": 0.002725,
     "end_time": "2024-08-27T23:34:54.403128",
     "exception": false,
     "start_time": "2024-08-27T23:34:54.400403",
     "status": "completed"
    },
    "tags": []
   },
   "outputs": [],
   "source": []
  },
  {
   "cell_type": "code",
   "execution_count": null,
   "id": "3abc9f8a",
   "metadata": {
    "papermill": {
     "duration": 0.002499,
     "end_time": "2024-08-27T23:34:54.408535",
     "exception": false,
     "start_time": "2024-08-27T23:34:54.406036",
     "status": "completed"
    },
    "tags": []
   },
   "outputs": [],
   "source": []
  },
  {
   "cell_type": "code",
   "execution_count": null,
   "id": "19909597",
   "metadata": {
    "papermill": {
     "duration": 0.002571,
     "end_time": "2024-08-27T23:34:54.413882",
     "exception": false,
     "start_time": "2024-08-27T23:34:54.411311",
     "status": "completed"
    },
    "tags": []
   },
   "outputs": [],
   "source": []
  }
 ],
 "metadata": {
  "kaggle": {
   "accelerator": "none",
   "dataSources": [],
   "dockerImageVersionId": 30761,
   "isGpuEnabled": false,
   "isInternetEnabled": true,
   "language": "python",
   "sourceType": "notebook"
  },
  "kernelspec": {
   "display_name": "Python 3",
   "language": "python",
   "name": "python3"
  },
  "language_info": {
   "codemirror_mode": {
    "name": "ipython",
    "version": 3
   },
   "file_extension": ".py",
   "mimetype": "text/x-python",
   "name": "python",
   "nbconvert_exporter": "python",
   "pygments_lexer": "ipython3",
   "version": "3.10.14"
  },
  "papermill": {
   "default_parameters": {},
   "duration": 3.476704,
   "end_time": "2024-08-27T23:34:54.836756",
   "environment_variables": {},
   "exception": null,
   "input_path": "__notebook__.ipynb",
   "output_path": "__notebook__.ipynb",
   "parameters": {},
   "start_time": "2024-08-27T23:34:51.360052",
   "version": "2.6.0"
  }
 },
 "nbformat": 4,
 "nbformat_minor": 5
}
