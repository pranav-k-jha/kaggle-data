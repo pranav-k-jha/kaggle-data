{
 "cells": [
  {
   "cell_type": "code",
   "execution_count": 1,
   "id": "710ab301",
   "metadata": {
    "_cell_guid": "b1076dfc-b9ad-4769-8c92-a6c4dae69d19",
    "_uuid": "8f2839f25d086af736a60e9eeb907d3b93b6e0e5",
    "execution": {
     "iopub.execute_input": "2024-09-04T22:47:05.456741Z",
     "iopub.status.busy": "2024-09-04T22:47:05.456323Z",
     "iopub.status.idle": "2024-09-04T22:47:05.837801Z",
     "shell.execute_reply": "2024-09-04T22:47:05.836776Z"
    },
    "papermill": {
     "duration": 0.389596,
     "end_time": "2024-09-04T22:47:05.840292",
     "exception": false,
     "start_time": "2024-09-04T22:47:05.450696",
     "status": "completed"
    },
    "tags": []
   },
   "outputs": [],
   "source": [
    "# This Python 3 environment comes with many helpful analytics libraries installed\n",
    "# It is defined by the kaggle/python Docker image: https://github.com/kaggle/docker-python\n",
    "# For example, here's several helpful packages to load\n",
    "\n",
    "import numpy as np # linear algebra\n",
    "import pandas as pd # data processing, CSV file I/O (e.g. pd.read_csv)\n",
    "\n",
    "# Input data files are available in the read-only \"../input/\" directory\n",
    "# For example, running this (by clicking run or pressing Shift+Enter) will list all files under the input directory\n",
    "\n",
    "import os\n",
    "for dirname, _, filenames in os.walk('/kaggle/input'):\n",
    "    for filename in filenames:\n",
    "        print(os.path.join(dirname, filename))\n",
    "\n",
    "# You can write up to 20GB to the current directory (/kaggle/working/) that gets preserved as output when you create a version using \"Save & Run All\" \n",
    "# You can also write temporary files to /kaggle/temp/, but they won't be saved outside of the current session"
   ]
  },
  {
   "cell_type": "code",
   "execution_count": 2,
   "id": "4aa1be2f",
   "metadata": {
    "execution": {
     "iopub.execute_input": "2024-09-04T22:47:05.849433Z",
     "iopub.status.busy": "2024-09-04T22:47:05.848519Z",
     "iopub.status.idle": "2024-09-04T22:47:05.856944Z",
     "shell.execute_reply": "2024-09-04T22:47:05.856014Z"
    },
    "papermill": {
     "duration": 0.014914,
     "end_time": "2024-09-04T22:47:05.858904",
     "exception": false,
     "start_time": "2024-09-04T22:47:05.843990",
     "status": "completed"
    },
    "tags": []
   },
   "outputs": [],
   "source": [
    "\n",
    "data = {\n",
    "    'article_id': [1, 1, 2, 2, 4, 3, 3],\n",
    "    'author_id': [3, 3, 7, 7, 7, 4, 4],\n",
    "    'viewer_id': [5, 6, 7, 6, 1, 4, 4],\n",
    "    'view_date': ['2019-08-01', '2019-08-02', '2019-08-01', '2019-08-02', '2019-07-22', '2019-07-21', '2019-07-21']\n",
    "}\n",
    "\n",
    "views = pd.DataFrame(data)\n"
   ]
  },
  {
   "cell_type": "code",
   "execution_count": 3,
   "id": "8a5b78c9",
   "metadata": {
    "execution": {
     "iopub.execute_input": "2024-09-04T22:47:05.867608Z",
     "iopub.status.busy": "2024-09-04T22:47:05.866787Z",
     "iopub.status.idle": "2024-09-04T22:47:05.887544Z",
     "shell.execute_reply": "2024-09-04T22:47:05.886577Z"
    },
    "papermill": {
     "duration": 0.027209,
     "end_time": "2024-09-04T22:47:05.889692",
     "exception": false,
     "start_time": "2024-09-04T22:47:05.862483",
     "status": "completed"
    },
    "tags": []
   },
   "outputs": [
    {
     "data": {
      "text/html": [
       "<div>\n",
       "<style scoped>\n",
       "    .dataframe tbody tr th:only-of-type {\n",
       "        vertical-align: middle;\n",
       "    }\n",
       "\n",
       "    .dataframe tbody tr th {\n",
       "        vertical-align: top;\n",
       "    }\n",
       "\n",
       "    .dataframe thead th {\n",
       "        text-align: right;\n",
       "    }\n",
       "</style>\n",
       "<table border=\"1\" class=\"dataframe\">\n",
       "  <thead>\n",
       "    <tr style=\"text-align: right;\">\n",
       "      <th></th>\n",
       "      <th>article_id</th>\n",
       "      <th>author_id</th>\n",
       "      <th>viewer_id</th>\n",
       "      <th>view_date</th>\n",
       "    </tr>\n",
       "  </thead>\n",
       "  <tbody>\n",
       "    <tr>\n",
       "      <th>0</th>\n",
       "      <td>1</td>\n",
       "      <td>3</td>\n",
       "      <td>5</td>\n",
       "      <td>2019-08-01</td>\n",
       "    </tr>\n",
       "    <tr>\n",
       "      <th>1</th>\n",
       "      <td>1</td>\n",
       "      <td>3</td>\n",
       "      <td>6</td>\n",
       "      <td>2019-08-02</td>\n",
       "    </tr>\n",
       "    <tr>\n",
       "      <th>2</th>\n",
       "      <td>2</td>\n",
       "      <td>7</td>\n",
       "      <td>7</td>\n",
       "      <td>2019-08-01</td>\n",
       "    </tr>\n",
       "    <tr>\n",
       "      <th>3</th>\n",
       "      <td>2</td>\n",
       "      <td>7</td>\n",
       "      <td>6</td>\n",
       "      <td>2019-08-02</td>\n",
       "    </tr>\n",
       "    <tr>\n",
       "      <th>4</th>\n",
       "      <td>4</td>\n",
       "      <td>7</td>\n",
       "      <td>1</td>\n",
       "      <td>2019-07-22</td>\n",
       "    </tr>\n",
       "    <tr>\n",
       "      <th>5</th>\n",
       "      <td>3</td>\n",
       "      <td>4</td>\n",
       "      <td>4</td>\n",
       "      <td>2019-07-21</td>\n",
       "    </tr>\n",
       "    <tr>\n",
       "      <th>6</th>\n",
       "      <td>3</td>\n",
       "      <td>4</td>\n",
       "      <td>4</td>\n",
       "      <td>2019-07-21</td>\n",
       "    </tr>\n",
       "  </tbody>\n",
       "</table>\n",
       "</div>"
      ],
      "text/plain": [
       "   article_id  author_id  viewer_id   view_date\n",
       "0           1          3          5  2019-08-01\n",
       "1           1          3          6  2019-08-02\n",
       "2           2          7          7  2019-08-01\n",
       "3           2          7          6  2019-08-02\n",
       "4           4          7          1  2019-07-22\n",
       "5           3          4          4  2019-07-21\n",
       "6           3          4          4  2019-07-21"
      ]
     },
     "execution_count": 3,
     "metadata": {},
     "output_type": "execute_result"
    }
   ],
   "source": [
    "views"
   ]
  },
  {
   "cell_type": "code",
   "execution_count": 4,
   "id": "71d2c0c2",
   "metadata": {
    "execution": {
     "iopub.execute_input": "2024-09-04T22:47:05.898840Z",
     "iopub.status.busy": "2024-09-04T22:47:05.898235Z",
     "iopub.status.idle": "2024-09-04T22:47:05.903563Z",
     "shell.execute_reply": "2024-09-04T22:47:05.902659Z"
    },
    "papermill": {
     "duration": 0.011949,
     "end_time": "2024-09-04T22:47:05.905655",
     "exception": false,
     "start_time": "2024-09-04T22:47:05.893706",
     "status": "completed"
    },
    "tags": []
   },
   "outputs": [],
   "source": [
    "import pandas as pd\n",
    "\n",
    "def article_views(views: pd.DataFrame) -> pd.DataFrame:\n",
    "    df = views[views['author_id'] == views['viewer_id']]\n",
    "    df_unique = df[['author_id']].drop_duplicates().rename(columns={'author_id': 'id'}).sort_values('id').reset_index(drop=True)\n",
    "    df_final = df_unique[['id']]\n",
    "    return df_final"
   ]
  },
  {
   "cell_type": "code",
   "execution_count": 5,
   "id": "9e8bc415",
   "metadata": {
    "execution": {
     "iopub.execute_input": "2024-09-04T22:47:05.914353Z",
     "iopub.status.busy": "2024-09-04T22:47:05.913717Z",
     "iopub.status.idle": "2024-09-04T22:47:05.936072Z",
     "shell.execute_reply": "2024-09-04T22:47:05.935099Z"
    },
    "papermill": {
     "duration": 0.028938,
     "end_time": "2024-09-04T22:47:05.938189",
     "exception": false,
     "start_time": "2024-09-04T22:47:05.909251",
     "status": "completed"
    },
    "tags": []
   },
   "outputs": [
    {
     "data": {
      "text/html": [
       "<div>\n",
       "<style scoped>\n",
       "    .dataframe tbody tr th:only-of-type {\n",
       "        vertical-align: middle;\n",
       "    }\n",
       "\n",
       "    .dataframe tbody tr th {\n",
       "        vertical-align: top;\n",
       "    }\n",
       "\n",
       "    .dataframe thead th {\n",
       "        text-align: right;\n",
       "    }\n",
       "</style>\n",
       "<table border=\"1\" class=\"dataframe\">\n",
       "  <thead>\n",
       "    <tr style=\"text-align: right;\">\n",
       "      <th></th>\n",
       "      <th>id</th>\n",
       "    </tr>\n",
       "  </thead>\n",
       "  <tbody>\n",
       "    <tr>\n",
       "      <th>0</th>\n",
       "      <td>4</td>\n",
       "    </tr>\n",
       "    <tr>\n",
       "      <th>1</th>\n",
       "      <td>7</td>\n",
       "    </tr>\n",
       "  </tbody>\n",
       "</table>\n",
       "</div>"
      ],
      "text/plain": [
       "   id\n",
       "0   4\n",
       "1   7"
      ]
     },
     "execution_count": 5,
     "metadata": {},
     "output_type": "execute_result"
    }
   ],
   "source": [
    "article_views(views)"
   ]
  },
  {
   "cell_type": "code",
   "execution_count": 6,
   "id": "c430910a",
   "metadata": {
    "execution": {
     "iopub.execute_input": "2024-09-04T22:47:05.947776Z",
     "iopub.status.busy": "2024-09-04T22:47:05.946946Z",
     "iopub.status.idle": "2024-09-04T22:47:05.956032Z",
     "shell.execute_reply": "2024-09-04T22:47:05.955117Z"
    },
    "papermill": {
     "duration": 0.016202,
     "end_time": "2024-09-04T22:47:05.958268",
     "exception": false,
     "start_time": "2024-09-04T22:47:05.942066",
     "status": "completed"
    },
    "tags": []
   },
   "outputs": [
    {
     "name": "stdout",
     "output_type": "stream",
     "text": [
      "   user_id   name\n",
      "0        1   John\n",
      "1        2  Alice\n",
      "2        3    Bob\n"
     ]
    }
   ],
   "source": [
    "import pandas as pd\n",
    "\n",
    "# Sample data\n",
    "data = {'user_id': [1, 2, 3], 'name': ['john', 'ALICE', 'bOB']}\n",
    "df = pd.DataFrame(data)\n",
    "\n",
    "# Fixing the names using a lambda function\n",
    "df['name'] = df['name'].apply(lambda x: x.capitalize())\n",
    "\n",
    "# Sorting by user_id\n",
    "df = df.sort_values('user_id')\n",
    "\n",
    "# Display the result\n",
    "print(df)\n"
   ]
  },
  {
   "cell_type": "code",
   "execution_count": 7,
   "id": "9c11ff21",
   "metadata": {
    "execution": {
     "iopub.execute_input": "2024-09-04T22:47:05.967216Z",
     "iopub.status.busy": "2024-09-04T22:47:05.966847Z",
     "iopub.status.idle": "2024-09-04T22:47:05.971688Z",
     "shell.execute_reply": "2024-09-04T22:47:05.970768Z"
    },
    "papermill": {
     "duration": 0.011511,
     "end_time": "2024-09-04T22:47:05.973626",
     "exception": false,
     "start_time": "2024-09-04T22:47:05.962115",
     "status": "completed"
    },
    "tags": []
   },
   "outputs": [],
   "source": [
    "import pandas as pd\n",
    "\n",
    "def valid_emails(users: pd.DataFrame) -> pd.DataFrame:\n",
    "    df_valid = users[users['mail'].str.contains(r'^[a-zA-Z][a-zA-Z0-9._-]*@leetcode\\.com$')]\n",
    "    return df_valid"
   ]
  },
  {
   "cell_type": "code",
   "execution_count": 8,
   "id": "098d5234",
   "metadata": {
    "execution": {
     "iopub.execute_input": "2024-09-04T22:47:05.983288Z",
     "iopub.status.busy": "2024-09-04T22:47:05.982927Z",
     "iopub.status.idle": "2024-09-04T22:47:05.992416Z",
     "shell.execute_reply": "2024-09-04T22:47:05.991036Z"
    },
    "papermill": {
     "duration": 0.016782,
     "end_time": "2024-09-04T22:47:05.994401",
     "exception": false,
     "start_time": "2024-09-04T22:47:05.977619",
     "status": "completed"
    },
    "tags": []
   },
   "outputs": [
    {
     "name": "stdout",
     "output_type": "stream",
     "text": [
      "   patient_id patient_name    conditions\n",
      "2           3          Bob  DIAB100 MYOP\n",
      "3           4       George  ACNE DIAB100\n"
     ]
    }
   ],
   "source": [
    "import pandas as pd\n",
    "\n",
    "# Sample data\n",
    "data = {\n",
    "    'patient_id': [1, 2, 3, 4, 5],\n",
    "    'patient_name': ['Daniel', 'Alice', 'Bob', 'George', 'Alain'],\n",
    "    'conditions': ['YFEV COUGH', '', 'DIAB100 MYOP', 'ACNE DIAB100', 'DIAB201']\n",
    "}\n",
    "df = pd.DataFrame(data)\n",
    "\n",
    "# Filter patients with conditions starting with DIAB1\n",
    "diabetes_patients_df = df[df['conditions'].str.contains(r'\\bDIAB1[0-9]*\\b', regex=True)]\n",
    "\n",
    "# Display the result\n",
    "print(diabetes_patients_df)\n"
   ]
  },
  {
   "cell_type": "code",
   "execution_count": 9,
   "id": "11356052",
   "metadata": {
    "execution": {
     "iopub.execute_input": "2024-09-04T22:47:06.003809Z",
     "iopub.status.busy": "2024-09-04T22:47:06.003422Z",
     "iopub.status.idle": "2024-09-04T22:47:06.009892Z",
     "shell.execute_reply": "2024-09-04T22:47:06.008978Z"
    },
    "papermill": {
     "duration": 0.013686,
     "end_time": "2024-09-04T22:47:06.012040",
     "exception": false,
     "start_time": "2024-09-04T22:47:05.998354",
     "status": "completed"
    },
    "tags": []
   },
   "outputs": [
    {
     "name": "stdout",
     "output_type": "stream",
     "text": [
      "3\n"
     ]
    }
   ],
   "source": [
    "def count_occurrences(text: str, substring: str) -> int:\n",
    "    # Initialize a variable to keep track of the count\n",
    "    count = 0\n",
    "    \n",
    "    # Loop through the text\n",
    "    for i in range(len(text) - len(substring) + 1):\n",
    "        # Logical part: Check if the substring matches the current part of the text\n",
    "        if text[i:i+len(substring)]== substring:\n",
    "            # If it matches, increment the count\n",
    "            count += 1\n",
    "    \n",
    "    # Return the final count\n",
    "    return count\n",
    "\n",
    "# Example usage\n",
    "text = \"abababa\"\n",
    "substring = \"aba\"\n",
    "print(count_occurrences(text, substring))  # Expected output: 3\n"
   ]
  },
  {
   "cell_type": "code",
   "execution_count": 10,
   "id": "943ad92f",
   "metadata": {
    "execution": {
     "iopub.execute_input": "2024-09-04T22:47:06.021690Z",
     "iopub.status.busy": "2024-09-04T22:47:06.021103Z",
     "iopub.status.idle": "2024-09-04T22:47:06.037225Z",
     "shell.execute_reply": "2024-09-04T22:47:06.036264Z"
    },
    "papermill": {
     "duration": 0.023493,
     "end_time": "2024-09-04T22:47:06.039520",
     "exception": false,
     "start_time": "2024-09-04T22:47:06.016027",
     "status": "completed"
    },
    "tags": []
   },
   "outputs": [
    {
     "name": "stdout",
     "output_type": "stream",
     "text": [
      "   getNthHighestSalary(2)\n",
      "0                     200\n",
      "   getNthHighestSalary(2)\n",
      "0                     NaN\n"
     ]
    }
   ],
   "source": [
    "import pandas as pd\n",
    "import numpy as np\n",
    "\n",
    "def nth_highest_salary(employee: pd.DataFrame, N: int) -> pd.DataFrame:\n",
    "    # Remove duplicate salaries and sort in descending order\n",
    "    df_unique = employee[['salary']].drop_duplicates()\n",
    "    df_sorted = df_unique.sort_values(by='salary', ascending=False)\n",
    "    \n",
    "    # Determine the nth highest salary\n",
    "    if N > len(df_sorted):\n",
    "        nth_highest_salary = np.nan\n",
    "    else:\n",
    "        nth_highest_salary = df_sorted.iloc[N-1]['salary']\n",
    "    \n",
    "    # Create and return the result DataFrame\n",
    "    result_df = pd.DataFrame({f'getNthHighestSalary({N})': [nth_highest_salary]})\n",
    "    return result_df\n",
    "\n",
    "# Example usage\n",
    "# Creating the DataFrame for testing\n",
    "data = {'id': [1, 2, 3], 'salary': [100, 200, 300]}\n",
    "df = pd.DataFrame(data)\n",
    "\n",
    "# Get the 2nd highest salary\n",
    "result = nth_highest_salary(df, 2)\n",
    "print(result)  # Output: DataFrame with the 2nd highest salary\n",
    "\n",
    "# Example with not enough salaries\n",
    "data = {'id': [1], 'salary': [100]}\n",
    "df = pd.DataFrame(data)\n",
    "\n",
    "# Get the 2nd highest salary\n",
    "result = nth_highest_salary(df, 2)\n",
    "print(result)  # Output: DataFrame with NaN\n"
   ]
  },
  {
   "cell_type": "code",
   "execution_count": 11,
   "id": "14885cf6",
   "metadata": {
    "execution": {
     "iopub.execute_input": "2024-09-04T22:47:06.049436Z",
     "iopub.status.busy": "2024-09-04T22:47:06.049066Z",
     "iopub.status.idle": "2024-09-04T22:47:06.055025Z",
     "shell.execute_reply": "2024-09-04T22:47:06.054129Z"
    },
    "papermill": {
     "duration": 0.013087,
     "end_time": "2024-09-04T22:47:06.057024",
     "exception": false,
     "start_time": "2024-09-04T22:47:06.043937",
     "status": "completed"
    },
    "tags": []
   },
   "outputs": [],
   "source": [
    "import pandas as pd\n",
    "import numpy as np\n",
    "\n",
    "def nth_highest_salary(employee: pd.DataFrame, N: int) -> pd.DataFrame:\n",
    "    df_unique = employee['salary'].drop_duplicates()\n",
    "    df_sorted = df_unique.sort_values(ascending=False)\n",
    "    if N>len(df_sorted) or N<=0:\n",
    "        nth_highest_salary =  np.nan\n",
    "    else:\n",
    "        nth_highest_salary = df_sorted.iloc[N-1]\n",
    "    result_df = pd.DataFrame({f'getNthHighestSalary({N})' : [nth_highest_salary]})\n",
    "    return result_df"
   ]
  },
  {
   "cell_type": "code",
   "execution_count": 12,
   "id": "d42e8ff1",
   "metadata": {
    "execution": {
     "iopub.execute_input": "2024-09-04T22:47:06.066532Z",
     "iopub.status.busy": "2024-09-04T22:47:06.066219Z",
     "iopub.status.idle": "2024-09-04T22:47:06.072106Z",
     "shell.execute_reply": "2024-09-04T22:47:06.071160Z"
    },
    "papermill": {
     "duration": 0.012946,
     "end_time": "2024-09-04T22:47:06.074108",
     "exception": false,
     "start_time": "2024-09-04T22:47:06.061162",
     "status": "completed"
    },
    "tags": []
   },
   "outputs": [],
   "source": [
    "import pandas as pd\n",
    "import numpy as np\n",
    "\n",
    "def second_highest_salary(employee: pd.DataFrame) -> pd.DataFrame:\n",
    "    df_unique = employee['salary'].drop_duplicates()\n",
    "    df_sorted = df_unique.sort_values(ascending=False)\n",
    "    if len(df_sorted)>=2:\n",
    "        SecondHighestSalary = df_sorted.iloc[1]\n",
    "    else:\n",
    "        SecondHighestSalary =  np.nan\n",
    "    result_df = pd.DataFrame({'SecondHighestSalary' : [SecondHighestSalary]})\n",
    "    return result_df"
   ]
  },
  {
   "cell_type": "code",
   "execution_count": 13,
   "id": "266c2814",
   "metadata": {
    "execution": {
     "iopub.execute_input": "2024-09-04T22:47:06.083945Z",
     "iopub.status.busy": "2024-09-04T22:47:06.083354Z",
     "iopub.status.idle": "2024-09-04T22:47:06.106311Z",
     "shell.execute_reply": "2024-09-04T22:47:06.105199Z"
    },
    "papermill": {
     "duration": 0.030304,
     "end_time": "2024-09-04T22:47:06.108659",
     "exception": false,
     "start_time": "2024-09-04T22:47:06.078355",
     "status": "completed"
    },
    "tags": []
   },
   "outputs": [
    {
     "name": "stdout",
     "output_type": "stream",
     "text": [
      "  Department Employee  Salary\n",
      "1         IT      Jim   90000\n",
      "2      Sales    Henry   80000\n",
      "4         IT      Max   90000\n"
     ]
    },
    {
     "name": "stderr",
     "output_type": "stream",
     "text": [
      "/tmp/ipykernel_17/2218221579.py:24: FutureWarning: The provided callable <built-in function max> is currently using SeriesGroupBy.max. In a future version of pandas, the provided callable will be used directly. To keep current behavior pass the string \"max\" instead.\n",
      "  max_salaries = merged_df.groupby('name_y')['salary'].transform(max)\n"
     ]
    }
   ],
   "source": [
    "import pandas as pd\n",
    "\n",
    "# Sample data for Employee and Department tables\n",
    "employee_data = {\n",
    "    'id': [1, 2, 3, 4, 5],\n",
    "    'name': ['Joe', 'Jim', 'Henry', 'Sam', 'Max'],\n",
    "    'salary': [70000, 90000, 80000, 60000, 90000],\n",
    "    'departmentId': [1, 1, 2, 2, 1]\n",
    "}\n",
    "\n",
    "department_data = {\n",
    "    'id': [1, 2],\n",
    "    'name': ['IT', 'Sales']\n",
    "}\n",
    "\n",
    "# Create DataFrames\n",
    "employee_df = pd.DataFrame(employee_data)\n",
    "department_df = pd.DataFrame(department_data)\n",
    "\n",
    "# Merge Employee and Department tables on departmentId\n",
    "merged_df = pd.merge(employee_df, department_df, left_on='departmentId', right_on='id')\n",
    "\n",
    "# Find the maximum salary in each department\n",
    "max_salaries = merged_df.groupby('name_y')['salary'].transform(max)\n",
    "\n",
    "# Filter employees who have the highest salary in their department\n",
    "result_df = merged_df[merged_df['salary'] == max_salaries]\n",
    "\n",
    "# Select and rename the required columns\n",
    "result_df = result_df[['name_y', 'name_x', 'salary']]\n",
    "result_df.columns = ['Department', 'Employee', 'Salary']\n",
    "\n",
    "# Output the result\n",
    "print(result_df)\n"
   ]
  }
 ],
 "metadata": {
  "kaggle": {
   "accelerator": "none",
   "dataSources": [],
   "dockerImageVersionId": 30761,
   "isGpuEnabled": false,
   "isInternetEnabled": true,
   "language": "python",
   "sourceType": "notebook"
  },
  "kernelspec": {
   "display_name": "Python 3",
   "language": "python",
   "name": "python3"
  },
  "language_info": {
   "codemirror_mode": {
    "name": "ipython",
    "version": 3
   },
   "file_extension": ".py",
   "mimetype": "text/x-python",
   "name": "python",
   "nbconvert_exporter": "python",
   "pygments_lexer": "ipython3",
   "version": "3.10.14"
  },
  "papermill": {
   "default_parameters": {},
   "duration": 3.594101,
   "end_time": "2024-09-04T22:47:06.531922",
   "environment_variables": {},
   "exception": null,
   "input_path": "__notebook__.ipynb",
   "output_path": "__notebook__.ipynb",
   "parameters": {},
   "start_time": "2024-09-04T22:47:02.937821",
   "version": "2.6.0"
  }
 },
 "nbformat": 4,
 "nbformat_minor": 5
}
