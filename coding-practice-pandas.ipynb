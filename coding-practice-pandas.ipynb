{
 "cells": [
  {
   "cell_type": "code",
   "execution_count": 1,
   "id": "7a19f8fb",
   "metadata": {
    "_cell_guid": "b1076dfc-b9ad-4769-8c92-a6c4dae69d19",
    "_uuid": "8f2839f25d086af736a60e9eeb907d3b93b6e0e5",
    "execution": {
     "iopub.execute_input": "2024-08-31T00:53:44.835310Z",
     "iopub.status.busy": "2024-08-31T00:53:44.834852Z",
     "iopub.status.idle": "2024-08-31T00:53:45.743166Z",
     "shell.execute_reply": "2024-08-31T00:53:45.741949Z"
    },
    "papermill": {
     "duration": 0.918254,
     "end_time": "2024-08-31T00:53:45.746184",
     "exception": false,
     "start_time": "2024-08-31T00:53:44.827930",
     "status": "completed"
    },
    "tags": []
   },
   "outputs": [],
   "source": [
    "# This Python 3 environment comes with many helpful analytics libraries installed\n",
    "# It is defined by the kaggle/python Docker image: https://github.com/kaggle/docker-python\n",
    "# For example, here's several helpful packages to load\n",
    "\n",
    "import numpy as np # linear algebra\n",
    "import pandas as pd # data processing, CSV file I/O (e.g. pd.read_csv)\n",
    "\n",
    "# Input data files are available in the read-only \"../input/\" directory\n",
    "# For example, running this (by clicking run or pressing Shift+Enter) will list all files under the input directory\n",
    "\n",
    "import os\n",
    "for dirname, _, filenames in os.walk('/kaggle/input'):\n",
    "    for filename in filenames:\n",
    "        print(os.path.join(dirname, filename))\n",
    "\n",
    "# You can write up to 20GB to the current directory (/kaggle/working/) that gets preserved as output when you create a version using \"Save & Run All\" \n",
    "# You can also write temporary files to /kaggle/temp/, but they won't be saved outside of the current session"
   ]
  },
  {
   "cell_type": "code",
   "execution_count": 2,
   "id": "6e91a73a",
   "metadata": {
    "execution": {
     "iopub.execute_input": "2024-08-31T00:53:45.757594Z",
     "iopub.status.busy": "2024-08-31T00:53:45.756981Z",
     "iopub.status.idle": "2024-08-31T00:53:45.767855Z",
     "shell.execute_reply": "2024-08-31T00:53:45.766574Z"
    },
    "papermill": {
     "duration": 0.019318,
     "end_time": "2024-08-31T00:53:45.770356",
     "exception": false,
     "start_time": "2024-08-31T00:53:45.751038",
     "status": "completed"
    },
    "tags": []
   },
   "outputs": [],
   "source": [
    "\n",
    "data = {\n",
    "    'article_id': [1, 1, 2, 2, 4, 3, 3],\n",
    "    'author_id': [3, 3, 7, 7, 7, 4, 4],\n",
    "    'viewer_id': [5, 6, 7, 6, 1, 4, 4],\n",
    "    'view_date': ['2019-08-01', '2019-08-02', '2019-08-01', '2019-08-02', '2019-07-22', '2019-07-21', '2019-07-21']\n",
    "}\n",
    "\n",
    "views = pd.DataFrame(data)\n"
   ]
  },
  {
   "cell_type": "code",
   "execution_count": 3,
   "id": "7555be0f",
   "metadata": {
    "execution": {
     "iopub.execute_input": "2024-08-31T00:53:45.781402Z",
     "iopub.status.busy": "2024-08-31T00:53:45.780924Z",
     "iopub.status.idle": "2024-08-31T00:53:45.807311Z",
     "shell.execute_reply": "2024-08-31T00:53:45.806139Z"
    },
    "papermill": {
     "duration": 0.034868,
     "end_time": "2024-08-31T00:53:45.809801",
     "exception": false,
     "start_time": "2024-08-31T00:53:45.774933",
     "status": "completed"
    },
    "tags": []
   },
   "outputs": [
    {
     "data": {
      "text/html": [
       "<div>\n",
       "<style scoped>\n",
       "    .dataframe tbody tr th:only-of-type {\n",
       "        vertical-align: middle;\n",
       "    }\n",
       "\n",
       "    .dataframe tbody tr th {\n",
       "        vertical-align: top;\n",
       "    }\n",
       "\n",
       "    .dataframe thead th {\n",
       "        text-align: right;\n",
       "    }\n",
       "</style>\n",
       "<table border=\"1\" class=\"dataframe\">\n",
       "  <thead>\n",
       "    <tr style=\"text-align: right;\">\n",
       "      <th></th>\n",
       "      <th>article_id</th>\n",
       "      <th>author_id</th>\n",
       "      <th>viewer_id</th>\n",
       "      <th>view_date</th>\n",
       "    </tr>\n",
       "  </thead>\n",
       "  <tbody>\n",
       "    <tr>\n",
       "      <th>0</th>\n",
       "      <td>1</td>\n",
       "      <td>3</td>\n",
       "      <td>5</td>\n",
       "      <td>2019-08-01</td>\n",
       "    </tr>\n",
       "    <tr>\n",
       "      <th>1</th>\n",
       "      <td>1</td>\n",
       "      <td>3</td>\n",
       "      <td>6</td>\n",
       "      <td>2019-08-02</td>\n",
       "    </tr>\n",
       "    <tr>\n",
       "      <th>2</th>\n",
       "      <td>2</td>\n",
       "      <td>7</td>\n",
       "      <td>7</td>\n",
       "      <td>2019-08-01</td>\n",
       "    </tr>\n",
       "    <tr>\n",
       "      <th>3</th>\n",
       "      <td>2</td>\n",
       "      <td>7</td>\n",
       "      <td>6</td>\n",
       "      <td>2019-08-02</td>\n",
       "    </tr>\n",
       "    <tr>\n",
       "      <th>4</th>\n",
       "      <td>4</td>\n",
       "      <td>7</td>\n",
       "      <td>1</td>\n",
       "      <td>2019-07-22</td>\n",
       "    </tr>\n",
       "    <tr>\n",
       "      <th>5</th>\n",
       "      <td>3</td>\n",
       "      <td>4</td>\n",
       "      <td>4</td>\n",
       "      <td>2019-07-21</td>\n",
       "    </tr>\n",
       "    <tr>\n",
       "      <th>6</th>\n",
       "      <td>3</td>\n",
       "      <td>4</td>\n",
       "      <td>4</td>\n",
       "      <td>2019-07-21</td>\n",
       "    </tr>\n",
       "  </tbody>\n",
       "</table>\n",
       "</div>"
      ],
      "text/plain": [
       "   article_id  author_id  viewer_id   view_date\n",
       "0           1          3          5  2019-08-01\n",
       "1           1          3          6  2019-08-02\n",
       "2           2          7          7  2019-08-01\n",
       "3           2          7          6  2019-08-02\n",
       "4           4          7          1  2019-07-22\n",
       "5           3          4          4  2019-07-21\n",
       "6           3          4          4  2019-07-21"
      ]
     },
     "execution_count": 3,
     "metadata": {},
     "output_type": "execute_result"
    }
   ],
   "source": [
    "views"
   ]
  },
  {
   "cell_type": "code",
   "execution_count": 4,
   "id": "6d048826",
   "metadata": {
    "execution": {
     "iopub.execute_input": "2024-08-31T00:53:45.821748Z",
     "iopub.status.busy": "2024-08-31T00:53:45.820712Z",
     "iopub.status.idle": "2024-08-31T00:53:45.828104Z",
     "shell.execute_reply": "2024-08-31T00:53:45.826868Z"
    },
    "papermill": {
     "duration": 0.016224,
     "end_time": "2024-08-31T00:53:45.830826",
     "exception": false,
     "start_time": "2024-08-31T00:53:45.814602",
     "status": "completed"
    },
    "tags": []
   },
   "outputs": [],
   "source": [
    "import pandas as pd\n",
    "\n",
    "def article_views(views: pd.DataFrame) -> pd.DataFrame:\n",
    "    df = views[views['author_id'] == views['viewer_id']]\n",
    "    df_unique = df[['author_id']].drop_duplicates().rename(columns={'author_id': 'id'}).sort_values('id').reset_index(drop=True)\n",
    "    df_final = df_unique[['id']]\n",
    "    return df_final"
   ]
  },
  {
   "cell_type": "code",
   "execution_count": 5,
   "id": "d56d9f20",
   "metadata": {
    "execution": {
     "iopub.execute_input": "2024-08-31T00:53:45.842865Z",
     "iopub.status.busy": "2024-08-31T00:53:45.841916Z",
     "iopub.status.idle": "2024-08-31T00:53:45.870887Z",
     "shell.execute_reply": "2024-08-31T00:53:45.869718Z"
    },
    "papermill": {
     "duration": 0.037868,
     "end_time": "2024-08-31T00:53:45.873657",
     "exception": false,
     "start_time": "2024-08-31T00:53:45.835789",
     "status": "completed"
    },
    "tags": []
   },
   "outputs": [
    {
     "data": {
      "text/html": [
       "<div>\n",
       "<style scoped>\n",
       "    .dataframe tbody tr th:only-of-type {\n",
       "        vertical-align: middle;\n",
       "    }\n",
       "\n",
       "    .dataframe tbody tr th {\n",
       "        vertical-align: top;\n",
       "    }\n",
       "\n",
       "    .dataframe thead th {\n",
       "        text-align: right;\n",
       "    }\n",
       "</style>\n",
       "<table border=\"1\" class=\"dataframe\">\n",
       "  <thead>\n",
       "    <tr style=\"text-align: right;\">\n",
       "      <th></th>\n",
       "      <th>id</th>\n",
       "    </tr>\n",
       "  </thead>\n",
       "  <tbody>\n",
       "    <tr>\n",
       "      <th>0</th>\n",
       "      <td>4</td>\n",
       "    </tr>\n",
       "    <tr>\n",
       "      <th>1</th>\n",
       "      <td>7</td>\n",
       "    </tr>\n",
       "  </tbody>\n",
       "</table>\n",
       "</div>"
      ],
      "text/plain": [
       "   id\n",
       "0   4\n",
       "1   7"
      ]
     },
     "execution_count": 5,
     "metadata": {},
     "output_type": "execute_result"
    }
   ],
   "source": [
    "article_views(views)"
   ]
  },
  {
   "cell_type": "code",
   "execution_count": 6,
   "id": "1e354a77",
   "metadata": {
    "execution": {
     "iopub.execute_input": "2024-08-31T00:53:45.885687Z",
     "iopub.status.busy": "2024-08-31T00:53:45.885231Z",
     "iopub.status.idle": "2024-08-31T00:53:45.898072Z",
     "shell.execute_reply": "2024-08-31T00:53:45.896193Z"
    },
    "papermill": {
     "duration": 0.022138,
     "end_time": "2024-08-31T00:53:45.900975",
     "exception": false,
     "start_time": "2024-08-31T00:53:45.878837",
     "status": "completed"
    },
    "tags": []
   },
   "outputs": [
    {
     "name": "stdout",
     "output_type": "stream",
     "text": [
      "   user_id   name\n",
      "0        1   John\n",
      "1        2  Alice\n",
      "2        3    Bob\n"
     ]
    }
   ],
   "source": [
    "import pandas as pd\n",
    "\n",
    "# Sample data\n",
    "data = {'user_id': [1, 2, 3], 'name': ['john', 'ALICE', 'bOB']}\n",
    "df = pd.DataFrame(data)\n",
    "\n",
    "# Fixing the names using a lambda function\n",
    "df['name'] = df['name'].apply(lambda x: x.capitalize())\n",
    "\n",
    "# Sorting by user_id\n",
    "df = df.sort_values('user_id')\n",
    "\n",
    "# Display the result\n",
    "print(df)\n"
   ]
  },
  {
   "cell_type": "code",
   "execution_count": 7,
   "id": "e94fd9c8",
   "metadata": {
    "execution": {
     "iopub.execute_input": "2024-08-31T00:53:45.913229Z",
     "iopub.status.busy": "2024-08-31T00:53:45.912728Z",
     "iopub.status.idle": "2024-08-31T00:53:45.919172Z",
     "shell.execute_reply": "2024-08-31T00:53:45.917931Z"
    },
    "papermill": {
     "duration": 0.015686,
     "end_time": "2024-08-31T00:53:45.921829",
     "exception": false,
     "start_time": "2024-08-31T00:53:45.906143",
     "status": "completed"
    },
    "tags": []
   },
   "outputs": [],
   "source": [
    "import pandas as pd\n",
    "\n",
    "def valid_emails(users: pd.DataFrame) -> pd.DataFrame:\n",
    "    df_valid = users[users['mail'].str.contains(r'^[a-zA-Z][a-zA-Z0-9._-]*@leetcode\\.com$')]\n",
    "    return df_valid"
   ]
  },
  {
   "cell_type": "code",
   "execution_count": 8,
   "id": "1c4feac4",
   "metadata": {
    "execution": {
     "iopub.execute_input": "2024-08-31T00:53:45.934418Z",
     "iopub.status.busy": "2024-08-31T00:53:45.933936Z",
     "iopub.status.idle": "2024-08-31T00:53:45.946122Z",
     "shell.execute_reply": "2024-08-31T00:53:45.944760Z"
    },
    "papermill": {
     "duration": 0.02175,
     "end_time": "2024-08-31T00:53:45.948915",
     "exception": false,
     "start_time": "2024-08-31T00:53:45.927165",
     "status": "completed"
    },
    "tags": []
   },
   "outputs": [
    {
     "name": "stdout",
     "output_type": "stream",
     "text": [
      "   patient_id patient_name    conditions\n",
      "2           3          Bob  DIAB100 MYOP\n",
      "3           4       George  ACNE DIAB100\n"
     ]
    }
   ],
   "source": [
    "import pandas as pd\n",
    "\n",
    "# Sample data\n",
    "data = {\n",
    "    'patient_id': [1, 2, 3, 4, 5],\n",
    "    'patient_name': ['Daniel', 'Alice', 'Bob', 'George', 'Alain'],\n",
    "    'conditions': ['YFEV COUGH', '', 'DIAB100 MYOP', 'ACNE DIAB100', 'DIAB201']\n",
    "}\n",
    "df = pd.DataFrame(data)\n",
    "\n",
    "# Filter patients with conditions starting with DIAB1\n",
    "diabetes_patients_df = df[df['conditions'].str.contains(r'\\bDIAB1[0-9]*\\b', regex=True)]\n",
    "\n",
    "# Display the result\n",
    "print(diabetes_patients_df)\n"
   ]
  },
  {
   "cell_type": "code",
   "execution_count": 9,
   "id": "b0b40c55",
   "metadata": {
    "execution": {
     "iopub.execute_input": "2024-08-31T00:53:45.961529Z",
     "iopub.status.busy": "2024-08-31T00:53:45.961115Z",
     "iopub.status.idle": "2024-08-31T00:53:45.969529Z",
     "shell.execute_reply": "2024-08-31T00:53:45.968386Z"
    },
    "papermill": {
     "duration": 0.018217,
     "end_time": "2024-08-31T00:53:45.972527",
     "exception": false,
     "start_time": "2024-08-31T00:53:45.954310",
     "status": "completed"
    },
    "tags": []
   },
   "outputs": [
    {
     "name": "stdout",
     "output_type": "stream",
     "text": [
      "3\n"
     ]
    }
   ],
   "source": [
    "def count_occurrences(text: str, substring: str) -> int:\n",
    "    # Initialize a variable to keep track of the count\n",
    "    count = 0\n",
    "    \n",
    "    # Loop through the text\n",
    "    for i in range(len(text) - len(substring) + 1):\n",
    "        # Logical part: Check if the substring matches the current part of the text\n",
    "        if text[i:i+len(substring)]== substring:\n",
    "            # If it matches, increment the count\n",
    "            count += 1\n",
    "    \n",
    "    # Return the final count\n",
    "    return count\n",
    "\n",
    "# Example usage\n",
    "text = \"abababa\"\n",
    "substring = \"aba\"\n",
    "print(count_occurrences(text, substring))  # Expected output: 3\n"
   ]
  },
  {
   "cell_type": "code",
   "execution_count": 10,
   "id": "8c1e2078",
   "metadata": {
    "execution": {
     "iopub.execute_input": "2024-08-31T00:53:45.985323Z",
     "iopub.status.busy": "2024-08-31T00:53:45.984902Z",
     "iopub.status.idle": "2024-08-31T00:53:46.005517Z",
     "shell.execute_reply": "2024-08-31T00:53:46.004215Z"
    },
    "papermill": {
     "duration": 0.030333,
     "end_time": "2024-08-31T00:53:46.008236",
     "exception": false,
     "start_time": "2024-08-31T00:53:45.977903",
     "status": "completed"
    },
    "tags": []
   },
   "outputs": [
    {
     "name": "stdout",
     "output_type": "stream",
     "text": [
      "   getNthHighestSalary(2)\n",
      "0                     200\n",
      "   getNthHighestSalary(2)\n",
      "0                     NaN\n"
     ]
    }
   ],
   "source": [
    "import pandas as pd\n",
    "import numpy as np\n",
    "\n",
    "def nth_highest_salary(employee: pd.DataFrame, N: int) -> pd.DataFrame:\n",
    "    # Remove duplicate salaries and sort in descending order\n",
    "    df_unique = employee[['salary']].drop_duplicates()\n",
    "    df_sorted = df_unique.sort_values(by='salary', ascending=False)\n",
    "    \n",
    "    # Determine the nth highest salary\n",
    "    if N > len(df_sorted):\n",
    "        nth_highest_salary = np.nan\n",
    "    else:\n",
    "        nth_highest_salary = df_sorted.iloc[N-1]['salary']\n",
    "    \n",
    "    # Create and return the result DataFrame\n",
    "    result_df = pd.DataFrame({f'getNthHighestSalary({N})': [nth_highest_salary]})\n",
    "    return result_df\n",
    "\n",
    "# Example usage\n",
    "# Creating the DataFrame for testing\n",
    "data = {'id': [1, 2, 3], 'salary': [100, 200, 300]}\n",
    "df = pd.DataFrame(data)\n",
    "\n",
    "# Get the 2nd highest salary\n",
    "result = nth_highest_salary(df, 2)\n",
    "print(result)  # Output: DataFrame with the 2nd highest salary\n",
    "\n",
    "# Example with not enough salaries\n",
    "data = {'id': [1], 'salary': [100]}\n",
    "df = pd.DataFrame(data)\n",
    "\n",
    "# Get the 2nd highest salary\n",
    "result = nth_highest_salary(df, 2)\n",
    "print(result)  # Output: DataFrame with NaN\n"
   ]
  },
  {
   "cell_type": "code",
   "execution_count": 11,
   "id": "709de13a",
   "metadata": {
    "execution": {
     "iopub.execute_input": "2024-08-31T00:53:46.021457Z",
     "iopub.status.busy": "2024-08-31T00:53:46.021022Z",
     "iopub.status.idle": "2024-08-31T00:53:46.028596Z",
     "shell.execute_reply": "2024-08-31T00:53:46.027393Z"
    },
    "papermill": {
     "duration": 0.017453,
     "end_time": "2024-08-31T00:53:46.031382",
     "exception": false,
     "start_time": "2024-08-31T00:53:46.013929",
     "status": "completed"
    },
    "tags": []
   },
   "outputs": [],
   "source": [
    "import pandas as pd\n",
    "import numpy as np\n",
    "\n",
    "def nth_highest_salary(employee: pd.DataFrame, N: int) -> pd.DataFrame:\n",
    "    df_unique = employee['salary'].drop_duplicates()\n",
    "    df_sorted = df_unique.sort_values(ascending=False)\n",
    "    if N>len(df_sorted) or N<=0:\n",
    "        nth_highest_salary =  np.nan\n",
    "    else:\n",
    "        nth_highest_salary = df_sorted.iloc[N-1]\n",
    "    result_df = pd.DataFrame({f'getNthHighestSalary({N})' : [nth_highest_salary]})\n",
    "    return result_df"
   ]
  }
 ],
 "metadata": {
  "kaggle": {
   "accelerator": "none",
   "dataSources": [],
   "dockerImageVersionId": 30761,
   "isGpuEnabled": false,
   "isInternetEnabled": true,
   "language": "python",
   "sourceType": "notebook"
  },
  "kernelspec": {
   "display_name": "Python 3",
   "language": "python",
   "name": "python3"
  },
  "language_info": {
   "codemirror_mode": {
    "name": "ipython",
    "version": 3
   },
   "file_extension": ".py",
   "mimetype": "text/x-python",
   "name": "python",
   "nbconvert_exporter": "python",
   "pygments_lexer": "ipython3",
   "version": "3.10.14"
  },
  "papermill": {
   "default_parameters": {},
   "duration": 5.186837,
   "end_time": "2024-08-31T00:53:46.558162",
   "environment_variables": {},
   "exception": null,
   "input_path": "__notebook__.ipynb",
   "output_path": "__notebook__.ipynb",
   "parameters": {},
   "start_time": "2024-08-31T00:53:41.371325",
   "version": "2.6.0"
  }
 },
 "nbformat": 4,
 "nbformat_minor": 5
}
