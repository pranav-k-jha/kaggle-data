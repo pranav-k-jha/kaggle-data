{
 "cells": [
  {
   "cell_type": "code",
   "execution_count": 1,
   "id": "2eff9f63",
   "metadata": {
    "_cell_guid": "b1076dfc-b9ad-4769-8c92-a6c4dae69d19",
    "_uuid": "8f2839f25d086af736a60e9eeb907d3b93b6e0e5",
    "execution": {
     "iopub.execute_input": "2024-08-30T22:59:00.064394Z",
     "iopub.status.busy": "2024-08-30T22:59:00.063966Z",
     "iopub.status.idle": "2024-08-30T22:59:00.520941Z",
     "shell.execute_reply": "2024-08-30T22:59:00.519512Z"
    },
    "papermill": {
     "duration": 0.468142,
     "end_time": "2024-08-30T22:59:00.524279",
     "exception": false,
     "start_time": "2024-08-30T22:59:00.056137",
     "status": "completed"
    },
    "tags": []
   },
   "outputs": [],
   "source": [
    "# This Python 3 environment comes with many helpful analytics libraries installed\n",
    "# It is defined by the kaggle/python Docker image: https://github.com/kaggle/docker-python\n",
    "# For example, here's several helpful packages to load\n",
    "\n",
    "import numpy as np # linear algebra\n",
    "import pandas as pd # data processing, CSV file I/O (e.g. pd.read_csv)\n",
    "\n",
    "# Input data files are available in the read-only \"../input/\" directory\n",
    "# For example, running this (by clicking run or pressing Shift+Enter) will list all files under the input directory\n",
    "\n",
    "import os\n",
    "for dirname, _, filenames in os.walk('/kaggle/input'):\n",
    "    for filename in filenames:\n",
    "        print(os.path.join(dirname, filename))\n",
    "\n",
    "# You can write up to 20GB to the current directory (/kaggle/working/) that gets preserved as output when you create a version using \"Save & Run All\" \n",
    "# You can also write temporary files to /kaggle/temp/, but they won't be saved outside of the current session"
   ]
  },
  {
   "cell_type": "code",
   "execution_count": 2,
   "id": "22025973",
   "metadata": {
    "execution": {
     "iopub.execute_input": "2024-08-30T22:59:00.537188Z",
     "iopub.status.busy": "2024-08-30T22:59:00.536632Z",
     "iopub.status.idle": "2024-08-30T22:59:00.546230Z",
     "shell.execute_reply": "2024-08-30T22:59:00.545062Z"
    },
    "papermill": {
     "duration": 0.019104,
     "end_time": "2024-08-30T22:59:00.549106",
     "exception": false,
     "start_time": "2024-08-30T22:59:00.530002",
     "status": "completed"
    },
    "tags": []
   },
   "outputs": [],
   "source": [
    "\n",
    "data = {\n",
    "    'article_id': [1, 1, 2, 2, 4, 3, 3],\n",
    "    'author_id': [3, 3, 7, 7, 7, 4, 4],\n",
    "    'viewer_id': [5, 6, 7, 6, 1, 4, 4],\n",
    "    'view_date': ['2019-08-01', '2019-08-02', '2019-08-01', '2019-08-02', '2019-07-22', '2019-07-21', '2019-07-21']\n",
    "}\n",
    "\n",
    "views = pd.DataFrame(data)\n"
   ]
  },
  {
   "cell_type": "code",
   "execution_count": 3,
   "id": "6b35df30",
   "metadata": {
    "execution": {
     "iopub.execute_input": "2024-08-30T22:59:00.562248Z",
     "iopub.status.busy": "2024-08-30T22:59:00.560844Z",
     "iopub.status.idle": "2024-08-30T22:59:00.585123Z",
     "shell.execute_reply": "2024-08-30T22:59:00.583962Z"
    },
    "papermill": {
     "duration": 0.033274,
     "end_time": "2024-08-30T22:59:00.587720",
     "exception": false,
     "start_time": "2024-08-30T22:59:00.554446",
     "status": "completed"
    },
    "tags": []
   },
   "outputs": [
    {
     "data": {
      "text/html": [
       "<div>\n",
       "<style scoped>\n",
       "    .dataframe tbody tr th:only-of-type {\n",
       "        vertical-align: middle;\n",
       "    }\n",
       "\n",
       "    .dataframe tbody tr th {\n",
       "        vertical-align: top;\n",
       "    }\n",
       "\n",
       "    .dataframe thead th {\n",
       "        text-align: right;\n",
       "    }\n",
       "</style>\n",
       "<table border=\"1\" class=\"dataframe\">\n",
       "  <thead>\n",
       "    <tr style=\"text-align: right;\">\n",
       "      <th></th>\n",
       "      <th>article_id</th>\n",
       "      <th>author_id</th>\n",
       "      <th>viewer_id</th>\n",
       "      <th>view_date</th>\n",
       "    </tr>\n",
       "  </thead>\n",
       "  <tbody>\n",
       "    <tr>\n",
       "      <th>0</th>\n",
       "      <td>1</td>\n",
       "      <td>3</td>\n",
       "      <td>5</td>\n",
       "      <td>2019-08-01</td>\n",
       "    </tr>\n",
       "    <tr>\n",
       "      <th>1</th>\n",
       "      <td>1</td>\n",
       "      <td>3</td>\n",
       "      <td>6</td>\n",
       "      <td>2019-08-02</td>\n",
       "    </tr>\n",
       "    <tr>\n",
       "      <th>2</th>\n",
       "      <td>2</td>\n",
       "      <td>7</td>\n",
       "      <td>7</td>\n",
       "      <td>2019-08-01</td>\n",
       "    </tr>\n",
       "    <tr>\n",
       "      <th>3</th>\n",
       "      <td>2</td>\n",
       "      <td>7</td>\n",
       "      <td>6</td>\n",
       "      <td>2019-08-02</td>\n",
       "    </tr>\n",
       "    <tr>\n",
       "      <th>4</th>\n",
       "      <td>4</td>\n",
       "      <td>7</td>\n",
       "      <td>1</td>\n",
       "      <td>2019-07-22</td>\n",
       "    </tr>\n",
       "    <tr>\n",
       "      <th>5</th>\n",
       "      <td>3</td>\n",
       "      <td>4</td>\n",
       "      <td>4</td>\n",
       "      <td>2019-07-21</td>\n",
       "    </tr>\n",
       "    <tr>\n",
       "      <th>6</th>\n",
       "      <td>3</td>\n",
       "      <td>4</td>\n",
       "      <td>4</td>\n",
       "      <td>2019-07-21</td>\n",
       "    </tr>\n",
       "  </tbody>\n",
       "</table>\n",
       "</div>"
      ],
      "text/plain": [
       "   article_id  author_id  viewer_id   view_date\n",
       "0           1          3          5  2019-08-01\n",
       "1           1          3          6  2019-08-02\n",
       "2           2          7          7  2019-08-01\n",
       "3           2          7          6  2019-08-02\n",
       "4           4          7          1  2019-07-22\n",
       "5           3          4          4  2019-07-21\n",
       "6           3          4          4  2019-07-21"
      ]
     },
     "execution_count": 3,
     "metadata": {},
     "output_type": "execute_result"
    }
   ],
   "source": [
    "views"
   ]
  },
  {
   "cell_type": "code",
   "execution_count": 4,
   "id": "235a5cee",
   "metadata": {
    "execution": {
     "iopub.execute_input": "2024-08-30T22:59:00.597912Z",
     "iopub.status.busy": "2024-08-30T22:59:00.597479Z",
     "iopub.status.idle": "2024-08-30T22:59:00.604167Z",
     "shell.execute_reply": "2024-08-30T22:59:00.602978Z"
    },
    "papermill": {
     "duration": 0.014273,
     "end_time": "2024-08-30T22:59:00.606344",
     "exception": false,
     "start_time": "2024-08-30T22:59:00.592071",
     "status": "completed"
    },
    "tags": []
   },
   "outputs": [],
   "source": [
    "import pandas as pd\n",
    "\n",
    "def article_views(views: pd.DataFrame) -> pd.DataFrame:\n",
    "    df = views[views['author_id'] == views['viewer_id']]\n",
    "    df_unique = df[['author_id']].drop_duplicates().rename(columns={'author_id': 'id'}).sort_values('id').reset_index(drop=True)\n",
    "    df_final = df_unique[['id']]\n",
    "    return df_final"
   ]
  },
  {
   "cell_type": "code",
   "execution_count": 5,
   "id": "629399d7",
   "metadata": {
    "execution": {
     "iopub.execute_input": "2024-08-30T22:59:00.616282Z",
     "iopub.status.busy": "2024-08-30T22:59:00.615854Z",
     "iopub.status.idle": "2024-08-30T22:59:00.641733Z",
     "shell.execute_reply": "2024-08-30T22:59:00.640397Z"
    },
    "papermill": {
     "duration": 0.033867,
     "end_time": "2024-08-30T22:59:00.644497",
     "exception": false,
     "start_time": "2024-08-30T22:59:00.610630",
     "status": "completed"
    },
    "tags": []
   },
   "outputs": [
    {
     "data": {
      "text/html": [
       "<div>\n",
       "<style scoped>\n",
       "    .dataframe tbody tr th:only-of-type {\n",
       "        vertical-align: middle;\n",
       "    }\n",
       "\n",
       "    .dataframe tbody tr th {\n",
       "        vertical-align: top;\n",
       "    }\n",
       "\n",
       "    .dataframe thead th {\n",
       "        text-align: right;\n",
       "    }\n",
       "</style>\n",
       "<table border=\"1\" class=\"dataframe\">\n",
       "  <thead>\n",
       "    <tr style=\"text-align: right;\">\n",
       "      <th></th>\n",
       "      <th>id</th>\n",
       "    </tr>\n",
       "  </thead>\n",
       "  <tbody>\n",
       "    <tr>\n",
       "      <th>0</th>\n",
       "      <td>4</td>\n",
       "    </tr>\n",
       "    <tr>\n",
       "      <th>1</th>\n",
       "      <td>7</td>\n",
       "    </tr>\n",
       "  </tbody>\n",
       "</table>\n",
       "</div>"
      ],
      "text/plain": [
       "   id\n",
       "0   4\n",
       "1   7"
      ]
     },
     "execution_count": 5,
     "metadata": {},
     "output_type": "execute_result"
    }
   ],
   "source": [
    "article_views(views)"
   ]
  },
  {
   "cell_type": "code",
   "execution_count": 6,
   "id": "713d350f",
   "metadata": {
    "execution": {
     "iopub.execute_input": "2024-08-30T22:59:00.657087Z",
     "iopub.status.busy": "2024-08-30T22:59:00.656649Z",
     "iopub.status.idle": "2024-08-30T22:59:00.667362Z",
     "shell.execute_reply": "2024-08-30T22:59:00.666195Z"
    },
    "papermill": {
     "duration": 0.019876,
     "end_time": "2024-08-30T22:59:00.669973",
     "exception": false,
     "start_time": "2024-08-30T22:59:00.650097",
     "status": "completed"
    },
    "tags": []
   },
   "outputs": [
    {
     "name": "stdout",
     "output_type": "stream",
     "text": [
      "   user_id   name\n",
      "0        1   John\n",
      "1        2  Alice\n",
      "2        3    Bob\n"
     ]
    }
   ],
   "source": [
    "import pandas as pd\n",
    "\n",
    "# Sample data\n",
    "data = {'user_id': [1, 2, 3], 'name': ['john', 'ALICE', 'bOB']}\n",
    "df = pd.DataFrame(data)\n",
    "\n",
    "# Fixing the names using a lambda function\n",
    "df['name'] = df['name'].apply(lambda x: x.capitalize())\n",
    "\n",
    "# Sorting by user_id\n",
    "df = df.sort_values('user_id')\n",
    "\n",
    "# Display the result\n",
    "print(df)\n"
   ]
  },
  {
   "cell_type": "code",
   "execution_count": 7,
   "id": "d32656d1",
   "metadata": {
    "execution": {
     "iopub.execute_input": "2024-08-30T22:59:00.680757Z",
     "iopub.status.busy": "2024-08-30T22:59:00.680333Z",
     "iopub.status.idle": "2024-08-30T22:59:00.685953Z",
     "shell.execute_reply": "2024-08-30T22:59:00.684954Z"
    },
    "papermill": {
     "duration": 0.013756,
     "end_time": "2024-08-30T22:59:00.688335",
     "exception": false,
     "start_time": "2024-08-30T22:59:00.674579",
     "status": "completed"
    },
    "tags": []
   },
   "outputs": [],
   "source": [
    "import pandas as pd\n",
    "\n",
    "def valid_emails(users: pd.DataFrame) -> pd.DataFrame:\n",
    "    df_valid = users[users['mail'].str.contains(r'^[a-zA-Z][a-zA-Z0-9._-]*@leetcode\\.com$')]\n",
    "    return df_valid"
   ]
  },
  {
   "cell_type": "code",
   "execution_count": 8,
   "id": "fd2e8a92",
   "metadata": {
    "execution": {
     "iopub.execute_input": "2024-08-30T22:59:00.699342Z",
     "iopub.status.busy": "2024-08-30T22:59:00.698810Z",
     "iopub.status.idle": "2024-08-30T22:59:00.712916Z",
     "shell.execute_reply": "2024-08-30T22:59:00.711765Z"
    },
    "papermill": {
     "duration": 0.023028,
     "end_time": "2024-08-30T22:59:00.715825",
     "exception": false,
     "start_time": "2024-08-30T22:59:00.692797",
     "status": "completed"
    },
    "tags": []
   },
   "outputs": [
    {
     "name": "stdout",
     "output_type": "stream",
     "text": [
      "   patient_id patient_name    conditions\n",
      "2           3          Bob  DIAB100 MYOP\n",
      "3           4       George  ACNE DIAB100\n"
     ]
    }
   ],
   "source": [
    "import pandas as pd\n",
    "\n",
    "# Sample data\n",
    "data = {\n",
    "    'patient_id': [1, 2, 3, 4, 5],\n",
    "    'patient_name': ['Daniel', 'Alice', 'Bob', 'George', 'Alain'],\n",
    "    'conditions': ['YFEV COUGH', '', 'DIAB100 MYOP', 'ACNE DIAB100', 'DIAB201']\n",
    "}\n",
    "df = pd.DataFrame(data)\n",
    "\n",
    "# Filter patients with conditions starting with DIAB1\n",
    "diabetes_patients_df = df[df['conditions'].str.contains(r'\\bDIAB1[0-9]*\\b', regex=True)]\n",
    "\n",
    "# Display the result\n",
    "print(diabetes_patients_df)\n"
   ]
  },
  {
   "cell_type": "code",
   "execution_count": null,
   "id": "37c82fc9",
   "metadata": {
    "papermill": {
     "duration": 0.006022,
     "end_time": "2024-08-30T22:59:00.728255",
     "exception": false,
     "start_time": "2024-08-30T22:59:00.722233",
     "status": "completed"
    },
    "tags": []
   },
   "outputs": [],
   "source": []
  }
 ],
 "metadata": {
  "kaggle": {
   "accelerator": "none",
   "dataSources": [],
   "dockerImageVersionId": 30761,
   "isGpuEnabled": false,
   "isInternetEnabled": true,
   "language": "python",
   "sourceType": "notebook"
  },
  "kernelspec": {
   "display_name": "Python 3",
   "language": "python",
   "name": "python3"
  },
  "language_info": {
   "codemirror_mode": {
    "name": "ipython",
    "version": 3
   },
   "file_extension": ".py",
   "mimetype": "text/x-python",
   "name": "python",
   "nbconvert_exporter": "python",
   "pygments_lexer": "ipython3",
   "version": "3.10.14"
  },
  "papermill": {
   "default_parameters": {},
   "duration": 4.233144,
   "end_time": "2024-08-30T22:59:01.255605",
   "environment_variables": {},
   "exception": null,
   "input_path": "__notebook__.ipynb",
   "output_path": "__notebook__.ipynb",
   "parameters": {},
   "start_time": "2024-08-30T22:58:57.022461",
   "version": "2.6.0"
  }
 },
 "nbformat": 4,
 "nbformat_minor": 5
}
