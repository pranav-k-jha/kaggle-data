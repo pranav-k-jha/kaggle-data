{
 "cells": [
  {
   "cell_type": "code",
   "execution_count": 1,
   "id": "16d94000",
   "metadata": {
    "_cell_guid": "b1076dfc-b9ad-4769-8c92-a6c4dae69d19",
    "_uuid": "8f2839f25d086af736a60e9eeb907d3b93b6e0e5",
    "execution": {
     "iopub.execute_input": "2024-08-30T00:58:36.531290Z",
     "iopub.status.busy": "2024-08-30T00:58:36.530691Z",
     "iopub.status.idle": "2024-08-30T00:58:37.005628Z",
     "shell.execute_reply": "2024-08-30T00:58:37.004188Z"
    },
    "papermill": {
     "duration": 0.482864,
     "end_time": "2024-08-30T00:58:37.008748",
     "exception": false,
     "start_time": "2024-08-30T00:58:36.525884",
     "status": "completed"
    },
    "tags": []
   },
   "outputs": [],
   "source": [
    "# This Python 3 environment comes with many helpful analytics libraries installed\n",
    "# It is defined by the kaggle/python Docker image: https://github.com/kaggle/docker-python\n",
    "# For example, here's several helpful packages to load\n",
    "\n",
    "import numpy as np # linear algebra\n",
    "import pandas as pd # data processing, CSV file I/O (e.g. pd.read_csv)\n",
    "\n",
    "# Input data files are available in the read-only \"../input/\" directory\n",
    "# For example, running this (by clicking run or pressing Shift+Enter) will list all files under the input directory\n",
    "\n",
    "import os\n",
    "for dirname, _, filenames in os.walk('/kaggle/input'):\n",
    "    for filename in filenames:\n",
    "        print(os.path.join(dirname, filename))\n",
    "\n",
    "# You can write up to 20GB to the current directory (/kaggle/working/) that gets preserved as output when you create a version using \"Save & Run All\" \n",
    "# You can also write temporary files to /kaggle/temp/, but they won't be saved outside of the current session"
   ]
  },
  {
   "cell_type": "code",
   "execution_count": 2,
   "id": "f5a33b5d",
   "metadata": {
    "execution": {
     "iopub.execute_input": "2024-08-30T00:58:37.016667Z",
     "iopub.status.busy": "2024-08-30T00:58:37.015986Z",
     "iopub.status.idle": "2024-08-30T00:58:37.024649Z",
     "shell.execute_reply": "2024-08-30T00:58:37.023127Z"
    },
    "papermill": {
     "duration": 0.016858,
     "end_time": "2024-08-30T00:58:37.028389",
     "exception": false,
     "start_time": "2024-08-30T00:58:37.011531",
     "status": "completed"
    },
    "tags": []
   },
   "outputs": [
    {
     "name": "stdout",
     "output_type": "stream",
     "text": [
      "    1     1     1     1\n",
      "    2     2     2    10\n",
      "    3     3     3    11\n",
      "    4     4     4   100\n",
      "    5     5     5   101\n",
      "    6     6     6   110\n",
      "    7     7     7   111\n",
      "    8    10     8  1000\n",
      "    9    11     9  1001\n",
      "   10    12     A  1010\n",
      "   11    13     B  1011\n",
      "   12    14     C  1100\n",
      "   13    15     D  1101\n",
      "   14    16     E  1110\n",
      "   15    17     F  1111\n",
      "   16    20    10 10000\n",
      "   17    21    11 10001\n"
     ]
    }
   ],
   "source": [
    "def print_formatted(number):\n",
    "    # your code goes here\n",
    "    width = len(bin(number)) - 2\n",
    "    \n",
    "    for i in range(1, number+1):\n",
    "        print(f\"{i:{width}d} {i:{width}o} {i:{width}X} {i:{width}b}\")\n",
    "\n",
    "\n",
    "print_formatted(17)"
   ]
  },
  {
   "cell_type": "code",
   "execution_count": 3,
   "id": "fea814a9",
   "metadata": {
    "execution": {
     "iopub.execute_input": "2024-08-30T00:58:37.035562Z",
     "iopub.status.busy": "2024-08-30T00:58:37.035080Z",
     "iopub.status.idle": "2024-08-30T00:58:37.072797Z",
     "shell.execute_reply": "2024-08-30T00:58:37.071294Z"
    },
    "papermill": {
     "duration": 0.044763,
     "end_time": "2024-08-30T00:58:37.075873",
     "exception": false,
     "start_time": "2024-08-30T00:58:37.031110",
     "status": "completed"
    },
    "tags": []
   },
   "outputs": [
    {
     "name": "stdout",
     "output_type": "stream",
     "text": [
      "   employee_id   name  bonus\n",
      "0            1  Alice  50000\n",
      "1            2    Bob      0\n",
      "2            3   Mike      0\n",
      "3            4   John      0\n",
      "4            5   Mona      0\n"
     ]
    }
   ],
   "source": [
    "import pandas as pd\n",
    "\n",
    "# Sample Data\n",
    "data = {\n",
    "    'employee_id': [1, 2, 3, 4, 5],  # Example data\n",
    "    'name': ['Alice', 'Bob', 'Mike', 'John', 'Mona'],\n",
    "    'salary': [50000, 60000, 70000, 80000, 90000]\n",
    "}\n",
    "\n",
    "# Create DataFrame\n",
    "df = pd.DataFrame(data)\n",
    "\n",
    "# Calculate the bonus\n",
    "df['bonus'] = df.apply(\n",
    "    lambda row: row['salary'] if row['employee_id'] % 2 != 0 and not row['name'].startswith('M') else 0, axis=1\n",
    ")\n",
    "\n",
    "# Sort the DataFrame by employee_id\n",
    "df = df.sort_values(by='employee_id').reset_index(drop=True)\n",
    "\n",
    "# Display the result\n",
    "print(df[['employee_id', 'name', 'bonus']])"
   ]
  }
 ],
 "metadata": {
  "kaggle": {
   "accelerator": "none",
   "dataSources": [],
   "dockerImageVersionId": 30761,
   "isGpuEnabled": false,
   "isInternetEnabled": true,
   "language": "python",
   "sourceType": "notebook"
  },
  "kernelspec": {
   "display_name": "Python 3",
   "language": "python",
   "name": "python3"
  },
  "language_info": {
   "codemirror_mode": {
    "name": "ipython",
    "version": 3
   },
   "file_extension": ".py",
   "mimetype": "text/x-python",
   "name": "python",
   "nbconvert_exporter": "python",
   "pygments_lexer": "ipython3",
   "version": "3.10.14"
  },
  "papermill": {
   "default_parameters": {},
   "duration": 4.394083,
   "end_time": "2024-08-30T00:58:37.602341",
   "environment_variables": {},
   "exception": null,
   "input_path": "__notebook__.ipynb",
   "output_path": "__notebook__.ipynb",
   "parameters": {},
   "start_time": "2024-08-30T00:58:33.208258",
   "version": "2.6.0"
  }
 },
 "nbformat": 4,
 "nbformat_minor": 5
}
