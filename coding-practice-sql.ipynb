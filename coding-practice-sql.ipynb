{
 "cells": [
  {
   "cell_type": "code",
   "execution_count": 1,
   "id": "75cfe8ee",
   "metadata": {
    "_cell_guid": "b1076dfc-b9ad-4769-8c92-a6c4dae69d19",
    "_uuid": "8f2839f25d086af736a60e9eeb907d3b93b6e0e5",
    "execution": {
     "iopub.execute_input": "2024-08-29T03:48:37.881003Z",
     "iopub.status.busy": "2024-08-29T03:48:37.880344Z",
     "iopub.status.idle": "2024-08-29T03:48:38.348240Z",
     "shell.execute_reply": "2024-08-29T03:48:38.346965Z"
    },
    "papermill": {
     "duration": 0.477004,
     "end_time": "2024-08-29T03:48:38.351226",
     "exception": false,
     "start_time": "2024-08-29T03:48:37.874222",
     "status": "completed"
    },
    "tags": []
   },
   "outputs": [],
   "source": [
    "# This Python 3 environment comes with many helpful analytics libraries installed\n",
    "# It is defined by the kaggle/python Docker image: https://github.com/kaggle/docker-python\n",
    "# For example, here's several helpful packages to load\n",
    "\n",
    "import numpy as np # linear algebra\n",
    "import pandas as pd # data processing, CSV file I/O (e.g. pd.read_csv)\n",
    "\n",
    "# Input data files are available in the read-only \"../input/\" directory\n",
    "# For example, running this (by clicking run or pressing Shift+Enter) will list all files under the input directory\n",
    "\n",
    "import os\n",
    "for dirname, _, filenames in os.walk('/kaggle/input'):\n",
    "    for filename in filenames:\n",
    "        print(os.path.join(dirname, filename))\n",
    "\n",
    "# You can write up to 20GB to the current directory (/kaggle/working/) that gets preserved as output when you create a version using \"Save & Run All\" \n",
    "# You can also write temporary files to /kaggle/temp/, but they won't be saved outside of the current session"
   ]
  },
  {
   "cell_type": "markdown",
   "id": "e83d9f39",
   "metadata": {
    "papermill": {
     "duration": 0.003814,
     "end_time": "2024-08-29T03:48:38.359593",
     "exception": false,
     "start_time": "2024-08-29T03:48:38.355779",
     "status": "completed"
    },
    "tags": []
   },
   "source": [
    "# Product Sales Analysis I"
   ]
  },
  {
   "cell_type": "markdown",
   "id": "fbccdd51",
   "metadata": {
    "papermill": {
     "duration": 0.003065,
     "end_time": "2024-08-29T03:48:38.366001",
     "exception": false,
     "start_time": "2024-08-29T03:48:38.362936",
     "status": "completed"
    },
    "tags": []
   },
   "source": [
    "Table: Sales\n",
    "\n",
    "```+-------------+-------+\n",
    "| Column Name | Type  |\n",
    "+-------------+-------+\n",
    "| sale_id     | int   |\n",
    "| product_id  | int   |\n",
    "| year        | int   |\n",
    "| quantity    | int   |\n",
    "| price       | int   |\n",
    "+-------------+-------+```\n",
    "\n",
    "(sale_id, year) is the primary key (combination of columns with unique values) of this table.\n",
    "product_id is a foreign key (reference column) to Product table.\n",
    "Each row of this table shows a sale on the product product_id in a certain year.\n",
    "Note that the price is per unit.\n",
    "\n",
    "Table: Product\n",
    "\n",
    "```+--------------+---------+\n",
    "| Column Name  | Type    |\n",
    "+--------------+---------+\n",
    "| product_id   | int     |\n",
    "| product_name | varchar |\n",
    "+--------------+---------+```\n",
    "\n",
    "product_id is the primary key (column with unique values) of this table.\n",
    "Each row of this table indicates the product name of each product.\n",
    " \n",
    "\n",
    "Write a solution to report the product_name, year, and price for each sale_id in the Sales table.\n",
    "\n",
    "Return the resulting table in any order.\n",
    "\n",
    "The result format is in the following example."
   ]
  },
  {
   "cell_type": "markdown",
   "id": "749c135d",
   "metadata": {
    "papermill": {
     "duration": 0.003094,
     "end_time": "2024-08-29T03:48:38.372592",
     "exception": false,
     "start_time": "2024-08-29T03:48:38.369498",
     "status": "completed"
    },
    "tags": []
   },
   "source": [
    "```\n",
    "SELECT p.product_name, s.year, s.price \n",
    "FROM Sales s\n",
    "JOIN Product p ON s.product_id = p.product_id\n",
    "```"
   ]
  },
  {
   "cell_type": "markdown",
   "id": "9cda9426",
   "metadata": {
    "papermill": {
     "duration": 0.002805,
     "end_time": "2024-08-29T03:48:38.378551",
     "exception": false,
     "start_time": "2024-08-29T03:48:38.375746",
     "status": "completed"
    },
    "tags": []
   },
   "source": [
    "```\n",
    "-- Create Visits table\n",
    "CREATE TABLE Visits (\n",
    "    visit_id INT PRIMARY KEY,\n",
    "    customer_id INT\n",
    ");\n",
    "\n",
    "-- Create Transactions table\n",
    "CREATE TABLE Transactions (\n",
    "    transaction_id INT PRIMARY KEY,\n",
    "    visit_id INT,\n",
    "    amount INT,\n",
    "    FOREIGN KEY (visit_id) REFERENCES Visits(visit_id)\n",
    ");\n",
    "```"
   ]
  },
  {
   "cell_type": "markdown",
   "id": "246fb0c6",
   "metadata": {
    "papermill": {
     "duration": 0.002776,
     "end_time": "2024-08-29T03:48:38.384373",
     "exception": false,
     "start_time": "2024-08-29T03:48:38.381597",
     "status": "completed"
    },
    "tags": []
   },
   "source": [
    "```\n",
    "-- Insert data into Visits table\n",
    "INSERT INTO Visits (visit_id, customer_id) VALUES\n",
    "(1, 23),\n",
    "(2, 9),\n",
    "(4, 30),\n",
    "(5, 54),\n",
    "(6, 96),\n",
    "(7, 54),\n",
    "(8, 54);\n",
    "\n",
    "-- Insert data into Transactions table\n",
    "INSERT INTO Transactions (transaction_id, visit_id, amount) VALUES\n",
    "(2, 5, 310),\n",
    "(3, 5, 300),\n",
    "(9, 5, 200),\n",
    "(12, 1, 910),\n",
    "(13, 2, 970);\n",
    "```"
   ]
  },
  {
   "cell_type": "markdown",
   "id": "3202acd4",
   "metadata": {
    "papermill": {
     "duration": 0.002811,
     "end_time": "2024-08-29T03:48:38.390255",
     "exception": false,
     "start_time": "2024-08-29T03:48:38.387444",
     "status": "completed"
    },
    "tags": []
   },
   "source": [
    "```\n",
    "SELECT\n",
    "    v.customer_id,\n",
    "    COUNT(v.visit_id) AS count_no_trans\n",
    "FROM\n",
    "    Visits v\n",
    "LEFT JOIN\n",
    "    Transactions t ON v.visit_id = t.visit_id\n",
    "WHERE\n",
    "    t.visit_id IS NULL\n",
    "GROUP BY\n",
    "    v.customer_id;\n",
    "    ```"
   ]
  },
  {
   "cell_type": "code",
   "execution_count": null,
   "id": "eb0e8a6f",
   "metadata": {
    "papermill": {
     "duration": 0.00276,
     "end_time": "2024-08-29T03:48:38.396174",
     "exception": false,
     "start_time": "2024-08-29T03:48:38.393414",
     "status": "completed"
    },
    "tags": []
   },
   "outputs": [],
   "source": []
  }
 ],
 "metadata": {
  "kaggle": {
   "accelerator": "none",
   "dataSources": [],
   "dockerImageVersionId": 30761,
   "isGpuEnabled": false,
   "isInternetEnabled": true,
   "language": "python",
   "sourceType": "notebook"
  },
  "kernelspec": {
   "display_name": "Python 3",
   "language": "python",
   "name": "python3"
  },
  "language_info": {
   "codemirror_mode": {
    "name": "ipython",
    "version": 3
   },
   "file_extension": ".py",
   "mimetype": "text/x-python",
   "name": "python",
   "nbconvert_exporter": "python",
   "pygments_lexer": "ipython3",
   "version": "3.10.14"
  },
  "papermill": {
   "default_parameters": {},
   "duration": 4.002491,
   "end_time": "2024-08-29T03:48:38.922334",
   "environment_variables": {},
   "exception": null,
   "input_path": "__notebook__.ipynb",
   "output_path": "__notebook__.ipynb",
   "parameters": {},
   "start_time": "2024-08-29T03:48:34.919843",
   "version": "2.6.0"
  }
 },
 "nbformat": 4,
 "nbformat_minor": 5
}
