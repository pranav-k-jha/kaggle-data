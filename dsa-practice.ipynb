{
 "cells": [
  {
   "cell_type": "raw",
   "id": "ba0bbec3",
   "metadata": {
    "_cell_guid": "b1076dfc-b9ad-4769-8c92-a6c4dae69d19",
    "_uuid": "8f2839f25d086af736a60e9eeb907d3b93b6e0e5",
    "papermill": {
     "duration": 0.00419,
     "end_time": "2024-08-31T05:14:23.047136",
     "exception": false,
     "start_time": "2024-08-31T05:14:23.042946",
     "status": "completed"
    },
    "tags": []
   },
   "source": [
    "# This Python 3 environment comes with many helpful analytics libraries installed\n",
    "# It is defined by the kaggle/python Docker image: https://github.com/kaggle/docker-python\n",
    "# For example, here's several helpful packages to load\n",
    "\n",
    "import numpy as np # linear algebra\n",
    "import pandas as pd # data processing, CSV file I/O (e.g. pd.read_csv)\n",
    "\n",
    "# Input data files are available in the read-only \"../input/\" directory\n",
    "# For example, running this (by clicking run or pressing Shift+Enter) will list all files under the input directory\n",
    "\n",
    "import os\n",
    "for dirname, _, filenames in os.walk('/kaggle/input'):\n",
    "    for filename in filenames:\n",
    "        print(os.path.join(dirname, filename))\n",
    "\n",
    "# You can write up to 20GB to the current directory (/kaggle/working/) that gets preserved as output when you create a version using \"Save & Run All\" \n",
    "# You can also write temporary files to /kaggle/temp/, but they won't be saved outside of the current session"
   ]
  },
  {
   "cell_type": "markdown",
   "id": "8993ba7e",
   "metadata": {
    "papermill": {
     "duration": 0.00324,
     "end_time": "2024-08-31T05:14:23.053920",
     "exception": false,
     "start_time": "2024-08-31T05:14:23.050680",
     "status": "completed"
    },
    "tags": []
   },
   "source": [
    "# Linear Search"
   ]
  },
  {
   "cell_type": "code",
   "execution_count": 1,
   "id": "5876526a",
   "metadata": {
    "execution": {
     "iopub.execute_input": "2024-08-31T05:14:23.062470Z",
     "iopub.status.busy": "2024-08-31T05:14:23.061999Z",
     "iopub.status.idle": "2024-08-31T05:14:23.075128Z",
     "shell.execute_reply": "2024-08-31T05:14:23.073903Z"
    },
    "papermill": {
     "duration": 0.020443,
     "end_time": "2024-08-31T05:14:23.077704",
     "exception": false,
     "start_time": "2024-08-31T05:14:23.057261",
     "status": "completed"
    },
    "tags": []
   },
   "outputs": [],
   "source": [
    "def linear_search(array, target):\n",
    "    for i in range(len(array)):\n",
    "        if array[i] == target:\n",
    "            return i\n",
    "    return -1  # Target not found"
   ]
  },
  {
   "cell_type": "code",
   "execution_count": 2,
   "id": "604b7ace",
   "metadata": {
    "execution": {
     "iopub.execute_input": "2024-08-31T05:14:23.086183Z",
     "iopub.status.busy": "2024-08-31T05:14:23.085748Z",
     "iopub.status.idle": "2024-08-31T05:14:23.091093Z",
     "shell.execute_reply": "2024-08-31T05:14:23.089937Z"
    },
    "papermill": {
     "duration": 0.012484,
     "end_time": "2024-08-31T05:14:23.093679",
     "exception": false,
     "start_time": "2024-08-31T05:14:23.081195",
     "status": "completed"
    },
    "tags": []
   },
   "outputs": [],
   "source": [
    "array = [2,3,4,5,6,7,8]\n",
    "target = 6"
   ]
  },
  {
   "cell_type": "markdown",
   "id": "3a2a32ba",
   "metadata": {
    "papermill": {
     "duration": 0.003231,
     "end_time": "2024-08-31T05:14:23.101606",
     "exception": false,
     "start_time": "2024-08-31T05:14:23.098375",
     "status": "completed"
    },
    "tags": []
   },
   "source": [
    "# Binary Search"
   ]
  },
  {
   "cell_type": "code",
   "execution_count": 3,
   "id": "64fe035c",
   "metadata": {
    "execution": {
     "iopub.execute_input": "2024-08-31T05:14:23.111331Z",
     "iopub.status.busy": "2024-08-31T05:14:23.110250Z",
     "iopub.status.idle": "2024-08-31T05:14:23.118079Z",
     "shell.execute_reply": "2024-08-31T05:14:23.116708Z"
    },
    "papermill": {
     "duration": 0.015166,
     "end_time": "2024-08-31T05:14:23.120601",
     "exception": false,
     "start_time": "2024-08-31T05:14:23.105435",
     "status": "completed"
    },
    "tags": []
   },
   "outputs": [],
   "source": [
    "def binary_search(array, target):\n",
    "    low = 0\n",
    "    high = len(array) - 1\n",
    "    \n",
    "    while low <= high:\n",
    "        mid = (low + high) // 2\n",
    "        if array[mid] == target:\n",
    "            return mid\n",
    "        elif array[mid] < target:\n",
    "            low = mid + 1\n",
    "        else:\n",
    "            high = mid - 1\n",
    "            \n",
    "    return -1  # Target not found"
   ]
  },
  {
   "cell_type": "code",
   "execution_count": 4,
   "id": "6f999c74",
   "metadata": {
    "execution": {
     "iopub.execute_input": "2024-08-31T05:14:23.129064Z",
     "iopub.status.busy": "2024-08-31T05:14:23.128622Z",
     "iopub.status.idle": "2024-08-31T05:14:23.133988Z",
     "shell.execute_reply": "2024-08-31T05:14:23.132876Z"
    },
    "papermill": {
     "duration": 0.012298,
     "end_time": "2024-08-31T05:14:23.136435",
     "exception": false,
     "start_time": "2024-08-31T05:14:23.124137",
     "status": "completed"
    },
    "tags": []
   },
   "outputs": [],
   "source": [
    "array = [2,3,4,5,6,7,8]\n",
    "target = 6"
   ]
  },
  {
   "cell_type": "code",
   "execution_count": null,
   "id": "a9eb01cf",
   "metadata": {
    "papermill": {
     "duration": 0.003059,
     "end_time": "2024-08-31T05:14:23.142951",
     "exception": false,
     "start_time": "2024-08-31T05:14:23.139892",
     "status": "completed"
    },
    "tags": []
   },
   "outputs": [],
   "source": []
  }
 ],
 "metadata": {
  "kaggle": {
   "accelerator": "none",
   "dataSources": [],
   "dockerImageVersionId": 30761,
   "isGpuEnabled": false,
   "isInternetEnabled": true,
   "language": "python",
   "sourceType": "notebook"
  },
  "kernelspec": {
   "display_name": "Python 3",
   "language": "python",
   "name": "python3"
  },
  "language_info": {
   "codemirror_mode": {
    "name": "ipython",
    "version": 3
   },
   "file_extension": ".py",
   "mimetype": "text/x-python",
   "name": "python",
   "nbconvert_exporter": "python",
   "pygments_lexer": "ipython3",
   "version": "3.10.14"
  },
  "papermill": {
   "default_parameters": {},
   "duration": 3.618608,
   "end_time": "2024-08-31T05:14:23.567309",
   "environment_variables": {},
   "exception": null,
   "input_path": "__notebook__.ipynb",
   "output_path": "__notebook__.ipynb",
   "parameters": {},
   "start_time": "2024-08-31T05:14:19.948701",
   "version": "2.6.0"
  }
 },
 "nbformat": 4,
 "nbformat_minor": 5
}
