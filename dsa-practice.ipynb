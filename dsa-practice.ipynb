{
 "cells": [
  {
   "cell_type": "raw",
   "id": "d7ff07d3",
   "metadata": {
    "_cell_guid": "b1076dfc-b9ad-4769-8c92-a6c4dae69d19",
    "_uuid": "8f2839f25d086af736a60e9eeb907d3b93b6e0e5",
    "papermill": {
     "duration": 0.00409,
     "end_time": "2024-08-31T05:14:03.513083",
     "exception": false,
     "start_time": "2024-08-31T05:14:03.508993",
     "status": "completed"
    },
    "tags": []
   },
   "source": [
    "# This Python 3 environment comes with many helpful analytics libraries installed\n",
    "# It is defined by the kaggle/python Docker image: https://github.com/kaggle/docker-python\n",
    "# For example, here's several helpful packages to load\n",
    "\n",
    "import numpy as np # linear algebra\n",
    "import pandas as pd # data processing, CSV file I/O (e.g. pd.read_csv)\n",
    "\n",
    "# Input data files are available in the read-only \"../input/\" directory\n",
    "# For example, running this (by clicking run or pressing Shift+Enter) will list all files under the input directory\n",
    "\n",
    "import os\n",
    "for dirname, _, filenames in os.walk('/kaggle/input'):\n",
    "    for filename in filenames:\n",
    "        print(os.path.join(dirname, filename))\n",
    "\n",
    "# You can write up to 20GB to the current directory (/kaggle/working/) that gets preserved as output when you create a version using \"Save & Run All\" \n",
    "# You can also write temporary files to /kaggle/temp/, but they won't be saved outside of the current session"
   ]
  },
  {
   "cell_type": "markdown",
   "id": "56bdb17b",
   "metadata": {
    "papermill": {
     "duration": 0.003142,
     "end_time": "2024-08-31T05:14:03.519851",
     "exception": false,
     "start_time": "2024-08-31T05:14:03.516709",
     "status": "completed"
    },
    "tags": []
   },
   "source": [
    "# Linear Search"
   ]
  },
  {
   "cell_type": "code",
   "execution_count": 1,
   "id": "aa35e015",
   "metadata": {
    "execution": {
     "iopub.execute_input": "2024-08-31T05:14:03.528890Z",
     "iopub.status.busy": "2024-08-31T05:14:03.528295Z",
     "iopub.status.idle": "2024-08-31T05:14:03.542022Z",
     "shell.execute_reply": "2024-08-31T05:14:03.540896Z"
    },
    "papermill": {
     "duration": 0.021474,
     "end_time": "2024-08-31T05:14:03.544717",
     "exception": false,
     "start_time": "2024-08-31T05:14:03.523243",
     "status": "completed"
    },
    "tags": []
   },
   "outputs": [],
   "source": [
    "def linear_search(array, target):\n",
    "    for i in range(len(array)):\n",
    "        if array[i] == target:\n",
    "            return i\n",
    "    return -1"
   ]
  },
  {
   "cell_type": "code",
   "execution_count": 2,
   "id": "89a7f946",
   "metadata": {
    "execution": {
     "iopub.execute_input": "2024-08-31T05:14:03.553604Z",
     "iopub.status.busy": "2024-08-31T05:14:03.553149Z",
     "iopub.status.idle": "2024-08-31T05:14:03.558665Z",
     "shell.execute_reply": "2024-08-31T05:14:03.557630Z"
    },
    "papermill": {
     "duration": 0.012639,
     "end_time": "2024-08-31T05:14:03.561037",
     "exception": false,
     "start_time": "2024-08-31T05:14:03.548398",
     "status": "completed"
    },
    "tags": []
   },
   "outputs": [],
   "source": [
    "array = [2,3,4,5,6,7,8]\n",
    "target = 6"
   ]
  },
  {
   "cell_type": "markdown",
   "id": "e35396c9",
   "metadata": {
    "papermill": {
     "duration": 0.00314,
     "end_time": "2024-08-31T05:14:03.567662",
     "exception": false,
     "start_time": "2024-08-31T05:14:03.564522",
     "status": "completed"
    },
    "tags": []
   },
   "source": [
    "# Binary Search"
   ]
  },
  {
   "cell_type": "code",
   "execution_count": 3,
   "id": "eee10b46",
   "metadata": {
    "execution": {
     "iopub.execute_input": "2024-08-31T05:14:03.576274Z",
     "iopub.status.busy": "2024-08-31T05:14:03.575836Z",
     "iopub.status.idle": "2024-08-31T05:14:03.583687Z",
     "shell.execute_reply": "2024-08-31T05:14:03.582390Z"
    },
    "papermill": {
     "duration": 0.015204,
     "end_time": "2024-08-31T05:14:03.586277",
     "exception": false,
     "start_time": "2024-08-31T05:14:03.571073",
     "status": "completed"
    },
    "tags": []
   },
   "outputs": [],
   "source": [
    "def binary_search(array, target):\n",
    "    low = 0\n",
    "    high = len(array) - 1\n",
    "    \n",
    "    while low <= high:\n",
    "        mid = (low + high) // 2\n",
    "        if array[mid] == target:\n",
    "            return mid\n",
    "        elif array[mid] < target:\n",
    "            low = mid + 1\n",
    "        else:\n",
    "            high = mid - 1\n",
    "            \n",
    "    return -1  # Target not found"
   ]
  },
  {
   "cell_type": "code",
   "execution_count": 4,
   "id": "06ace8a1",
   "metadata": {
    "execution": {
     "iopub.execute_input": "2024-08-31T05:14:03.595024Z",
     "iopub.status.busy": "2024-08-31T05:14:03.594603Z",
     "iopub.status.idle": "2024-08-31T05:14:03.600102Z",
     "shell.execute_reply": "2024-08-31T05:14:03.599075Z"
    },
    "papermill": {
     "duration": 0.012844,
     "end_time": "2024-08-31T05:14:03.602629",
     "exception": false,
     "start_time": "2024-08-31T05:14:03.589785",
     "status": "completed"
    },
    "tags": []
   },
   "outputs": [],
   "source": [
    "array = [2,3,4,5,6,7,8]\n",
    "target = 6"
   ]
  },
  {
   "cell_type": "code",
   "execution_count": null,
   "id": "b46d53c0",
   "metadata": {
    "papermill": {
     "duration": 0.003499,
     "end_time": "2024-08-31T05:14:03.609603",
     "exception": false,
     "start_time": "2024-08-31T05:14:03.606104",
     "status": "completed"
    },
    "tags": []
   },
   "outputs": [],
   "source": []
  }
 ],
 "metadata": {
  "kaggle": {
   "accelerator": "none",
   "dataSources": [],
   "dockerImageVersionId": 30761,
   "isGpuEnabled": false,
   "isInternetEnabled": true,
   "language": "python",
   "sourceType": "notebook"
  },
  "kernelspec": {
   "display_name": "Python 3",
   "language": "python",
   "name": "python3"
  },
  "language_info": {
   "codemirror_mode": {
    "name": "ipython",
    "version": 3
   },
   "file_extension": ".py",
   "mimetype": "text/x-python",
   "name": "python",
   "nbconvert_exporter": "python",
   "pygments_lexer": "ipython3",
   "version": "3.10.14"
  },
  "papermill": {
   "default_parameters": {},
   "duration": 3.555616,
   "end_time": "2024-08-31T05:14:04.035549",
   "environment_variables": {},
   "exception": null,
   "input_path": "__notebook__.ipynb",
   "output_path": "__notebook__.ipynb",
   "parameters": {},
   "start_time": "2024-08-31T05:14:00.479933",
   "version": "2.6.0"
  }
 },
 "nbformat": 4,
 "nbformat_minor": 5
}
