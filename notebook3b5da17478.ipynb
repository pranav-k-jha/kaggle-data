{
 "cells": [
  {
   "cell_type": "code",
   "execution_count": 1,
   "id": "aef00a85",
   "metadata": {
    "_cell_guid": "b1076dfc-b9ad-4769-8c92-a6c4dae69d19",
    "_uuid": "8f2839f25d086af736a60e9eeb907d3b93b6e0e5",
    "execution": {
     "iopub.execute_input": "2024-09-13T01:22:00.252603Z",
     "iopub.status.busy": "2024-09-13T01:22:00.252190Z",
     "iopub.status.idle": "2024-09-13T01:22:00.653632Z",
     "shell.execute_reply": "2024-09-13T01:22:00.652636Z"
    },
    "papermill": {
     "duration": 0.408112,
     "end_time": "2024-09-13T01:22:00.656291",
     "exception": false,
     "start_time": "2024-09-13T01:22:00.248179",
     "status": "completed"
    },
    "tags": []
   },
   "outputs": [],
   "source": [
    "# This Python 3 environment comes with many helpful analytics libraries installed\n",
    "# It is defined by the kaggle/python Docker image: https://github.com/kaggle/docker-python\n",
    "# For example, here's several helpful packages to load\n",
    "\n",
    "import numpy as np # linear algebra\n",
    "import pandas as pd # data processing, CSV file I/O (e.g. pd.read_csv)\n",
    "\n",
    "# Input data files are available in the read-only \"../input/\" directory\n",
    "# For example, running this (by clicking run or pressing Shift+Enter) will list all files under the input directory\n",
    "\n",
    "import os\n",
    "for dirname, _, filenames in os.walk('/kaggle/input'):\n",
    "    for filename in filenames:\n",
    "        print(os.path.join(dirname, filename))\n",
    "\n",
    "# You can write up to 20GB to the current directory (/kaggle/working/) that gets preserved as output when you create a version using \"Save & Run All\" \n",
    "# You can also write temporary files to /kaggle/temp/, but they won't be saved outside of the current session"
   ]
  },
  {
   "cell_type": "markdown",
   "id": "b30ca793",
   "metadata": {
    "papermill": {
     "duration": 0.001789,
     "end_time": "2024-09-13T01:22:00.660298",
     "exception": false,
     "start_time": "2024-09-13T01:22:00.658509",
     "status": "completed"
    },
    "tags": []
   },
   "source": [
    "# PyTorch Essentials for Deep Learning\n",
    "\n",
    "Deep learning has revolutionized fields ranging from computer vision to natural language processing. PyTorch, an open-source deep learning framework developed by Facebook's AI Research lab, has become a popular choice among researchers and practitioners due to its flexibility, ease of use, and dynamic computation graph. This article covers the essentials of PyTorch, providing a foundation for building and training deep learning models.\n",
    "\n",
    "# 1. Introduction to PyTorch\n",
    "PyTorch is a deep learning framework that provides a wide range of functionalities for building and training neural networks. Its core features include:\n",
    "\n",
    "Dynamic Computation Graphs: PyTorch uses dynamic computation graphs, which allows for more flexibility and ease of debugging compared to static graphs used by other frameworks like TensorFlow.\n",
    "Autograd: PyTorch's automatic differentiation library automatically computes gradients, which is essential for backpropagation and optimization.\n",
    "TorchScript: For production deployment, PyTorch offers TorchScript, a way to serialize and optimize models.\n",
    "# 2. Basic Concepts\n",
    "Tensors\n",
    "At the heart of PyTorch is the Tensor object, which is similar to NumPy arrays but with additional support for GPU acceleration. Tensors are multidimensional arrays with support for various mathematical operations.\n",
    "\n",
    "## Creating Tensors:\n",
    "```python\n",
    "import torch\n",
    "\n",
    "# Creating a tensor from a list\n",
    "tensor = torch.tensor([1.0, 2.0, 3.0])\n",
    "\n",
    "# Creating a tensor filled with zeros\n",
    "zeros = torch.zeros(3)\n",
    "\n",
    "# Creating a tensor filled with ones\n",
    "ones = torch.ones(3)\n",
    "\n",
    "# Creating a tensor with random values\n",
    "random_tensor = torch.rand(3)\n",
    "```\n",
    "\n",
    "## Autograd\n",
    "PyTorch’s autograd module provides automatic differentiation for all operations on Tensors. This is crucial for training neural networks using gradient descent.\n",
    "\n",
    "Basic Autograd Usage:\n",
    "\n",
    "```python\n",
    "# Create a tensor with requires_grad=True to track computations\n",
    "x = torch.tensor([1.0, 2.0, 3.0], requires_grad=True)\n",
    "\n",
    "# Perform some operations\n",
    "y = x + 2\n",
    "z = y.mean()\n",
    "\n",
    "# Compute gradients\n",
    "z.backward()\n",
    "\n",
    "# Print gradients\n",
    "print(x.grad)\n",
    "```\n",
    "\n",
    "# 3. Building Neural Networks\n",
    "PyTorch provides the torch.nn module to build neural networks. The nn.Module class is the base class for all neural network modules, and it helps in defining layers and the forward pass.\n",
    "\n",
    "Defining a Simple Neural Network:\n",
    "\n",
    "```python\n",
    "import torch.nn as nn\n",
    "import torch.optim as optim\n",
    "\n",
    "class SimpleNN(nn.Module):\n",
    "    def __init__(self):\n",
    "        super(SimpleNN, self).__init__()\n",
    "        self.fc1 = nn.Linear(10, 5)\n",
    "        self.fc2 = nn.Linear(5, 2)\n",
    "\n",
    "    def forward(self, x):\n",
    "        x = torch.relu(self.fc1(x))\n",
    "        x = self.fc2(x)\n",
    "        return x\n",
    "\n",
    "# Instantiate the model\n",
    "model = SimpleNN()\n",
    "\n",
    "## Define a loss function and optimizer\n",
    "criterion = nn.CrossEntropyLoss()\n",
    "optimizer = optim.SGD(model.parameters(), lr=0.01)\n",
    "```\n"
   ]
  },
  {
   "cell_type": "code",
   "execution_count": null,
   "id": "4c0dd867",
   "metadata": {
    "papermill": {
     "duration": 0.001576,
     "end_time": "2024-09-13T01:22:00.663756",
     "exception": false,
     "start_time": "2024-09-13T01:22:00.662180",
     "status": "completed"
    },
    "tags": []
   },
   "outputs": [],
   "source": []
  }
 ],
 "metadata": {
  "kaggle": {
   "accelerator": "none",
   "dataSources": [],
   "dockerImageVersionId": 30761,
   "isGpuEnabled": false,
   "isInternetEnabled": true,
   "language": "python",
   "sourceType": "notebook"
  },
  "kernelspec": {
   "display_name": "Python 3",
   "language": "python",
   "name": "python3"
  },
  "language_info": {
   "codemirror_mode": {
    "name": "ipython",
    "version": 3
   },
   "file_extension": ".py",
   "mimetype": "text/x-python",
   "name": "python",
   "nbconvert_exporter": "python",
   "pygments_lexer": "ipython3",
   "version": "3.10.14"
  },
  "papermill": {
   "default_parameters": {},
   "duration": 3.533331,
   "end_time": "2024-09-13T01:22:01.085917",
   "environment_variables": {},
   "exception": null,
   "input_path": "__notebook__.ipynb",
   "output_path": "__notebook__.ipynb",
   "parameters": {},
   "start_time": "2024-09-13T01:21:57.552586",
   "version": "2.6.0"
  }
 },
 "nbformat": 4,
 "nbformat_minor": 5
}
