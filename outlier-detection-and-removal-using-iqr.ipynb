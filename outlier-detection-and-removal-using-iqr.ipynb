{
 "cells": [
  {
   "cell_type": "code",
   "execution_count": 1,
   "id": "971985eb",
   "metadata": {
    "_cell_guid": "b1076dfc-b9ad-4769-8c92-a6c4dae69d19",
    "_uuid": "8f2839f25d086af736a60e9eeb907d3b93b6e0e5",
    "execution": {
     "iopub.execute_input": "2024-07-25T14:05:40.062120Z",
     "iopub.status.busy": "2024-07-25T14:05:40.061721Z",
     "iopub.status.idle": "2024-07-25T14:05:41.039210Z",
     "shell.execute_reply": "2024-07-25T14:05:41.038065Z"
    },
    "papermill": {
     "duration": 0.988571,
     "end_time": "2024-07-25T14:05:41.042238",
     "exception": false,
     "start_time": "2024-07-25T14:05:40.053667",
     "status": "completed"
    },
    "tags": []
   },
   "outputs": [
    {
     "name": "stdout",
     "output_type": "stream",
     "text": [
      "/kaggle/input/weight-height/weight-height.csv\n"
     ]
    }
   ],
   "source": [
    "# This Python 3 environment comes with many helpful analytics libraries installed\n",
    "# It is defined by the kaggle/python Docker image: https://github.com/kaggle/docker-python\n",
    "# For example, here's several helpful packages to load\n",
    "\n",
    "import numpy as np # linear algebra\n",
    "import pandas as pd # data processing, CSV file I/O (e.g. pd.read_csv)\n",
    "\n",
    "# Input data files are available in the read-only \"../input/\" directory\n",
    "# For example, running this (by clicking run or pressing Shift+Enter) will list all files under the input directory\n",
    "\n",
    "import os\n",
    "for dirname, _, filenames in os.walk('/kaggle/input'):\n",
    "    for filename in filenames:\n",
    "        print(os.path.join(dirname, filename))\n",
    "\n",
    "# You can write up to 20GB to the current directory (/kaggle/working/) that gets preserved as output when you create a version using \"Save & Run All\" \n",
    "# You can also write temporary files to /kaggle/temp/, but they won't be saved outside of the current session"
   ]
  },
  {
   "cell_type": "markdown",
   "id": "d4e16534",
   "metadata": {
    "papermill": {
     "duration": 0.006556,
     "end_time": "2024-07-25T14:05:41.055664",
     "exception": false,
     "start_time": "2024-07-25T14:05:41.049108",
     "status": "completed"
    },
    "tags": []
   },
   "source": [
    "<h2 align='center' style='color:blue'>Outlier Detection and Removal Using IQR</h2>"
   ]
  },
  {
   "cell_type": "code",
   "execution_count": 2,
   "id": "fb3a462f",
   "metadata": {
    "execution": {
     "iopub.execute_input": "2024-07-25T14:05:41.070546Z",
     "iopub.status.busy": "2024-07-25T14:05:41.070030Z",
     "iopub.status.idle": "2024-07-25T14:05:41.077244Z",
     "shell.execute_reply": "2024-07-25T14:05:41.076136Z"
    },
    "papermill": {
     "duration": 0.017535,
     "end_time": "2024-07-25T14:05:41.079586",
     "exception": false,
     "start_time": "2024-07-25T14:05:41.062051",
     "status": "completed"
    },
    "tags": []
   },
   "outputs": [],
   "source": [
    "import pandas as pd\n",
    "import matplotlib\n",
    "from matplotlib import pyplot as plt\n",
    "%matplotlib inline\n",
    "matplotlib.rcParams['figure.figsize'] = (8,4)"
   ]
  },
  {
   "cell_type": "code",
   "execution_count": 3,
   "id": "53e61dfd",
   "metadata": {
    "execution": {
     "iopub.execute_input": "2024-07-25T14:05:41.093790Z",
     "iopub.status.busy": "2024-07-25T14:05:41.093363Z",
     "iopub.status.idle": "2024-07-25T14:05:41.148644Z",
     "shell.execute_reply": "2024-07-25T14:05:41.147558Z"
    },
    "papermill": {
     "duration": 0.065478,
     "end_time": "2024-07-25T14:05:41.151291",
     "exception": false,
     "start_time": "2024-07-25T14:05:41.085813",
     "status": "completed"
    },
    "tags": []
   },
   "outputs": [
    {
     "data": {
      "text/html": [
       "<div>\n",
       "<style scoped>\n",
       "    .dataframe tbody tr th:only-of-type {\n",
       "        vertical-align: middle;\n",
       "    }\n",
       "\n",
       "    .dataframe tbody tr th {\n",
       "        vertical-align: top;\n",
       "    }\n",
       "\n",
       "    .dataframe thead th {\n",
       "        text-align: right;\n",
       "    }\n",
       "</style>\n",
       "<table border=\"1\" class=\"dataframe\">\n",
       "  <thead>\n",
       "    <tr style=\"text-align: right;\">\n",
       "      <th></th>\n",
       "      <th>Gender</th>\n",
       "      <th>Height</th>\n",
       "      <th>Weight</th>\n",
       "    </tr>\n",
       "  </thead>\n",
       "  <tbody>\n",
       "    <tr>\n",
       "      <th>0</th>\n",
       "      <td>Male</td>\n",
       "      <td>73.847017</td>\n",
       "      <td>241.893563</td>\n",
       "    </tr>\n",
       "    <tr>\n",
       "      <th>1</th>\n",
       "      <td>Male</td>\n",
       "      <td>68.781904</td>\n",
       "      <td>162.310473</td>\n",
       "    </tr>\n",
       "    <tr>\n",
       "      <th>2</th>\n",
       "      <td>Male</td>\n",
       "      <td>74.110105</td>\n",
       "      <td>212.740856</td>\n",
       "    </tr>\n",
       "    <tr>\n",
       "      <th>3</th>\n",
       "      <td>Male</td>\n",
       "      <td>71.730978</td>\n",
       "      <td>220.042470</td>\n",
       "    </tr>\n",
       "    <tr>\n",
       "      <th>4</th>\n",
       "      <td>Male</td>\n",
       "      <td>69.881796</td>\n",
       "      <td>206.349801</td>\n",
       "    </tr>\n",
       "    <tr>\n",
       "      <th>5</th>\n",
       "      <td>Male</td>\n",
       "      <td>67.253016</td>\n",
       "      <td>152.212156</td>\n",
       "    </tr>\n",
       "    <tr>\n",
       "      <th>6</th>\n",
       "      <td>Male</td>\n",
       "      <td>68.785081</td>\n",
       "      <td>183.927889</td>\n",
       "    </tr>\n",
       "    <tr>\n",
       "      <th>7</th>\n",
       "      <td>Male</td>\n",
       "      <td>68.348516</td>\n",
       "      <td>167.971110</td>\n",
       "    </tr>\n",
       "    <tr>\n",
       "      <th>8</th>\n",
       "      <td>Male</td>\n",
       "      <td>67.018950</td>\n",
       "      <td>175.929440</td>\n",
       "    </tr>\n",
       "    <tr>\n",
       "      <th>9</th>\n",
       "      <td>Male</td>\n",
       "      <td>63.456494</td>\n",
       "      <td>156.399676</td>\n",
       "    </tr>\n",
       "  </tbody>\n",
       "</table>\n",
       "</div>"
      ],
      "text/plain": [
       "  Gender     Height      Weight\n",
       "0   Male  73.847017  241.893563\n",
       "1   Male  68.781904  162.310473\n",
       "2   Male  74.110105  212.740856\n",
       "3   Male  71.730978  220.042470\n",
       "4   Male  69.881796  206.349801\n",
       "5   Male  67.253016  152.212156\n",
       "6   Male  68.785081  183.927889\n",
       "7   Male  68.348516  167.971110\n",
       "8   Male  67.018950  175.929440\n",
       "9   Male  63.456494  156.399676"
      ]
     },
     "execution_count": 3,
     "metadata": {},
     "output_type": "execute_result"
    }
   ],
   "source": [
    "df = pd.read_csv(\"/kaggle/input/weight-height/weight-height.csv\")\n",
    "df.head(10)"
   ]
  },
  {
   "cell_type": "markdown",
   "id": "9525bbfe",
   "metadata": {
    "papermill": {
     "duration": 0.006795,
     "end_time": "2024-07-25T14:05:41.164747",
     "exception": false,
     "start_time": "2024-07-25T14:05:41.157952",
     "status": "completed"
    },
    "tags": []
   },
   "source": [
    "**Histgram for weights**"
   ]
  },
  {
   "cell_type": "code",
   "execution_count": 4,
   "id": "c1e6100e",
   "metadata": {
    "execution": {
     "iopub.execute_input": "2024-07-25T14:05:41.179637Z",
     "iopub.status.busy": "2024-07-25T14:05:41.179220Z",
     "iopub.status.idle": "2024-07-25T14:05:41.482217Z",
     "shell.execute_reply": "2024-07-25T14:05:41.481214Z"
    },
    "papermill": {
     "duration": 0.313397,
     "end_time": "2024-07-25T14:05:41.484743",
     "exception": false,
     "start_time": "2024-07-25T14:05:41.171346",
     "status": "completed"
    },
    "tags": []
   },
   "outputs": [
    {
     "data": {
      "image/png": "[encoded data removed]",
      "text/plain": [
       "<Figure size 800x400 with 1 Axes>"
      ]
     },
     "metadata": {},
     "output_type": "display_data"
    }
   ],
   "source": [
    "plt.hist(df.Height, bins=20, rwidth=0.8)\n",
    "plt.xlabel('Height')\n",
    "plt.ylabel('Count')\n",
    "plt.show()"
   ]
  },
  {
   "cell_type": "markdown",
   "id": "007e97bc",
   "metadata": {
    "papermill": {
     "duration": 0.006783,
     "end_time": "2024-07-25T14:05:41.498319",
     "exception": false,
     "start_time": "2024-07-25T14:05:41.491536",
     "status": "completed"
    },
    "tags": []
   },
   "source": [
    "**Detect outliers based on weight**"
   ]
  },
  {
   "cell_type": "code",
   "execution_count": 5,
   "id": "97ecfa7c",
   "metadata": {
    "execution": {
     "iopub.execute_input": "2024-07-25T14:05:41.513695Z",
     "iopub.status.busy": "2024-07-25T14:05:41.513276Z",
     "iopub.status.idle": "2024-07-25T14:05:41.524556Z",
     "shell.execute_reply": "2024-07-25T14:05:41.523615Z"
    },
    "papermill": {
     "duration": 0.022033,
     "end_time": "2024-07-25T14:05:41.527202",
     "exception": false,
     "start_time": "2024-07-25T14:05:41.505169",
     "status": "completed"
    },
    "tags": []
   },
   "outputs": [
    {
     "data": {
      "text/plain": [
       "(135.8180513055015, 187.16952486868348)"
      ]
     },
     "execution_count": 5,
     "metadata": {},
     "output_type": "execute_result"
    }
   ],
   "source": [
    "Q1 = df.Weight.quantile(0.25)\n",
    "Q3 = df.Weight.quantile(0.75)\n",
    "Q1, Q3"
   ]
  },
  {
   "cell_type": "code",
   "execution_count": 6,
   "id": "2f5129ea",
   "metadata": {
    "execution": {
     "iopub.execute_input": "2024-07-25T14:05:41.543308Z",
     "iopub.status.busy": "2024-07-25T14:05:41.542633Z",
     "iopub.status.idle": "2024-07-25T14:05:41.549317Z",
     "shell.execute_reply": "2024-07-25T14:05:41.548315Z"
    },
    "papermill": {
     "duration": 0.017777,
     "end_time": "2024-07-25T14:05:41.552031",
     "exception": false,
     "start_time": "2024-07-25T14:05:41.534254",
     "status": "completed"
    },
    "tags": []
   },
   "outputs": [
    {
     "data": {
      "text/plain": [
       "51.35147356318197"
      ]
     },
     "execution_count": 6,
     "metadata": {},
     "output_type": "execute_result"
    }
   ],
   "source": [
    "IQR = Q3 - Q1\n",
    "IQR"
   ]
  },
  {
   "cell_type": "code",
   "execution_count": 7,
   "id": "20530333",
   "metadata": {
    "execution": {
     "iopub.execute_input": "2024-07-25T14:05:41.568373Z",
     "iopub.status.busy": "2024-07-25T14:05:41.567656Z",
     "iopub.status.idle": "2024-07-25T14:05:41.574748Z",
     "shell.execute_reply": "2024-07-25T14:05:41.573700Z"
    },
    "papermill": {
     "duration": 0.01777,
     "end_time": "2024-07-25T14:05:41.577009",
     "exception": false,
     "start_time": "2024-07-25T14:05:41.559239",
     "status": "completed"
    },
    "tags": []
   },
   "outputs": [
    {
     "data": {
      "text/plain": [
       "(58.79084096072856, 264.19673521345646)"
      ]
     },
     "execution_count": 7,
     "metadata": {},
     "output_type": "execute_result"
    }
   ],
   "source": [
    "lower_limit = Q1 - 1.5*IQR\n",
    "upper_limit = Q3 + 1.5*IQR\n",
    "lower_limit, upper_limit"
   ]
  },
  {
   "cell_type": "code",
   "execution_count": 8,
   "id": "1c7a5df3",
   "metadata": {
    "execution": {
     "iopub.execute_input": "2024-07-25T14:05:41.593854Z",
     "iopub.status.busy": "2024-07-25T14:05:41.592894Z",
     "iopub.status.idle": "2024-07-25T14:05:41.604507Z",
     "shell.execute_reply": "2024-07-25T14:05:41.603510Z"
    },
    "papermill": {
     "duration": 0.022543,
     "end_time": "2024-07-25T14:05:41.606813",
     "exception": false,
     "start_time": "2024-07-25T14:05:41.584270",
     "status": "completed"
    },
    "tags": []
   },
   "outputs": [
    {
     "data": {
      "text/plain": [
       "count    10000.000000\n",
       "mean       161.440357\n",
       "std         32.108439\n",
       "min         64.700127\n",
       "25%        135.818051\n",
       "50%        161.212928\n",
       "75%        187.169525\n",
       "max        269.989699\n",
       "Name: Weight, dtype: float64"
      ]
     },
     "execution_count": 8,
     "metadata": {},
     "output_type": "execute_result"
    }
   ],
   "source": [
    "df.Weight.describe()"
   ]
  },
  {
   "cell_type": "code",
   "execution_count": 9,
   "id": "edd4137b",
   "metadata": {
    "execution": {
     "iopub.execute_input": "2024-07-25T14:05:41.623805Z",
     "iopub.status.busy": "2024-07-25T14:05:41.623110Z",
     "iopub.status.idle": "2024-07-25T14:05:41.640366Z",
     "shell.execute_reply": "2024-07-25T14:05:41.639293Z"
    },
    "papermill": {
     "duration": 0.028432,
     "end_time": "2024-07-25T14:05:41.642702",
     "exception": false,
     "start_time": "2024-07-25T14:05:41.614270",
     "status": "completed"
    },
    "tags": []
   },
   "outputs": [
    {
     "data": {
      "text/html": [
       "<div>\n",
       "<style scoped>\n",
       "    .dataframe tbody tr th:only-of-type {\n",
       "        vertical-align: middle;\n",
       "    }\n",
       "\n",
       "    .dataframe tbody tr th {\n",
       "        vertical-align: top;\n",
       "    }\n",
       "\n",
       "    .dataframe thead th {\n",
       "        text-align: right;\n",
       "    }\n",
       "</style>\n",
       "<table border=\"1\" class=\"dataframe\">\n",
       "  <thead>\n",
       "    <tr style=\"text-align: right;\">\n",
       "      <th></th>\n",
       "      <th>Gender</th>\n",
       "      <th>Height</th>\n",
       "      <th>Weight</th>\n",
       "    </tr>\n",
       "  </thead>\n",
       "  <tbody>\n",
       "    <tr>\n",
       "      <th>2014</th>\n",
       "      <td>Male</td>\n",
       "      <td>78.998742</td>\n",
       "      <td>269.989699</td>\n",
       "    </tr>\n",
       "  </tbody>\n",
       "</table>\n",
       "</div>"
      ],
      "text/plain": [
       "     Gender     Height      Weight\n",
       "2014   Male  78.998742  269.989699"
      ]
     },
     "execution_count": 9,
     "metadata": {},
     "output_type": "execute_result"
    }
   ],
   "source": [
    "df[(df.Weight<lower_limit)|(df.Weight>upper_limit)]"
   ]
  },
  {
   "cell_type": "markdown",
   "id": "ac9faf8f",
   "metadata": {
    "papermill": {
     "duration": 0.007372,
     "end_time": "2024-07-25T14:05:41.657791",
     "exception": false,
     "start_time": "2024-07-25T14:05:41.650419",
     "status": "completed"
    },
    "tags": []
   },
   "source": [
    "**Detect outliers based on height**"
   ]
  },
  {
   "cell_type": "code",
   "execution_count": 10,
   "id": "cd1b1c7c",
   "metadata": {
    "execution": {
     "iopub.execute_input": "2024-07-25T14:05:41.674990Z",
     "iopub.status.busy": "2024-07-25T14:05:41.674289Z",
     "iopub.status.idle": "2024-07-25T14:05:41.684286Z",
     "shell.execute_reply": "2024-07-25T14:05:41.683209Z"
    },
    "papermill": {
     "duration": 0.02143,
     "end_time": "2024-07-25T14:05:41.686800",
     "exception": false,
     "start_time": "2024-07-25T14:05:41.665370",
     "status": "completed"
    },
    "tags": []
   },
   "outputs": [
    {
     "data": {
      "text/plain": [
       "(63.505620481218955, 69.1742617268347)"
      ]
     },
     "execution_count": 10,
     "metadata": {},
     "output_type": "execute_result"
    }
   ],
   "source": [
    "Q1 = df.Height.quantile(0.25)\n",
    "Q3 = df.Height.quantile(0.75)\n",
    "Q1, Q3"
   ]
  },
  {
   "cell_type": "code",
   "execution_count": 11,
   "id": "29df408a",
   "metadata": {
    "execution": {
     "iopub.execute_input": "2024-07-25T14:05:41.706482Z",
     "iopub.status.busy": "2024-07-25T14:05:41.706080Z",
     "iopub.status.idle": "2024-07-25T14:05:41.712522Z",
     "shell.execute_reply": "2024-07-25T14:05:41.711507Z"
    },
    "papermill": {
     "duration": 0.018481,
     "end_time": "2024-07-25T14:05:41.715076",
     "exception": false,
     "start_time": "2024-07-25T14:05:41.696595",
     "status": "completed"
    },
    "tags": []
   },
   "outputs": [
    {
     "data": {
      "text/plain": [
       "5.668641245615746"
      ]
     },
     "execution_count": 11,
     "metadata": {},
     "output_type": "execute_result"
    }
   ],
   "source": [
    "IQR = Q3 - Q1\n",
    "IQR"
   ]
  },
  {
   "cell_type": "code",
   "execution_count": 12,
   "id": "d8a86a6c",
   "metadata": {
    "execution": {
     "iopub.execute_input": "2024-07-25T14:05:41.732897Z",
     "iopub.status.busy": "2024-07-25T14:05:41.732454Z",
     "iopub.status.idle": "2024-07-25T14:05:41.739663Z",
     "shell.execute_reply": "2024-07-25T14:05:41.738600Z"
    },
    "papermill": {
     "duration": 0.018652,
     "end_time": "2024-07-25T14:05:41.741870",
     "exception": false,
     "start_time": "2024-07-25T14:05:41.723218",
     "status": "completed"
    },
    "tags": []
   },
   "outputs": [
    {
     "data": {
      "text/plain": [
       "(55.00265861279534, 77.67722359525831)"
      ]
     },
     "execution_count": 12,
     "metadata": {},
     "output_type": "execute_result"
    }
   ],
   "source": [
    "lower_limit = Q1 - 1.5*IQR\n",
    "upper_limit = Q3 + 1.5*IQR\n",
    "lower_limit, upper_limit"
   ]
  },
  {
   "cell_type": "code",
   "execution_count": 13,
   "id": "ae049f34",
   "metadata": {
    "execution": {
     "iopub.execute_input": "2024-07-25T14:05:41.759509Z",
     "iopub.status.busy": "2024-07-25T14:05:41.758896Z",
     "iopub.status.idle": "2024-07-25T14:05:41.772495Z",
     "shell.execute_reply": "2024-07-25T14:05:41.771423Z"
    },
    "papermill": {
     "duration": 0.025123,
     "end_time": "2024-07-25T14:05:41.774911",
     "exception": false,
     "start_time": "2024-07-25T14:05:41.749788",
     "status": "completed"
    },
    "tags": []
   },
   "outputs": [
    {
     "data": {
      "text/html": [
       "<div>\n",
       "<style scoped>\n",
       "    .dataframe tbody tr th:only-of-type {\n",
       "        vertical-align: middle;\n",
       "    }\n",
       "\n",
       "    .dataframe tbody tr th {\n",
       "        vertical-align: top;\n",
       "    }\n",
       "\n",
       "    .dataframe thead th {\n",
       "        text-align: right;\n",
       "    }\n",
       "</style>\n",
       "<table border=\"1\" class=\"dataframe\">\n",
       "  <thead>\n",
       "    <tr style=\"text-align: right;\">\n",
       "      <th></th>\n",
       "      <th>Gender</th>\n",
       "      <th>Height</th>\n",
       "      <th>Weight</th>\n",
       "    </tr>\n",
       "  </thead>\n",
       "  <tbody>\n",
       "    <tr>\n",
       "      <th>994</th>\n",
       "      <td>Male</td>\n",
       "      <td>78.095867</td>\n",
       "      <td>255.690835</td>\n",
       "    </tr>\n",
       "    <tr>\n",
       "      <th>1317</th>\n",
       "      <td>Male</td>\n",
       "      <td>78.462053</td>\n",
       "      <td>227.342565</td>\n",
       "    </tr>\n",
       "    <tr>\n",
       "      <th>2014</th>\n",
       "      <td>Male</td>\n",
       "      <td>78.998742</td>\n",
       "      <td>269.989699</td>\n",
       "    </tr>\n",
       "    <tr>\n",
       "      <th>3285</th>\n",
       "      <td>Male</td>\n",
       "      <td>78.528210</td>\n",
       "      <td>253.889004</td>\n",
       "    </tr>\n",
       "    <tr>\n",
       "      <th>3757</th>\n",
       "      <td>Male</td>\n",
       "      <td>78.621374</td>\n",
       "      <td>245.733783</td>\n",
       "    </tr>\n",
       "    <tr>\n",
       "      <th>6624</th>\n",
       "      <td>Female</td>\n",
       "      <td>54.616858</td>\n",
       "      <td>71.393749</td>\n",
       "    </tr>\n",
       "    <tr>\n",
       "      <th>7294</th>\n",
       "      <td>Female</td>\n",
       "      <td>54.873728</td>\n",
       "      <td>78.606670</td>\n",
       "    </tr>\n",
       "    <tr>\n",
       "      <th>9285</th>\n",
       "      <td>Female</td>\n",
       "      <td>54.263133</td>\n",
       "      <td>64.700127</td>\n",
       "    </tr>\n",
       "  </tbody>\n",
       "</table>\n",
       "</div>"
      ],
      "text/plain": [
       "      Gender     Height      Weight\n",
       "994     Male  78.095867  255.690835\n",
       "1317    Male  78.462053  227.342565\n",
       "2014    Male  78.998742  269.989699\n",
       "3285    Male  78.528210  253.889004\n",
       "3757    Male  78.621374  245.733783\n",
       "6624  Female  54.616858   71.393749\n",
       "7294  Female  54.873728   78.606670\n",
       "9285  Female  54.263133   64.700127"
      ]
     },
     "execution_count": 13,
     "metadata": {},
     "output_type": "execute_result"
    }
   ],
   "source": [
    "df[(df.Height<lower_limit)|(df.Height>upper_limit)]"
   ]
  },
  {
   "cell_type": "code",
   "execution_count": null,
   "id": "ec053fab",
   "metadata": {
    "papermill": {
     "duration": 0.008137,
     "end_time": "2024-07-25T14:05:41.791924",
     "exception": false,
     "start_time": "2024-07-25T14:05:41.783787",
     "status": "completed"
    },
    "tags": []
   },
   "outputs": [],
   "source": []
  }
 ],
 "metadata": {
  "kaggle": {
   "accelerator": "none",
   "dataSources": [
    {
     "datasetId": 26073,
     "sourceId": 33239,
     "sourceType": "datasetVersion"
    }
   ],
   "dockerImageVersionId": 30732,
   "isGpuEnabled": false,
   "isInternetEnabled": true,
   "language": "python",
   "sourceType": "notebook"
  },
  "kernelspec": {
   "display_name": "Python 3",
   "language": "python",
   "name": "python3"
  },
  "language_info": {
   "codemirror_mode": {
    "name": "ipython",
    "version": 3
   },
   "file_extension": ".py",
   "mimetype": "text/x-python",
   "name": "python",
   "nbconvert_exporter": "python",
   "pygments_lexer": "ipython3",
   "version": "3.10.13"
  },
  "papermill": {
   "default_parameters": {},
   "duration": 5.321278,
   "end_time": "2024-07-25T14:05:42.220505",
   "environment_variables": {},
   "exception": null,
   "input_path": "__notebook__.ipynb",
   "output_path": "__notebook__.ipynb",
   "parameters": {},
   "start_time": "2024-07-25T14:05:36.899227",
   "version": "2.5.0"
  }
 },
 "nbformat": 4,
 "nbformat_minor": 5
}
