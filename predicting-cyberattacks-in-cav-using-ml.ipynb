{
 "cells": [
  {
   "cell_type": "markdown",
   "id": "83d4a14f",
   "metadata": {
    "papermill": {
     "duration": 0.003206,
     "end_time": "2025-02-04T22:40:27.529325",
     "exception": false,
     "start_time": "2025-02-04T22:40:27.526119",
     "status": "completed"
    },
    "tags": []
   },
   "source": [
    "# Predicting Cyberattacks in CAV using ML"
   ]
  },
  {
   "cell_type": "markdown",
   "id": "152c051c",
   "metadata": {
    "papermill": {
     "duration": 0.002276,
     "end_time": "2025-02-04T22:40:27.534542",
     "exception": false,
     "start_time": "2025-02-04T22:40:27.532266",
     "status": "completed"
    },
    "tags": []
   },
   "source": [
    "## Abstract\n",
    "\n",
    "Connected and Autonomous Vehicles (CAVs) are increasingly vulnerable to cyberattacks, particularly due to vulnerabilities within the Controller Area Network (CAN) protocol, which facilitates communication between Electronic Control Units (ECUs). This study investigates the application of machine learning (ML) for intrusion detection in CAVs, utilizing an experimental dataset from the [Hacking and Countermeasure Research Lab (HCRL)](https://ocslab.hksecurity.net/Datasets/CAN-intrusion-dataset). A **Random Forest (RF) classifier** is employed to identify cyberattacks, trained on **over 3 million records** with a **70:30 train-test split**, utilizing **200 estimators** and a **random state of 11**.\n",
    "\n",
    "The model achieves an impressive **accuracy exceeding 92%** across a range of attack types, including **Denial-of-Service (DoS), Fuzzy Attacks, Gear Spoofing, and RPM Spoofing**. The data preprocessing techniques implemented in this study, including data cleaning and feature selection, are applicable to other ML applications, such as credit card fraud detection and financial anomaly detection. Given the potential for real-time data availability, this model holds promise for significantly enhancing CAV cybersecurity by detecting and mitigating cyber threats in real-time.\n"
   ]
  },
  {
   "cell_type": "markdown",
   "id": "f5c4f661",
   "metadata": {
    "papermill": {
     "duration": 0.002196,
     "end_time": "2025-02-04T22:40:27.539209",
     "exception": false,
     "start_time": "2025-02-04T22:40:27.537013",
     "status": "completed"
    },
    "tags": []
   },
   "source": [
    "# 1. Data Preparation\n",
    "## 1.1 Importing Necessary Libraries"
   ]
  },
  {
   "cell_type": "code",
   "execution_count": 1,
   "id": "09e1d449",
   "metadata": {
    "_cell_guid": "b1076dfc-b9ad-4769-8c92-a6c4dae69d19",
    "_uuid": "8f2839f25d086af736a60e9eeb907d3b93b6e0e5",
    "execution": {
     "iopub.execute_input": "2025-02-04T22:40:27.545522Z",
     "iopub.status.busy": "2025-02-04T22:40:27.545121Z",
     "iopub.status.idle": "2025-02-04T22:40:28.510435Z",
     "shell.execute_reply": "2025-02-04T22:40:28.509541Z"
    },
    "papermill": {
     "duration": 0.970622,
     "end_time": "2025-02-04T22:40:28.512303",
     "exception": false,
     "start_time": "2025-02-04T22:40:27.541681",
     "status": "completed"
    },
    "tags": []
   },
   "outputs": [],
   "source": [
    "import numpy as np\n",
    "import pandas as pd "
   ]
  },
  {
   "cell_type": "markdown",
   "id": "4a315a0c",
   "metadata": {
    "papermill": {
     "duration": 0.002235,
     "end_time": "2025-02-04T22:40:28.517330",
     "exception": false,
     "start_time": "2025-02-04T22:40:28.515095",
     "status": "completed"
    },
    "tags": []
   },
   "source": [
    "## 1.2 Load Data"
   ]
  },
  {
   "cell_type": "code",
   "execution_count": 2,
   "id": "64c85ad1",
   "metadata": {
    "execution": {
     "iopub.execute_input": "2025-02-04T22:40:28.523806Z",
     "iopub.status.busy": "2025-02-04T22:40:28.523278Z",
     "iopub.status.idle": "2025-02-04T22:41:02.001154Z",
     "shell.execute_reply": "2025-02-04T22:41:01.999703Z"
    },
    "papermill": {
     "duration": 33.483652,
     "end_time": "2025-02-04T22:41:02.003373",
     "exception": false,
     "start_time": "2025-02-04T22:40:28.519721",
     "status": "completed"
    },
    "tags": []
   },
   "outputs": [],
   "source": [
    "dos = pd.read_csv('/kaggle/input/car-hacking-dataset/DoS_dataset.csv')\n",
    "fuzzy = pd.read_csv('/kaggle/input/car-hacking-dataset/Fuzzy_dataset.csv')\n",
    "gear = pd.read_csv('/kaggle/input/car-hacking-dataset/gear_dataset.csv')\n",
    "rpm = pd.read_csv('/kaggle/input/car-hacking-dataset/RPM_dataset.csv')\n"
   ]
  },
  {
   "cell_type": "code",
   "execution_count": 3,
   "id": "a3a32db4",
   "metadata": {
    "execution": {
     "iopub.execute_input": "2025-02-04T22:41:02.011397Z",
     "iopub.status.busy": "2025-02-04T22:41:02.010989Z",
     "iopub.status.idle": "2025-02-04T22:41:02.018025Z",
     "shell.execute_reply": "2025-02-04T22:41:02.016824Z"
    },
    "papermill": {
     "duration": 0.013757,
     "end_time": "2025-02-04T22:41:02.020282",
     "exception": false,
     "start_time": "2025-02-04T22:41:02.006525",
     "status": "completed"
    },
    "tags": []
   },
   "outputs": [],
   "source": [
    "dos.columns = ['Timestamp', 'CAN ID', 'DLC', 'DATA0', 'DATA1', 'DATA2', 'DATA3', 'DATA4', 'DATA5', 'DATA6', 'DATA7', 'Flag']\n",
    "fuzzy.columns = ['Timestamp', 'CAN ID', 'DLC', 'DATA0', 'DATA1', 'DATA2', 'DATA3', 'DATA4', 'DATA5', 'DATA6', 'DATA7', 'Flag']\n",
    "gear.columns = ['Timestamp', 'CAN ID', 'DLC', 'DATA0', 'DATA1', 'DATA2', 'DATA3', 'DATA4', 'DATA5', 'DATA6', 'DATA7', 'Flag']\n",
    "rpm.columns = ['Timestamp', 'CAN ID', 'DLC', 'DATA0', 'DATA1', 'DATA2', 'DATA3', 'DATA4', 'DATA5', 'DATA6', 'DATA7', 'Flag']\n"
   ]
  },
  {
   "cell_type": "code",
   "execution_count": 4,
   "id": "228a2814",
   "metadata": {
    "execution": {
     "iopub.execute_input": "2025-02-04T22:41:02.027719Z",
     "iopub.status.busy": "2025-02-04T22:41:02.027269Z",
     "iopub.status.idle": "2025-02-04T22:41:02.035989Z",
     "shell.execute_reply": "2025-02-04T22:41:02.034833Z"
    },
    "papermill": {
     "duration": 0.014334,
     "end_time": "2025-02-04T22:41:02.037841",
     "exception": false,
     "start_time": "2025-02-04T22:41:02.023507",
     "status": "completed"
    },
    "tags": []
   },
   "outputs": [
    {
     "data": {
      "text/plain": [
       "((3665770, 12), (3838859, 12), (4443141, 12), (4621701, 12))"
      ]
     },
     "execution_count": 4,
     "metadata": {},
     "output_type": "execute_result"
    }
   ],
   "source": [
    "dos.shape, fuzzy.shape, gear.shape, rpm.shape"
   ]
  },
  {
   "cell_type": "code",
   "execution_count": 5,
   "id": "55a25ba9",
   "metadata": {
    "execution": {
     "iopub.execute_input": "2025-02-04T22:41:02.045158Z",
     "iopub.status.busy": "2025-02-04T22:41:02.044804Z",
     "iopub.status.idle": "2025-02-04T22:41:02.081656Z",
     "shell.execute_reply": "2025-02-04T22:41:02.080036Z"
    },
    "papermill": {
     "duration": 0.04385,
     "end_time": "2025-02-04T22:41:02.084809",
     "exception": false,
     "start_time": "2025-02-04T22:41:02.040959",
     "status": "completed"
    },
    "tags": []
   },
   "outputs": [
    {
     "data": {
      "text/html": [
       "<div>\n",
       "<style scoped>\n",
       "    .dataframe tbody tr th:only-of-type {\n",
       "        vertical-align: middle;\n",
       "    }\n",
       "\n",
       "    .dataframe tbody tr th {\n",
       "        vertical-align: top;\n",
       "    }\n",
       "\n",
       "    .dataframe thead th {\n",
       "        text-align: right;\n",
       "    }\n",
       "</style>\n",
       "<table border=\"1\" class=\"dataframe\">\n",
       "  <thead>\n",
       "    <tr style=\"text-align: right;\">\n",
       "      <th></th>\n",
       "      <th>Timestamp</th>\n",
       "      <th>CAN ID</th>\n",
       "      <th>DLC</th>\n",
       "      <th>DATA0</th>\n",
       "      <th>DATA1</th>\n",
       "      <th>DATA2</th>\n",
       "      <th>DATA3</th>\n",
       "      <th>DATA4</th>\n",
       "      <th>DATA5</th>\n",
       "      <th>DATA6</th>\n",
       "      <th>DATA7</th>\n",
       "      <th>Flag</th>\n",
       "    </tr>\n",
       "  </thead>\n",
       "  <tbody>\n",
       "    <tr>\n",
       "      <th>0</th>\n",
       "      <td>1.478198e+09</td>\n",
       "      <td>018f</td>\n",
       "      <td>8</td>\n",
       "      <td>fe</td>\n",
       "      <td>5b</td>\n",
       "      <td>00</td>\n",
       "      <td>00</td>\n",
       "      <td>00</td>\n",
       "      <td>3c</td>\n",
       "      <td>00</td>\n",
       "      <td>00</td>\n",
       "      <td>R</td>\n",
       "    </tr>\n",
       "    <tr>\n",
       "      <th>1</th>\n",
       "      <td>1.478198e+09</td>\n",
       "      <td>0260</td>\n",
       "      <td>8</td>\n",
       "      <td>19</td>\n",
       "      <td>21</td>\n",
       "      <td>22</td>\n",
       "      <td>30</td>\n",
       "      <td>08</td>\n",
       "      <td>8e</td>\n",
       "      <td>6d</td>\n",
       "      <td>3a</td>\n",
       "      <td>R</td>\n",
       "    </tr>\n",
       "    <tr>\n",
       "      <th>2</th>\n",
       "      <td>1.478198e+09</td>\n",
       "      <td>02a0</td>\n",
       "      <td>8</td>\n",
       "      <td>64</td>\n",
       "      <td>00</td>\n",
       "      <td>9a</td>\n",
       "      <td>1d</td>\n",
       "      <td>97</td>\n",
       "      <td>02</td>\n",
       "      <td>bd</td>\n",
       "      <td>00</td>\n",
       "      <td>R</td>\n",
       "    </tr>\n",
       "    <tr>\n",
       "      <th>3</th>\n",
       "      <td>1.478198e+09</td>\n",
       "      <td>0329</td>\n",
       "      <td>8</td>\n",
       "      <td>40</td>\n",
       "      <td>bb</td>\n",
       "      <td>7f</td>\n",
       "      <td>14</td>\n",
       "      <td>11</td>\n",
       "      <td>20</td>\n",
       "      <td>00</td>\n",
       "      <td>14</td>\n",
       "      <td>R</td>\n",
       "    </tr>\n",
       "    <tr>\n",
       "      <th>4</th>\n",
       "      <td>1.478198e+09</td>\n",
       "      <td>0545</td>\n",
       "      <td>8</td>\n",
       "      <td>d8</td>\n",
       "      <td>00</td>\n",
       "      <td>00</td>\n",
       "      <td>8a</td>\n",
       "      <td>00</td>\n",
       "      <td>00</td>\n",
       "      <td>00</td>\n",
       "      <td>00</td>\n",
       "      <td>R</td>\n",
       "    </tr>\n",
       "    <tr>\n",
       "      <th>5</th>\n",
       "      <td>1.478198e+09</td>\n",
       "      <td>0002</td>\n",
       "      <td>8</td>\n",
       "      <td>00</td>\n",
       "      <td>00</td>\n",
       "      <td>00</td>\n",
       "      <td>00</td>\n",
       "      <td>00</td>\n",
       "      <td>03</td>\n",
       "      <td>0b</td>\n",
       "      <td>11</td>\n",
       "      <td>R</td>\n",
       "    </tr>\n",
       "    <tr>\n",
       "      <th>6</th>\n",
       "      <td>1.478198e+09</td>\n",
       "      <td>0153</td>\n",
       "      <td>8</td>\n",
       "      <td>00</td>\n",
       "      <td>21</td>\n",
       "      <td>10</td>\n",
       "      <td>ff</td>\n",
       "      <td>00</td>\n",
       "      <td>ff</td>\n",
       "      <td>00</td>\n",
       "      <td>00</td>\n",
       "      <td>R</td>\n",
       "    </tr>\n",
       "    <tr>\n",
       "      <th>7</th>\n",
       "      <td>1.478198e+09</td>\n",
       "      <td>02c0</td>\n",
       "      <td>8</td>\n",
       "      <td>14</td>\n",
       "      <td>00</td>\n",
       "      <td>00</td>\n",
       "      <td>00</td>\n",
       "      <td>00</td>\n",
       "      <td>00</td>\n",
       "      <td>00</td>\n",
       "      <td>00</td>\n",
       "      <td>R</td>\n",
       "    </tr>\n",
       "    <tr>\n",
       "      <th>8</th>\n",
       "      <td>1.478198e+09</td>\n",
       "      <td>0130</td>\n",
       "      <td>8</td>\n",
       "      <td>08</td>\n",
       "      <td>80</td>\n",
       "      <td>00</td>\n",
       "      <td>ff</td>\n",
       "      <td>31</td>\n",
       "      <td>80</td>\n",
       "      <td>0b</td>\n",
       "      <td>7f</td>\n",
       "      <td>R</td>\n",
       "    </tr>\n",
       "    <tr>\n",
       "      <th>9</th>\n",
       "      <td>1.478198e+09</td>\n",
       "      <td>0131</td>\n",
       "      <td>8</td>\n",
       "      <td>e5</td>\n",
       "      <td>7f</td>\n",
       "      <td>00</td>\n",
       "      <td>00</td>\n",
       "      <td>48</td>\n",
       "      <td>7f</td>\n",
       "      <td>0b</td>\n",
       "      <td>ac</td>\n",
       "      <td>R</td>\n",
       "    </tr>\n",
       "  </tbody>\n",
       "</table>\n",
       "</div>"
      ],
      "text/plain": [
       "      Timestamp CAN ID  DLC DATA0 DATA1 DATA2 DATA3 DATA4 DATA5 DATA6 DATA7  \\\n",
       "0  1.478198e+09   018f    8    fe    5b    00    00    00    3c    00    00   \n",
       "1  1.478198e+09   0260    8    19    21    22    30    08    8e    6d    3a   \n",
       "2  1.478198e+09   02a0    8    64    00    9a    1d    97    02    bd    00   \n",
       "3  1.478198e+09   0329    8    40    bb    7f    14    11    20    00    14   \n",
       "4  1.478198e+09   0545    8    d8    00    00    8a    00    00    00    00   \n",
       "5  1.478198e+09   0002    8    00    00    00    00    00    03    0b    11   \n",
       "6  1.478198e+09   0153    8    00    21    10    ff    00    ff    00    00   \n",
       "7  1.478198e+09   02c0    8    14    00    00    00    00    00    00    00   \n",
       "8  1.478198e+09   0130    8    08    80    00    ff    31    80    0b    7f   \n",
       "9  1.478198e+09   0131    8    e5    7f    00    00    48    7f    0b    ac   \n",
       "\n",
       "  Flag  \n",
       "0    R  \n",
       "1    R  \n",
       "2    R  \n",
       "3    R  \n",
       "4    R  \n",
       "5    R  \n",
       "6    R  \n",
       "7    R  \n",
       "8    R  \n",
       "9    R  "
      ]
     },
     "execution_count": 5,
     "metadata": {},
     "output_type": "execute_result"
    }
   ],
   "source": [
    "dos.head(10)"
   ]
  },
  {
   "cell_type": "code",
   "execution_count": null,
   "id": "762806f2",
   "metadata": {
    "papermill": {
     "duration": 0.003497,
     "end_time": "2025-02-04T22:41:02.092240",
     "exception": false,
     "start_time": "2025-02-04T22:41:02.088743",
     "status": "completed"
    },
    "tags": []
   },
   "outputs": [],
   "source": []
  }
 ],
 "metadata": {
  "kaggle": {
   "accelerator": "none",
   "dataSources": [
    {
     "datasetId": 6592386,
     "sourceId": 10647102,
     "sourceType": "datasetVersion"
    }
   ],
   "dockerImageVersionId": 30839,
   "isGpuEnabled": false,
   "isInternetEnabled": true,
   "language": "python",
   "sourceType": "notebook"
  },
  "kernelspec": {
   "display_name": "Python 3",
   "language": "python",
   "name": "python3"
  },
  "language_info": {
   "codemirror_mode": {
    "name": "ipython",
    "version": 3
   },
   "file_extension": ".py",
   "mimetype": "text/x-python",
   "name": "python",
   "nbconvert_exporter": "python",
   "pygments_lexer": "ipython3",
   "version": "3.10.12"
  },
  "papermill": {
   "default_parameters": {},
   "duration": 38.407719,
   "end_time": "2025-02-04T22:41:03.118544",
   "environment_variables": {},
   "exception": null,
   "input_path": "__notebook__.ipynb",
   "output_path": "__notebook__.ipynb",
   "parameters": {},
   "start_time": "2025-02-04T22:40:24.710825",
   "version": "2.6.0"
  }
 },
 "nbformat": 4,
 "nbformat_minor": 5
}
