{
 "cells": [
  {
   "cell_type": "code",
   "execution_count": 1,
   "id": "ce9202bd",
   "metadata": {
    "_cell_guid": "b1076dfc-b9ad-4769-8c92-a6c4dae69d19",
    "_uuid": "8f2839f25d086af736a60e9eeb907d3b93b6e0e5",
    "execution": {
     "iopub.execute_input": "2025-01-29T03:41:28.741769Z",
     "iopub.status.busy": "2025-01-29T03:41:28.741394Z",
     "iopub.status.idle": "2025-01-29T03:41:29.626138Z",
     "shell.execute_reply": "2025-01-29T03:41:29.624958Z"
    },
    "papermill": {
     "duration": 0.89112,
     "end_time": "2025-01-29T03:41:29.627910",
     "exception": false,
     "start_time": "2025-01-29T03:41:28.736790",
     "status": "completed"
    },
    "tags": []
   },
   "outputs": [
    {
     "name": "stdout",
     "output_type": "stream",
     "text": [
      "/kaggle/input/cicids2017/Benign-Monday-no-metadata.parquet\n",
      "/kaggle/input/cicids2017/Bruteforce-Tuesday-no-metadata.parquet\n",
      "/kaggle/input/cicids2017/Portscan-Friday-no-metadata.parquet\n",
      "/kaggle/input/cicids2017/WebAttacks-Thursday-no-metadata.parquet\n",
      "/kaggle/input/cicids2017/DoS-Wednesday-no-metadata.parquet\n",
      "/kaggle/input/cicids2017/DDoS-Friday-no-metadata.parquet\n",
      "/kaggle/input/cicids2017/Infiltration-Thursday-no-metadata.parquet\n",
      "/kaggle/input/cicids2017/Botnet-Friday-no-metadata.parquet\n"
     ]
    }
   ],
   "source": [
    "# This Python 3 environment comes with many helpful analytics libraries installed\n",
    "# It is defined by the kaggle/python Docker image: https://github.com/kaggle/docker-python\n",
    "# For example, here's several helpful packages to load\n",
    "\n",
    "import numpy as np # linear algebra\n",
    "import pandas as pd # data processing, CSV file I/O (e.g. pd.read_csv)\n",
    "\n",
    "# Input data files are available in the read-only \"../input/\" directory\n",
    "# For example, running this (by clicking run or pressing Shift+Enter) will list all files under the input directory\n",
    "\n",
    "import os\n",
    "for dirname, _, filenames in os.walk('/kaggle/input'):\n",
    "    for filename in filenames:\n",
    "        print(os.path.join(dirname, filename))\n",
    "\n",
    "# You can write up to 20GB to the current directory (/kaggle/working/) that gets preserved as output when you create a version using \"Save & Run All\" \n",
    "# You can also write temporary files to /kaggle/temp/, but they won't be saved outside of the current session"
   ]
  },
  {
   "cell_type": "markdown",
   "id": "fcb7e0ed",
   "metadata": {
    "papermill": {
     "duration": 0.002405,
     "end_time": "2025-01-29T03:41:29.633398",
     "exception": false,
     "start_time": "2025-01-29T03:41:29.630993",
     "status": "completed"
    },
    "tags": []
   },
   "source": [
    "\n",
    "---\n",
    "\n",
    "# Predictive Analysis for Threat Intelligence on CIC-IDS2017\n",
    "\n",
    "### Time-Series Forecasting  \n",
    "**Predicting future network attacks by analyzing historical traffic patterns to enhance cybersecurity measures.**\n",
    "\n",
    "---\n",
    "\n",
    "\n",
    "### Step 1: Define the Predictive Analysis Task - Time-Series Forecasting\n",
    "\n",
    "In this project, we aim to **predict future network attacks** based on historical traffic patterns from the CIC-IDS-2017 dataset. The goal is to leverage past network traffic data to forecast potential attacks and help in proactive threat detection.\n",
    "\n",
    "The steps involved in the time-series forecasting task include:\n",
    "\n",
    "1. **Data Preprocessing:**\n",
    "   - Clean and prepare the data to convert it into a time-series format.\n",
    "   - Aggregate the data over a time window (e.g., hourly, daily).\n",
    "\n",
    "2. **Feature Engineering:**\n",
    "   - Extract time-related features (e.g., day of the week, hour of the day).\n",
    "   - Generate statistical features like moving averages, rolling windows, and lags.\n",
    "\n",
    "3. **Model Selection:**\n",
    "   - Train time-series forecasting models (e.g., ARIMA, LSTM, Prophet) to predict future attack occurrences.\n",
    "\n",
    "4. **Model Evaluation:**\n",
    "   - Evaluate the model's performance using metrics like Mean Absolute Error (MAE), Root Mean Squared Error (RMSE), and other suitable time-series metrics.\n",
    "\n",
    "5. **Prediction:**\n",
    "   - Use the trained model to forecast future attacks and detect patterns in the network traffic.\n",
    "\n",
    "By analyzing the historical traffic data, we aim to predict the likelihood of attacks occurring in the future, enhancing security measures and reducing potential risks.\n",
    "\n",
    "---\n",
    "\n"
   ]
  },
  {
   "cell_type": "code",
   "execution_count": 2,
   "id": "0c4703b4",
   "metadata": {
    "execution": {
     "iopub.execute_input": "2025-01-29T03:41:29.639927Z",
     "iopub.status.busy": "2025-01-29T03:41:29.639449Z",
     "iopub.status.idle": "2025-01-29T03:41:32.143733Z",
     "shell.execute_reply": "2025-01-29T03:41:32.142574Z"
    },
    "papermill": {
     "duration": 2.510052,
     "end_time": "2025-01-29T03:41:32.146071",
     "exception": false,
     "start_time": "2025-01-29T03:41:29.636019",
     "status": "completed"
    },
    "tags": []
   },
   "outputs": [],
   "source": [
    "# Importing necessary libraries for Linear Algebra operations\n",
    "import numpy as np\n",
    "\n",
    "# Importing pandas for data processing and handling file I/O operations\n",
    "import pandas as pd\n",
    "\n",
    "# Importing matplotlib and seaborn for data visualization\n",
    "import matplotlib.pyplot as plt\n",
    "import seaborn as sns\n",
    "\n",
    "# Importing time library for measuring latency and execution time\n",
    "import time\n",
    "\n",
    "# Importing LabelEncoder to convert categorical target variable into numerical labels\n",
    "from sklearn.preprocessing import LabelEncoder\n",
    "\n",
    "# Importing train_test_split for splitting the dataset into training and testing sets\n",
    "from sklearn.model_selection import train_test_split\n",
    "\n",
    "# Importing Normalizer and QuantileTransformer for feature scaling and transformation\n",
    "from sklearn.preprocessing import Normalizer, QuantileTransformer\n",
    "\n",
    "# Importing mutual_info_classif for feature selection based on mutual information\n",
    "from sklearn.feature_selection import mutual_info_classif\n",
    "\n",
    "# Importing evaluation metrics for model performance measurement\n",
    "from sklearn.metrics import accuracy_score, precision_score, recall_score, f1_score\n",
    "\n",
    "# Importing SMOTE for handling class imbalance by oversampling the minority class\n",
    "from imblearn.over_sampling import SMOTE\n",
    "\n",
    "# Importing os for file path handling and other system-level operations\n",
    "import os\n",
    "\n",
    "# Importing IPython's display and HTML to create and show a report in a Jupyter notebook\n",
    "from IPython.display import display, HTML\n"
   ]
  },
  {
   "cell_type": "markdown",
   "id": "d8008383",
   "metadata": {
    "papermill": {
     "duration": 0.002521,
     "end_time": "2025-01-29T03:41:32.152736",
     "exception": false,
     "start_time": "2025-01-29T03:41:32.150215",
     "status": "completed"
    },
    "tags": []
   },
   "source": [
    "---\n",
    "\n",
    "## Data Preprocessing\n",
    "\n",
    "\n",
    "The **CIC-IDS-2017** dataset can be accessed on [Kaggle](https://www.kaggle.com/) or through the **Canadian Institute for Cybersecurity** website: [CIC-IDS-2017 Dataset](https://www.unb.ca/cic/datasets/ids-2017.html).\n",
    "\n",
    "This dataset includes various features such as **flow duration**, **packet size**, **protocol type**, and **attack labels**, which are essential for detecting and analyzing network security threats.\n",
    "\n",
    "\n",
    "---"
   ]
  },
  {
   "cell_type": "markdown",
   "id": "55394a36",
   "metadata": {
    "papermill": {
     "duration": 0.002369,
     "end_time": "2025-01-29T03:41:32.157766",
     "exception": false,
     "start_time": "2025-01-29T03:41:32.155397",
     "status": "completed"
    },
    "tags": []
   },
   "source": [
    "### Loading the Data"
   ]
  },
  {
   "cell_type": "code",
   "execution_count": 3,
   "id": "732356ca",
   "metadata": {
    "execution": {
     "iopub.execute_input": "2025-01-29T03:41:32.164478Z",
     "iopub.status.busy": "2025-01-29T03:41:32.163927Z",
     "iopub.status.idle": "2025-01-29T03:41:35.343869Z",
     "shell.execute_reply": "2025-01-29T03:41:35.342714Z"
    },
    "papermill": {
     "duration": 3.185784,
     "end_time": "2025-01-29T03:41:35.346108",
     "exception": false,
     "start_time": "2025-01-29T03:41:32.160324",
     "status": "completed"
    },
    "tags": []
   },
   "outputs": [],
   "source": [
    "# Load the CIC-IDS-2017 datasets\n",
    "datasets = {\n",
    "    'Benign-Monday': '/kaggle/input/cicids2017/Benign-Monday-no-metadata.parquet',\n",
    "    'Botnet-Friday': '/kaggle/input/cicids2017/Botnet-Friday-no-metadata.parquet',\n",
    "    'Bruteforce-Tuesday': '/kaggle/input/cicids2017/Bruteforce-Tuesday-no-metadata.parquet',\n",
    "    'DDoS-Friday': '/kaggle/input/cicids2017/DDoS-Friday-no-metadata.parquet',\n",
    "    'DoS-Wednesday': '/kaggle/input/cicids2017/DoS-Wednesday-no-metadata.parquet',\n",
    "    'Infiltration-Thursday': '/kaggle/input/cicids2017/Infiltration-Thursday-no-metadata.parquet',\n",
    "    'Portscan-Friday': '/kaggle/input/cicids2017/Portscan-Friday-no-metadata.parquet',\n",
    "    'WebAttacks-Thursday': '/kaggle/input/cicids2017/WebAttacks-Thursday-no-metadata.parquet'\n",
    "}\n",
    "\n",
    "# Read the datasets into DataFrames\n",
    "df_data = {key: pd.read_parquet(path) for key, path in datasets.items()}\n"
   ]
  },
  {
   "cell_type": "code",
   "execution_count": 4,
   "id": "51c26d72",
   "metadata": {
    "execution": {
     "iopub.execute_input": "2025-01-29T03:41:35.353505Z",
     "iopub.status.busy": "2025-01-29T03:41:35.353067Z",
     "iopub.status.idle": "2025-01-29T03:41:35.360254Z",
     "shell.execute_reply": "2025-01-29T03:41:35.358997Z"
    },
    "papermill": {
     "duration": 0.012685,
     "end_time": "2025-01-29T03:41:35.361924",
     "exception": false,
     "start_time": "2025-01-29T03:41:35.349239",
     "status": "completed"
    },
    "tags": []
   },
   "outputs": [
    {
     "name": "stdout",
     "output_type": "stream",
     "text": [
      "Head of Benign-Monday:\n",
      "Head of Botnet-Friday:\n",
      "Head of Bruteforce-Tuesday:\n",
      "Head of DDoS-Friday:\n",
      "Head of DoS-Wednesday:\n",
      "Head of Infiltration-Thursday:\n",
      "Head of Portscan-Friday:\n",
      "Head of WebAttacks-Thursday:\n"
     ]
    }
   ],
   "source": [
    "# Display the first 5 rows of each DataFrame\n",
    "for name, df in df_data.items():\n",
    "    print(f\"Head of {name}:\")\n",
    "    # print(df.head(), \"\\n\")\n"
   ]
  },
  {
   "cell_type": "code",
   "execution_count": 5,
   "id": "9eef469f",
   "metadata": {
    "execution": {
     "iopub.execute_input": "2025-01-29T03:41:35.368452Z",
     "iopub.status.busy": "2025-01-29T03:41:35.368121Z",
     "iopub.status.idle": "2025-01-29T03:41:35.763705Z",
     "shell.execute_reply": "2025-01-29T03:41:35.762387Z"
    },
    "papermill": {
     "duration": 0.400645,
     "end_time": "2025-01-29T03:41:35.765436",
     "exception": false,
     "start_time": "2025-01-29T03:41:35.364791",
     "status": "completed"
    },
    "tags": []
   },
   "outputs": [
    {
     "name": "stdout",
     "output_type": "stream",
     "text": [
      "   Protocol  Flow Duration  Total Fwd Packets  Total Backward Packets  \\\n",
      "0         6              4                  2                       0   \n",
      "1         6              1                  2                       0   \n",
      "2         6              3                  2                       0   \n",
      "3         6              1                  2                       0   \n",
      "4         6            609                  7                       4   \n",
      "\n",
      "   Fwd Packets Length Total  Bwd Packets Length Total  Fwd Packet Length Max  \\\n",
      "0                        12                         0                      6   \n",
      "1                        12                         0                      6   \n",
      "2                        12                         0                      6   \n",
      "3                        12                         0                      6   \n",
      "4                       484                       414                    233   \n",
      "\n",
      "   Fwd Packet Length Min  Fwd Packet Length Mean  Fwd Packet Length Std  ...  \\\n",
      "0                      6                 6.00000               0.000000  ...   \n",
      "1                      6                 6.00000               0.000000  ...   \n",
      "2                      6                 6.00000               0.000000  ...   \n",
      "3                      6                 6.00000               0.000000  ...   \n",
      "4                      0                69.14286             111.967896  ...   \n",
      "\n",
      "   Fwd Seg Size Min  Active Mean  Active Std  Active Max  Active Min  \\\n",
      "0                20          0.0         0.0           0           0   \n",
      "1                20          0.0         0.0           0           0   \n",
      "2                20          0.0         0.0           0           0   \n",
      "3                20          0.0         0.0           0           0   \n",
      "4                20          0.0         0.0           0           0   \n",
      "\n",
      "   Idle Mean  Idle Std  Idle Max  Idle Min   Label  \n",
      "0        0.0       0.0         0         0  Benign  \n",
      "1        0.0       0.0         0         0  Benign  \n",
      "2        0.0       0.0         0         0  Benign  \n",
      "3        0.0       0.0         0         0  Benign  \n",
      "4        0.0       0.0         0         0  Benign  \n",
      "\n",
      "[5 rows x 78 columns]\n"
     ]
    }
   ],
   "source": [
    "# Concatenate all DataFrames into one\n",
    "df_all = pd.concat(df_data.values(), ignore_index=True)\n",
    "\n",
    "# Display the first 5 rows of the concatenated DataFrame\n",
    "print(df_all.head())\n"
   ]
  },
  {
   "cell_type": "code",
   "execution_count": null,
   "id": "92a2ac42",
   "metadata": {
    "papermill": {
     "duration": 0.002851,
     "end_time": "2025-01-29T03:41:35.771220",
     "exception": false,
     "start_time": "2025-01-29T03:41:35.768369",
     "status": "completed"
    },
    "tags": []
   },
   "outputs": [],
   "source": []
  }
 ],
 "metadata": {
  "kaggle": {
   "accelerator": "none",
   "dataSources": [
    {
     "datasetId": 2395943,
     "sourceId": 4059877,
     "sourceType": "datasetVersion"
    }
   ],
   "dockerImageVersionId": 30839,
   "isGpuEnabled": false,
   "isInternetEnabled": true,
   "language": "python",
   "sourceType": "notebook"
  },
  "kernelspec": {
   "display_name": "Python 3",
   "language": "python",
   "name": "python3"
  },
  "language_info": {
   "codemirror_mode": {
    "name": "ipython",
    "version": 3
   },
   "file_extension": ".py",
   "mimetype": "text/x-python",
   "name": "python",
   "nbconvert_exporter": "python",
   "pygments_lexer": "ipython3",
   "version": "3.10.12"
  },
  "papermill": {
   "default_parameters": {},
   "duration": 10.561981,
   "end_time": "2025-01-29T03:41:36.593906",
   "environment_variables": {},
   "exception": null,
   "input_path": "__notebook__.ipynb",
   "output_path": "__notebook__.ipynb",
   "parameters": {},
   "start_time": "2025-01-29T03:41:26.031925",
   "version": "2.6.0"
  }
 },
 "nbformat": 4,
 "nbformat_minor": 5
}
