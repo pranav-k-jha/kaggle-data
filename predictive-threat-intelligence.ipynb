{
 "cells": [
  {
   "cell_type": "code",
   "execution_count": 1,
   "id": "31477bfa",
   "metadata": {
    "_cell_guid": "b1076dfc-b9ad-4769-8c92-a6c4dae69d19",
    "_uuid": "8f2839f25d086af736a60e9eeb907d3b93b6e0e5",
    "execution": {
     "iopub.execute_input": "2025-01-29T00:13:17.634618Z",
     "iopub.status.busy": "2025-01-29T00:13:17.634200Z",
     "iopub.status.idle": "2025-01-29T00:13:18.701247Z",
     "shell.execute_reply": "2025-01-29T00:13:18.699907Z"
    },
    "papermill": {
     "duration": 1.073736,
     "end_time": "2025-01-29T00:13:18.703567",
     "exception": false,
     "start_time": "2025-01-29T00:13:17.629831",
     "status": "completed"
    },
    "tags": []
   },
   "outputs": [
    {
     "name": "stdout",
     "output_type": "stream",
     "text": [
      "/kaggle/input/unsw-nb15/UNSW_NB15_testing-set.csv\n",
      "/kaggle/input/unsw-nb15/UNSW-NB15_1.csv\n",
      "/kaggle/input/unsw-nb15/UNSW_NB15_training-set.csv\n",
      "/kaggle/input/unsw-nb15/UNSW-NB15_LIST_EVENTS.csv\n",
      "/kaggle/input/unsw-nb15/UNSW-NB15_4.csv\n",
      "/kaggle/input/unsw-nb15/UNSW-NB15_3.csv\n",
      "/kaggle/input/unsw-nb15/UNSW-NB15_2.csv\n",
      "/kaggle/input/unsw-nb15/NUSW-NB15_features.csv\n"
     ]
    }
   ],
   "source": [
    "# This Python 3 environment comes with many helpful analytics libraries installed\n",
    "# It is defined by the kaggle/python Docker image: https://github.com/kaggle/docker-python\n",
    "# For example, here's several helpful packages to load\n",
    "\n",
    "import numpy as np # linear algebra\n",
    "import pandas as pd # data processing, CSV file I/O (e.g. pd.read_csv)\n",
    "\n",
    "# Input data files are available in the read-only \"../input/\" directory\n",
    "# For example, running this (by clicking run or pressing Shift+Enter) will list all files under the input directory\n",
    "\n",
    "import os\n",
    "for dirname, _, filenames in os.walk('/kaggle/input'):\n",
    "    for filename in filenames:\n",
    "        print(os.path.join(dirname, filename))\n",
    "\n",
    "# You can write up to 20GB to the current directory (/kaggle/working/) that gets preserved as output when you create a version using \"Save & Run All\" \n",
    "# You can also write temporary files to /kaggle/temp/, but they won't be saved outside of the current session"
   ]
  },
  {
   "cell_type": "markdown",
   "id": "9ccda9f0",
   "metadata": {
    "papermill": {
     "duration": 0.002175,
     "end_time": "2025-01-29T00:13:18.708563",
     "exception": false,
     "start_time": "2025-01-29T00:13:18.706388",
     "status": "completed"
    },
    "tags": []
   },
   "source": [
    "---\n",
    "# Data Understanding & Preparation\n",
    "- **Loading Data**:\n",
    "  - [The UNSW-NB15 Dataset](https://research.unsw.edu.au/projects/unsw-nb15-dataset)\n",
    "  - Using `UNSW_NB15_training-set.csv` and `UNSW_NB15_testing-set.csv` as primary datasets.\n",
    "  - Refer to `NUSW-NB15_features.csv` (likely a typo; correct filename is `UNSW-NB15_features.csv`) to understand column meanings (e.g., `proto`, `service`, `attack_cat`).\n",
    "- **Key Columns**:\n",
    "  - **Label**: `label` (0 = normal, 1 = attack).\n",
    "  - **Attack Type**: `attack_cat` (e.g., Exploits, DoS, Reconnaissance).\n",
    "\n",
    "---"
   ]
  },
  {
   "cell_type": "code",
   "execution_count": 2,
   "id": "29171428",
   "metadata": {
    "execution": {
     "iopub.execute_input": "2025-01-29T00:13:18.715348Z",
     "iopub.status.busy": "2025-01-29T00:13:18.714850Z",
     "iopub.status.idle": "2025-01-29T00:13:45.201700Z",
     "shell.execute_reply": "2025-01-29T00:13:45.200577Z"
    },
    "papermill": {
     "duration": 26.492672,
     "end_time": "2025-01-29T00:13:45.203620",
     "exception": false,
     "start_time": "2025-01-29T00:13:18.710948",
     "status": "completed"
    },
    "tags": []
   },
   "outputs": [],
   "source": [
    "testing_set = pd.read_csv('/kaggle/input/unsw-nb15/UNSW_NB15_testing-set.csv')\n",
    "training_set = pd.read_csv('/kaggle/input/unsw-nb15/UNSW_NB15_training-set.csv')\n",
    "LIST_EVENTS = pd.read_csv('/kaggle/input/unsw-nb15/UNSW-NB15_LIST_EVENTS.csv')\n",
    "\n",
    "NB15_1 = pd.read_csv('/kaggle/input/unsw-nb15/UNSW-NB15_1.csv', low_memory=False)\n",
    "NB15_2 = pd.read_csv('/kaggle/input/unsw-nb15/UNSW-NB15_2.csv', low_memory=False)\n",
    "\n",
    "NB15_3 = pd.read_csv('/kaggle/input/unsw-nb15/UNSW-NB15_3.csv')\n",
    "NB15_4 = pd.read_csv('/kaggle/input/unsw-nb15/UNSW-NB15_4.csv')\n",
    "NB15_features = pd.read_csv('/kaggle/input/unsw-nb15/NUSW-NB15_features.csv', encoding='cp1252')"
   ]
  },
  {
   "cell_type": "markdown",
   "id": "501d9013",
   "metadata": {
    "papermill": {
     "duration": 0.002163,
     "end_time": "2025-01-29T00:13:45.209874",
     "exception": false,
     "start_time": "2025-01-29T00:13:45.207711",
     "status": "completed"
    },
    "tags": []
   },
   "source": [
    "- ## Data Exploration:\n",
    "  - Checking class distribution (e.g., imbalance between normal and attack traffic).\n",
    "  - Identifying categorical (e.g., `proto`, `state`) vs. numerical (e.g., `dur`, `sbytes`) features."
   ]
  },
  {
   "cell_type": "code",
   "execution_count": 3,
   "id": "76da4ab6",
   "metadata": {
    "execution": {
     "iopub.execute_input": "2025-01-29T00:13:45.216770Z",
     "iopub.status.busy": "2025-01-29T00:13:45.216351Z",
     "iopub.status.idle": "2025-01-29T00:13:45.256144Z",
     "shell.execute_reply": "2025-01-29T00:13:45.254921Z"
    },
    "papermill": {
     "duration": 0.045488,
     "end_time": "2025-01-29T00:13:45.258252",
     "exception": false,
     "start_time": "2025-01-29T00:13:45.212764",
     "status": "completed"
    },
    "tags": []
   },
   "outputs": [
    {
     "data": {
      "text/html": [
       "<div>\n",
       "<style scoped>\n",
       "    .dataframe tbody tr th:only-of-type {\n",
       "        vertical-align: middle;\n",
       "    }\n",
       "\n",
       "    .dataframe tbody tr th {\n",
       "        vertical-align: top;\n",
       "    }\n",
       "\n",
       "    .dataframe thead th {\n",
       "        text-align: right;\n",
       "    }\n",
       "</style>\n",
       "<table border=\"1\" class=\"dataframe\">\n",
       "  <thead>\n",
       "    <tr style=\"text-align: right;\">\n",
       "      <th></th>\n",
       "      <th>59.166.0.0</th>\n",
       "      <th>1390</th>\n",
       "      <th>149.171.126.6</th>\n",
       "      <th>53</th>\n",
       "      <th>udp</th>\n",
       "      <th>CON</th>\n",
       "      <th>0.001055</th>\n",
       "      <th>132</th>\n",
       "      <th>164</th>\n",
       "      <th>31</th>\n",
       "      <th>...</th>\n",
       "      <th>0.17</th>\n",
       "      <th>3</th>\n",
       "      <th>7</th>\n",
       "      <th>1</th>\n",
       "      <th>3.1</th>\n",
       "      <th>1.1</th>\n",
       "      <th>1.2</th>\n",
       "      <th>1.3</th>\n",
       "      <th>Unnamed: 47</th>\n",
       "      <th>0.18</th>\n",
       "    </tr>\n",
       "  </thead>\n",
       "  <tbody>\n",
       "    <tr>\n",
       "      <th>0</th>\n",
       "      <td>59.166.0.0</td>\n",
       "      <td>33661</td>\n",
       "      <td>149.171.126.9</td>\n",
       "      <td>1024</td>\n",
       "      <td>udp</td>\n",
       "      <td>CON</td>\n",
       "      <td>0.036133</td>\n",
       "      <td>528</td>\n",
       "      <td>304</td>\n",
       "      <td>31</td>\n",
       "      <td>...</td>\n",
       "      <td>0</td>\n",
       "      <td>2</td>\n",
       "      <td>4</td>\n",
       "      <td>2</td>\n",
       "      <td>3</td>\n",
       "      <td>1</td>\n",
       "      <td>1</td>\n",
       "      <td>2</td>\n",
       "      <td>NaN</td>\n",
       "      <td>0</td>\n",
       "    </tr>\n",
       "    <tr>\n",
       "      <th>1</th>\n",
       "      <td>59.166.0.6</td>\n",
       "      <td>1464</td>\n",
       "      <td>149.171.126.7</td>\n",
       "      <td>53</td>\n",
       "      <td>udp</td>\n",
       "      <td>CON</td>\n",
       "      <td>0.001119</td>\n",
       "      <td>146</td>\n",
       "      <td>178</td>\n",
       "      <td>31</td>\n",
       "      <td>...</td>\n",
       "      <td>0</td>\n",
       "      <td>12</td>\n",
       "      <td>8</td>\n",
       "      <td>1</td>\n",
       "      <td>2</td>\n",
       "      <td>2</td>\n",
       "      <td>1</td>\n",
       "      <td>1</td>\n",
       "      <td>NaN</td>\n",
       "      <td>0</td>\n",
       "    </tr>\n",
       "    <tr>\n",
       "      <th>2</th>\n",
       "      <td>59.166.0.5</td>\n",
       "      <td>3593</td>\n",
       "      <td>149.171.126.5</td>\n",
       "      <td>53</td>\n",
       "      <td>udp</td>\n",
       "      <td>CON</td>\n",
       "      <td>0.001209</td>\n",
       "      <td>132</td>\n",
       "      <td>164</td>\n",
       "      <td>31</td>\n",
       "      <td>...</td>\n",
       "      <td>0</td>\n",
       "      <td>6</td>\n",
       "      <td>9</td>\n",
       "      <td>1</td>\n",
       "      <td>1</td>\n",
       "      <td>1</td>\n",
       "      <td>1</td>\n",
       "      <td>1</td>\n",
       "      <td>NaN</td>\n",
       "      <td>0</td>\n",
       "    </tr>\n",
       "    <tr>\n",
       "      <th>3</th>\n",
       "      <td>59.166.0.3</td>\n",
       "      <td>49664</td>\n",
       "      <td>149.171.126.0</td>\n",
       "      <td>53</td>\n",
       "      <td>udp</td>\n",
       "      <td>CON</td>\n",
       "      <td>0.001169</td>\n",
       "      <td>146</td>\n",
       "      <td>178</td>\n",
       "      <td>31</td>\n",
       "      <td>...</td>\n",
       "      <td>0</td>\n",
       "      <td>7</td>\n",
       "      <td>9</td>\n",
       "      <td>1</td>\n",
       "      <td>1</td>\n",
       "      <td>1</td>\n",
       "      <td>1</td>\n",
       "      <td>1</td>\n",
       "      <td>NaN</td>\n",
       "      <td>0</td>\n",
       "    </tr>\n",
       "    <tr>\n",
       "      <th>4</th>\n",
       "      <td>59.166.0.0</td>\n",
       "      <td>32119</td>\n",
       "      <td>149.171.126.9</td>\n",
       "      <td>111</td>\n",
       "      <td>udp</td>\n",
       "      <td>CON</td>\n",
       "      <td>0.078339</td>\n",
       "      <td>568</td>\n",
       "      <td>312</td>\n",
       "      <td>31</td>\n",
       "      <td>...</td>\n",
       "      <td>0</td>\n",
       "      <td>2</td>\n",
       "      <td>4</td>\n",
       "      <td>2</td>\n",
       "      <td>3</td>\n",
       "      <td>1</td>\n",
       "      <td>1</td>\n",
       "      <td>2</td>\n",
       "      <td>NaN</td>\n",
       "      <td>0</td>\n",
       "    </tr>\n",
       "  </tbody>\n",
       "</table>\n",
       "<p>5 rows × 49 columns</p>\n",
       "</div>"
      ],
      "text/plain": [
       "   59.166.0.0   1390  149.171.126.6    53  udp  CON  0.001055  132  164  31  \\\n",
       "0  59.166.0.0  33661  149.171.126.9  1024  udp  CON  0.036133  528  304  31   \n",
       "1  59.166.0.6   1464  149.171.126.7    53  udp  CON  0.001119  146  178  31   \n",
       "2  59.166.0.5   3593  149.171.126.5    53  udp  CON  0.001209  132  164  31   \n",
       "3  59.166.0.3  49664  149.171.126.0    53  udp  CON  0.001169  146  178  31   \n",
       "4  59.166.0.0  32119  149.171.126.9   111  udp  CON  0.078339  568  312  31   \n",
       "\n",
       "   ...  0.17   3  7  1  3.1  1.1  1.2  1.3  Unnamed: 47  0.18  \n",
       "0  ...     0   2  4  2    3    1    1    2          NaN     0  \n",
       "1  ...     0  12  8  1    2    2    1    1          NaN     0  \n",
       "2  ...     0   6  9  1    1    1    1    1          NaN     0  \n",
       "3  ...     0   7  9  1    1    1    1    1          NaN     0  \n",
       "4  ...     0   2  4  2    3    1    1    2          NaN     0  \n",
       "\n",
       "[5 rows x 49 columns]"
      ]
     },
     "execution_count": 3,
     "metadata": {},
     "output_type": "execute_result"
    }
   ],
   "source": [
    "NB15_1.head()"
   ]
  },
  {
   "cell_type": "code",
   "execution_count": 4,
   "id": "e3024866",
   "metadata": {
    "execution": {
     "iopub.execute_input": "2025-01-29T00:13:45.265539Z",
     "iopub.status.busy": "2025-01-29T00:13:45.265161Z",
     "iopub.status.idle": "2025-01-29T00:13:45.273607Z",
     "shell.execute_reply": "2025-01-29T00:13:45.272358Z"
    },
    "papermill": {
     "duration": 0.014005,
     "end_time": "2025-01-29T00:13:45.275267",
     "exception": false,
     "start_time": "2025-01-29T00:13:45.261262",
     "status": "completed"
    },
    "tags": []
   },
   "outputs": [
    {
     "data": {
      "text/plain": [
       "59.166.0.0        object\n",
       "1390              object\n",
       "149.171.126.6     object\n",
       "53                object\n",
       "udp               object\n",
       "CON               object\n",
       "0.001055         float64\n",
       "132                int64\n",
       "164                int64\n",
       "31                 int64\n",
       "29                 int64\n",
       "0                  int64\n",
       "0.1                int64\n",
       "dns               object\n",
       "500473.9375      float64\n",
       "621800.9375      float64\n",
       "2                  int64\n",
       "2.1                int64\n",
       "0.2                int64\n",
       "0.3                int64\n",
       "0.4                int64\n",
       "0.5                int64\n",
       "66                 int64\n",
       "82                 int64\n",
       "0.6                int64\n",
       "0.7                int64\n",
       "0.8              float64\n",
       "0.9              float64\n",
       "1421927414         int64\n",
       "1421927414.1       int64\n",
       "0.017            float64\n",
       "0.013            float64\n",
       "0.10             float64\n",
       "0.11             float64\n",
       "0.12             float64\n",
       "0.13               int64\n",
       "0.14               int64\n",
       "0.15               int64\n",
       "0.16               int64\n",
       "0.17               int64\n",
       "3                  int64\n",
       "7                  int64\n",
       "1                  int64\n",
       "3.1                int64\n",
       "1.1                int64\n",
       "1.2                int64\n",
       "1.3                int64\n",
       "Unnamed: 47       object\n",
       "0.18               int64\n",
       "dtype: object"
      ]
     },
     "execution_count": 4,
     "metadata": {},
     "output_type": "execute_result"
    }
   ],
   "source": [
    "NB15_1.dtypes"
   ]
  },
  {
   "cell_type": "code",
   "execution_count": null,
   "id": "2735228d",
   "metadata": {
    "papermill": {
     "duration": 0.002637,
     "end_time": "2025-01-29T00:13:45.280906",
     "exception": false,
     "start_time": "2025-01-29T00:13:45.278269",
     "status": "completed"
    },
    "tags": []
   },
   "outputs": [],
   "source": []
  }
 ],
 "metadata": {
  "kaggle": {
   "accelerator": "none",
   "dataSources": [
    {
     "datasetId": 111554,
     "sourceId": 267091,
     "sourceType": "datasetVersion"
    }
   ],
   "dockerImageVersionId": 30839,
   "isGpuEnabled": false,
   "isInternetEnabled": true,
   "language": "python",
   "sourceType": "notebook"
  },
  "kernelspec": {
   "display_name": "Python 3",
   "language": "python",
   "name": "python3"
  },
  "language_info": {
   "codemirror_mode": {
    "name": "ipython",
    "version": 3
   },
   "file_extension": ".py",
   "mimetype": "text/x-python",
   "name": "python",
   "nbconvert_exporter": "python",
   "pygments_lexer": "ipython3",
   "version": "3.10.12"
  },
  "papermill": {
   "default_parameters": {},
   "duration": 31.357251,
   "end_time": "2025-01-29T00:13:46.004988",
   "environment_variables": {},
   "exception": null,
   "input_path": "__notebook__.ipynb",
   "output_path": "__notebook__.ipynb",
   "parameters": {},
   "start_time": "2025-01-29T00:13:14.647737",
   "version": "2.6.0"
  }
 },
 "nbformat": 4,
 "nbformat_minor": 5
}
