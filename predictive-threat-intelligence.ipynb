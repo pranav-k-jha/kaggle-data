{
 "cells": [
  {
   "cell_type": "code",
   "execution_count": 1,
   "id": "98ead7eb",
   "metadata": {
    "_cell_guid": "b1076dfc-b9ad-4769-8c92-a6c4dae69d19",
    "_uuid": "8f2839f25d086af736a60e9eeb907d3b93b6e0e5",
    "execution": {
     "iopub.execute_input": "2025-01-28T22:13:42.006437Z",
     "iopub.status.busy": "2025-01-28T22:13:42.006045Z",
     "iopub.status.idle": "2025-01-28T22:13:43.094893Z",
     "shell.execute_reply": "2025-01-28T22:13:43.093770Z"
    },
    "papermill": {
     "duration": 1.094198,
     "end_time": "2025-01-28T22:13:43.096658",
     "exception": false,
     "start_time": "2025-01-28T22:13:42.002460",
     "status": "completed"
    },
    "tags": []
   },
   "outputs": [
    {
     "name": "stdout",
     "output_type": "stream",
     "text": [
      "/kaggle/input/unsw-nb15/UNSW_NB15_testing-set.csv\n",
      "/kaggle/input/unsw-nb15/UNSW-NB15_1.csv\n",
      "/kaggle/input/unsw-nb15/UNSW_NB15_training-set.csv\n",
      "/kaggle/input/unsw-nb15/UNSW-NB15_LIST_EVENTS.csv\n",
      "/kaggle/input/unsw-nb15/UNSW-NB15_4.csv\n",
      "/kaggle/input/unsw-nb15/UNSW-NB15_3.csv\n",
      "/kaggle/input/unsw-nb15/UNSW-NB15_2.csv\n",
      "/kaggle/input/unsw-nb15/NUSW-NB15_features.csv\n"
     ]
    }
   ],
   "source": [
    "# This Python 3 environment comes with many helpful analytics libraries installed\n",
    "# It is defined by the kaggle/python Docker image: https://github.com/kaggle/docker-python\n",
    "# For example, here's several helpful packages to load\n",
    "\n",
    "import numpy as np # linear algebra\n",
    "import pandas as pd # data processing, CSV file I/O (e.g. pd.read_csv)\n",
    "\n",
    "# Input data files are available in the read-only \"../input/\" directory\n",
    "# For example, running this (by clicking run or pressing Shift+Enter) will list all files under the input directory\n",
    "\n",
    "import os\n",
    "for dirname, _, filenames in os.walk('/kaggle/input'):\n",
    "    for filename in filenames:\n",
    "        print(os.path.join(dirname, filename))\n",
    "\n",
    "# You can write up to 20GB to the current directory (/kaggle/working/) that gets preserved as output when you create a version using \"Save & Run All\" \n",
    "# You can also write temporary files to /kaggle/temp/, but they won't be saved outside of the current session"
   ]
  },
  {
   "cell_type": "markdown",
   "id": "594d9686",
   "metadata": {
    "papermill": {
     "duration": 0.001722,
     "end_time": "2025-01-28T22:13:43.100797",
     "exception": false,
     "start_time": "2025-01-28T22:13:43.099075",
     "status": "completed"
    },
    "tags": []
   },
   "source": [
    "---\n",
    "# Data Understanding & Preparation\n",
    "- **Loading Data**:\n",
    "  - [The UNSW-NB15 Dataset](https://research.unsw.edu.au/projects/unsw-nb15-dataset)\n",
    "  - Using `UNSW_NB15_training-set.csv` and `UNSW_NB15_testing-set.csv` as primary datasets.\n",
    "  - Refer to `NUSW-NB15_features.csv` (likely a typo; correct filename is `UNSW-NB15_features.csv`) to understand column meanings (e.g., `proto`, `service`, `attack_cat`).\n",
    "- **Key Columns**:\n",
    "  - **Label**: `label` (0 = normal, 1 = attack).\n",
    "  - **Attack Type**: `attack_cat` (e.g., Exploits, DoS, Reconnaissance).\n",
    "\n",
    "---"
   ]
  },
  {
   "cell_type": "code",
   "execution_count": null,
   "id": "78c1401a",
   "metadata": {
    "papermill": {
     "duration": 0.001609,
     "end_time": "2025-01-28T22:13:43.104286",
     "exception": false,
     "start_time": "2025-01-28T22:13:43.102677",
     "status": "completed"
    },
    "tags": []
   },
   "outputs": [],
   "source": []
  },
  {
   "cell_type": "markdown",
   "id": "321fcbbf",
   "metadata": {
    "papermill": {
     "duration": 0.001574,
     "end_time": "2025-01-28T22:13:43.107679",
     "exception": false,
     "start_time": "2025-01-28T22:13:43.106105",
     "status": "completed"
    },
    "tags": []
   },
   "source": [
    "- ## Data Exploration:\n",
    "  - Checking class distribution (e.g., imbalance between normal and attack traffic).\n",
    "  - Identifying categorical (e.g., `proto`, `state`) vs. numerical (e.g., `dur`, `sbytes`) features."
   ]
  },
  {
   "cell_type": "code",
   "execution_count": null,
   "id": "ac00b25e",
   "metadata": {
    "papermill": {
     "duration": 0.002891,
     "end_time": "2025-01-28T22:13:43.112699",
     "exception": false,
     "start_time": "2025-01-28T22:13:43.109808",
     "status": "completed"
    },
    "tags": []
   },
   "outputs": [],
   "source": []
  }
 ],
 "metadata": {
  "kaggle": {
   "accelerator": "none",
   "dataSources": [
    {
     "datasetId": 111554,
     "sourceId": 267091,
     "sourceType": "datasetVersion"
    }
   ],
   "dockerImageVersionId": 30839,
   "isGpuEnabled": false,
   "isInternetEnabled": true,
   "language": "python",
   "sourceType": "notebook"
  },
  "kernelspec": {
   "display_name": "Python 3",
   "language": "python",
   "name": "python3"
  },
  "language_info": {
   "codemirror_mode": {
    "name": "ipython",
    "version": 3
   },
   "file_extension": ".py",
   "mimetype": "text/x-python",
   "name": "python",
   "nbconvert_exporter": "python",
   "pygments_lexer": "ipython3",
   "version": "3.10.12"
  },
  "papermill": {
   "default_parameters": {},
   "duration": 4.732038,
   "end_time": "2025-01-28T22:13:43.735294",
   "environment_variables": {},
   "exception": null,
   "input_path": "__notebook__.ipynb",
   "output_path": "__notebook__.ipynb",
   "parameters": {},
   "start_time": "2025-01-28T22:13:39.003256",
   "version": "2.6.0"
  }
 },
 "nbformat": 4,
 "nbformat_minor": 5
}
