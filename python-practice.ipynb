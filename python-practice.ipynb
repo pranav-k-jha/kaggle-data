{
 "cells": [
  {
   "cell_type": "code",
   "execution_count": 1,
   "id": "d41339f3",
   "metadata": {
    "_cell_guid": "b1076dfc-b9ad-4769-8c92-a6c4dae69d19",
    "_uuid": "8f2839f25d086af736a60e9eeb907d3b93b6e0e5",
    "execution": {
     "iopub.execute_input": "2024-09-22T20:29:32.437541Z",
     "iopub.status.busy": "2024-09-22T20:29:32.436969Z",
     "iopub.status.idle": "2024-09-22T20:29:32.885410Z",
     "shell.execute_reply": "2024-09-22T20:29:32.883215Z"
    },
    "papermill": {
     "duration": 0.458937,
     "end_time": "2024-09-22T20:29:32.888255",
     "exception": false,
     "start_time": "2024-09-22T20:29:32.429318",
     "status": "completed"
    },
    "tags": []
   },
   "outputs": [],
   "source": [
    "# This Python 3 environment comes with many helpful analytics libraries installed\n",
    "# It is defined by the kaggle/python Docker image: https://github.com/kaggle/docker-python\n",
    "# For example, here's several helpful packages to load\n",
    "\n",
    "import numpy as np # linear algebra\n",
    "import pandas as pd # data processing, CSV file I/O (e.g. pd.read_csv)\n",
    "\n",
    "# Input data files are available in the read-only \"../input/\" directory\n",
    "# For example, running this (by clicking run or pressing Shift+Enter) will list all files under the input directory\n",
    "\n",
    "import os\n",
    "for dirname, _, filenames in os.walk('/kaggle/input'):\n",
    "    for filename in filenames:\n",
    "        print(os.path.join(dirname, filename))\n",
    "\n",
    "# You can write up to 20GB to the current directory (/kaggle/working/) that gets preserved as output when you create a version using \"Save & Run All\" \n",
    "# You can also write temporary files to /kaggle/temp/, but they won't be saved outside of the current session"
   ]
  },
  {
   "cell_type": "markdown",
   "id": "1380df23",
   "metadata": {
    "papermill": {
     "duration": 0.006225,
     "end_time": "2024-09-22T20:29:32.901581",
     "exception": false,
     "start_time": "2024-09-22T20:29:32.895356",
     "status": "completed"
    },
    "tags": []
   },
   "source": [
    "# Problem:\n",
    "\n",
    "Write a Python function that takes an integer n as input and returns the sum of all multiples of 3 or 5 below n.\n",
    "\n",
    "For example, if n = 10, then the multiples of 3 and 5 below 10 are 3, 5, 6, and 9, and their sum is 23."
   ]
  },
  {
   "cell_type": "code",
   "execution_count": 2,
   "id": "d3f6426b",
   "metadata": {
    "execution": {
     "iopub.execute_input": "2024-09-22T20:29:32.916364Z",
     "iopub.status.busy": "2024-09-22T20:29:32.915804Z",
     "iopub.status.idle": "2024-09-22T20:29:32.924082Z",
     "shell.execute_reply": "2024-09-22T20:29:32.922828Z"
    },
    "papermill": {
     "duration": 0.018668,
     "end_time": "2024-09-22T20:29:32.927335",
     "exception": false,
     "start_time": "2024-09-22T20:29:32.908667",
     "status": "completed"
    },
    "tags": []
   },
   "outputs": [
    {
     "name": "stdout",
     "output_type": "stream",
     "text": [
      "Sum of multiples of 3 or 5 below 10 is: 23\n"
     ]
    }
   ],
   "source": [
    "def sum_of_multiples(n):\n",
    "    total_sum = 0\n",
    "    for i in range(n):\n",
    "        if i % 3 == 0 or i % 5 == 0:\n",
    "            total_sum += i\n",
    "    return total_sum\n",
    "\n",
    "# Test the function\n",
    "n = 10\n",
    "result = sum_of_multiples(n)\n",
    "print(f\"Sum of multiples of 3 or 5 below {n} is: {result}\")"
   ]
  },
  {
   "cell_type": "markdown",
   "id": "bf635be2",
   "metadata": {
    "papermill": {
     "duration": 0.005524,
     "end_time": "2024-09-22T20:29:32.938422",
     "exception": false,
     "start_time": "2024-09-22T20:29:32.932898",
     "status": "completed"
    },
    "tags": []
   },
   "source": [
    "# Problem:\n",
    "Write a Python function that takes a string as input and returns the longest substring without repeating characters.\n",
    "\n",
    "For example, if the input is \"abcabcbb\", the answer is \"abc\" with the length of 3. If the input is \"bbbbb\", the answer is \"b\" with the length of 1."
   ]
  },
  {
   "cell_type": "code",
   "execution_count": 3,
   "id": "f4144942",
   "metadata": {
    "execution": {
     "iopub.execute_input": "2024-09-22T20:29:32.951322Z",
     "iopub.status.busy": "2024-09-22T20:29:32.950917Z",
     "iopub.status.idle": "2024-09-22T20:29:32.959275Z",
     "shell.execute_reply": "2024-09-22T20:29:32.957968Z"
    },
    "papermill": {
     "duration": 0.017956,
     "end_time": "2024-09-22T20:29:32.962116",
     "exception": false,
     "start_time": "2024-09-22T20:29:32.944160",
     "status": "completed"
    },
    "tags": []
   },
   "outputs": [
    {
     "name": "stdout",
     "output_type": "stream",
     "text": [
      "Longest unique substring: 'abc', Length: 3\n"
     ]
    }
   ],
   "source": [
    "def longest_unique_substring(s):\n",
    "    char_map = {}\n",
    "    start = 0\n",
    "    max_len = 0\n",
    "    max_substr = \"\"\n",
    "\n",
    "    for i, char in enumerate(s):\n",
    "        # If the character is already in the map and the start is less than or equal to char_map[char],\n",
    "        # move the start to the right of the repeating character's previous index\n",
    "        if char in char_map and start <= char_map[char]:\n",
    "            start = char_map[char] + 1\n",
    "        else:\n",
    "            # Calculate the length of the current substring\n",
    "            if i - start + 1 > max_len:\n",
    "                max_len = i - start + 1\n",
    "                max_substr = s[start:i + 1]\n",
    "\n",
    "        # Update the character's last seen position\n",
    "        char_map[char] = i\n",
    "\n",
    "    return max_substr, max_len\n",
    "\n",
    "# Test the function\n",
    "s = \"abcabcbb\"\n",
    "substring, length = longest_unique_substring(s)\n",
    "print(f\"Longest unique substring: '{substring}', Length: {length}\")\n"
   ]
  },
  {
   "cell_type": "markdown",
   "id": "79176bbd",
   "metadata": {
    "papermill": {
     "duration": 0.005441,
     "end_time": "2024-09-22T20:29:32.973029",
     "exception": false,
     "start_time": "2024-09-22T20:29:32.967588",
     "status": "completed"
    },
    "tags": []
   },
   "source": [
    "# Problem:\n",
    "Write a Python function to find all pairs of integers in a given list whose sum is equal to a target value. Return the pairs as a list of tuples.\n",
    "\n",
    "For example, if the input list is [2, 4, 3, 5, 7, 8, 9] and the target sum is 7, the function should return [(2, 5), (4, 3)]."
   ]
  },
  {
   "cell_type": "code",
   "execution_count": 4,
   "id": "9341176d",
   "metadata": {
    "execution": {
     "iopub.execute_input": "2024-09-22T20:29:32.988440Z",
     "iopub.status.busy": "2024-09-22T20:29:32.987653Z",
     "iopub.status.idle": "2024-09-22T20:29:32.996709Z",
     "shell.execute_reply": "2024-09-22T20:29:32.995306Z"
    },
    "papermill": {
     "duration": 0.019453,
     "end_time": "2024-09-22T20:29:32.999490",
     "exception": false,
     "start_time": "2024-09-22T20:29:32.980037",
     "status": "completed"
    },
    "tags": []
   },
   "outputs": [
    {
     "name": "stdout",
     "output_type": "stream",
     "text": [
      "Pairs that sum up to 7: [(4, 3), (2, 5)]\n"
     ]
    }
   ],
   "source": [
    "def find_pairs_with_sum(nums, target):\n",
    "    seen = set()\n",
    "    pairs = []\n",
    "\n",
    "    for num in nums:\n",
    "        complement = target - num\n",
    "        if complement in seen:\n",
    "            pairs.append((complement, num))\n",
    "        seen.add(num)\n",
    "\n",
    "    return pairs\n",
    "\n",
    "# Test the function\n",
    "nums = [2, 4, 3, 5, 7, 8, 9]\n",
    "target = 7\n",
    "result = find_pairs_with_sum(nums, target)\n",
    "print(f\"Pairs that sum up to {target}: {result}\")\n"
   ]
  },
  {
   "cell_type": "markdown",
   "id": "b35113df",
   "metadata": {
    "papermill": {
     "duration": 0.005317,
     "end_time": "2024-09-22T20:29:33.011274",
     "exception": false,
     "start_time": "2024-09-22T20:29:33.005957",
     "status": "completed"
    },
    "tags": []
   },
   "source": [
    "# Problem:\n",
    "Given an array of integers, write a Python function that finds the length of the longest consecutive sequence of numbers in the array. The sequence can be in any order in the array, but the numbers should be consecutive (i.e., 1, 2, 3, etc.), and the sequence does not need to be contiguous.\n",
    "\n",
    "For example, given the input array [100, 4, 200, 1, 3, 2], the longest consecutive sequence is [1, 2, 3, 4], and its length is 4."
   ]
  },
  {
   "cell_type": "code",
   "execution_count": 5,
   "id": "35f4554e",
   "metadata": {
    "execution": {
     "iopub.execute_input": "2024-09-22T20:29:33.025615Z",
     "iopub.status.busy": "2024-09-22T20:29:33.025220Z",
     "iopub.status.idle": "2024-09-22T20:29:33.033516Z",
     "shell.execute_reply": "2024-09-22T20:29:33.031845Z"
    },
    "papermill": {
     "duration": 0.020695,
     "end_time": "2024-09-22T20:29:33.037417",
     "exception": false,
     "start_time": "2024-09-22T20:29:33.016722",
     "status": "completed"
    },
    "tags": []
   },
   "outputs": [
    {
     "name": "stdout",
     "output_type": "stream",
     "text": [
      "Length of the longest consecutive sequence: 4\n"
     ]
    }
   ],
   "source": [
    "def longest_consecutive_sequence(nums):\n",
    "    num_set = set(nums)  # Convert to set for O(1) lookup\n",
    "    longest_streak = 0\n",
    "\n",
    "    for num in num_set:\n",
    "        # Check if it's the start of a sequence\n",
    "        if num - 1 not in num_set:\n",
    "            current_num = num\n",
    "            current_streak = 1\n",
    "\n",
    "            # Count the length of the sequence\n",
    "            while current_num + 1 in num_set:\n",
    "                current_num += 1\n",
    "                current_streak += 1\n",
    "\n",
    "            # Update the maximum streak length\n",
    "            longest_streak = max(longest_streak, current_streak)\n",
    "\n",
    "    return longest_streak\n",
    "\n",
    "# Test the function\n",
    "nums = [100, 4, 200, 1, 3, 2]\n",
    "result = longest_consecutive_sequence(nums)\n",
    "print(f\"Length of the longest consecutive sequence: {result}\")\n"
   ]
  },
  {
   "cell_type": "markdown",
   "id": "fc0cdd9b",
   "metadata": {
    "papermill": {
     "duration": 0.005859,
     "end_time": "2024-09-22T20:29:33.049054",
     "exception": false,
     "start_time": "2024-09-22T20:29:33.043195",
     "status": "completed"
    },
    "tags": []
   },
   "source": [
    "# Problem:\n",
    "Write a Python function to find the median of a list of numbers. The median is the value separating the higher half from the lower half of the list. If the list has an even number of elements, the median is the average of the two middle numbers.\n",
    "\n",
    "For example, given the list [3, 1, 4, 1, 5, 9, 2, 6, 5], the sorted list is [1, 1, 2, 3, 4, 5, 5, 6, 9], and the median is 4."
   ]
  },
  {
   "cell_type": "code",
   "execution_count": 6,
   "id": "3f26a196",
   "metadata": {
    "execution": {
     "iopub.execute_input": "2024-09-22T20:29:33.063275Z",
     "iopub.status.busy": "2024-09-22T20:29:33.062870Z",
     "iopub.status.idle": "2024-09-22T20:29:33.071030Z",
     "shell.execute_reply": "2024-09-22T20:29:33.069793Z"
    },
    "papermill": {
     "duration": 0.018063,
     "end_time": "2024-09-22T20:29:33.073885",
     "exception": false,
     "start_time": "2024-09-22T20:29:33.055822",
     "status": "completed"
    },
    "tags": []
   },
   "outputs": [
    {
     "name": "stdout",
     "output_type": "stream",
     "text": [
      "The median is: 4\n"
     ]
    }
   ],
   "source": [
    "def find_median(nums):\n",
    "    if not nums:\n",
    "        raise ValueError(\"The list is empty\")\n",
    "    \n",
    "    sorted_nums = sorted(nums)\n",
    "    n = len(sorted_nums)\n",
    "    mid = n // 2\n",
    "\n",
    "    if n % 2 == 1:\n",
    "        # For odd-length lists, return the middle element\n",
    "        return sorted_nums[mid]\n",
    "    else:\n",
    "        # For even-length lists, return the average of the two middle elements\n",
    "        return (sorted_nums[mid - 1] + sorted_nums[mid]) / 2\n",
    "\n",
    "# Test the function\n",
    "nums = [3, 1, 4, 1, 5, 9, 2, 6, 5]\n",
    "median = find_median(nums)\n",
    "print(f\"The median is: {median}\")\n"
   ]
  },
  {
   "cell_type": "markdown",
   "id": "890e1564",
   "metadata": {
    "papermill": {
     "duration": 0.00596,
     "end_time": "2024-09-22T20:29:33.085658",
     "exception": false,
     "start_time": "2024-09-22T20:29:33.079698",
     "status": "completed"
    },
    "tags": []
   },
   "source": [
    "# Problem: Max Area of Island\n",
    "\n",
    "You are given an m x n binary matrix grid, where 1 represents land and 0 represents water. An island is a group of 1s (land) connected 4-directionally (horizontal or vertical.) You may assume all four edges of the grid are surrounded by water.\n",
    "\n",
    "The area of an island is the number of 1s in the island.\n",
    "\n",
    "Return the maximum area of an island in the given grid. If there is no island, return 0.\n",
    "\n",
    "```\n",
    "Input: grid = [\n",
    "  [0,0,1,0,0],\n",
    "  [0,1,1,0,0],\n",
    "  [0,0,1,0,0],\n",
    "  [1,1,0,0,0],\n",
    "  [1,1,0,0,1]\n",
    "]\n",
    "Output: 6\n",
    "\n",
    "```"
   ]
  },
  {
   "cell_type": "markdown",
   "id": "b8984d33",
   "metadata": {
    "papermill": {
     "duration": 0.006677,
     "end_time": "2024-09-22T20:29:33.098030",
     "exception": false,
     "start_time": "2024-09-22T20:29:33.091353",
     "status": "completed"
    },
    "tags": []
   },
   "source": [
    "### Constraints:\n",
    "`\n",
    "m == grid.length\n",
    "n == grid[i].length\n",
    "1 <= m, n <= 50\n",
    "grid[i][j] is either 0 or 1.\n",
    "`\n",
    "\n",
    "### Solution Outline:\n",
    "Use Depth First Search (DFS) to traverse the grid and count the area of each island.\n",
    "Mark the cells as visited by setting them to 0 once counted.\n",
    "Keep track of the maximum area encountered."
   ]
  },
  {
   "cell_type": "code",
   "execution_count": 7,
   "id": "a0dfbcdc",
   "metadata": {
    "execution": {
     "iopub.execute_input": "2024-09-22T20:29:33.113028Z",
     "iopub.status.busy": "2024-09-22T20:29:33.112592Z",
     "iopub.status.idle": "2024-09-22T20:29:33.125926Z",
     "shell.execute_reply": "2024-09-22T20:29:33.124536Z"
    },
    "papermill": {
     "duration": 0.024446,
     "end_time": "2024-09-22T20:29:33.129369",
     "exception": false,
     "start_time": "2024-09-22T20:29:33.104923",
     "status": "completed"
    },
    "tags": []
   },
   "outputs": [
    {
     "name": "stdout",
     "output_type": "stream",
     "text": [
      "4\n"
     ]
    }
   ],
   "source": [
    "def max_area_of_island(grid):\n",
    "    if not grid:\n",
    "        return 0\n",
    "    \n",
    "    rows, cols = len(grid), len(grid[0])\n",
    "    \n",
    "    def dfs(r, c):\n",
    "        # If we're out of bounds or at a water cell, stop recursion.\n",
    "        if r < 0 or r >= rows or c < 0 or c >= cols or grid[r][c] == 0:\n",
    "            return 0\n",
    "        \n",
    "        # Mark the current land as visited by setting it to 0.\n",
    "        grid[r][c] = 0\n",
    "        \n",
    "        # Start with 1 to count the current cell.\n",
    "        area = 1\n",
    "        \n",
    "        # Explore all four directions (up, down, left, right)\n",
    "        area += dfs(r - 1, c)  # Up\n",
    "        area += dfs(r + 1, c)  # Down\n",
    "        area += dfs(r, c - 1)  # Left\n",
    "        area += dfs(r, c + 1)  # Right\n",
    "        \n",
    "        return area\n",
    "    \n",
    "    max_area = 0\n",
    "    \n",
    "    # Traverse the grid.\n",
    "    for r in range(rows):\n",
    "        for c in range(cols):\n",
    "            if grid[r][c] == 1:\n",
    "                # If it's land, compute the area of the island and update max_area.\n",
    "                max_area = max(max_area, dfs(r, c))\n",
    "    \n",
    "    return max_area\n",
    "\n",
    "# Example Usage\n",
    "grid = [\n",
    "    [0, 0, 1, 0, 0],\n",
    "    [0, 1, 1, 0, 0],\n",
    "    [0, 0, 1, 0, 0],\n",
    "    [1, 1, 0, 0, 0],\n",
    "    [1, 1, 0, 0, 1]\n",
    "]\n",
    "\n",
    "print(max_area_of_island(grid))  # Output: 6\n"
   ]
  },
  {
   "cell_type": "markdown",
   "id": "a5c9fbce",
   "metadata": {
    "papermill": {
     "duration": 0.006322,
     "end_time": "2024-09-22T20:29:33.143317",
     "exception": false,
     "start_time": "2024-09-22T20:29:33.136995",
     "status": "completed"
    },
    "tags": []
   },
   "source": [
    "# Problem: Two Sum (LeetCode Problem #1)\n",
    "\n",
    "Description:\n",
    "Given an array of integers nums and an integer target, return indices of the two numbers such that they add up to target.\n",
    "\n",
    "You may assume that each input would have exactly one solution, and you may not use the same element twice.\n",
    "\n",
    "You can return the answer in any order.\n",
    "\n",
    "Example:\n",
    "```\n",
    "Input: nums = [2, 7, 11, 15], target = 9\n",
    "Output: [0, 1]\n",
    "Explanation: Because nums[0] + nums[1] == 9, we return [0, 1]\n",
    "```\n",
    "Constraints:\n",
    "```\n",
    "2 <= nums.length <= 10^4\n",
    "-10^9 <= nums[i] <= 10^9\n",
    "-10^9 <= target <= 10^9\n",
    "```\n",
    "\n",
    "Only one valid answer exists."
   ]
  },
  {
   "cell_type": "code",
   "execution_count": 8,
   "id": "332a38a0",
   "metadata": {
    "execution": {
     "iopub.execute_input": "2024-09-22T20:29:33.157390Z",
     "iopub.status.busy": "2024-09-22T20:29:33.156922Z",
     "iopub.status.idle": "2024-09-22T20:29:33.165160Z",
     "shell.execute_reply": "2024-09-22T20:29:33.163722Z"
    },
    "papermill": {
     "duration": 0.018662,
     "end_time": "2024-09-22T20:29:33.167862",
     "exception": false,
     "start_time": "2024-09-22T20:29:33.149200",
     "status": "completed"
    },
    "tags": []
   },
   "outputs": [
    {
     "name": "stdout",
     "output_type": "stream",
     "text": [
      "[0, 1]\n"
     ]
    }
   ],
   "source": [
    "def two_sum(nums, target):\n",
    "    # Create a dictionary to store the difference and its index\n",
    "    num_dict = {}\n",
    "    \n",
    "    # Loop through the list of numbers\n",
    "    for i, num in enumerate(nums):\n",
    "        # Calculate the difference between target and current number\n",
    "        diff = target - num\n",
    "        \n",
    "        # If the difference is found in the dictionary, return the indices\n",
    "        if diff in num_dict:\n",
    "            return [num_dict[diff], i]\n",
    "        \n",
    "        # Otherwise, store the current number and its index in the dictionary\n",
    "        num_dict[num] = i\n",
    "\n",
    "# Example usage\n",
    "nums = [2, 7, 11, 15]\n",
    "target = 9\n",
    "print(two_sum(nums, target))  # Output: [0, 1]\n"
   ]
  },
  {
   "cell_type": "markdown",
   "id": "ac16c7df",
   "metadata": {
    "papermill": {
     "duration": 0.005676,
     "end_time": "2024-09-22T20:29:33.179920",
     "exception": false,
     "start_time": "2024-09-22T20:29:33.174244",
     "status": "completed"
    },
    "tags": []
   },
   "source": [
    "## Problem: Two Sum\n",
    "\n",
    "### Difficulty: Easy\n",
    "\n",
    "### Problem Statement:\n",
    "Given an array of integers `nums` and an integer `target`, return the indices of the two numbers such that they add up to the target. You may assume that each input would have exactly one solution, and you may not use the same element twice.\n",
    "\n",
    "You can return the answer in any order.\n",
    "\n",
    "### Examples:\n",
    "\n",
    "#### Example 1:\n",
    "**Input:**\n",
    "```python\n",
    "nums = [2, 7, 11, 15]\n",
    "target = 9\n",
    "\n",
    "Output:\n",
    "\n",
    "\n",
    "[0, 1]\n",
    "Explanation: Because nums[0] + nums[1] == 9, we return [0, 1].\n",
    "```\n",
    "\n",
    "#### Example 2:\n",
    "```python\n",
    "**Input:**\n",
    "\n",
    "\n",
    "nums = [3, 2, 4]\n",
    "target = 6\n",
    "Output:\n",
    "\n",
    "\n",
    "[1, 2]\n",
    "Example 3:\n",
    "Input:\n",
    "\n",
    "\n",
    "nums = [3, 3]\n",
    "target = 6\n",
    "Output:\n",
    "\n",
    "[0, 1]\n",
    "Constraints:\n",
    "2 <= nums.length <= 10^4\n",
    "-10^9 <= nums[i] <= 10^9\n",
    "-10^9 <= target <= 10^9\n",
    "Only one valid answer exists.\n"
   ]
  },
  {
   "cell_type": "code",
   "execution_count": 9,
   "id": "d806ee8c",
   "metadata": {
    "execution": {
     "iopub.execute_input": "2024-09-22T20:29:33.194528Z",
     "iopub.status.busy": "2024-09-22T20:29:33.194123Z",
     "iopub.status.idle": "2024-09-22T20:29:33.202475Z",
     "shell.execute_reply": "2024-09-22T20:29:33.200888Z"
    },
    "papermill": {
     "duration": 0.018244,
     "end_time": "2024-09-22T20:29:33.204985",
     "exception": false,
     "start_time": "2024-09-22T20:29:33.186741",
     "status": "completed"
    },
    "tags": []
   },
   "outputs": [
    {
     "name": "stdout",
     "output_type": "stream",
     "text": [
      "[0, 1]\n"
     ]
    }
   ],
   "source": [
    "def twoSum(nums, target):\n",
    "    # Hash map to store value and its index\n",
    "    num_to_index = {}\n",
    "\n",
    "    # Iterate through the array\n",
    "    for i, num in enumerate(nums):\n",
    "        complement = target - num\n",
    "\n",
    "        # If complement is in the hash map, return the indices\n",
    "        if complement in num_to_index:\n",
    "            return [num_to_index[complement], i]\n",
    "        \n",
    "        # Store the current number's index in the hash map\n",
    "        num_to_index[num] = i\n",
    "\n",
    "# Example usage:\n",
    "nums = [2, 7, 11, 15]\n",
    "target = 9\n",
    "print(twoSum(nums, target))  # Output: [0, 1]\n"
   ]
  },
  {
   "cell_type": "markdown",
   "id": "b828adab",
   "metadata": {
    "papermill": {
     "duration": 0.005724,
     "end_time": "2024-09-22T20:29:33.216815",
     "exception": false,
     "start_time": "2024-09-22T20:29:33.211091",
     "status": "completed"
    },
    "tags": []
   },
   "source": [
    "# Problem: **Longest Substring Without Repeating Characters**\n",
    "\n",
    "Write a function `longest_unique_substring(s: str) -> str` that returns the longest substring of a given string `s` that contains all unique characters. If there are multiple substrings of the same maximum length, return the first one found.\n",
    "\n",
    "#### **Function Signature**\n",
    "```python\n",
    "def longest_unique_substring(s: str) -> str:\n",
    "    pass\n",
    "```\n",
    "\n",
    "#### **Input**\n",
    "- A string `s` (1 ≤ len(s) ≤ 10^5) where `s` consists of printable ASCII characters.\n",
    "\n",
    "#### **Output**\n",
    "- A string representing the longest substring with all unique characters.\n",
    "\n",
    "#### **Examples**\n",
    "\n",
    "1. **Input:**\n",
    "   ```python\n",
    "   longest_unique_substring(\"abcabcbb\")\n",
    "   ```\n",
    "   **Output:**\n",
    "   ```python\n",
    "   \"abc\"\n",
    "   ```\n",
    "\n",
    "2. **Input:**\n",
    "   ```python\n",
    "   longest_unique_substring(\"bbbbb\")\n",
    "   ```\n",
    "   **Output:**\n",
    "   ```python\n",
    "   \"b\"\n",
    "   ```\n",
    "\n",
    "3. **Input:**\n",
    "   ```python\n",
    "   longest_unique_substring(\"pwwkew\")\n",
    "   ```\n",
    "   **Output:**\n",
    "   ```python\n",
    "   \"wke\"\n",
    "   ```\n",
    "\n",
    "#### **Hints**\n",
    "- Use the sliding window technique with two pointers.\n",
    "- Keep track of the characters in the current window using a set or dictionary.\n",
    "- Adjust the window size dynamically to ensure all characters in the window are unique.\n"
   ]
  },
  {
   "cell_type": "markdown",
   "id": "36dbcd58",
   "metadata": {
    "papermill": {
     "duration": 0.005838,
     "end_time": "2024-09-22T20:29:33.228632",
     "exception": false,
     "start_time": "2024-09-22T20:29:33.222794",
     "status": "completed"
    },
    "tags": []
   },
   "source": [
    "## Here's a Python solution for the problem of finding the longest substring with all unique characters using the sliding window technique:\n",
    "\n",
    "```python\n",
    "def longest_unique_substring(s: str) -> str:\n",
    "    start = 0  # Starting index of the sliding window\n",
    "    max_length = 0  # Length of the longest unique substring found\n",
    "    max_substring = \"\"  # The longest unique substring found\n",
    "    char_index_map = {}  # Map to store the last index of each character\n",
    "    \n",
    "    for end in range(len(s)):\n",
    "        char = s[end]\n",
    "        \n",
    "        # If the character is already in the map and is within the current window\n",
    "        if char in char_index_map and char_index_map[char] >= start:\n",
    "            # Move the start index right after the last occurrence of the current character\n",
    "            start = char_index_map[char] + 1\n",
    "        \n",
    "        # Update the last index of the character\n",
    "        char_index_map[char] = end\n",
    "        \n",
    "        # Update the longest unique substring if a longer one is found\n",
    "        if end - start + 1 > max_length:\n",
    "            max_length = end - start + 1\n",
    "            max_substring = s[start:end + 1]\n",
    "    \n",
    "    return max_substring\n",
    "```\n",
    "\n",
    "### Explanation\n",
    "\n",
    "1. **Initialization**:\n",
    "   - `start` keeps track of the beginning of the sliding window.\n",
    "   - `max_length` and `max_substring` store the length and content of the longest unique substring found so far.\n",
    "   - `char_index_map` is a dictionary to store the most recent index of each character.\n",
    "\n",
    "2. **Sliding Window**:\n",
    "   - Iterate through the string with the `end` pointer.\n",
    "   - If the current character is already in the map and its index is within the current window, adjust the `start` pointer to the right of the last occurrence of the character.\n",
    "   - Update the `char_index_map` with the latest index of the current character.\n",
    "   - If the current window is longer than the previously recorded longest substring, update `max_length` and `max_substring`.\n",
    "\n",
    "3. **Return**:\n",
    "   - The function returns the longest substring with unique characters.\n",
    "\n",
    "This approach ensures an efficient solution with a time complexity of O(n), where n is the length of the string, since each character is processed at most twice."
   ]
  },
  {
   "cell_type": "code",
   "execution_count": 10,
   "id": "1c81bdcd",
   "metadata": {
    "execution": {
     "iopub.execute_input": "2024-09-22T20:29:33.242826Z",
     "iopub.status.busy": "2024-09-22T20:29:33.242312Z",
     "iopub.status.idle": "2024-09-22T20:29:33.284930Z",
     "shell.execute_reply": "2024-09-22T20:29:33.282969Z"
    },
    "papermill": {
     "duration": 0.052856,
     "end_time": "2024-09-22T20:29:33.287662",
     "exception": false,
     "start_time": "2024-09-22T20:29:33.234806",
     "status": "completed"
    },
    "tags": []
   },
   "outputs": [
    {
     "name": "stdout",
     "output_type": "stream",
     "text": [
      "  car_company  yearly_average_commission\n",
      "0   Chevrolet                   12150000\n",
      "1        Ford                    5040000\n",
      "2       Honda                    6600000\n",
      "3      Toyota                    3315000\n"
     ]
    }
   ],
   "source": [
    "import pandas as pd\n",
    "import os\n",
    "\n",
    "def compute_average_commission(df):\n",
    "    # Dropping rows where units sold per annum < 1000\n",
    "    df1 = df[df['units_sold_per_annum'] >= 1000]\n",
    "    \n",
    "    # Replacing missing car prices with the value 20000\n",
    "    df2 = df1.fillna({'price': 20000})\n",
    "    \n",
    "    # Calculating commission for each car model: price * units_sold_per_annum * dealer_commission\n",
    "    df2['commission'] = df2['price'] * df2['units_sold_per_annum'] * df2['dealer_commission']\n",
    "    \n",
    "    # Grouping by car company and calculating the rounded yearly average commission\n",
    "    df3 = df2.groupby('car_company', as_index=False)['commission'].mean()\n",
    "    \n",
    "    # Renaming the column to 'yearly_average_commission' and setting its type to integer\n",
    "    df3['yearly_average_commission'] = df3['commission'].round().astype(int)\n",
    "    \n",
    "    # Dropping the original 'commission' column\n",
    "    df3 = df3.drop(columns=['commission'])\n",
    "    \n",
    "    # Sorting by 'car_company' in ascending order\n",
    "    df3 = df3.sort_values('car_company')\n",
    "    \n",
    "    return df3\n",
    "\n",
    "# Example DataFrame\n",
    "data = {\n",
    "    'car_company': ['Toyota', 'Honda', 'Ford', 'Toyota', 'Honda', 'Ford', 'Chevrolet'],\n",
    "    'car_model': ['Camry', 'Civic', 'F150', 'Corolla', 'Accord', 'Escape', 'Impala'],\n",
    "    'price': [25000, 22000, 30000, 24000, None, 28000, 27000],\n",
    "    'units_sold_per_annum': [1500, 2000, 900, 1200, 600, 1500, 2500],\n",
    "    'dealer_commission': [0.1, 0.15, 0.2, 0.1, 0.05, 0.12, 0.18]\n",
    "}\n",
    "\n",
    "example_df = pd.DataFrame(data)\n",
    "\n",
    "if __name__ == '__main__':\n",
    "    # Normally, you would read from an input, but we'll directly use the example DataFrame here\n",
    "    result = compute_average_commission(example_df)\n",
    "    \n",
    "    # Output result to console or file\n",
    "    print(result)  # Displaying the result for this example\n",
    "    # Uncomment the following lines to write to a file if needed\n",
    "    # fptr = open(os.environ['OUTPUT_PATH'], 'w')\n",
    "    # fptr.write(result.to_csv(index=False))\n",
    "    # fptr.close()\n"
   ]
  },
  {
   "cell_type": "code",
   "execution_count": null,
   "id": "87ff5c2a",
   "metadata": {
    "papermill": {
     "duration": 0.006728,
     "end_time": "2024-09-22T20:29:33.303070",
     "exception": false,
     "start_time": "2024-09-22T20:29:33.296342",
     "status": "completed"
    },
    "tags": []
   },
   "outputs": [],
   "source": []
  }
 ],
 "metadata": {
  "kaggle": {
   "accelerator": "none",
   "dataSources": [],
   "dockerImageVersionId": 30761,
   "isGpuEnabled": false,
   "isInternetEnabled": true,
   "language": "python",
   "sourceType": "notebook"
  },
  "kernelspec": {
   "display_name": "Python 3",
   "language": "python",
   "name": "python3"
  },
  "language_info": {
   "codemirror_mode": {
    "name": "ipython",
    "version": 3
   },
   "file_extension": ".py",
   "mimetype": "text/x-python",
   "name": "python",
   "nbconvert_exporter": "python",
   "pygments_lexer": "ipython3",
   "version": "3.10.14"
  },
  "papermill": {
   "default_parameters": {},
   "duration": 4.39699,
   "end_time": "2024-09-22T20:29:33.833442",
   "environment_variables": {},
   "exception": null,
   "input_path": "__notebook__.ipynb",
   "output_path": "__notebook__.ipynb",
   "parameters": {},
   "start_time": "2024-09-22T20:29:29.436452",
   "version": "2.6.0"
  }
 },
 "nbformat": 4,
 "nbformat_minor": 5
}
