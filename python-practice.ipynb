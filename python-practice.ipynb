{
 "cells": [
  {
   "cell_type": "code",
   "execution_count": 1,
   "id": "1dba6c8d",
   "metadata": {
    "_cell_guid": "b1076dfc-b9ad-4769-8c92-a6c4dae69d19",
    "_uuid": "8f2839f25d086af736a60e9eeb907d3b93b6e0e5",
    "execution": {
     "iopub.execute_input": "2024-09-07T22:24:08.108730Z",
     "iopub.status.busy": "2024-09-07T22:24:08.108253Z",
     "iopub.status.idle": "2024-09-07T22:24:08.588139Z",
     "shell.execute_reply": "2024-09-07T22:24:08.586821Z"
    },
    "papermill": {
     "duration": 0.489112,
     "end_time": "2024-09-07T22:24:08.591024",
     "exception": false,
     "start_time": "2024-09-07T22:24:08.101912",
     "status": "completed"
    },
    "tags": []
   },
   "outputs": [],
   "source": [
    "# This Python 3 environment comes with many helpful analytics libraries installed\n",
    "# It is defined by the kaggle/python Docker image: https://github.com/kaggle/docker-python\n",
    "# For example, here's several helpful packages to load\n",
    "\n",
    "import numpy as np # linear algebra\n",
    "import pandas as pd # data processing, CSV file I/O (e.g. pd.read_csv)\n",
    "\n",
    "# Input data files are available in the read-only \"../input/\" directory\n",
    "# For example, running this (by clicking run or pressing Shift+Enter) will list all files under the input directory\n",
    "\n",
    "import os\n",
    "for dirname, _, filenames in os.walk('/kaggle/input'):\n",
    "    for filename in filenames:\n",
    "        print(os.path.join(dirname, filename))\n",
    "\n",
    "# You can write up to 20GB to the current directory (/kaggle/working/) that gets preserved as output when you create a version using \"Save & Run All\" \n",
    "# You can also write temporary files to /kaggle/temp/, but they won't be saved outside of the current session"
   ]
  },
  {
   "cell_type": "markdown",
   "id": "0ece8ded",
   "metadata": {
    "papermill": {
     "duration": 0.003807,
     "end_time": "2024-09-07T22:24:08.599189",
     "exception": false,
     "start_time": "2024-09-07T22:24:08.595382",
     "status": "completed"
    },
    "tags": []
   },
   "source": [
    "# Problem:\n",
    "\n",
    "Write a Python function that takes an integer n as input and returns the sum of all multiples of 3 or 5 below n.\n",
    "\n",
    "For example, if n = 10, then the multiples of 3 and 5 below 10 are 3, 5, 6, and 9, and their sum is 23."
   ]
  },
  {
   "cell_type": "code",
   "execution_count": 2,
   "id": "7a74e752",
   "metadata": {
    "execution": {
     "iopub.execute_input": "2024-09-07T22:24:08.609239Z",
     "iopub.status.busy": "2024-09-07T22:24:08.608668Z",
     "iopub.status.idle": "2024-09-07T22:24:08.616493Z",
     "shell.execute_reply": "2024-09-07T22:24:08.615125Z"
    },
    "papermill": {
     "duration": 0.016084,
     "end_time": "2024-09-07T22:24:08.619308",
     "exception": false,
     "start_time": "2024-09-07T22:24:08.603224",
     "status": "completed"
    },
    "tags": []
   },
   "outputs": [
    {
     "name": "stdout",
     "output_type": "stream",
     "text": [
      "Sum of multiples of 3 or 5 below 10 is: 23\n"
     ]
    }
   ],
   "source": [
    "def sum_of_multiples(n):\n",
    "    total_sum = 0\n",
    "    for i in range(n):\n",
    "        if i % 3 == 0 or i % 5 == 0:\n",
    "            total_sum += i\n",
    "    return total_sum\n",
    "\n",
    "# Test the function\n",
    "n = 10\n",
    "result = sum_of_multiples(n)\n",
    "print(f\"Sum of multiples of 3 or 5 below {n} is: {result}\")"
   ]
  },
  {
   "cell_type": "markdown",
   "id": "df1d0dfb",
   "metadata": {
    "papermill": {
     "duration": 0.003735,
     "end_time": "2024-09-07T22:24:08.627207",
     "exception": false,
     "start_time": "2024-09-07T22:24:08.623472",
     "status": "completed"
    },
    "tags": []
   },
   "source": [
    "# Problem:\n",
    "Write a Python function that takes a string as input and returns the longest substring without repeating characters.\n",
    "\n",
    "For example, if the input is \"abcabcbb\", the answer is \"abc\" with the length of 3. If the input is \"bbbbb\", the answer is \"b\" with the length of 1."
   ]
  },
  {
   "cell_type": "code",
   "execution_count": 3,
   "id": "217f3226",
   "metadata": {
    "execution": {
     "iopub.execute_input": "2024-09-07T22:24:08.637341Z",
     "iopub.status.busy": "2024-09-07T22:24:08.636919Z",
     "iopub.status.idle": "2024-09-07T22:24:08.646123Z",
     "shell.execute_reply": "2024-09-07T22:24:08.644984Z"
    },
    "papermill": {
     "duration": 0.017921,
     "end_time": "2024-09-07T22:24:08.649439",
     "exception": false,
     "start_time": "2024-09-07T22:24:08.631518",
     "status": "completed"
    },
    "tags": []
   },
   "outputs": [
    {
     "name": "stdout",
     "output_type": "stream",
     "text": [
      "Longest unique substring: 'abc', Length: 3\n"
     ]
    }
   ],
   "source": [
    "def longest_unique_substring(s):\n",
    "    char_map = {}\n",
    "    start = 0\n",
    "    max_len = 0\n",
    "    max_substr = \"\"\n",
    "\n",
    "    for i, char in enumerate(s):\n",
    "        # If the character is already in the map and the start is less than or equal to char_map[char],\n",
    "        # move the start to the right of the repeating character's previous index\n",
    "        if char in char_map and start <= char_map[char]:\n",
    "            start = char_map[char] + 1\n",
    "        else:\n",
    "            # Calculate the length of the current substring\n",
    "            if i - start + 1 > max_len:\n",
    "                max_len = i - start + 1\n",
    "                max_substr = s[start:i + 1]\n",
    "\n",
    "        # Update the character's last seen position\n",
    "        char_map[char] = i\n",
    "\n",
    "    return max_substr, max_len\n",
    "\n",
    "# Test the function\n",
    "s = \"abcabcbb\"\n",
    "substring, length = longest_unique_substring(s)\n",
    "print(f\"Longest unique substring: '{substring}', Length: {length}\")\n"
   ]
  },
  {
   "cell_type": "markdown",
   "id": "b7d66b4c",
   "metadata": {
    "papermill": {
     "duration": 0.004296,
     "end_time": "2024-09-07T22:24:08.658337",
     "exception": false,
     "start_time": "2024-09-07T22:24:08.654041",
     "status": "completed"
    },
    "tags": []
   },
   "source": [
    "# Problem:\n",
    "Write a Python function to find all pairs of integers in a given list whose sum is equal to a target value. Return the pairs as a list of tuples.\n",
    "\n",
    "For example, if the input list is [2, 4, 3, 5, 7, 8, 9] and the target sum is 7, the function should return [(2, 5), (4, 3)]."
   ]
  },
  {
   "cell_type": "code",
   "execution_count": 4,
   "id": "d71c4451",
   "metadata": {
    "execution": {
     "iopub.execute_input": "2024-09-07T22:24:08.668918Z",
     "iopub.status.busy": "2024-09-07T22:24:08.668492Z",
     "iopub.status.idle": "2024-09-07T22:24:08.678276Z",
     "shell.execute_reply": "2024-09-07T22:24:08.677134Z"
    },
    "papermill": {
     "duration": 0.017924,
     "end_time": "2024-09-07T22:24:08.680659",
     "exception": false,
     "start_time": "2024-09-07T22:24:08.662735",
     "status": "completed"
    },
    "tags": []
   },
   "outputs": [
    {
     "name": "stdout",
     "output_type": "stream",
     "text": [
      "Pairs that sum up to 7: [(4, 3), (2, 5)]\n"
     ]
    }
   ],
   "source": [
    "def find_pairs_with_sum(nums, target):\n",
    "    seen = set()\n",
    "    pairs = []\n",
    "\n",
    "    for num in nums:\n",
    "        complement = target - num\n",
    "        if complement in seen:\n",
    "            pairs.append((complement, num))\n",
    "        seen.add(num)\n",
    "\n",
    "    return pairs\n",
    "\n",
    "# Test the function\n",
    "nums = [2, 4, 3, 5, 7, 8, 9]\n",
    "target = 7\n",
    "result = find_pairs_with_sum(nums, target)\n",
    "print(f\"Pairs that sum up to {target}: {result}\")\n"
   ]
  },
  {
   "cell_type": "markdown",
   "id": "3c7d92aa",
   "metadata": {
    "papermill": {
     "duration": 0.004137,
     "end_time": "2024-09-07T22:24:08.689465",
     "exception": false,
     "start_time": "2024-09-07T22:24:08.685328",
     "status": "completed"
    },
    "tags": []
   },
   "source": [
    "# Problem:\n",
    "Given an array of integers, write a Python function that finds the length of the longest consecutive sequence of numbers in the array. The sequence can be in any order in the array, but the numbers should be consecutive (i.e., 1, 2, 3, etc.), and the sequence does not need to be contiguous.\n",
    "\n",
    "For example, given the input array [100, 4, 200, 1, 3, 2], the longest consecutive sequence is [1, 2, 3, 4], and its length is 4."
   ]
  },
  {
   "cell_type": "code",
   "execution_count": 5,
   "id": "9e67fedd",
   "metadata": {
    "execution": {
     "iopub.execute_input": "2024-09-07T22:24:08.700459Z",
     "iopub.status.busy": "2024-09-07T22:24:08.699546Z",
     "iopub.status.idle": "2024-09-07T22:24:08.708339Z",
     "shell.execute_reply": "2024-09-07T22:24:08.707148Z"
    },
    "papermill": {
     "duration": 0.01808,
     "end_time": "2024-09-07T22:24:08.711853",
     "exception": false,
     "start_time": "2024-09-07T22:24:08.693773",
     "status": "completed"
    },
    "tags": []
   },
   "outputs": [
    {
     "name": "stdout",
     "output_type": "stream",
     "text": [
      "Length of the longest consecutive sequence: 4\n"
     ]
    }
   ],
   "source": [
    "def longest_consecutive_sequence(nums):\n",
    "    num_set = set(nums)  # Convert to set for O(1) lookup\n",
    "    longest_streak = 0\n",
    "\n",
    "    for num in num_set:\n",
    "        # Check if it's the start of a sequence\n",
    "        if num - 1 not in num_set:\n",
    "            current_num = num\n",
    "            current_streak = 1\n",
    "\n",
    "            # Count the length of the sequence\n",
    "            while current_num + 1 in num_set:\n",
    "                current_num += 1\n",
    "                current_streak += 1\n",
    "\n",
    "            # Update the maximum streak length\n",
    "            longest_streak = max(longest_streak, current_streak)\n",
    "\n",
    "    return longest_streak\n",
    "\n",
    "# Test the function\n",
    "nums = [100, 4, 200, 1, 3, 2]\n",
    "result = longest_consecutive_sequence(nums)\n",
    "print(f\"Length of the longest consecutive sequence: {result}\")\n"
   ]
  },
  {
   "cell_type": "code",
   "execution_count": null,
   "id": "c8c62f1f",
   "metadata": {
    "papermill": {
     "duration": 0.004208,
     "end_time": "2024-09-07T22:24:08.720705",
     "exception": false,
     "start_time": "2024-09-07T22:24:08.716497",
     "status": "completed"
    },
    "tags": []
   },
   "outputs": [],
   "source": []
  }
 ],
 "metadata": {
  "kaggle": {
   "accelerator": "none",
   "dataSources": [],
   "dockerImageVersionId": 30761,
   "isGpuEnabled": false,
   "isInternetEnabled": true,
   "language": "python",
   "sourceType": "notebook"
  },
  "kernelspec": {
   "display_name": "Python 3",
   "language": "python",
   "name": "python3"
  },
  "language_info": {
   "codemirror_mode": {
    "name": "ipython",
    "version": 3
   },
   "file_extension": ".py",
   "mimetype": "text/x-python",
   "name": "python",
   "nbconvert_exporter": "python",
   "pygments_lexer": "ipython3",
   "version": "3.10.14"
  },
  "papermill": {
   "default_parameters": {},
   "duration": 4.323584,
   "end_time": "2024-09-07T22:24:09.247265",
   "environment_variables": {},
   "exception": null,
   "input_path": "__notebook__.ipynb",
   "output_path": "__notebook__.ipynb",
   "parameters": {},
   "start_time": "2024-09-07T22:24:04.923681",
   "version": "2.6.0"
  }
 },
 "nbformat": 4,
 "nbformat_minor": 5
}
