{
 "cells": [
  {
   "cell_type": "code",
   "execution_count": 1,
   "id": "84fabae2",
   "metadata": {
    "_cell_guid": "b1076dfc-b9ad-4769-8c92-a6c4dae69d19",
    "_uuid": "8f2839f25d086af736a60e9eeb907d3b93b6e0e5",
    "execution": {
     "iopub.execute_input": "2024-09-13T00:04:35.953906Z",
     "iopub.status.busy": "2024-09-13T00:04:35.953360Z",
     "iopub.status.idle": "2024-09-13T00:04:36.381889Z",
     "shell.execute_reply": "2024-09-13T00:04:36.380890Z"
    },
    "papermill": {
     "duration": 0.43772,
     "end_time": "2024-09-13T00:04:36.384408",
     "exception": false,
     "start_time": "2024-09-13T00:04:35.946688",
     "status": "completed"
    },
    "tags": []
   },
   "outputs": [],
   "source": [
    "# This Python 3 environment comes with many helpful analytics libraries installed\n",
    "# It is defined by the kaggle/python Docker image: https://github.com/kaggle/docker-python\n",
    "# For example, here's several helpful packages to load\n",
    "\n",
    "import numpy as np # linear algebra\n",
    "import pandas as pd # data processing, CSV file I/O (e.g. pd.read_csv)\n",
    "\n",
    "# Input data files are available in the read-only \"../input/\" directory\n",
    "# For example, running this (by clicking run or pressing Shift+Enter) will list all files under the input directory\n",
    "\n",
    "import os\n",
    "for dirname, _, filenames in os.walk('/kaggle/input'):\n",
    "    for filename in filenames:\n",
    "        print(os.path.join(dirname, filename))\n",
    "\n",
    "# You can write up to 20GB to the current directory (/kaggle/working/) that gets preserved as output when you create a version using \"Save & Run All\" \n",
    "# You can also write temporary files to /kaggle/temp/, but they won't be saved outside of the current session"
   ]
  },
  {
   "cell_type": "markdown",
   "id": "297c3e4b",
   "metadata": {
    "papermill": {
     "duration": 0.004535,
     "end_time": "2024-09-13T00:04:36.394904",
     "exception": false,
     "start_time": "2024-09-13T00:04:36.390369",
     "status": "completed"
    },
    "tags": []
   },
   "source": [
    "# Problem:\n",
    "\n",
    "Write a Python function that takes an integer n as input and returns the sum of all multiples of 3 or 5 below n.\n",
    "\n",
    "For example, if n = 10, then the multiples of 3 and 5 below 10 are 3, 5, 6, and 9, and their sum is 23."
   ]
  },
  {
   "cell_type": "code",
   "execution_count": 2,
   "id": "13a187db",
   "metadata": {
    "execution": {
     "iopub.execute_input": "2024-09-13T00:04:36.405729Z",
     "iopub.status.busy": "2024-09-13T00:04:36.405181Z",
     "iopub.status.idle": "2024-09-13T00:04:36.412870Z",
     "shell.execute_reply": "2024-09-13T00:04:36.411682Z"
    },
    "papermill": {
     "duration": 0.015537,
     "end_time": "2024-09-13T00:04:36.415014",
     "exception": false,
     "start_time": "2024-09-13T00:04:36.399477",
     "status": "completed"
    },
    "tags": []
   },
   "outputs": [
    {
     "name": "stdout",
     "output_type": "stream",
     "text": [
      "Sum of multiples of 3 or 5 below 10 is: 23\n"
     ]
    }
   ],
   "source": [
    "def sum_of_multiples(n):\n",
    "    total_sum = 0\n",
    "    for i in range(n):\n",
    "        if i % 3 == 0 or i % 5 == 0:\n",
    "            total_sum += i\n",
    "    return total_sum\n",
    "\n",
    "# Test the function\n",
    "n = 10\n",
    "result = sum_of_multiples(n)\n",
    "print(f\"Sum of multiples of 3 or 5 below {n} is: {result}\")"
   ]
  },
  {
   "cell_type": "markdown",
   "id": "df6a880c",
   "metadata": {
    "papermill": {
     "duration": 0.004165,
     "end_time": "2024-09-13T00:04:36.423525",
     "exception": false,
     "start_time": "2024-09-13T00:04:36.419360",
     "status": "completed"
    },
    "tags": []
   },
   "source": [
    "# Problem:\n",
    "Write a Python function that takes a string as input and returns the longest substring without repeating characters.\n",
    "\n",
    "For example, if the input is \"abcabcbb\", the answer is \"abc\" with the length of 3. If the input is \"bbbbb\", the answer is \"b\" with the length of 1."
   ]
  },
  {
   "cell_type": "code",
   "execution_count": 3,
   "id": "4cade060",
   "metadata": {
    "execution": {
     "iopub.execute_input": "2024-09-13T00:04:36.433984Z",
     "iopub.status.busy": "2024-09-13T00:04:36.433522Z",
     "iopub.status.idle": "2024-09-13T00:04:36.441861Z",
     "shell.execute_reply": "2024-09-13T00:04:36.440756Z"
    },
    "papermill": {
     "duration": 0.016179,
     "end_time": "2024-09-13T00:04:36.444016",
     "exception": false,
     "start_time": "2024-09-13T00:04:36.427837",
     "status": "completed"
    },
    "tags": []
   },
   "outputs": [
    {
     "name": "stdout",
     "output_type": "stream",
     "text": [
      "Longest unique substring: 'abc', Length: 3\n"
     ]
    }
   ],
   "source": [
    "def longest_unique_substring(s):\n",
    "    char_map = {}\n",
    "    start = 0\n",
    "    max_len = 0\n",
    "    max_substr = \"\"\n",
    "\n",
    "    for i, char in enumerate(s):\n",
    "        # If the character is already in the map and the start is less than or equal to char_map[char],\n",
    "        # move the start to the right of the repeating character's previous index\n",
    "        if char in char_map and start <= char_map[char]:\n",
    "            start = char_map[char] + 1\n",
    "        else:\n",
    "            # Calculate the length of the current substring\n",
    "            if i - start + 1 > max_len:\n",
    "                max_len = i - start + 1\n",
    "                max_substr = s[start:i + 1]\n",
    "\n",
    "        # Update the character's last seen position\n",
    "        char_map[char] = i\n",
    "\n",
    "    return max_substr, max_len\n",
    "\n",
    "# Test the function\n",
    "s = \"abcabcbb\"\n",
    "substring, length = longest_unique_substring(s)\n",
    "print(f\"Longest unique substring: '{substring}', Length: {length}\")\n"
   ]
  },
  {
   "cell_type": "markdown",
   "id": "7469ee1d",
   "metadata": {
    "papermill": {
     "duration": 0.005984,
     "end_time": "2024-09-13T00:04:36.454510",
     "exception": false,
     "start_time": "2024-09-13T00:04:36.448526",
     "status": "completed"
    },
    "tags": []
   },
   "source": [
    "# Problem:\n",
    "Write a Python function to find all pairs of integers in a given list whose sum is equal to a target value. Return the pairs as a list of tuples.\n",
    "\n",
    "For example, if the input list is [2, 4, 3, 5, 7, 8, 9] and the target sum is 7, the function should return [(2, 5), (4, 3)]."
   ]
  },
  {
   "cell_type": "code",
   "execution_count": 4,
   "id": "9d8efac4",
   "metadata": {
    "execution": {
     "iopub.execute_input": "2024-09-13T00:04:36.466025Z",
     "iopub.status.busy": "2024-09-13T00:04:36.465470Z",
     "iopub.status.idle": "2024-09-13T00:04:36.473653Z",
     "shell.execute_reply": "2024-09-13T00:04:36.472293Z"
    },
    "papermill": {
     "duration": 0.016388,
     "end_time": "2024-09-13T00:04:36.476137",
     "exception": false,
     "start_time": "2024-09-13T00:04:36.459749",
     "status": "completed"
    },
    "tags": []
   },
   "outputs": [
    {
     "name": "stdout",
     "output_type": "stream",
     "text": [
      "Pairs that sum up to 7: [(4, 3), (2, 5)]\n"
     ]
    }
   ],
   "source": [
    "def find_pairs_with_sum(nums, target):\n",
    "    seen = set()\n",
    "    pairs = []\n",
    "\n",
    "    for num in nums:\n",
    "        complement = target - num\n",
    "        if complement in seen:\n",
    "            pairs.append((complement, num))\n",
    "        seen.add(num)\n",
    "\n",
    "    return pairs\n",
    "\n",
    "# Test the function\n",
    "nums = [2, 4, 3, 5, 7, 8, 9]\n",
    "target = 7\n",
    "result = find_pairs_with_sum(nums, target)\n",
    "print(f\"Pairs that sum up to {target}: {result}\")\n"
   ]
  },
  {
   "cell_type": "markdown",
   "id": "82a8e991",
   "metadata": {
    "papermill": {
     "duration": 0.004408,
     "end_time": "2024-09-13T00:04:36.485304",
     "exception": false,
     "start_time": "2024-09-13T00:04:36.480896",
     "status": "completed"
    },
    "tags": []
   },
   "source": [
    "# Problem:\n",
    "Given an array of integers, write a Python function that finds the length of the longest consecutive sequence of numbers in the array. The sequence can be in any order in the array, but the numbers should be consecutive (i.e., 1, 2, 3, etc.), and the sequence does not need to be contiguous.\n",
    "\n",
    "For example, given the input array [100, 4, 200, 1, 3, 2], the longest consecutive sequence is [1, 2, 3, 4], and its length is 4."
   ]
  },
  {
   "cell_type": "code",
   "execution_count": 5,
   "id": "54ce194d",
   "metadata": {
    "execution": {
     "iopub.execute_input": "2024-09-13T00:04:36.497328Z",
     "iopub.status.busy": "2024-09-13T00:04:36.496912Z",
     "iopub.status.idle": "2024-09-13T00:04:36.504540Z",
     "shell.execute_reply": "2024-09-13T00:04:36.503515Z"
    },
    "papermill": {
     "duration": 0.016229,
     "end_time": "2024-09-13T00:04:36.506605",
     "exception": false,
     "start_time": "2024-09-13T00:04:36.490376",
     "status": "completed"
    },
    "tags": []
   },
   "outputs": [
    {
     "name": "stdout",
     "output_type": "stream",
     "text": [
      "Length of the longest consecutive sequence: 4\n"
     ]
    }
   ],
   "source": [
    "def longest_consecutive_sequence(nums):\n",
    "    num_set = set(nums)  # Convert to set for O(1) lookup\n",
    "    longest_streak = 0\n",
    "\n",
    "    for num in num_set:\n",
    "        # Check if it's the start of a sequence\n",
    "        if num - 1 not in num_set:\n",
    "            current_num = num\n",
    "            current_streak = 1\n",
    "\n",
    "            # Count the length of the sequence\n",
    "            while current_num + 1 in num_set:\n",
    "                current_num += 1\n",
    "                current_streak += 1\n",
    "\n",
    "            # Update the maximum streak length\n",
    "            longest_streak = max(longest_streak, current_streak)\n",
    "\n",
    "    return longest_streak\n",
    "\n",
    "# Test the function\n",
    "nums = [100, 4, 200, 1, 3, 2]\n",
    "result = longest_consecutive_sequence(nums)\n",
    "print(f\"Length of the longest consecutive sequence: {result}\")\n"
   ]
  },
  {
   "cell_type": "markdown",
   "id": "8e8f7b56",
   "metadata": {
    "papermill": {
     "duration": 0.004755,
     "end_time": "2024-09-13T00:04:36.516071",
     "exception": false,
     "start_time": "2024-09-13T00:04:36.511316",
     "status": "completed"
    },
    "tags": []
   },
   "source": [
    "# Problem:\n",
    "Write a Python function to find the median of a list of numbers. The median is the value separating the higher half from the lower half of the list. If the list has an even number of elements, the median is the average of the two middle numbers.\n",
    "\n",
    "For example, given the list [3, 1, 4, 1, 5, 9, 2, 6, 5], the sorted list is [1, 1, 2, 3, 4, 5, 5, 6, 9], and the median is 4."
   ]
  },
  {
   "cell_type": "code",
   "execution_count": 6,
   "id": "06dc27db",
   "metadata": {
    "execution": {
     "iopub.execute_input": "2024-09-13T00:04:36.527424Z",
     "iopub.status.busy": "2024-09-13T00:04:36.526622Z",
     "iopub.status.idle": "2024-09-13T00:04:36.534151Z",
     "shell.execute_reply": "2024-09-13T00:04:36.532959Z"
    },
    "papermill": {
     "duration": 0.016097,
     "end_time": "2024-09-13T00:04:36.536835",
     "exception": false,
     "start_time": "2024-09-13T00:04:36.520738",
     "status": "completed"
    },
    "tags": []
   },
   "outputs": [
    {
     "name": "stdout",
     "output_type": "stream",
     "text": [
      "The median is: 4\n"
     ]
    }
   ],
   "source": [
    "def find_median(nums):\n",
    "    if not nums:\n",
    "        raise ValueError(\"The list is empty\")\n",
    "    \n",
    "    sorted_nums = sorted(nums)\n",
    "    n = len(sorted_nums)\n",
    "    mid = n // 2\n",
    "\n",
    "    if n % 2 == 1:\n",
    "        # For odd-length lists, return the middle element\n",
    "        return sorted_nums[mid]\n",
    "    else:\n",
    "        # For even-length lists, return the average of the two middle elements\n",
    "        return (sorted_nums[mid - 1] + sorted_nums[mid]) / 2\n",
    "\n",
    "# Test the function\n",
    "nums = [3, 1, 4, 1, 5, 9, 2, 6, 5]\n",
    "median = find_median(nums)\n",
    "print(f\"The median is: {median}\")\n"
   ]
  },
  {
   "cell_type": "markdown",
   "id": "ae10a4d5",
   "metadata": {
    "papermill": {
     "duration": 0.004572,
     "end_time": "2024-09-13T00:04:36.546319",
     "exception": false,
     "start_time": "2024-09-13T00:04:36.541747",
     "status": "completed"
    },
    "tags": []
   },
   "source": [
    "# Problem: Max Area of Island\n",
    "\n",
    "You are given an m x n binary matrix grid, where 1 represents land and 0 represents water. An island is a group of 1s (land) connected 4-directionally (horizontal or vertical.) You may assume all four edges of the grid are surrounded by water.\n",
    "\n",
    "The area of an island is the number of 1s in the island.\n",
    "\n",
    "Return the maximum area of an island in the given grid. If there is no island, return 0.\n",
    "\n",
    "```\n",
    "Input: grid = [\n",
    "  [0,0,1,0,0],\n",
    "  [0,1,1,0,0],\n",
    "  [0,0,1,0,0],\n",
    "  [1,1,0,0,0],\n",
    "  [1,1,0,0,1]\n",
    "]\n",
    "Output: 6\n",
    "\n",
    "```"
   ]
  },
  {
   "cell_type": "markdown",
   "id": "d2922a1e",
   "metadata": {
    "papermill": {
     "duration": 0.004481,
     "end_time": "2024-09-13T00:04:36.555613",
     "exception": false,
     "start_time": "2024-09-13T00:04:36.551132",
     "status": "completed"
    },
    "tags": []
   },
   "source": [
    "### Constraints:\n",
    "`\n",
    "m == grid.length\n",
    "n == grid[i].length\n",
    "1 <= m, n <= 50\n",
    "grid[i][j] is either 0 or 1.\n",
    "`\n",
    "\n",
    "### Solution Outline:\n",
    "Use Depth First Search (DFS) to traverse the grid and count the area of each island.\n",
    "Mark the cells as visited by setting them to 0 once counted.\n",
    "Keep track of the maximum area encountered."
   ]
  },
  {
   "cell_type": "code",
   "execution_count": 7,
   "id": "e0559f4f",
   "metadata": {
    "execution": {
     "iopub.execute_input": "2024-09-13T00:04:36.567802Z",
     "iopub.status.busy": "2024-09-13T00:04:36.567310Z",
     "iopub.status.idle": "2024-09-13T00:04:36.581277Z",
     "shell.execute_reply": "2024-09-13T00:04:36.579988Z"
    },
    "papermill": {
     "duration": 0.024056,
     "end_time": "2024-09-13T00:04:36.584420",
     "exception": false,
     "start_time": "2024-09-13T00:04:36.560364",
     "status": "completed"
    },
    "tags": []
   },
   "outputs": [
    {
     "name": "stdout",
     "output_type": "stream",
     "text": [
      "4\n"
     ]
    }
   ],
   "source": [
    "def max_area_of_island(grid):\n",
    "    if not grid:\n",
    "        return 0\n",
    "    \n",
    "    rows, cols = len(grid), len(grid[0])\n",
    "    \n",
    "    def dfs(r, c):\n",
    "        # If we're out of bounds or at a water cell, stop recursion.\n",
    "        if r < 0 or r >= rows or c < 0 or c >= cols or grid[r][c] == 0:\n",
    "            return 0\n",
    "        \n",
    "        # Mark the current land as visited by setting it to 0.\n",
    "        grid[r][c] = 0\n",
    "        \n",
    "        # Start with 1 to count the current cell.\n",
    "        area = 1\n",
    "        \n",
    "        # Explore all four directions (up, down, left, right)\n",
    "        area += dfs(r - 1, c)  # Up\n",
    "        area += dfs(r + 1, c)  # Down\n",
    "        area += dfs(r, c - 1)  # Left\n",
    "        area += dfs(r, c + 1)  # Right\n",
    "        \n",
    "        return area\n",
    "    \n",
    "    max_area = 0\n",
    "    \n",
    "    # Traverse the grid.\n",
    "    for r in range(rows):\n",
    "        for c in range(cols):\n",
    "            if grid[r][c] == 1:\n",
    "                # If it's land, compute the area of the island and update max_area.\n",
    "                max_area = max(max_area, dfs(r, c))\n",
    "    \n",
    "    return max_area\n",
    "\n",
    "# Example Usage\n",
    "grid = [\n",
    "    [0, 0, 1, 0, 0],\n",
    "    [0, 1, 1, 0, 0],\n",
    "    [0, 0, 1, 0, 0],\n",
    "    [1, 1, 0, 0, 0],\n",
    "    [1, 1, 0, 0, 1]\n",
    "]\n",
    "\n",
    "print(max_area_of_island(grid))  # Output: 6\n"
   ]
  },
  {
   "cell_type": "markdown",
   "id": "f749ce10",
   "metadata": {
    "papermill": {
     "duration": 0.00483,
     "end_time": "2024-09-13T00:04:36.594154",
     "exception": false,
     "start_time": "2024-09-13T00:04:36.589324",
     "status": "completed"
    },
    "tags": []
   },
   "source": [
    "# Problem: Two Sum (LeetCode Problem #1)\n",
    "\n",
    "Description:\n",
    "Given an array of integers nums and an integer target, return indices of the two numbers such that they add up to target.\n",
    "\n",
    "You may assume that each input would have exactly one solution, and you may not use the same element twice.\n",
    "\n",
    "You can return the answer in any order.\n",
    "\n",
    "Example:\n",
    "```\n",
    "Input: nums = [2, 7, 11, 15], target = 9\n",
    "Output: [0, 1]\n",
    "Explanation: Because nums[0] + nums[1] == 9, we return [0, 1]\n",
    "```\n",
    "Constraints:\n",
    "```\n",
    "2 <= nums.length <= 10^4\n",
    "-10^9 <= nums[i] <= 10^9\n",
    "-10^9 <= target <= 10^9\n",
    "```\n",
    "\n",
    "Only one valid answer exists."
   ]
  },
  {
   "cell_type": "code",
   "execution_count": 8,
   "id": "798475a9",
   "metadata": {
    "execution": {
     "iopub.execute_input": "2024-09-13T00:04:36.607069Z",
     "iopub.status.busy": "2024-09-13T00:04:36.606283Z",
     "iopub.status.idle": "2024-09-13T00:04:36.613755Z",
     "shell.execute_reply": "2024-09-13T00:04:36.612647Z"
    },
    "papermill": {
     "duration": 0.016464,
     "end_time": "2024-09-13T00:04:36.616430",
     "exception": false,
     "start_time": "2024-09-13T00:04:36.599966",
     "status": "completed"
    },
    "tags": []
   },
   "outputs": [
    {
     "name": "stdout",
     "output_type": "stream",
     "text": [
      "[0, 1]\n"
     ]
    }
   ],
   "source": [
    "def two_sum(nums, target):\n",
    "    # Create a dictionary to store the difference and its index\n",
    "    num_dict = {}\n",
    "    \n",
    "    # Loop through the list of numbers\n",
    "    for i, num in enumerate(nums):\n",
    "        # Calculate the difference between target and current number\n",
    "        diff = target - num\n",
    "        \n",
    "        # If the difference is found in the dictionary, return the indices\n",
    "        if diff in num_dict:\n",
    "            return [num_dict[diff], i]\n",
    "        \n",
    "        # Otherwise, store the current number and its index in the dictionary\n",
    "        num_dict[num] = i\n",
    "\n",
    "# Example usage\n",
    "nums = [2, 7, 11, 15]\n",
    "target = 9\n",
    "print(two_sum(nums, target))  # Output: [0, 1]\n"
   ]
  },
  {
   "cell_type": "markdown",
   "id": "7c57328d",
   "metadata": {
    "papermill": {
     "duration": 0.004783,
     "end_time": "2024-09-13T00:04:36.626238",
     "exception": false,
     "start_time": "2024-09-13T00:04:36.621455",
     "status": "completed"
    },
    "tags": []
   },
   "source": [
    "## Problem: Two Sum\n",
    "\n",
    "### Difficulty: Easy\n",
    "\n",
    "### Problem Statement:\n",
    "Given an array of integers `nums` and an integer `target`, return the indices of the two numbers such that they add up to the target. You may assume that each input would have exactly one solution, and you may not use the same element twice.\n",
    "\n",
    "You can return the answer in any order.\n",
    "\n",
    "### Examples:\n",
    "\n",
    "#### Example 1:\n",
    "**Input:**\n",
    "```python\n",
    "nums = [2, 7, 11, 15]\n",
    "target = 9\n",
    "\n",
    "Output:\n",
    "\n",
    "\n",
    "[0, 1]\n",
    "Explanation: Because nums[0] + nums[1] == 9, we return [0, 1].\n",
    "```\n",
    "\n",
    "#### Example 2:\n",
    "```python\n",
    "**Input:**\n",
    "\n",
    "\n",
    "nums = [3, 2, 4]\n",
    "target = 6\n",
    "Output:\n",
    "\n",
    "\n",
    "[1, 2]\n",
    "Example 3:\n",
    "Input:\n",
    "\n",
    "\n",
    "nums = [3, 3]\n",
    "target = 6\n",
    "Output:\n",
    "\n",
    "[0, 1]\n",
    "Constraints:\n",
    "2 <= nums.length <= 10^4\n",
    "-10^9 <= nums[i] <= 10^9\n",
    "-10^9 <= target <= 10^9\n",
    "Only one valid answer exists.\n"
   ]
  },
  {
   "cell_type": "code",
   "execution_count": 9,
   "id": "6a47b468",
   "metadata": {
    "execution": {
     "iopub.execute_input": "2024-09-13T00:04:36.638318Z",
     "iopub.status.busy": "2024-09-13T00:04:36.637906Z",
     "iopub.status.idle": "2024-09-13T00:04:36.645115Z",
     "shell.execute_reply": "2024-09-13T00:04:36.644061Z"
    },
    "papermill": {
     "duration": 0.016663,
     "end_time": "2024-09-13T00:04:36.647855",
     "exception": false,
     "start_time": "2024-09-13T00:04:36.631192",
     "status": "completed"
    },
    "tags": []
   },
   "outputs": [
    {
     "name": "stdout",
     "output_type": "stream",
     "text": [
      "[0, 1]\n"
     ]
    }
   ],
   "source": [
    "def twoSum(nums, target):\n",
    "    # Hash map to store value and its index\n",
    "    num_to_index = {}\n",
    "\n",
    "    # Iterate through the array\n",
    "    for i, num in enumerate(nums):\n",
    "        complement = target - num\n",
    "\n",
    "        # If complement is in the hash map, return the indices\n",
    "        if complement in num_to_index:\n",
    "            return [num_to_index[complement], i]\n",
    "        \n",
    "        # Store the current number's index in the hash map\n",
    "        num_to_index[num] = i\n",
    "\n",
    "# Example usage:\n",
    "nums = [2, 7, 11, 15]\n",
    "target = 9\n",
    "print(twoSum(nums, target))  # Output: [0, 1]\n"
   ]
  }
 ],
 "metadata": {
  "kaggle": {
   "accelerator": "none",
   "dataSources": [],
   "dockerImageVersionId": 30761,
   "isGpuEnabled": false,
   "isInternetEnabled": true,
   "language": "python",
   "sourceType": "notebook"
  },
  "kernelspec": {
   "display_name": "Python 3",
   "language": "python",
   "name": "python3"
  },
  "language_info": {
   "codemirror_mode": {
    "name": "ipython",
    "version": 3
   },
   "file_extension": ".py",
   "mimetype": "text/x-python",
   "name": "python",
   "nbconvert_exporter": "python",
   "pygments_lexer": "ipython3",
   "version": "3.10.14"
  },
  "papermill": {
   "default_parameters": {},
   "duration": 4.017628,
   "end_time": "2024-09-13T00:04:37.176199",
   "environment_variables": {},
   "exception": null,
   "input_path": "__notebook__.ipynb",
   "output_path": "__notebook__.ipynb",
   "parameters": {},
   "start_time": "2024-09-13T00:04:33.158571",
   "version": "2.6.0"
  }
 },
 "nbformat": 4,
 "nbformat_minor": 5
}
