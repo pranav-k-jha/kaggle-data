{
 "cells": [
  {
   "cell_type": "code",
   "execution_count": 1,
   "id": "a0b42d69",
   "metadata": {
    "_cell_guid": "b1076dfc-b9ad-4769-8c92-a6c4dae69d19",
    "_uuid": "8f2839f25d086af736a60e9eeb907d3b93b6e0e5",
    "execution": {
     "iopub.execute_input": "2024-09-07T22:22:42.707691Z",
     "iopub.status.busy": "2024-09-07T22:22:42.707092Z",
     "iopub.status.idle": "2024-09-07T22:22:43.627853Z",
     "shell.execute_reply": "2024-09-07T22:22:43.626449Z"
    },
    "papermill": {
     "duration": 0.930328,
     "end_time": "2024-09-07T22:22:43.631107",
     "exception": false,
     "start_time": "2024-09-07T22:22:42.700779",
     "status": "completed"
    },
    "tags": []
   },
   "outputs": [],
   "source": [
    "# This Python 3 environment comes with many helpful analytics libraries installed\n",
    "# It is defined by the kaggle/python Docker image: https://github.com/kaggle/docker-python\n",
    "# For example, here's several helpful packages to load\n",
    "\n",
    "import numpy as np # linear algebra\n",
    "import pandas as pd # data processing, CSV file I/O (e.g. pd.read_csv)\n",
    "\n",
    "# Input data files are available in the read-only \"../input/\" directory\n",
    "# For example, running this (by clicking run or pressing Shift+Enter) will list all files under the input directory\n",
    "\n",
    "import os\n",
    "for dirname, _, filenames in os.walk('/kaggle/input'):\n",
    "    for filename in filenames:\n",
    "        print(os.path.join(dirname, filename))\n",
    "\n",
    "# You can write up to 20GB to the current directory (/kaggle/working/) that gets preserved as output when you create a version using \"Save & Run All\" \n",
    "# You can also write temporary files to /kaggle/temp/, but they won't be saved outside of the current session"
   ]
  },
  {
   "cell_type": "markdown",
   "id": "1100c465",
   "metadata": {
    "papermill": {
     "duration": 0.003257,
     "end_time": "2024-09-07T22:22:43.638185",
     "exception": false,
     "start_time": "2024-09-07T22:22:43.634928",
     "status": "completed"
    },
    "tags": []
   },
   "source": [
    "# Problem:\n",
    "\n",
    "Write a Python function that takes an integer n as input and returns the sum of all multiples of 3 or 5 below n.\n",
    "\n",
    "For example, if n = 10, then the multiples of 3 and 5 below 10 are 3, 5, 6, and 9, and their sum is 23."
   ]
  },
  {
   "cell_type": "code",
   "execution_count": 2,
   "id": "0574e4d4",
   "metadata": {
    "execution": {
     "iopub.execute_input": "2024-09-07T22:22:43.647368Z",
     "iopub.status.busy": "2024-09-07T22:22:43.646783Z",
     "iopub.status.idle": "2024-09-07T22:22:43.655474Z",
     "shell.execute_reply": "2024-09-07T22:22:43.654015Z"
    },
    "papermill": {
     "duration": 0.016359,
     "end_time": "2024-09-07T22:22:43.658069",
     "exception": false,
     "start_time": "2024-09-07T22:22:43.641710",
     "status": "completed"
    },
    "tags": []
   },
   "outputs": [
    {
     "name": "stdout",
     "output_type": "stream",
     "text": [
      "Sum of multiples of 3 or 5 below 10 is: 23\n"
     ]
    }
   ],
   "source": [
    "def sum_of_multiples(n):\n",
    "    total_sum = 0\n",
    "    for i in range(n):\n",
    "        if i % 3 == 0 or i % 5 == 0:\n",
    "            total_sum += i\n",
    "    return total_sum\n",
    "\n",
    "# Test the function\n",
    "n = 10\n",
    "result = sum_of_multiples(n)\n",
    "print(f\"Sum of multiples of 3 or 5 below {n} is: {result}\")"
   ]
  },
  {
   "cell_type": "markdown",
   "id": "0d64d239",
   "metadata": {
    "papermill": {
     "duration": 0.003197,
     "end_time": "2024-09-07T22:22:43.664873",
     "exception": false,
     "start_time": "2024-09-07T22:22:43.661676",
     "status": "completed"
    },
    "tags": []
   },
   "source": [
    "# Problem:\n",
    "Write a Python function that takes a string as input and returns the longest substring without repeating characters.\n",
    "\n",
    "For example, if the input is \"abcabcbb\", the answer is \"abc\" with the length of 3. If the input is \"bbbbb\", the answer is \"b\" with the length of 1."
   ]
  },
  {
   "cell_type": "code",
   "execution_count": 3,
   "id": "824876f0",
   "metadata": {
    "execution": {
     "iopub.execute_input": "2024-09-07T22:22:43.673649Z",
     "iopub.status.busy": "2024-09-07T22:22:43.673155Z",
     "iopub.status.idle": "2024-09-07T22:22:43.683185Z",
     "shell.execute_reply": "2024-09-07T22:22:43.681681Z"
    },
    "papermill": {
     "duration": 0.017796,
     "end_time": "2024-09-07T22:22:43.686071",
     "exception": false,
     "start_time": "2024-09-07T22:22:43.668275",
     "status": "completed"
    },
    "tags": []
   },
   "outputs": [
    {
     "name": "stdout",
     "output_type": "stream",
     "text": [
      "Longest unique substring: 'abc', Length: 3\n"
     ]
    }
   ],
   "source": [
    "def longest_unique_substring(s):\n",
    "    char_map = {}\n",
    "    start = 0\n",
    "    max_len = 0\n",
    "    max_substr = \"\"\n",
    "\n",
    "    for i, char in enumerate(s):\n",
    "        # If the character is already in the map and the start is less than or equal to char_map[char],\n",
    "        # move the start to the right of the repeating character's previous index\n",
    "        if char in char_map and start <= char_map[char]:\n",
    "            start = char_map[char] + 1\n",
    "        else:\n",
    "            # Calculate the length of the current substring\n",
    "            if i - start + 1 > max_len:\n",
    "                max_len = i - start + 1\n",
    "                max_substr = s[start:i + 1]\n",
    "\n",
    "        # Update the character's last seen position\n",
    "        char_map[char] = i\n",
    "\n",
    "    return max_substr, max_len\n",
    "\n",
    "# Test the function\n",
    "s = \"abcabcbb\"\n",
    "substring, length = longest_unique_substring(s)\n",
    "print(f\"Longest unique substring: '{substring}', Length: {length}\")\n"
   ]
  },
  {
   "cell_type": "markdown",
   "id": "a8c99ef4",
   "metadata": {
    "papermill": {
     "duration": 0.003549,
     "end_time": "2024-09-07T22:22:43.693444",
     "exception": false,
     "start_time": "2024-09-07T22:22:43.689895",
     "status": "completed"
    },
    "tags": []
   },
   "source": [
    "# Problem:\n",
    "Write a Python function to find all pairs of integers in a given list whose sum is equal to a target value. Return the pairs as a list of tuples.\n",
    "\n",
    "For example, if the input list is [2, 4, 3, 5, 7, 8, 9] and the target sum is 7, the function should return [(2, 5), (4, 3)]."
   ]
  },
  {
   "cell_type": "code",
   "execution_count": 4,
   "id": "4bcf4ab2",
   "metadata": {
    "execution": {
     "iopub.execute_input": "2024-09-07T22:22:43.703162Z",
     "iopub.status.busy": "2024-09-07T22:22:43.702653Z",
     "iopub.status.idle": "2024-09-07T22:22:43.712582Z",
     "shell.execute_reply": "2024-09-07T22:22:43.711096Z"
    },
    "papermill": {
     "duration": 0.017984,
     "end_time": "2024-09-07T22:22:43.715276",
     "exception": false,
     "start_time": "2024-09-07T22:22:43.697292",
     "status": "completed"
    },
    "tags": []
   },
   "outputs": [
    {
     "name": "stdout",
     "output_type": "stream",
     "text": [
      "Pairs that sum up to 7: [(4, 3), (2, 5)]\n"
     ]
    }
   ],
   "source": [
    "def find_pairs_with_sum(nums, target):\n",
    "    seen = set()\n",
    "    pairs = []\n",
    "\n",
    "    for num in nums:\n",
    "        complement = target - num\n",
    "        if complement in seen:\n",
    "            pairs.append((complement, num))\n",
    "        seen.add(num)\n",
    "\n",
    "    return pairs\n",
    "\n",
    "# Test the function\n",
    "nums = [2, 4, 3, 5, 7, 8, 9]\n",
    "target = 7\n",
    "result = find_pairs_with_sum(nums, target)\n",
    "print(f\"Pairs that sum up to {target}: {result}\")\n"
   ]
  },
  {
   "cell_type": "code",
   "execution_count": null,
   "id": "094c2b8f",
   "metadata": {
    "papermill": {
     "duration": 0.003896,
     "end_time": "2024-09-07T22:22:43.723354",
     "exception": false,
     "start_time": "2024-09-07T22:22:43.719458",
     "status": "completed"
    },
    "tags": []
   },
   "outputs": [],
   "source": []
  }
 ],
 "metadata": {
  "kaggle": {
   "accelerator": "none",
   "dataSources": [],
   "dockerImageVersionId": 30761,
   "isGpuEnabled": false,
   "isInternetEnabled": true,
   "language": "python",
   "sourceType": "notebook"
  },
  "kernelspec": {
   "display_name": "Python 3",
   "language": "python",
   "name": "python3"
  },
  "language_info": {
   "codemirror_mode": {
    "name": "ipython",
    "version": 3
   },
   "file_extension": ".py",
   "mimetype": "text/x-python",
   "name": "python",
   "nbconvert_exporter": "python",
   "pygments_lexer": "ipython3",
   "version": "3.10.14"
  },
  "papermill": {
   "default_parameters": {},
   "duration": 5.661221,
   "end_time": "2024-09-07T22:22:44.453534",
   "environment_variables": {},
   "exception": null,
   "input_path": "__notebook__.ipynb",
   "output_path": "__notebook__.ipynb",
   "parameters": {},
   "start_time": "2024-09-07T22:22:38.792313",
   "version": "2.6.0"
  }
 },
 "nbformat": 4,
 "nbformat_minor": 5
}
