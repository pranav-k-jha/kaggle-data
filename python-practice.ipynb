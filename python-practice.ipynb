{
 "cells": [
  {
   "cell_type": "code",
   "execution_count": 1,
   "id": "60a2d8c7",
   "metadata": {
    "_cell_guid": "b1076dfc-b9ad-4769-8c92-a6c4dae69d19",
    "_uuid": "8f2839f25d086af736a60e9eeb907d3b93b6e0e5",
    "execution": {
     "iopub.execute_input": "2024-09-15T04:05:35.375031Z",
     "iopub.status.busy": "2024-09-15T04:05:35.374520Z",
     "iopub.status.idle": "2024-09-15T04:05:36.350507Z",
     "shell.execute_reply": "2024-09-15T04:05:36.349287Z"
    },
    "papermill": {
     "duration": 0.98635,
     "end_time": "2024-09-15T04:05:36.353269",
     "exception": false,
     "start_time": "2024-09-15T04:05:35.366919",
     "status": "completed"
    },
    "tags": []
   },
   "outputs": [],
   "source": [
    "# This Python 3 environment comes with many helpful analytics libraries installed\n",
    "# It is defined by the kaggle/python Docker image: https://github.com/kaggle/docker-python\n",
    "# For example, here's several helpful packages to load\n",
    "\n",
    "import numpy as np # linear algebra\n",
    "import pandas as pd # data processing, CSV file I/O (e.g. pd.read_csv)\n",
    "\n",
    "# Input data files are available in the read-only \"../input/\" directory\n",
    "# For example, running this (by clicking run or pressing Shift+Enter) will list all files under the input directory\n",
    "\n",
    "import os\n",
    "for dirname, _, filenames in os.walk('/kaggle/input'):\n",
    "    for filename in filenames:\n",
    "        print(os.path.join(dirname, filename))\n",
    "\n",
    "# You can write up to 20GB to the current directory (/kaggle/working/) that gets preserved as output when you create a version using \"Save & Run All\" \n",
    "# You can also write temporary files to /kaggle/temp/, but they won't be saved outside of the current session"
   ]
  },
  {
   "cell_type": "markdown",
   "id": "f92729ee",
   "metadata": {
    "papermill": {
     "duration": 0.00465,
     "end_time": "2024-09-15T04:05:36.363126",
     "exception": false,
     "start_time": "2024-09-15T04:05:36.358476",
     "status": "completed"
    },
    "tags": []
   },
   "source": [
    "# Problem:\n",
    "\n",
    "Write a Python function that takes an integer n as input and returns the sum of all multiples of 3 or 5 below n.\n",
    "\n",
    "For example, if n = 10, then the multiples of 3 and 5 below 10 are 3, 5, 6, and 9, and their sum is 23."
   ]
  },
  {
   "cell_type": "code",
   "execution_count": 2,
   "id": "50a499e9",
   "metadata": {
    "execution": {
     "iopub.execute_input": "2024-09-15T04:05:36.375470Z",
     "iopub.status.busy": "2024-09-15T04:05:36.374298Z",
     "iopub.status.idle": "2024-09-15T04:05:36.381453Z",
     "shell.execute_reply": "2024-09-15T04:05:36.380401Z"
    },
    "papermill": {
     "duration": 0.01567,
     "end_time": "2024-09-15T04:05:36.383705",
     "exception": false,
     "start_time": "2024-09-15T04:05:36.368035",
     "status": "completed"
    },
    "tags": []
   },
   "outputs": [
    {
     "name": "stdout",
     "output_type": "stream",
     "text": [
      "Sum of multiples of 3 or 5 below 10 is: 23\n"
     ]
    }
   ],
   "source": [
    "def sum_of_multiples(n):\n",
    "    total_sum = 0\n",
    "    for i in range(n):\n",
    "        if i % 3 == 0 or i % 5 == 0:\n",
    "            total_sum += i\n",
    "    return total_sum\n",
    "\n",
    "# Test the function\n",
    "n = 10\n",
    "result = sum_of_multiples(n)\n",
    "print(f\"Sum of multiples of 3 or 5 below {n} is: {result}\")"
   ]
  },
  {
   "cell_type": "markdown",
   "id": "06819ed9",
   "metadata": {
    "papermill": {
     "duration": 0.004706,
     "end_time": "2024-09-15T04:05:36.393436",
     "exception": false,
     "start_time": "2024-09-15T04:05:36.388730",
     "status": "completed"
    },
    "tags": []
   },
   "source": [
    "# Problem:\n",
    "Write a Python function that takes a string as input and returns the longest substring without repeating characters.\n",
    "\n",
    "For example, if the input is \"abcabcbb\", the answer is \"abc\" with the length of 3. If the input is \"bbbbb\", the answer is \"b\" with the length of 1."
   ]
  },
  {
   "cell_type": "code",
   "execution_count": 3,
   "id": "8b2407fd",
   "metadata": {
    "execution": {
     "iopub.execute_input": "2024-09-15T04:05:36.405835Z",
     "iopub.status.busy": "2024-09-15T04:05:36.405265Z",
     "iopub.status.idle": "2024-09-15T04:05:36.413543Z",
     "shell.execute_reply": "2024-09-15T04:05:36.412384Z"
    },
    "papermill": {
     "duration": 0.017162,
     "end_time": "2024-09-15T04:05:36.415960",
     "exception": false,
     "start_time": "2024-09-15T04:05:36.398798",
     "status": "completed"
    },
    "tags": []
   },
   "outputs": [
    {
     "name": "stdout",
     "output_type": "stream",
     "text": [
      "Longest unique substring: 'abc', Length: 3\n"
     ]
    }
   ],
   "source": [
    "def longest_unique_substring(s):\n",
    "    char_map = {}\n",
    "    start = 0\n",
    "    max_len = 0\n",
    "    max_substr = \"\"\n",
    "\n",
    "    for i, char in enumerate(s):\n",
    "        # If the character is already in the map and the start is less than or equal to char_map[char],\n",
    "        # move the start to the right of the repeating character's previous index\n",
    "        if char in char_map and start <= char_map[char]:\n",
    "            start = char_map[char] + 1\n",
    "        else:\n",
    "            # Calculate the length of the current substring\n",
    "            if i - start + 1 > max_len:\n",
    "                max_len = i - start + 1\n",
    "                max_substr = s[start:i + 1]\n",
    "\n",
    "        # Update the character's last seen position\n",
    "        char_map[char] = i\n",
    "\n",
    "    return max_substr, max_len\n",
    "\n",
    "# Test the function\n",
    "s = \"abcabcbb\"\n",
    "substring, length = longest_unique_substring(s)\n",
    "print(f\"Longest unique substring: '{substring}', Length: {length}\")\n"
   ]
  },
  {
   "cell_type": "markdown",
   "id": "1632e2f5",
   "metadata": {
    "papermill": {
     "duration": 0.004884,
     "end_time": "2024-09-15T04:05:36.425982",
     "exception": false,
     "start_time": "2024-09-15T04:05:36.421098",
     "status": "completed"
    },
    "tags": []
   },
   "source": [
    "# Problem:\n",
    "Write a Python function to find all pairs of integers in a given list whose sum is equal to a target value. Return the pairs as a list of tuples.\n",
    "\n",
    "For example, if the input list is [2, 4, 3, 5, 7, 8, 9] and the target sum is 7, the function should return [(2, 5), (4, 3)]."
   ]
  },
  {
   "cell_type": "code",
   "execution_count": 4,
   "id": "1d6cba87",
   "metadata": {
    "execution": {
     "iopub.execute_input": "2024-09-15T04:05:36.437830Z",
     "iopub.status.busy": "2024-09-15T04:05:36.437410Z",
     "iopub.status.idle": "2024-09-15T04:05:36.444894Z",
     "shell.execute_reply": "2024-09-15T04:05:36.443894Z"
    },
    "papermill": {
     "duration": 0.016075,
     "end_time": "2024-09-15T04:05:36.447210",
     "exception": false,
     "start_time": "2024-09-15T04:05:36.431135",
     "status": "completed"
    },
    "tags": []
   },
   "outputs": [
    {
     "name": "stdout",
     "output_type": "stream",
     "text": [
      "Pairs that sum up to 7: [(4, 3), (2, 5)]\n"
     ]
    }
   ],
   "source": [
    "def find_pairs_with_sum(nums, target):\n",
    "    seen = set()\n",
    "    pairs = []\n",
    "\n",
    "    for num in nums:\n",
    "        complement = target - num\n",
    "        if complement in seen:\n",
    "            pairs.append((complement, num))\n",
    "        seen.add(num)\n",
    "\n",
    "    return pairs\n",
    "\n",
    "# Test the function\n",
    "nums = [2, 4, 3, 5, 7, 8, 9]\n",
    "target = 7\n",
    "result = find_pairs_with_sum(nums, target)\n",
    "print(f\"Pairs that sum up to {target}: {result}\")\n"
   ]
  },
  {
   "cell_type": "markdown",
   "id": "963aaa89",
   "metadata": {
    "papermill": {
     "duration": 0.004801,
     "end_time": "2024-09-15T04:05:36.457202",
     "exception": false,
     "start_time": "2024-09-15T04:05:36.452401",
     "status": "completed"
    },
    "tags": []
   },
   "source": [
    "# Problem:\n",
    "Given an array of integers, write a Python function that finds the length of the longest consecutive sequence of numbers in the array. The sequence can be in any order in the array, but the numbers should be consecutive (i.e., 1, 2, 3, etc.), and the sequence does not need to be contiguous.\n",
    "\n",
    "For example, given the input array [100, 4, 200, 1, 3, 2], the longest consecutive sequence is [1, 2, 3, 4], and its length is 4."
   ]
  },
  {
   "cell_type": "code",
   "execution_count": 5,
   "id": "937cec17",
   "metadata": {
    "execution": {
     "iopub.execute_input": "2024-09-15T04:05:36.470168Z",
     "iopub.status.busy": "2024-09-15T04:05:36.469113Z",
     "iopub.status.idle": "2024-09-15T04:05:36.477175Z",
     "shell.execute_reply": "2024-09-15T04:05:36.476037Z"
    },
    "papermill": {
     "duration": 0.017199,
     "end_time": "2024-09-15T04:05:36.479511",
     "exception": false,
     "start_time": "2024-09-15T04:05:36.462312",
     "status": "completed"
    },
    "tags": []
   },
   "outputs": [
    {
     "name": "stdout",
     "output_type": "stream",
     "text": [
      "Length of the longest consecutive sequence: 4\n"
     ]
    }
   ],
   "source": [
    "def longest_consecutive_sequence(nums):\n",
    "    num_set = set(nums)  # Convert to set for O(1) lookup\n",
    "    longest_streak = 0\n",
    "\n",
    "    for num in num_set:\n",
    "        # Check if it's the start of a sequence\n",
    "        if num - 1 not in num_set:\n",
    "            current_num = num\n",
    "            current_streak = 1\n",
    "\n",
    "            # Count the length of the sequence\n",
    "            while current_num + 1 in num_set:\n",
    "                current_num += 1\n",
    "                current_streak += 1\n",
    "\n",
    "            # Update the maximum streak length\n",
    "            longest_streak = max(longest_streak, current_streak)\n",
    "\n",
    "    return longest_streak\n",
    "\n",
    "# Test the function\n",
    "nums = [100, 4, 200, 1, 3, 2]\n",
    "result = longest_consecutive_sequence(nums)\n",
    "print(f\"Length of the longest consecutive sequence: {result}\")\n"
   ]
  },
  {
   "cell_type": "markdown",
   "id": "7a61e20e",
   "metadata": {
    "papermill": {
     "duration": 0.004821,
     "end_time": "2024-09-15T04:05:36.489625",
     "exception": false,
     "start_time": "2024-09-15T04:05:36.484804",
     "status": "completed"
    },
    "tags": []
   },
   "source": [
    "# Problem:\n",
    "Write a Python function to find the median of a list of numbers. The median is the value separating the higher half from the lower half of the list. If the list has an even number of elements, the median is the average of the two middle numbers.\n",
    "\n",
    "For example, given the list [3, 1, 4, 1, 5, 9, 2, 6, 5], the sorted list is [1, 1, 2, 3, 4, 5, 5, 6, 9], and the median is 4."
   ]
  },
  {
   "cell_type": "code",
   "execution_count": 6,
   "id": "13e4bb38",
   "metadata": {
    "execution": {
     "iopub.execute_input": "2024-09-15T04:05:36.502155Z",
     "iopub.status.busy": "2024-09-15T04:05:36.501743Z",
     "iopub.status.idle": "2024-09-15T04:05:36.509883Z",
     "shell.execute_reply": "2024-09-15T04:05:36.508547Z"
    },
    "papermill": {
     "duration": 0.017189,
     "end_time": "2024-09-15T04:05:36.512342",
     "exception": false,
     "start_time": "2024-09-15T04:05:36.495153",
     "status": "completed"
    },
    "tags": []
   },
   "outputs": [
    {
     "name": "stdout",
     "output_type": "stream",
     "text": [
      "The median is: 4\n"
     ]
    }
   ],
   "source": [
    "def find_median(nums):\n",
    "    if not nums:\n",
    "        raise ValueError(\"The list is empty\")\n",
    "    \n",
    "    sorted_nums = sorted(nums)\n",
    "    n = len(sorted_nums)\n",
    "    mid = n // 2\n",
    "\n",
    "    if n % 2 == 1:\n",
    "        # For odd-length lists, return the middle element\n",
    "        return sorted_nums[mid]\n",
    "    else:\n",
    "        # For even-length lists, return the average of the two middle elements\n",
    "        return (sorted_nums[mid - 1] + sorted_nums[mid]) / 2\n",
    "\n",
    "# Test the function\n",
    "nums = [3, 1, 4, 1, 5, 9, 2, 6, 5]\n",
    "median = find_median(nums)\n",
    "print(f\"The median is: {median}\")\n"
   ]
  },
  {
   "cell_type": "markdown",
   "id": "85c9d13e",
   "metadata": {
    "papermill": {
     "duration": 0.005099,
     "end_time": "2024-09-15T04:05:36.522928",
     "exception": false,
     "start_time": "2024-09-15T04:05:36.517829",
     "status": "completed"
    },
    "tags": []
   },
   "source": [
    "# Problem: Max Area of Island\n",
    "\n",
    "You are given an m x n binary matrix grid, where 1 represents land and 0 represents water. An island is a group of 1s (land) connected 4-directionally (horizontal or vertical.) You may assume all four edges of the grid are surrounded by water.\n",
    "\n",
    "The area of an island is the number of 1s in the island.\n",
    "\n",
    "Return the maximum area of an island in the given grid. If there is no island, return 0.\n",
    "\n",
    "```\n",
    "Input: grid = [\n",
    "  [0,0,1,0,0],\n",
    "  [0,1,1,0,0],\n",
    "  [0,0,1,0,0],\n",
    "  [1,1,0,0,0],\n",
    "  [1,1,0,0,1]\n",
    "]\n",
    "Output: 6\n",
    "\n",
    "```"
   ]
  },
  {
   "cell_type": "markdown",
   "id": "475a52ee",
   "metadata": {
    "papermill": {
     "duration": 0.004903,
     "end_time": "2024-09-15T04:05:36.533108",
     "exception": false,
     "start_time": "2024-09-15T04:05:36.528205",
     "status": "completed"
    },
    "tags": []
   },
   "source": [
    "### Constraints:\n",
    "`\n",
    "m == grid.length\n",
    "n == grid[i].length\n",
    "1 <= m, n <= 50\n",
    "grid[i][j] is either 0 or 1.\n",
    "`\n",
    "\n",
    "### Solution Outline:\n",
    "Use Depth First Search (DFS) to traverse the grid and count the area of each island.\n",
    "Mark the cells as visited by setting them to 0 once counted.\n",
    "Keep track of the maximum area encountered."
   ]
  },
  {
   "cell_type": "code",
   "execution_count": 7,
   "id": "1126fad0",
   "metadata": {
    "execution": {
     "iopub.execute_input": "2024-09-15T04:05:36.545448Z",
     "iopub.status.busy": "2024-09-15T04:05:36.545066Z",
     "iopub.status.idle": "2024-09-15T04:05:36.557493Z",
     "shell.execute_reply": "2024-09-15T04:05:36.556049Z"
    },
    "papermill": {
     "duration": 0.021556,
     "end_time": "2024-09-15T04:05:36.560018",
     "exception": false,
     "start_time": "2024-09-15T04:05:36.538462",
     "status": "completed"
    },
    "tags": []
   },
   "outputs": [
    {
     "name": "stdout",
     "output_type": "stream",
     "text": [
      "4\n"
     ]
    }
   ],
   "source": [
    "def max_area_of_island(grid):\n",
    "    if not grid:\n",
    "        return 0\n",
    "    \n",
    "    rows, cols = len(grid), len(grid[0])\n",
    "    \n",
    "    def dfs(r, c):\n",
    "        # If we're out of bounds or at a water cell, stop recursion.\n",
    "        if r < 0 or r >= rows or c < 0 or c >= cols or grid[r][c] == 0:\n",
    "            return 0\n",
    "        \n",
    "        # Mark the current land as visited by setting it to 0.\n",
    "        grid[r][c] = 0\n",
    "        \n",
    "        # Start with 1 to count the current cell.\n",
    "        area = 1\n",
    "        \n",
    "        # Explore all four directions (up, down, left, right)\n",
    "        area += dfs(r - 1, c)  # Up\n",
    "        area += dfs(r + 1, c)  # Down\n",
    "        area += dfs(r, c - 1)  # Left\n",
    "        area += dfs(r, c + 1)  # Right\n",
    "        \n",
    "        return area\n",
    "    \n",
    "    max_area = 0\n",
    "    \n",
    "    # Traverse the grid.\n",
    "    for r in range(rows):\n",
    "        for c in range(cols):\n",
    "            if grid[r][c] == 1:\n",
    "                # If it's land, compute the area of the island and update max_area.\n",
    "                max_area = max(max_area, dfs(r, c))\n",
    "    \n",
    "    return max_area\n",
    "\n",
    "# Example Usage\n",
    "grid = [\n",
    "    [0, 0, 1, 0, 0],\n",
    "    [0, 1, 1, 0, 0],\n",
    "    [0, 0, 1, 0, 0],\n",
    "    [1, 1, 0, 0, 0],\n",
    "    [1, 1, 0, 0, 1]\n",
    "]\n",
    "\n",
    "print(max_area_of_island(grid))  # Output: 6\n"
   ]
  },
  {
   "cell_type": "markdown",
   "id": "e3747e40",
   "metadata": {
    "papermill": {
     "duration": 0.005349,
     "end_time": "2024-09-15T04:05:36.570959",
     "exception": false,
     "start_time": "2024-09-15T04:05:36.565610",
     "status": "completed"
    },
    "tags": []
   },
   "source": [
    "# Problem: Two Sum (LeetCode Problem #1)\n",
    "\n",
    "Description:\n",
    "Given an array of integers nums and an integer target, return indices of the two numbers such that they add up to target.\n",
    "\n",
    "You may assume that each input would have exactly one solution, and you may not use the same element twice.\n",
    "\n",
    "You can return the answer in any order.\n",
    "\n",
    "Example:\n",
    "```\n",
    "Input: nums = [2, 7, 11, 15], target = 9\n",
    "Output: [0, 1]\n",
    "Explanation: Because nums[0] + nums[1] == 9, we return [0, 1]\n",
    "```\n",
    "Constraints:\n",
    "```\n",
    "2 <= nums.length <= 10^4\n",
    "-10^9 <= nums[i] <= 10^9\n",
    "-10^9 <= target <= 10^9\n",
    "```\n",
    "\n",
    "Only one valid answer exists."
   ]
  },
  {
   "cell_type": "code",
   "execution_count": 8,
   "id": "541b2645",
   "metadata": {
    "execution": {
     "iopub.execute_input": "2024-09-15T04:05:36.583747Z",
     "iopub.status.busy": "2024-09-15T04:05:36.583312Z",
     "iopub.status.idle": "2024-09-15T04:05:36.591037Z",
     "shell.execute_reply": "2024-09-15T04:05:36.589676Z"
    },
    "papermill": {
     "duration": 0.017369,
     "end_time": "2024-09-15T04:05:36.593882",
     "exception": false,
     "start_time": "2024-09-15T04:05:36.576513",
     "status": "completed"
    },
    "tags": []
   },
   "outputs": [
    {
     "name": "stdout",
     "output_type": "stream",
     "text": [
      "[0, 1]\n"
     ]
    }
   ],
   "source": [
    "def two_sum(nums, target):\n",
    "    # Create a dictionary to store the difference and its index\n",
    "    num_dict = {}\n",
    "    \n",
    "    # Loop through the list of numbers\n",
    "    for i, num in enumerate(nums):\n",
    "        # Calculate the difference between target and current number\n",
    "        diff = target - num\n",
    "        \n",
    "        # If the difference is found in the dictionary, return the indices\n",
    "        if diff in num_dict:\n",
    "            return [num_dict[diff], i]\n",
    "        \n",
    "        # Otherwise, store the current number and its index in the dictionary\n",
    "        num_dict[num] = i\n",
    "\n",
    "# Example usage\n",
    "nums = [2, 7, 11, 15]\n",
    "target = 9\n",
    "print(two_sum(nums, target))  # Output: [0, 1]\n"
   ]
  },
  {
   "cell_type": "markdown",
   "id": "109ce8ad",
   "metadata": {
    "papermill": {
     "duration": 0.005284,
     "end_time": "2024-09-15T04:05:36.604697",
     "exception": false,
     "start_time": "2024-09-15T04:05:36.599413",
     "status": "completed"
    },
    "tags": []
   },
   "source": [
    "## Problem: Two Sum\n",
    "\n",
    "### Difficulty: Easy\n",
    "\n",
    "### Problem Statement:\n",
    "Given an array of integers `nums` and an integer `target`, return the indices of the two numbers such that they add up to the target. You may assume that each input would have exactly one solution, and you may not use the same element twice.\n",
    "\n",
    "You can return the answer in any order.\n",
    "\n",
    "### Examples:\n",
    "\n",
    "#### Example 1:\n",
    "**Input:**\n",
    "```python\n",
    "nums = [2, 7, 11, 15]\n",
    "target = 9\n",
    "\n",
    "Output:\n",
    "\n",
    "\n",
    "[0, 1]\n",
    "Explanation: Because nums[0] + nums[1] == 9, we return [0, 1].\n",
    "```\n",
    "\n",
    "#### Example 2:\n",
    "```python\n",
    "**Input:**\n",
    "\n",
    "\n",
    "nums = [3, 2, 4]\n",
    "target = 6\n",
    "Output:\n",
    "\n",
    "\n",
    "[1, 2]\n",
    "Example 3:\n",
    "Input:\n",
    "\n",
    "\n",
    "nums = [3, 3]\n",
    "target = 6\n",
    "Output:\n",
    "\n",
    "[0, 1]\n",
    "Constraints:\n",
    "2 <= nums.length <= 10^4\n",
    "-10^9 <= nums[i] <= 10^9\n",
    "-10^9 <= target <= 10^9\n",
    "Only one valid answer exists.\n"
   ]
  },
  {
   "cell_type": "code",
   "execution_count": 9,
   "id": "e36a2c84",
   "metadata": {
    "execution": {
     "iopub.execute_input": "2024-09-15T04:05:36.617672Z",
     "iopub.status.busy": "2024-09-15T04:05:36.617224Z",
     "iopub.status.idle": "2024-09-15T04:05:36.624832Z",
     "shell.execute_reply": "2024-09-15T04:05:36.623748Z"
    },
    "papermill": {
     "duration": 0.016969,
     "end_time": "2024-09-15T04:05:36.627211",
     "exception": false,
     "start_time": "2024-09-15T04:05:36.610242",
     "status": "completed"
    },
    "tags": []
   },
   "outputs": [
    {
     "name": "stdout",
     "output_type": "stream",
     "text": [
      "[0, 1]\n"
     ]
    }
   ],
   "source": [
    "def twoSum(nums, target):\n",
    "    # Hash map to store value and its index\n",
    "    num_to_index = {}\n",
    "\n",
    "    # Iterate through the array\n",
    "    for i, num in enumerate(nums):\n",
    "        complement = target - num\n",
    "\n",
    "        # If complement is in the hash map, return the indices\n",
    "        if complement in num_to_index:\n",
    "            return [num_to_index[complement], i]\n",
    "        \n",
    "        # Store the current number's index in the hash map\n",
    "        num_to_index[num] = i\n",
    "\n",
    "# Example usage:\n",
    "nums = [2, 7, 11, 15]\n",
    "target = 9\n",
    "print(twoSum(nums, target))  # Output: [0, 1]\n"
   ]
  },
  {
   "cell_type": "markdown",
   "id": "fe3793c7",
   "metadata": {
    "papermill": {
     "duration": 0.005366,
     "end_time": "2024-09-15T04:05:36.638434",
     "exception": false,
     "start_time": "2024-09-15T04:05:36.633068",
     "status": "completed"
    },
    "tags": []
   },
   "source": [
    "# Problem: **Longest Substring Without Repeating Characters**\n",
    "\n",
    "Write a function `longest_unique_substring(s: str) -> str` that returns the longest substring of a given string `s` that contains all unique characters. If there are multiple substrings of the same maximum length, return the first one found.\n",
    "\n",
    "#### **Function Signature**\n",
    "```python\n",
    "def longest_unique_substring(s: str) -> str:\n",
    "    pass\n",
    "```\n",
    "\n",
    "#### **Input**\n",
    "- A string `s` (1 ≤ len(s) ≤ 10^5) where `s` consists of printable ASCII characters.\n",
    "\n",
    "#### **Output**\n",
    "- A string representing the longest substring with all unique characters.\n",
    "\n",
    "#### **Examples**\n",
    "\n",
    "1. **Input:**\n",
    "   ```python\n",
    "   longest_unique_substring(\"abcabcbb\")\n",
    "   ```\n",
    "   **Output:**\n",
    "   ```python\n",
    "   \"abc\"\n",
    "   ```\n",
    "\n",
    "2. **Input:**\n",
    "   ```python\n",
    "   longest_unique_substring(\"bbbbb\")\n",
    "   ```\n",
    "   **Output:**\n",
    "   ```python\n",
    "   \"b\"\n",
    "   ```\n",
    "\n",
    "3. **Input:**\n",
    "   ```python\n",
    "   longest_unique_substring(\"pwwkew\")\n",
    "   ```\n",
    "   **Output:**\n",
    "   ```python\n",
    "   \"wke\"\n",
    "   ```\n",
    "\n",
    "#### **Hints**\n",
    "- Use the sliding window technique with two pointers.\n",
    "- Keep track of the characters in the current window using a set or dictionary.\n",
    "- Adjust the window size dynamically to ensure all characters in the window are unique.\n"
   ]
  },
  {
   "cell_type": "markdown",
   "id": "7aa67e87",
   "metadata": {
    "papermill": {
     "duration": 0.005425,
     "end_time": "2024-09-15T04:05:36.649633",
     "exception": false,
     "start_time": "2024-09-15T04:05:36.644208",
     "status": "completed"
    },
    "tags": []
   },
   "source": [
    "## Here's a Python solution for the problem of finding the longest substring with all unique characters using the sliding window technique:\n",
    "\n",
    "```python\n",
    "def longest_unique_substring(s: str) -> str:\n",
    "    start = 0  # Starting index of the sliding window\n",
    "    max_length = 0  # Length of the longest unique substring found\n",
    "    max_substring = \"\"  # The longest unique substring found\n",
    "    char_index_map = {}  # Map to store the last index of each character\n",
    "    \n",
    "    for end in range(len(s)):\n",
    "        char = s[end]\n",
    "        \n",
    "        # If the character is already in the map and is within the current window\n",
    "        if char in char_index_map and char_index_map[char] >= start:\n",
    "            # Move the start index right after the last occurrence of the current character\n",
    "            start = char_index_map[char] + 1\n",
    "        \n",
    "        # Update the last index of the character\n",
    "        char_index_map[char] = end\n",
    "        \n",
    "        # Update the longest unique substring if a longer one is found\n",
    "        if end - start + 1 > max_length:\n",
    "            max_length = end - start + 1\n",
    "            max_substring = s[start:end + 1]\n",
    "    \n",
    "    return max_substring\n",
    "```\n",
    "\n",
    "### Explanation\n",
    "\n",
    "1. **Initialization**:\n",
    "   - `start` keeps track of the beginning of the sliding window.\n",
    "   - `max_length` and `max_substring` store the length and content of the longest unique substring found so far.\n",
    "   - `char_index_map` is a dictionary to store the most recent index of each character.\n",
    "\n",
    "2. **Sliding Window**:\n",
    "   - Iterate through the string with the `end` pointer.\n",
    "   - If the current character is already in the map and its index is within the current window, adjust the `start` pointer to the right of the last occurrence of the character.\n",
    "   - Update the `char_index_map` with the latest index of the current character.\n",
    "   - If the current window is longer than the previously recorded longest substring, update `max_length` and `max_substring`.\n",
    "\n",
    "3. **Return**:\n",
    "   - The function returns the longest substring with unique characters.\n",
    "\n",
    "This approach ensures an efficient solution with a time complexity of O(n), where n is the length of the string, since each character is processed at most twice."
   ]
  },
  {
   "cell_type": "code",
   "execution_count": null,
   "id": "d06318f5",
   "metadata": {
    "papermill": {
     "duration": 0.005581,
     "end_time": "2024-09-15T04:05:36.660857",
     "exception": false,
     "start_time": "2024-09-15T04:05:36.655276",
     "status": "completed"
    },
    "tags": []
   },
   "outputs": [],
   "source": []
  }
 ],
 "metadata": {
  "kaggle": {
   "accelerator": "none",
   "dataSources": [],
   "dockerImageVersionId": 30761,
   "isGpuEnabled": false,
   "isInternetEnabled": true,
   "language": "python",
   "sourceType": "notebook"
  },
  "kernelspec": {
   "display_name": "Python 3",
   "language": "python",
   "name": "python3"
  },
  "language_info": {
   "codemirror_mode": {
    "name": "ipython",
    "version": 3
   },
   "file_extension": ".py",
   "mimetype": "text/x-python",
   "name": "python",
   "nbconvert_exporter": "python",
   "pygments_lexer": "ipython3",
   "version": "3.10.14"
  },
  "papermill": {
   "default_parameters": {},
   "duration": 5.208279,
   "end_time": "2024-09-15T04:05:37.188232",
   "environment_variables": {},
   "exception": null,
   "input_path": "__notebook__.ipynb",
   "output_path": "__notebook__.ipynb",
   "parameters": {},
   "start_time": "2024-09-15T04:05:31.979953",
   "version": "2.6.0"
  }
 },
 "nbformat": 4,
 "nbformat_minor": 5
}
