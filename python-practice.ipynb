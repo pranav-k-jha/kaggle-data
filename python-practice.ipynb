{
 "cells": [
  {
   "cell_type": "code",
   "execution_count": 1,
   "id": "e68dd8ef",
   "metadata": {
    "_cell_guid": "b1076dfc-b9ad-4769-8c92-a6c4dae69d19",
    "_uuid": "8f2839f25d086af736a60e9eeb907d3b93b6e0e5",
    "execution": {
     "iopub.execute_input": "2024-09-08T00:34:45.202346Z",
     "iopub.status.busy": "2024-09-08T00:34:45.201036Z",
     "iopub.status.idle": "2024-09-08T00:34:46.172295Z",
     "shell.execute_reply": "2024-09-08T00:34:46.170854Z"
    },
    "papermill": {
     "duration": 0.981797,
     "end_time": "2024-09-08T00:34:46.175598",
     "exception": false,
     "start_time": "2024-09-08T00:34:45.193801",
     "status": "completed"
    },
    "tags": []
   },
   "outputs": [],
   "source": [
    "# This Python 3 environment comes with many helpful analytics libraries installed\n",
    "# It is defined by the kaggle/python Docker image: https://github.com/kaggle/docker-python\n",
    "# For example, here's several helpful packages to load\n",
    "\n",
    "import numpy as np # linear algebra\n",
    "import pandas as pd # data processing, CSV file I/O (e.g. pd.read_csv)\n",
    "\n",
    "# Input data files are available in the read-only \"../input/\" directory\n",
    "# For example, running this (by clicking run or pressing Shift+Enter) will list all files under the input directory\n",
    "\n",
    "import os\n",
    "for dirname, _, filenames in os.walk('/kaggle/input'):\n",
    "    for filename in filenames:\n",
    "        print(os.path.join(dirname, filename))\n",
    "\n",
    "# You can write up to 20GB to the current directory (/kaggle/working/) that gets preserved as output when you create a version using \"Save & Run All\" \n",
    "# You can also write temporary files to /kaggle/temp/, but they won't be saved outside of the current session"
   ]
  },
  {
   "cell_type": "markdown",
   "id": "c19cd827",
   "metadata": {
    "papermill": {
     "duration": 0.004209,
     "end_time": "2024-09-08T00:34:46.184658",
     "exception": false,
     "start_time": "2024-09-08T00:34:46.180449",
     "status": "completed"
    },
    "tags": []
   },
   "source": [
    "# Problem:\n",
    "\n",
    "Write a Python function that takes an integer n as input and returns the sum of all multiples of 3 or 5 below n.\n",
    "\n",
    "For example, if n = 10, then the multiples of 3 and 5 below 10 are 3, 5, 6, and 9, and their sum is 23."
   ]
  },
  {
   "cell_type": "code",
   "execution_count": 2,
   "id": "dfd05653",
   "metadata": {
    "execution": {
     "iopub.execute_input": "2024-09-08T00:34:46.195980Z",
     "iopub.status.busy": "2024-09-08T00:34:46.195327Z",
     "iopub.status.idle": "2024-09-08T00:34:46.204675Z",
     "shell.execute_reply": "2024-09-08T00:34:46.203207Z"
    },
    "papermill": {
     "duration": 0.018652,
     "end_time": "2024-09-08T00:34:46.207784",
     "exception": false,
     "start_time": "2024-09-08T00:34:46.189132",
     "status": "completed"
    },
    "tags": []
   },
   "outputs": [
    {
     "name": "stdout",
     "output_type": "stream",
     "text": [
      "Sum of multiples of 3 or 5 below 10 is: 23\n"
     ]
    }
   ],
   "source": [
    "def sum_of_multiples(n):\n",
    "    total_sum = 0\n",
    "    for i in range(n):\n",
    "        if i % 3 == 0 or i % 5 == 0:\n",
    "            total_sum += i\n",
    "    return total_sum\n",
    "\n",
    "# Test the function\n",
    "n = 10\n",
    "result = sum_of_multiples(n)\n",
    "print(f\"Sum of multiples of 3 or 5 below {n} is: {result}\")"
   ]
  },
  {
   "cell_type": "markdown",
   "id": "7435dad3",
   "metadata": {
    "papermill": {
     "duration": 0.004226,
     "end_time": "2024-09-08T00:34:46.216575",
     "exception": false,
     "start_time": "2024-09-08T00:34:46.212349",
     "status": "completed"
    },
    "tags": []
   },
   "source": [
    "# Problem:\n",
    "Write a Python function that takes a string as input and returns the longest substring without repeating characters.\n",
    "\n",
    "For example, if the input is \"abcabcbb\", the answer is \"abc\" with the length of 3. If the input is \"bbbbb\", the answer is \"b\" with the length of 1."
   ]
  },
  {
   "cell_type": "code",
   "execution_count": 3,
   "id": "31a72d77",
   "metadata": {
    "execution": {
     "iopub.execute_input": "2024-09-08T00:34:46.227729Z",
     "iopub.status.busy": "2024-09-08T00:34:46.227293Z",
     "iopub.status.idle": "2024-09-08T00:34:46.237644Z",
     "shell.execute_reply": "2024-09-08T00:34:46.236253Z"
    },
    "papermill": {
     "duration": 0.01965,
     "end_time": "2024-09-08T00:34:46.240774",
     "exception": false,
     "start_time": "2024-09-08T00:34:46.221124",
     "status": "completed"
    },
    "tags": []
   },
   "outputs": [
    {
     "name": "stdout",
     "output_type": "stream",
     "text": [
      "Longest unique substring: 'abc', Length: 3\n"
     ]
    }
   ],
   "source": [
    "def longest_unique_substring(s):\n",
    "    char_map = {}\n",
    "    start = 0\n",
    "    max_len = 0\n",
    "    max_substr = \"\"\n",
    "\n",
    "    for i, char in enumerate(s):\n",
    "        # If the character is already in the map and the start is less than or equal to char_map[char],\n",
    "        # move the start to the right of the repeating character's previous index\n",
    "        if char in char_map and start <= char_map[char]:\n",
    "            start = char_map[char] + 1\n",
    "        else:\n",
    "            # Calculate the length of the current substring\n",
    "            if i - start + 1 > max_len:\n",
    "                max_len = i - start + 1\n",
    "                max_substr = s[start:i + 1]\n",
    "\n",
    "        # Update the character's last seen position\n",
    "        char_map[char] = i\n",
    "\n",
    "    return max_substr, max_len\n",
    "\n",
    "# Test the function\n",
    "s = \"abcabcbb\"\n",
    "substring, length = longest_unique_substring(s)\n",
    "print(f\"Longest unique substring: '{substring}', Length: {length}\")\n"
   ]
  },
  {
   "cell_type": "markdown",
   "id": "05ae7922",
   "metadata": {
    "papermill": {
     "duration": 0.004256,
     "end_time": "2024-09-08T00:34:46.249638",
     "exception": false,
     "start_time": "2024-09-08T00:34:46.245382",
     "status": "completed"
    },
    "tags": []
   },
   "source": [
    "# Problem:\n",
    "Write a Python function to find all pairs of integers in a given list whose sum is equal to a target value. Return the pairs as a list of tuples.\n",
    "\n",
    "For example, if the input list is [2, 4, 3, 5, 7, 8, 9] and the target sum is 7, the function should return [(2, 5), (4, 3)]."
   ]
  },
  {
   "cell_type": "code",
   "execution_count": 4,
   "id": "ef7cb3f3",
   "metadata": {
    "execution": {
     "iopub.execute_input": "2024-09-08T00:34:46.260393Z",
     "iopub.status.busy": "2024-09-08T00:34:46.259977Z",
     "iopub.status.idle": "2024-09-08T00:34:46.269314Z",
     "shell.execute_reply": "2024-09-08T00:34:46.267803Z"
    },
    "papermill": {
     "duration": 0.017765,
     "end_time": "2024-09-08T00:34:46.271831",
     "exception": false,
     "start_time": "2024-09-08T00:34:46.254066",
     "status": "completed"
    },
    "tags": []
   },
   "outputs": [
    {
     "name": "stdout",
     "output_type": "stream",
     "text": [
      "Pairs that sum up to 7: [(4, 3), (2, 5)]\n"
     ]
    }
   ],
   "source": [
    "def find_pairs_with_sum(nums, target):\n",
    "    seen = set()\n",
    "    pairs = []\n",
    "\n",
    "    for num in nums:\n",
    "        complement = target - num\n",
    "        if complement in seen:\n",
    "            pairs.append((complement, num))\n",
    "        seen.add(num)\n",
    "\n",
    "    return pairs\n",
    "\n",
    "# Test the function\n",
    "nums = [2, 4, 3, 5, 7, 8, 9]\n",
    "target = 7\n",
    "result = find_pairs_with_sum(nums, target)\n",
    "print(f\"Pairs that sum up to {target}: {result}\")\n"
   ]
  },
  {
   "cell_type": "markdown",
   "id": "0058ee57",
   "metadata": {
    "papermill": {
     "duration": 0.004242,
     "end_time": "2024-09-08T00:34:46.280800",
     "exception": false,
     "start_time": "2024-09-08T00:34:46.276558",
     "status": "completed"
    },
    "tags": []
   },
   "source": [
    "# Problem:\n",
    "Given an array of integers, write a Python function that finds the length of the longest consecutive sequence of numbers in the array. The sequence can be in any order in the array, but the numbers should be consecutive (i.e., 1, 2, 3, etc.), and the sequence does not need to be contiguous.\n",
    "\n",
    "For example, given the input array [100, 4, 200, 1, 3, 2], the longest consecutive sequence is [1, 2, 3, 4], and its length is 4."
   ]
  },
  {
   "cell_type": "code",
   "execution_count": 5,
   "id": "6497b3c2",
   "metadata": {
    "execution": {
     "iopub.execute_input": "2024-09-08T00:34:46.292128Z",
     "iopub.status.busy": "2024-09-08T00:34:46.291590Z",
     "iopub.status.idle": "2024-09-08T00:34:46.301202Z",
     "shell.execute_reply": "2024-09-08T00:34:46.299960Z"
    },
    "papermill": {
     "duration": 0.018571,
     "end_time": "2024-09-08T00:34:46.303848",
     "exception": false,
     "start_time": "2024-09-08T00:34:46.285277",
     "status": "completed"
    },
    "tags": []
   },
   "outputs": [
    {
     "name": "stdout",
     "output_type": "stream",
     "text": [
      "Length of the longest consecutive sequence: 4\n"
     ]
    }
   ],
   "source": [
    "def longest_consecutive_sequence(nums):\n",
    "    num_set = set(nums)  # Convert to set for O(1) lookup\n",
    "    longest_streak = 0\n",
    "\n",
    "    for num in num_set:\n",
    "        # Check if it's the start of a sequence\n",
    "        if num - 1 not in num_set:\n",
    "            current_num = num\n",
    "            current_streak = 1\n",
    "\n",
    "            # Count the length of the sequence\n",
    "            while current_num + 1 in num_set:\n",
    "                current_num += 1\n",
    "                current_streak += 1\n",
    "\n",
    "            # Update the maximum streak length\n",
    "            longest_streak = max(longest_streak, current_streak)\n",
    "\n",
    "    return longest_streak\n",
    "\n",
    "# Test the function\n",
    "nums = [100, 4, 200, 1, 3, 2]\n",
    "result = longest_consecutive_sequence(nums)\n",
    "print(f\"Length of the longest consecutive sequence: {result}\")\n"
   ]
  },
  {
   "cell_type": "markdown",
   "id": "6fa7d527",
   "metadata": {
    "papermill": {
     "duration": 0.004414,
     "end_time": "2024-09-08T00:34:46.313235",
     "exception": false,
     "start_time": "2024-09-08T00:34:46.308821",
     "status": "completed"
    },
    "tags": []
   },
   "source": [
    "# Problem:\n",
    "Write a Python function to find the median of a list of numbers. The median is the value separating the higher half from the lower half of the list. If the list has an even number of elements, the median is the average of the two middle numbers.\n",
    "\n",
    "For example, given the list [3, 1, 4, 1, 5, 9, 2, 6, 5], the sorted list is [1, 1, 2, 3, 4, 5, 5, 6, 9], and the median is 4."
   ]
  },
  {
   "cell_type": "code",
   "execution_count": 6,
   "id": "05a49a2b",
   "metadata": {
    "execution": {
     "iopub.execute_input": "2024-09-08T00:34:46.325522Z",
     "iopub.status.busy": "2024-09-08T00:34:46.324360Z",
     "iopub.status.idle": "2024-09-08T00:34:46.335025Z",
     "shell.execute_reply": "2024-09-08T00:34:46.333310Z"
    },
    "papermill": {
     "duration": 0.020986,
     "end_time": "2024-09-08T00:34:46.338930",
     "exception": false,
     "start_time": "2024-09-08T00:34:46.317944",
     "status": "completed"
    },
    "tags": []
   },
   "outputs": [
    {
     "name": "stdout",
     "output_type": "stream",
     "text": [
      "The median is: 4\n"
     ]
    }
   ],
   "source": [
    "def find_median(nums):\n",
    "    if not nums:\n",
    "        raise ValueError(\"The list is empty\")\n",
    "    \n",
    "    sorted_nums = sorted(nums)\n",
    "    n = len(sorted_nums)\n",
    "    mid = n // 2\n",
    "\n",
    "    if n % 2 == 1:\n",
    "        # For odd-length lists, return the middle element\n",
    "        return sorted_nums[mid]\n",
    "    else:\n",
    "        # For even-length lists, return the average of the two middle elements\n",
    "        return (sorted_nums[mid - 1] + sorted_nums[mid]) / 2\n",
    "\n",
    "# Test the function\n",
    "nums = [3, 1, 4, 1, 5, 9, 2, 6, 5]\n",
    "median = find_median(nums)\n",
    "print(f\"The median is: {median}\")\n"
   ]
  }
 ],
 "metadata": {
  "kaggle": {
   "accelerator": "none",
   "dataSources": [],
   "dockerImageVersionId": 30761,
   "isGpuEnabled": false,
   "isInternetEnabled": true,
   "language": "python",
   "sourceType": "notebook"
  },
  "kernelspec": {
   "display_name": "Python 3",
   "language": "python",
   "name": "python3"
  },
  "language_info": {
   "codemirror_mode": {
    "name": "ipython",
    "version": 3
   },
   "file_extension": ".py",
   "mimetype": "text/x-python",
   "name": "python",
   "nbconvert_exporter": "python",
   "pygments_lexer": "ipython3",
   "version": "3.10.14"
  },
  "papermill": {
   "default_parameters": {},
   "duration": 5.594374,
   "end_time": "2024-09-08T00:34:47.070014",
   "environment_variables": {},
   "exception": null,
   "input_path": "__notebook__.ipynb",
   "output_path": "__notebook__.ipynb",
   "parameters": {},
   "start_time": "2024-09-08T00:34:41.475640",
   "version": "2.6.0"
  }
 },
 "nbformat": 4,
 "nbformat_minor": 5
}
