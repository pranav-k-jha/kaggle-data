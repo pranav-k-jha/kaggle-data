{
 "cells": [
  {
   "cell_type": "code",
   "execution_count": 1,
   "id": "c0dd1a56",
   "metadata": {
    "_cell_guid": "b1076dfc-b9ad-4769-8c92-a6c4dae69d19",
    "_uuid": "8f2839f25d086af736a60e9eeb907d3b93b6e0e5",
    "execution": {
     "iopub.execute_input": "2024-07-25T04:09:02.406508Z",
     "iopub.status.busy": "2024-07-25T04:09:02.406127Z",
     "iopub.status.idle": "2024-07-25T04:09:03.142672Z",
     "shell.execute_reply": "2024-07-25T04:09:03.141317Z"
    },
    "papermill": {
     "duration": 0.748749,
     "end_time": "2024-07-25T04:09:03.144916",
     "exception": false,
     "start_time": "2024-07-25T04:09:02.396167",
     "status": "completed"
    },
    "tags": []
   },
   "outputs": [
    {
     "name": "stdout",
     "output_type": "stream",
     "text": [
      "/kaggle/input/sms-spam-collection-dataset/spam.csv\n",
      "/kaggle/input/bert/keras/bert_base_en_uncased/2/config.json\n",
      "/kaggle/input/bert/keras/bert_base_en_uncased/2/tokenizer.json\n",
      "/kaggle/input/bert/keras/bert_base_en_uncased/2/metadata.json\n",
      "/kaggle/input/bert/keras/bert_base_en_uncased/2/model.weights.h5\n",
      "/kaggle/input/bert/keras/bert_base_en_uncased/2/assets/tokenizer/vocabulary.txt\n"
     ]
    }
   ],
   "source": [
    "# This Python 3 environment comes with many helpful analytics libraries installed\n",
    "# It is defined by the kaggle/python Docker image: https://github.com/kaggle/docker-python\n",
    "# For example, here's several helpful packages to load\n",
    "\n",
    "import numpy as np # linear algebra\n",
    "import pandas as pd # data processing, CSV file I/O (e.g. pd.read_csv)\n",
    "\n",
    "# Input data files are available in the read-only \"../input/\" directory\n",
    "# For example, running this (by clicking run or pressing Shift+Enter) will list all files under the input directory\n",
    "\n",
    "import os\n",
    "for dirname, _, filenames in os.walk('/kaggle/input'):\n",
    "    for filename in filenames:\n",
    "        print(os.path.join(dirname, filename))\n",
    "\n",
    "# You can write up to 20GB to the current directory (/kaggle/working/) that gets preserved as output when you create a version using \"Save & Run All\" \n",
    "# You can also write temporary files to /kaggle/temp/, but they won't be saved outside of the current session"
   ]
  },
  {
   "cell_type": "markdown",
   "id": "08b572d9",
   "metadata": {
    "papermill": {
     "duration": 0.007986,
     "end_time": "2024-07-25T04:09:03.161467",
     "exception": false,
     "start_time": "2024-07-25T04:09:03.153481",
     "status": "completed"
    },
    "tags": []
   },
   "source": [
    " <h1> Spam Classification using BERT</h1>"
   ]
  },
  {
   "cell_type": "code",
   "execution_count": 2,
   "id": "688eb005",
   "metadata": {
    "execution": {
     "iopub.execute_input": "2024-07-25T04:09:03.178991Z",
     "iopub.status.busy": "2024-07-25T04:09:03.178588Z",
     "iopub.status.idle": "2024-07-25T04:09:16.434370Z",
     "shell.execute_reply": "2024-07-25T04:09:16.433407Z"
    },
    "papermill": {
     "duration": 13.267035,
     "end_time": "2024-07-25T04:09:16.436709",
     "exception": false,
     "start_time": "2024-07-25T04:09:03.169674",
     "status": "completed"
    },
    "tags": []
   },
   "outputs": [
    {
     "name": "stderr",
     "output_type": "stream",
     "text": [
      "2024-07-25 04:09:04.892464: E external/local_xla/xla/stream_executor/cuda/cuda_dnn.cc:9261] Unable to register cuDNN factory: Attempting to register factory for plugin cuDNN when one has already been registered\n",
      "2024-07-25 04:09:04.892603: E external/local_xla/xla/stream_executor/cuda/cuda_fft.cc:607] Unable to register cuFFT factory: Attempting to register factory for plugin cuFFT when one has already been registered\n",
      "2024-07-25 04:09:05.019883: E external/local_xla/xla/stream_executor/cuda/cuda_blas.cc:1515] Unable to register cuBLAS factory: Attempting to register factory for plugin cuBLAS when one has already been registered\n"
     ]
    }
   ],
   "source": [
    "import tensorflow as tf\n",
    "import tensorflow_hub as hub\n",
    "import tensorflow_text as text\n",
    "import keras_nlp\n",
    "\n",
    "import warnings\n",
    "warnings.filterwarnings('ignore')"
   ]
  },
  {
   "cell_type": "markdown",
   "id": "4f3faadb",
   "metadata": {
    "papermill": {
     "duration": 0.008085,
     "end_time": "2024-07-25T04:09:16.453476",
     "exception": false,
     "start_time": "2024-07-25T04:09:16.445391",
     "status": "completed"
    },
    "tags": []
   },
   "source": [
    "# Import the dataset"
   ]
  },
  {
   "cell_type": "code",
   "execution_count": 3,
   "id": "8de9d652",
   "metadata": {
    "execution": {
     "iopub.execute_input": "2024-07-25T04:09:16.471687Z",
     "iopub.status.busy": "2024-07-25T04:09:16.470853Z",
     "iopub.status.idle": "2024-07-25T04:09:16.520487Z",
     "shell.execute_reply": "2024-07-25T04:09:16.519662Z"
    },
    "papermill": {
     "duration": 0.060686,
     "end_time": "2024-07-25T04:09:16.522452",
     "exception": false,
     "start_time": "2024-07-25T04:09:16.461766",
     "status": "completed"
    },
    "tags": []
   },
   "outputs": [
    {
     "data": {
      "text/html": [
       "<div>\n",
       "<style scoped>\n",
       "    .dataframe tbody tr th:only-of-type {\n",
       "        vertical-align: middle;\n",
       "    }\n",
       "\n",
       "    .dataframe tbody tr th {\n",
       "        vertical-align: top;\n",
       "    }\n",
       "\n",
       "    .dataframe thead th {\n",
       "        text-align: right;\n",
       "    }\n",
       "</style>\n",
       "<table border=\"1\" class=\"dataframe\">\n",
       "  <thead>\n",
       "    <tr style=\"text-align: right;\">\n",
       "      <th></th>\n",
       "      <th>v1</th>\n",
       "      <th>v2</th>\n",
       "      <th>Unnamed: 2</th>\n",
       "      <th>Unnamed: 3</th>\n",
       "      <th>Unnamed: 4</th>\n",
       "    </tr>\n",
       "  </thead>\n",
       "  <tbody>\n",
       "    <tr>\n",
       "      <th>0</th>\n",
       "      <td>ham</td>\n",
       "      <td>Go until jurong point, crazy.. Available only ...</td>\n",
       "      <td>NaN</td>\n",
       "      <td>NaN</td>\n",
       "      <td>NaN</td>\n",
       "    </tr>\n",
       "    <tr>\n",
       "      <th>1</th>\n",
       "      <td>ham</td>\n",
       "      <td>Ok lar... Joking wif u oni...</td>\n",
       "      <td>NaN</td>\n",
       "      <td>NaN</td>\n",
       "      <td>NaN</td>\n",
       "    </tr>\n",
       "    <tr>\n",
       "      <th>2</th>\n",
       "      <td>spam</td>\n",
       "      <td>Free entry in 2 a wkly comp to win FA Cup fina...</td>\n",
       "      <td>NaN</td>\n",
       "      <td>NaN</td>\n",
       "      <td>NaN</td>\n",
       "    </tr>\n",
       "    <tr>\n",
       "      <th>3</th>\n",
       "      <td>ham</td>\n",
       "      <td>U dun say so early hor... U c already then say...</td>\n",
       "      <td>NaN</td>\n",
       "      <td>NaN</td>\n",
       "      <td>NaN</td>\n",
       "    </tr>\n",
       "    <tr>\n",
       "      <th>4</th>\n",
       "      <td>ham</td>\n",
       "      <td>Nah I don't think he goes to usf, he lives aro...</td>\n",
       "      <td>NaN</td>\n",
       "      <td>NaN</td>\n",
       "      <td>NaN</td>\n",
       "    </tr>\n",
       "  </tbody>\n",
       "</table>\n",
       "</div>"
      ],
      "text/plain": [
       "     v1                                                 v2 Unnamed: 2  \\\n",
       "0   ham  Go until jurong point, crazy.. Available only ...        NaN   \n",
       "1   ham                      Ok lar... Joking wif u oni...        NaN   \n",
       "2  spam  Free entry in 2 a wkly comp to win FA Cup fina...        NaN   \n",
       "3   ham  U dun say so early hor... U c already then say...        NaN   \n",
       "4   ham  Nah I don't think he goes to usf, he lives aro...        NaN   \n",
       "\n",
       "  Unnamed: 3 Unnamed: 4  \n",
       "0        NaN        NaN  \n",
       "1        NaN        NaN  \n",
       "2        NaN        NaN  \n",
       "3        NaN        NaN  \n",
       "4        NaN        NaN  "
      ]
     },
     "execution_count": 3,
     "metadata": {},
     "output_type": "execute_result"
    }
   ],
   "source": [
    "import pandas as pd\n",
    "\n",
    "df = pd.read_csv(\"/kaggle/input/sms-spam-collection-dataset/spam.csv\", encoding='ISO-8859-1')\n",
    "df.head(5)"
   ]
  },
  {
   "cell_type": "code",
   "execution_count": 4,
   "id": "7447483a",
   "metadata": {
    "execution": {
     "iopub.execute_input": "2024-07-25T04:09:16.541217Z",
     "iopub.status.busy": "2024-07-25T04:09:16.540961Z",
     "iopub.status.idle": "2024-07-25T04:09:16.552877Z",
     "shell.execute_reply": "2024-07-25T04:09:16.552028Z"
    },
    "papermill": {
     "duration": 0.023539,
     "end_time": "2024-07-25T04:09:16.554938",
     "exception": false,
     "start_time": "2024-07-25T04:09:16.531399",
     "status": "completed"
    },
    "tags": []
   },
   "outputs": [
    {
     "data": {
      "text/html": [
       "<div>\n",
       "<style scoped>\n",
       "    .dataframe tbody tr th:only-of-type {\n",
       "        vertical-align: middle;\n",
       "    }\n",
       "\n",
       "    .dataframe tbody tr th {\n",
       "        vertical-align: top;\n",
       "    }\n",
       "\n",
       "    .dataframe thead th {\n",
       "        text-align: right;\n",
       "    }\n",
       "</style>\n",
       "<table border=\"1\" class=\"dataframe\">\n",
       "  <thead>\n",
       "    <tr style=\"text-align: right;\">\n",
       "      <th></th>\n",
       "      <th>v1</th>\n",
       "      <th>v2</th>\n",
       "    </tr>\n",
       "  </thead>\n",
       "  <tbody>\n",
       "    <tr>\n",
       "      <th>0</th>\n",
       "      <td>ham</td>\n",
       "      <td>Go until jurong point, crazy.. Available only ...</td>\n",
       "    </tr>\n",
       "    <tr>\n",
       "      <th>1</th>\n",
       "      <td>ham</td>\n",
       "      <td>Ok lar... Joking wif u oni...</td>\n",
       "    </tr>\n",
       "    <tr>\n",
       "      <th>2</th>\n",
       "      <td>spam</td>\n",
       "      <td>Free entry in 2 a wkly comp to win FA Cup fina...</td>\n",
       "    </tr>\n",
       "    <tr>\n",
       "      <th>3</th>\n",
       "      <td>ham</td>\n",
       "      <td>U dun say so early hor... U c already then say...</td>\n",
       "    </tr>\n",
       "    <tr>\n",
       "      <th>4</th>\n",
       "      <td>ham</td>\n",
       "      <td>Nah I don't think he goes to usf, he lives aro...</td>\n",
       "    </tr>\n",
       "  </tbody>\n",
       "</table>\n",
       "</div>"
      ],
      "text/plain": [
       "     v1                                                 v2\n",
       "0   ham  Go until jurong point, crazy.. Available only ...\n",
       "1   ham                      Ok lar... Joking wif u oni...\n",
       "2  spam  Free entry in 2 a wkly comp to win FA Cup fina...\n",
       "3   ham  U dun say so early hor... U c already then say...\n",
       "4   ham  Nah I don't think he goes to usf, he lives aro..."
      ]
     },
     "execution_count": 4,
     "metadata": {},
     "output_type": "execute_result"
    }
   ],
   "source": [
    "df1 = df.drop(['Unnamed: 2', 'Unnamed: 4', 'Unnamed: 3'], axis='columns')\n",
    "df1.head()"
   ]
  },
  {
   "cell_type": "code",
   "execution_count": 5,
   "id": "8938fa17",
   "metadata": {
    "execution": {
     "iopub.execute_input": "2024-07-25T04:09:16.574155Z",
     "iopub.status.busy": "2024-07-25T04:09:16.573913Z",
     "iopub.status.idle": "2024-07-25T04:09:16.582485Z",
     "shell.execute_reply": "2024-07-25T04:09:16.581681Z"
    },
    "papermill": {
     "duration": 0.019907,
     "end_time": "2024-07-25T04:09:16.584360",
     "exception": false,
     "start_time": "2024-07-25T04:09:16.564453",
     "status": "completed"
    },
    "tags": []
   },
   "outputs": [
    {
     "data": {
      "text/html": [
       "<div>\n",
       "<style scoped>\n",
       "    .dataframe tbody tr th:only-of-type {\n",
       "        vertical-align: middle;\n",
       "    }\n",
       "\n",
       "    .dataframe tbody tr th {\n",
       "        vertical-align: top;\n",
       "    }\n",
       "\n",
       "    .dataframe thead th {\n",
       "        text-align: right;\n",
       "    }\n",
       "</style>\n",
       "<table border=\"1\" class=\"dataframe\">\n",
       "  <thead>\n",
       "    <tr style=\"text-align: right;\">\n",
       "      <th></th>\n",
       "      <th>Category</th>\n",
       "      <th>Message</th>\n",
       "    </tr>\n",
       "  </thead>\n",
       "  <tbody>\n",
       "    <tr>\n",
       "      <th>0</th>\n",
       "      <td>ham</td>\n",
       "      <td>Go until jurong point, crazy.. Available only ...</td>\n",
       "    </tr>\n",
       "    <tr>\n",
       "      <th>1</th>\n",
       "      <td>ham</td>\n",
       "      <td>Ok lar... Joking wif u oni...</td>\n",
       "    </tr>\n",
       "    <tr>\n",
       "      <th>2</th>\n",
       "      <td>spam</td>\n",
       "      <td>Free entry in 2 a wkly comp to win FA Cup fina...</td>\n",
       "    </tr>\n",
       "    <tr>\n",
       "      <th>3</th>\n",
       "      <td>ham</td>\n",
       "      <td>U dun say so early hor... U c already then say...</td>\n",
       "    </tr>\n",
       "    <tr>\n",
       "      <th>4</th>\n",
       "      <td>ham</td>\n",
       "      <td>Nah I don't think he goes to usf, he lives aro...</td>\n",
       "    </tr>\n",
       "  </tbody>\n",
       "</table>\n",
       "</div>"
      ],
      "text/plain": [
       "  Category                                            Message\n",
       "0      ham  Go until jurong point, crazy.. Available only ...\n",
       "1      ham                      Ok lar... Joking wif u oni...\n",
       "2     spam  Free entry in 2 a wkly comp to win FA Cup fina...\n",
       "3      ham  U dun say so early hor... U c already then say...\n",
       "4      ham  Nah I don't think he goes to usf, he lives aro..."
      ]
     },
     "execution_count": 5,
     "metadata": {},
     "output_type": "execute_result"
    }
   ],
   "source": [
    "df2 = df1.rename(columns={'v1': 'Category', 'v2': 'Message'})\n",
    "df2.head()"
   ]
  },
  {
   "cell_type": "code",
   "execution_count": 6,
   "id": "ba8b3f2e",
   "metadata": {
    "execution": {
     "iopub.execute_input": "2024-07-25T04:09:16.605390Z",
     "iopub.status.busy": "2024-07-25T04:09:16.605115Z",
     "iopub.status.idle": "2024-07-25T04:09:16.637972Z",
     "shell.execute_reply": "2024-07-25T04:09:16.637044Z"
    },
    "papermill": {
     "duration": 0.045377,
     "end_time": "2024-07-25T04:09:16.640002",
     "exception": false,
     "start_time": "2024-07-25T04:09:16.594625",
     "status": "completed"
    },
    "tags": []
   },
   "outputs": [
    {
     "data": {
      "text/html": [
       "<div>\n",
       "<style scoped>\n",
       "    .dataframe tbody tr th:only-of-type {\n",
       "        vertical-align: middle;\n",
       "    }\n",
       "\n",
       "    .dataframe tbody tr th {\n",
       "        vertical-align: top;\n",
       "    }\n",
       "\n",
       "    .dataframe thead tr th {\n",
       "        text-align: left;\n",
       "    }\n",
       "\n",
       "    .dataframe thead tr:last-of-type th {\n",
       "        text-align: right;\n",
       "    }\n",
       "</style>\n",
       "<table border=\"1\" class=\"dataframe\">\n",
       "  <thead>\n",
       "    <tr>\n",
       "      <th></th>\n",
       "      <th colspan=\"4\" halign=\"left\">Message</th>\n",
       "    </tr>\n",
       "    <tr>\n",
       "      <th></th>\n",
       "      <th>count</th>\n",
       "      <th>unique</th>\n",
       "      <th>top</th>\n",
       "      <th>freq</th>\n",
       "    </tr>\n",
       "    <tr>\n",
       "      <th>Category</th>\n",
       "      <th></th>\n",
       "      <th></th>\n",
       "      <th></th>\n",
       "      <th></th>\n",
       "    </tr>\n",
       "  </thead>\n",
       "  <tbody>\n",
       "    <tr>\n",
       "      <th>ham</th>\n",
       "      <td>4825</td>\n",
       "      <td>4516</td>\n",
       "      <td>Sorry, I'll call later</td>\n",
       "      <td>30</td>\n",
       "    </tr>\n",
       "    <tr>\n",
       "      <th>spam</th>\n",
       "      <td>747</td>\n",
       "      <td>653</td>\n",
       "      <td>Please call our customer service representativ...</td>\n",
       "      <td>4</td>\n",
       "    </tr>\n",
       "  </tbody>\n",
       "</table>\n",
       "</div>"
      ],
      "text/plain": [
       "         Message                                                            \\\n",
       "           count unique                                                top   \n",
       "Category                                                                     \n",
       "ham         4825   4516                             Sorry, I'll call later   \n",
       "spam         747    653  Please call our customer service representativ...   \n",
       "\n",
       "               \n",
       "         freq  \n",
       "Category       \n",
       "ham        30  \n",
       "spam        4  "
      ]
     },
     "execution_count": 6,
     "metadata": {},
     "output_type": "execute_result"
    }
   ],
   "source": [
    "df2.groupby('Category').describe()"
   ]
  },
  {
   "cell_type": "code",
   "execution_count": 7,
   "id": "d6d63a31",
   "metadata": {
    "execution": {
     "iopub.execute_input": "2024-07-25T04:09:16.660008Z",
     "iopub.status.busy": "2024-07-25T04:09:16.659608Z",
     "iopub.status.idle": "2024-07-25T04:09:16.673309Z",
     "shell.execute_reply": "2024-07-25T04:09:16.672500Z"
    },
    "papermill": {
     "duration": 0.026077,
     "end_time": "2024-07-25T04:09:16.675319",
     "exception": false,
     "start_time": "2024-07-25T04:09:16.649242",
     "status": "completed"
    },
    "tags": []
   },
   "outputs": [
    {
     "data": {
      "text/html": [
       "<div>\n",
       "<style scoped>\n",
       "    .dataframe tbody tr th:only-of-type {\n",
       "        vertical-align: middle;\n",
       "    }\n",
       "\n",
       "    .dataframe tbody tr th {\n",
       "        vertical-align: top;\n",
       "    }\n",
       "\n",
       "    .dataframe thead th {\n",
       "        text-align: right;\n",
       "    }\n",
       "</style>\n",
       "<table border=\"1\" class=\"dataframe\">\n",
       "  <thead>\n",
       "    <tr style=\"text-align: right;\">\n",
       "      <th></th>\n",
       "      <th>Category</th>\n",
       "      <th>Message</th>\n",
       "      <th>spam</th>\n",
       "    </tr>\n",
       "  </thead>\n",
       "  <tbody>\n",
       "    <tr>\n",
       "      <th>0</th>\n",
       "      <td>ham</td>\n",
       "      <td>Go until jurong point, crazy.. Available only ...</td>\n",
       "      <td>0</td>\n",
       "    </tr>\n",
       "    <tr>\n",
       "      <th>1</th>\n",
       "      <td>ham</td>\n",
       "      <td>Ok lar... Joking wif u oni...</td>\n",
       "      <td>0</td>\n",
       "    </tr>\n",
       "    <tr>\n",
       "      <th>2</th>\n",
       "      <td>spam</td>\n",
       "      <td>Free entry in 2 a wkly comp to win FA Cup fina...</td>\n",
       "      <td>1</td>\n",
       "    </tr>\n",
       "    <tr>\n",
       "      <th>3</th>\n",
       "      <td>ham</td>\n",
       "      <td>U dun say so early hor... U c already then say...</td>\n",
       "      <td>0</td>\n",
       "    </tr>\n",
       "    <tr>\n",
       "      <th>4</th>\n",
       "      <td>ham</td>\n",
       "      <td>Nah I don't think he goes to usf, he lives aro...</td>\n",
       "      <td>0</td>\n",
       "    </tr>\n",
       "  </tbody>\n",
       "</table>\n",
       "</div>"
      ],
      "text/plain": [
       "  Category                                            Message  spam\n",
       "0      ham  Go until jurong point, crazy.. Available only ...     0\n",
       "1      ham                      Ok lar... Joking wif u oni...     0\n",
       "2     spam  Free entry in 2 a wkly comp to win FA Cup fina...     1\n",
       "3      ham  U dun say so early hor... U c already then say...     0\n",
       "4      ham  Nah I don't think he goes to usf, he lives aro...     0"
      ]
     },
     "execution_count": 7,
     "metadata": {},
     "output_type": "execute_result"
    }
   ],
   "source": [
    "df2['spam']=df2['Category'].apply(lambda x: 1 if x=='spam' else 0)\n",
    "df2.head()"
   ]
  },
  {
   "cell_type": "markdown",
   "id": "abb60176",
   "metadata": {
    "papermill": {
     "duration": 0.009056,
     "end_time": "2024-07-25T04:09:16.693805",
     "exception": false,
     "start_time": "2024-07-25T04:09:16.684749",
     "status": "completed"
    },
    "tags": []
   },
   "source": [
    "## Split the Data into Training and Test Sets"
   ]
  },
  {
   "cell_type": "code",
   "execution_count": 8,
   "id": "860f314f",
   "metadata": {
    "execution": {
     "iopub.execute_input": "2024-07-25T04:09:16.713446Z",
     "iopub.status.busy": "2024-07-25T04:09:16.713189Z",
     "iopub.status.idle": "2024-07-25T04:09:17.441224Z",
     "shell.execute_reply": "2024-07-25T04:09:17.440472Z"
    },
    "papermill": {
     "duration": 0.740314,
     "end_time": "2024-07-25T04:09:17.443464",
     "exception": false,
     "start_time": "2024-07-25T04:09:16.703150",
     "status": "completed"
    },
    "tags": []
   },
   "outputs": [],
   "source": [
    "from sklearn.model_selection import train_test_split\n",
    "\n",
    "X_train, X_test, y_train, y_test = train_test_split(df2['Message'],df2['spam'], stratify=df2['spam'])"
   ]
  },
  {
   "cell_type": "code",
   "execution_count": 9,
   "id": "e5e7da98",
   "metadata": {
    "execution": {
     "iopub.execute_input": "2024-07-25T04:09:17.463595Z",
     "iopub.status.busy": "2024-07-25T04:09:17.463323Z",
     "iopub.status.idle": "2024-07-25T04:09:17.469839Z",
     "shell.execute_reply": "2024-07-25T04:09:17.469044Z"
    },
    "papermill": {
     "duration": 0.018849,
     "end_time": "2024-07-25T04:09:17.471961",
     "exception": false,
     "start_time": "2024-07-25T04:09:17.453112",
     "status": "completed"
    },
    "tags": []
   },
   "outputs": [
    {
     "data": {
      "text/plain": [
       "4414    Yeah I should be able to, I'll text you when I...\n",
       "3323    I don wake since. I checked that stuff and saw...\n",
       "2021    I don't have anybody's number, I still haven't...\n",
       "5092    My fri ah... Okie lor,goin 4 my drivin den go ...\n",
       "Name: Message, dtype: object"
      ]
     },
     "execution_count": 9,
     "metadata": {},
     "output_type": "execute_result"
    }
   ],
   "source": [
    "X_train.head(4)"
   ]
  },
  {
   "cell_type": "markdown",
   "id": "b8a73c66",
   "metadata": {
    "papermill": {
     "duration": 0.009246,
     "end_time": "2024-07-25T04:09:17.491197",
     "exception": false,
     "start_time": "2024-07-25T04:09:17.481951",
     "status": "completed"
    },
    "tags": []
   },
   "source": [
    "# Import the BERT model and obtain embedding vectors"
   ]
  },
  {
   "cell_type": "markdown",
   "id": "8084ab69",
   "metadata": {
    "papermill": {
     "duration": 0.009193,
     "end_time": "2024-07-25T04:09:17.509797",
     "exception": false,
     "start_time": "2024-07-25T04:09:17.500604",
     "status": "completed"
    },
    "tags": []
   },
   "source": [
    "### Now let's import the BERT model and get embedding vectors for a few sample statements\n"
   ]
  },
  {
   "cell_type": "code",
   "execution_count": 10,
   "id": "99114dfe",
   "metadata": {
    "execution": {
     "iopub.execute_input": "2024-07-25T04:09:17.529560Z",
     "iopub.status.busy": "2024-07-25T04:09:17.529304Z",
     "iopub.status.idle": "2024-07-25T04:09:37.227452Z",
     "shell.execute_reply": "2024-07-25T04:09:37.226655Z"
    },
    "papermill": {
     "duration": 19.710806,
     "end_time": "2024-07-25T04:09:37.229892",
     "exception": false,
     "start_time": "2024-07-25T04:09:17.519086",
     "status": "completed"
    },
    "tags": []
   },
   "outputs": [],
   "source": [
    "bert_preprocess = hub.KerasLayer(\"https://tfhub.dev/tensorflow/bert_en_uncased_preprocess/3\")\n",
    "bert_encoder = hub.KerasLayer(\"https://tfhub.dev/tensorflow/bert_en_uncased_L-12_H-768_A-12/4\")"
   ]
  },
  {
   "cell_type": "code",
   "execution_count": 11,
   "id": "9cfd3fb6",
   "metadata": {
    "execution": {
     "iopub.execute_input": "2024-07-25T04:09:37.250436Z",
     "iopub.status.busy": "2024-07-25T04:09:37.250142Z",
     "iopub.status.idle": "2024-07-25T04:09:40.073292Z",
     "shell.execute_reply": "2024-07-25T04:09:40.072367Z"
    },
    "papermill": {
     "duration": 2.835732,
     "end_time": "2024-07-25T04:09:40.075420",
     "exception": false,
     "start_time": "2024-07-25T04:09:37.239688",
     "status": "completed"
    },
    "tags": []
   },
   "outputs": [
    {
     "data": {
      "text/plain": [
       "<tf.Tensor: shape=(2, 768), dtype=float32, numpy=\n",
       "array([[-0.8435169 , -0.5132726 , -0.88845724, ..., -0.7474888 ,\n",
       "        -0.75314724,  0.91964495],\n",
       "       [-0.8720837 , -0.50543994, -0.94446695, ..., -0.8584751 ,\n",
       "        -0.7174536 ,  0.88083   ]], dtype=float32)>"
      ]
     },
     "execution_count": 11,
     "metadata": {},
     "output_type": "execute_result"
    }
   ],
   "source": [
    "def get_sentence_embeding(sentences):\n",
    "    preprocessed_text = bert_preprocess(sentences)\n",
    "    return bert_encoder(preprocessed_text)['pooled_output']\n",
    "\n",
    "get_sentence_embeding([\n",
    "    \"500$ discount. hurry up\", \n",
    "    \"Bhavin, are you up for a volleybal game tomorrow?\"]\n",
    ")"
   ]
  },
  {
   "cell_type": "markdown",
   "id": "e6bdc074",
   "metadata": {
    "papermill": {
     "duration": 0.009453,
     "end_time": "2024-07-25T04:09:40.094762",
     "exception": false,
     "start_time": "2024-07-25T04:09:40.085309",
     "status": "completed"
    },
    "tags": []
   },
   "source": [
    "## Embedding vectors"
   ]
  },
  {
   "cell_type": "markdown",
   "id": "84bab247",
   "metadata": {
    "papermill": {
     "duration": 0.009382,
     "end_time": "2024-07-25T04:09:40.113805",
     "exception": false,
     "start_time": "2024-07-25T04:09:40.104423",
     "status": "completed"
    },
    "tags": []
   },
   "source": [
    "### Get embedding vectors for a few sample words and compare them using cosine similarity"
   ]
  },
  {
   "cell_type": "code",
   "execution_count": 12,
   "id": "d9a3935e",
   "metadata": {
    "execution": {
     "iopub.execute_input": "2024-07-25T04:09:40.134249Z",
     "iopub.status.busy": "2024-07-25T04:09:40.133949Z",
     "iopub.status.idle": "2024-07-25T04:09:40.819493Z",
     "shell.execute_reply": "2024-07-25T04:09:40.818369Z"
    },
    "papermill": {
     "duration": 0.698293,
     "end_time": "2024-07-25T04:09:40.821786",
     "exception": false,
     "start_time": "2024-07-25T04:09:40.123493",
     "status": "completed"
    },
    "tags": []
   },
   "outputs": [],
   "source": [
    "e = get_sentence_embeding([\n",
    "    \"banana\", \n",
    "    \"grapes\",\n",
    "    \"mango\",\n",
    "    \"jeff bezos\",\n",
    "    \"elon musk\",\n",
    "    \"bill gates\"\n",
    "]\n",
    ")"
   ]
  },
  {
   "cell_type": "code",
   "execution_count": 13,
   "id": "7024ba0c",
   "metadata": {
    "execution": {
     "iopub.execute_input": "2024-07-25T04:09:40.843269Z",
     "iopub.status.busy": "2024-07-25T04:09:40.842938Z",
     "iopub.status.idle": "2024-07-25T04:09:40.853306Z",
     "shell.execute_reply": "2024-07-25T04:09:40.852366Z"
    },
    "papermill": {
     "duration": 0.023166,
     "end_time": "2024-07-25T04:09:40.855235",
     "exception": false,
     "start_time": "2024-07-25T04:09:40.832069",
     "status": "completed"
    },
    "tags": []
   },
   "outputs": [
    {
     "data": {
      "text/plain": [
       "array([[0.9911089]], dtype=float32)"
      ]
     },
     "execution_count": 13,
     "metadata": {},
     "output_type": "execute_result"
    }
   ],
   "source": [
    "from sklearn.metrics.pairwise import cosine_similarity\n",
    "cosine_similarity([e[0]],[e[1]])"
   ]
  },
  {
   "cell_type": "markdown",
   "id": "f43b15e3",
   "metadata": {
    "papermill": {
     "duration": 0.010038,
     "end_time": "2024-07-25T04:09:40.875724",
     "exception": false,
     "start_time": "2024-07-25T04:09:40.865686",
     "status": "completed"
    },
    "tags": []
   },
   "source": [
    "### Values near to 1 indicate high similarity, while values near to 0 indicate significant differences. For example, comparing the words \"banana\" and \"grapes\" might yield a similarity score of 0.99, as they are both fruits and thus share similar contextual meanings."
   ]
  },
  {
   "cell_type": "code",
   "execution_count": 14,
   "id": "4488f919",
   "metadata": {
    "execution": {
     "iopub.execute_input": "2024-07-25T04:09:40.897052Z",
     "iopub.status.busy": "2024-07-25T04:09:40.896383Z",
     "iopub.status.idle": "2024-07-25T04:09:40.904559Z",
     "shell.execute_reply": "2024-07-25T04:09:40.903482Z"
    },
    "papermill": {
     "duration": 0.021124,
     "end_time": "2024-07-25T04:09:40.906722",
     "exception": false,
     "start_time": "2024-07-25T04:09:40.885598",
     "status": "completed"
    },
    "tags": []
   },
   "outputs": [
    {
     "data": {
      "text/plain": [
       "array([[0.8470389]], dtype=float32)"
      ]
     },
     "execution_count": 14,
     "metadata": {},
     "output_type": "execute_result"
    }
   ],
   "source": [
    "cosine_similarity([e[0]],[e[3]])"
   ]
  },
  {
   "cell_type": "markdown",
   "id": "3874f0fd",
   "metadata": {
    "papermill": {
     "duration": 0.009977,
     "end_time": "2024-07-25T04:09:40.926483",
     "exception": false,
     "start_time": "2024-07-25T04:09:40.916506",
     "status": "completed"
    },
    "tags": []
   },
   "source": [
    "### Comparing \"banana\" with \"Jeff Bezos\" might yield a similarity score of 0.84, which is still relatively high but not as close as the 0.99 similarity score obtained with \"grapes\". This reflects that while \"banana\" and \"Jeff Bezos\" have some contextual overlap, \"banana\" and \"grapes\" are much more closely related in terms of their contextual meanings.\n"
   ]
  },
  {
   "cell_type": "code",
   "execution_count": 15,
   "id": "9e141c00",
   "metadata": {
    "execution": {
     "iopub.execute_input": "2024-07-25T04:09:40.947165Z",
     "iopub.status.busy": "2024-07-25T04:09:40.946894Z",
     "iopub.status.idle": "2024-07-25T04:09:40.954231Z",
     "shell.execute_reply": "2024-07-25T04:09:40.953453Z"
    },
    "papermill": {
     "duration": 0.019748,
     "end_time": "2024-07-25T04:09:40.956019",
     "exception": false,
     "start_time": "2024-07-25T04:09:40.936271",
     "status": "completed"
    },
    "tags": []
   },
   "outputs": [
    {
     "data": {
      "text/plain": [
       "array([[0.9872035]], dtype=float32)"
      ]
     },
     "execution_count": 15,
     "metadata": {},
     "output_type": "execute_result"
    }
   ],
   "source": [
    "cosine_similarity([e[3]],[e[4]])"
   ]
  },
  {
   "cell_type": "markdown",
   "id": "54b90453",
   "metadata": {
    "papermill": {
     "duration": 0.009588,
     "end_time": "2024-07-25T04:09:40.975506",
     "exception": false,
     "start_time": "2024-07-25T04:09:40.965918",
     "status": "completed"
    },
    "tags": []
   },
   "source": [
    "\"Jeff Bezos\" and \"Elon Musk\" are more similar to each other than \"Jeff Bezos\" and \"banana\", as indicated by their higher cosine similarity score. This suggests that \"Jeff Bezos\" and \"Elon Musk\" share more contextual similarities, likely due to their comparable roles in technology and business, compared to the more disparate context between \"Jeff Bezos\" and \"banana\"."
   ]
  },
  {
   "cell_type": "markdown",
   "id": "bb0dea1a",
   "metadata": {
    "papermill": {
     "duration": 0.009751,
     "end_time": "2024-07-25T04:09:40.995047",
     "exception": false,
     "start_time": "2024-07-25T04:09:40.985296",
     "status": "completed"
    },
    "tags": []
   },
   "source": [
    "# Model Building"
   ]
  },
  {
   "cell_type": "markdown",
   "id": "10e491ca",
   "metadata": {
    "papermill": {
     "duration": 0.009691,
     "end_time": "2024-07-25T04:09:41.014697",
     "exception": false,
     "start_time": "2024-07-25T04:09:41.005006",
     "status": "completed"
    },
    "tags": []
   },
   "source": [
    "There are two types of models you can build in TensorFlow:\n",
    "\n",
    "1. **Sequential**\n",
    "2. **Functional**\n",
    "\n",
    "So far, we have built a Sequential model. Below, we will build a Functional model. More information on these two types of models can be found [here](https://becominghuman.ai/sequential-vs-functional-model-in-keras-20684f766057).\n"
   ]
  },
  {
   "cell_type": "code",
   "execution_count": 16,
   "id": "bfa61b6d",
   "metadata": {
    "execution": {
     "iopub.execute_input": "2024-07-25T04:09:41.035527Z",
     "iopub.status.busy": "2024-07-25T04:09:41.035242Z",
     "iopub.status.idle": "2024-07-25T04:10:00.507557Z",
     "shell.execute_reply": "2024-07-25T04:10:00.506673Z"
    },
    "papermill": {
     "duration": 19.48488,
     "end_time": "2024-07-25T04:10:00.509457",
     "exception": false,
     "start_time": "2024-07-25T04:09:41.024577",
     "status": "completed"
    },
    "tags": []
   },
   "outputs": [
    {
     "name": "stdout",
     "output_type": "stream",
     "text": [
      "Attaching 'model.safetensors' from model 'keras/bert/keras/bert_base_en_uncased/2' to your Kaggle notebook...\n",
      "Attaching 'model.safetensors.index.json' from model 'keras/bert/keras/bert_base_en_uncased/2' to your Kaggle notebook...\n",
      "Attaching 'metadata.json' from model 'keras/bert/keras/bert_base_en_uncased/2' to your Kaggle notebook...\n",
      "Attaching 'metadata.json' from model 'keras/bert/keras/bert_base_en_uncased/2' to your Kaggle notebook...\n",
      "Attaching 'preprocessor.json' from model 'keras/bert/keras/bert_base_en_uncased/2' to your Kaggle notebook...\n",
      "Attaching 'tokenizer.json' from model 'keras/bert/keras/bert_base_en_uncased/2' to your Kaggle notebook...\n",
      "Attaching 'tokenizer.json' from model 'keras/bert/keras/bert_base_en_uncased/2' to your Kaggle notebook...\n",
      "Attaching 'assets/tokenizer/vocabulary.txt' from model 'keras/bert/keras/bert_base_en_uncased/2' to your Kaggle notebook...\n",
      "Attaching 'model.safetensors' from model 'keras/bert/keras/bert_base_en_uncased/2' to your Kaggle notebook...\n",
      "Attaching 'model.safetensors.index.json' from model 'keras/bert/keras/bert_base_en_uncased/2' to your Kaggle notebook...\n",
      "Attaching 'metadata.json' from model 'keras/bert/keras/bert_base_en_uncased/2' to your Kaggle notebook...\n",
      "Attaching 'metadata.json' from model 'keras/bert/keras/bert_base_en_uncased/2' to your Kaggle notebook...\n",
      "Attaching 'config.json' from model 'keras/bert/keras/bert_base_en_uncased/2' to your Kaggle notebook...\n",
      "Attaching 'config.json' from model 'keras/bert/keras/bert_base_en_uncased/2' to your Kaggle notebook...\n",
      "Attaching 'model.weights.h5' from model 'keras/bert/keras/bert_base_en_uncased/2' to your Kaggle notebook...\n"
     ]
    },
    {
     "data": {
      "text/html": [
       "<pre style=\"white-space:pre;overflow-x:auto;line-height:normal;font-family:Menlo,'DejaVu Sans Mono',consolas,'Courier New',monospace\"><span style=\"font-weight: bold\">Model: \"functional\"</span>\n",
       "</pre>\n"
      ],
      "text/plain": [
       "\u001b[1mModel: \"functional\"\u001b[0m\n"
      ]
     },
     "metadata": {},
     "output_type": "display_data"
    },
    {
     "data": {
      "text/html": [
       "<pre style=\"white-space:pre;overflow-x:auto;line-height:normal;font-family:Menlo,'DejaVu Sans Mono',consolas,'Courier New',monospace\">┏━━━━━━━━━━━━━━━━━━━━━┳━━━━━━━━━━━━━━━━━━━┳━━━━━━━━━━━━┳━━━━━━━━━━━━━━━━━━━┓\n",
       "┃<span style=\"font-weight: bold\"> Layer (type)        </span>┃<span style=\"font-weight: bold\"> Output Shape      </span>┃<span style=\"font-weight: bold\">    Param # </span>┃<span style=\"font-weight: bold\"> Connected to      </span>┃\n",
       "┡━━━━━━━━━━━━━━━━━━━━━╇━━━━━━━━━━━━━━━━━━━╇━━━━━━━━━━━━╇━━━━━━━━━━━━━━━━━━━┩\n",
       "│ text (<span style=\"color: #0087ff; text-decoration-color: #0087ff\">InputLayer</span>)   │ (<span style=\"color: #00d7ff; text-decoration-color: #00d7ff\">None</span>)            │          <span style=\"color: #00af00; text-decoration-color: #00af00\">0</span> │ -                 │\n",
       "├─────────────────────┼───────────────────┼────────────┼───────────────────┤\n",
       "│ bert_preprocessor   │ [(<span style=\"color: #00d7ff; text-decoration-color: #00d7ff\">None</span>, <span style=\"color: #00af00; text-decoration-color: #00af00\">512</span>),     │          <span style=\"color: #00af00; text-decoration-color: #00af00\">0</span> │ text[<span style=\"color: #00af00; text-decoration-color: #00af00\">0</span>][<span style=\"color: #00af00; text-decoration-color: #00af00\">0</span>]        │\n",
       "│ (<span style=\"color: #0087ff; text-decoration-color: #0087ff\">BertPreprocessor</span>)  │ (<span style=\"color: #00d7ff; text-decoration-color: #00d7ff\">None</span>, <span style=\"color: #00af00; text-decoration-color: #00af00\">512</span>),      │            │                   │\n",
       "│                     │ (<span style=\"color: #00d7ff; text-decoration-color: #00d7ff\">None</span>, <span style=\"color: #00af00; text-decoration-color: #00af00\">512</span>)]      │            │                   │\n",
       "├─────────────────────┼───────────────────┼────────────┼───────────────────┤\n",
       "│ bert_backbone       │ [(<span style=\"color: #00d7ff; text-decoration-color: #00d7ff\">None</span>, <span style=\"color: #00af00; text-decoration-color: #00af00\">768</span>),     │ <span style=\"color: #00af00; text-decoration-color: #00af00\">109,482,2…</span> │ bert_preprocesso… │\n",
       "│ (<span style=\"color: #0087ff; text-decoration-color: #0087ff\">BertBackbone</span>)      │ (<span style=\"color: #00d7ff; text-decoration-color: #00d7ff\">None</span>, <span style=\"color: #00af00; text-decoration-color: #00af00\">512</span>, <span style=\"color: #00af00; text-decoration-color: #00af00\">768</span>)] │            │ bert_preprocesso… │\n",
       "│                     │                   │            │ bert_preprocesso… │\n",
       "├─────────────────────┼───────────────────┼────────────┼───────────────────┤\n",
       "│ dropout (<span style=\"color: #0087ff; text-decoration-color: #0087ff\">Dropout</span>)   │ (<span style=\"color: #00d7ff; text-decoration-color: #00d7ff\">None</span>, <span style=\"color: #00af00; text-decoration-color: #00af00\">768</span>)       │          <span style=\"color: #00af00; text-decoration-color: #00af00\">0</span> │ bert_backbone[<span style=\"color: #00af00; text-decoration-color: #00af00\">0</span>]… │\n",
       "├─────────────────────┼───────────────────┼────────────┼───────────────────┤\n",
       "│ output (<span style=\"color: #0087ff; text-decoration-color: #0087ff\">Dense</span>)      │ (<span style=\"color: #00d7ff; text-decoration-color: #00d7ff\">None</span>, <span style=\"color: #00af00; text-decoration-color: #00af00\">1</span>)         │        <span style=\"color: #00af00; text-decoration-color: #00af00\">769</span> │ dropout[<span style=\"color: #00af00; text-decoration-color: #00af00\">0</span>][<span style=\"color: #00af00; text-decoration-color: #00af00\">0</span>]     │\n",
       "└─────────────────────┴───────────────────┴────────────┴───────────────────┘\n",
       "</pre>\n"
      ],
      "text/plain": [
       "┏━━━━━━━━━━━━━━━━━━━━━┳━━━━━━━━━━━━━━━━━━━┳━━━━━━━━━━━━┳━━━━━━━━━━━━━━━━━━━┓\n",
       "┃\u001b[1m \u001b[0m\u001b[1mLayer (type)       \u001b[0m\u001b[1m \u001b[0m┃\u001b[1m \u001b[0m\u001b[1mOutput Shape     \u001b[0m\u001b[1m \u001b[0m┃\u001b[1m \u001b[0m\u001b[1m   Param #\u001b[0m\u001b[1m \u001b[0m┃\u001b[1m \u001b[0m\u001b[1mConnected to     \u001b[0m\u001b[1m \u001b[0m┃\n",
       "┡━━━━━━━━━━━━━━━━━━━━━╇━━━━━━━━━━━━━━━━━━━╇━━━━━━━━━━━━╇━━━━━━━━━━━━━━━━━━━┩\n",
       "│ text (\u001b[38;5;33mInputLayer\u001b[0m)   │ (\u001b[38;5;45mNone\u001b[0m)            │          \u001b[38;5;34m0\u001b[0m │ -                 │\n",
       "├─────────────────────┼───────────────────┼────────────┼───────────────────┤\n",
       "│ bert_preprocessor   │ [(\u001b[38;5;45mNone\u001b[0m, \u001b[38;5;34m512\u001b[0m),     │          \u001b[38;5;34m0\u001b[0m │ text[\u001b[38;5;34m0\u001b[0m][\u001b[38;5;34m0\u001b[0m]        │\n",
       "│ (\u001b[38;5;33mBertPreprocessor\u001b[0m)  │ (\u001b[38;5;45mNone\u001b[0m, \u001b[38;5;34m512\u001b[0m),      │            │                   │\n",
       "│                     │ (\u001b[38;5;45mNone\u001b[0m, \u001b[38;5;34m512\u001b[0m)]      │            │                   │\n",
       "├─────────────────────┼───────────────────┼────────────┼───────────────────┤\n",
       "│ bert_backbone       │ [(\u001b[38;5;45mNone\u001b[0m, \u001b[38;5;34m768\u001b[0m),     │ \u001b[38;5;34m109,482,2…\u001b[0m │ bert_preprocesso… │\n",
       "│ (\u001b[38;5;33mBertBackbone\u001b[0m)      │ (\u001b[38;5;45mNone\u001b[0m, \u001b[38;5;34m512\u001b[0m, \u001b[38;5;34m768\u001b[0m)] │            │ bert_preprocesso… │\n",
       "│                     │                   │            │ bert_preprocesso… │\n",
       "├─────────────────────┼───────────────────┼────────────┼───────────────────┤\n",
       "│ dropout (\u001b[38;5;33mDropout\u001b[0m)   │ (\u001b[38;5;45mNone\u001b[0m, \u001b[38;5;34m768\u001b[0m)       │          \u001b[38;5;34m0\u001b[0m │ bert_backbone[\u001b[38;5;34m0\u001b[0m]… │\n",
       "├─────────────────────┼───────────────────┼────────────┼───────────────────┤\n",
       "│ output (\u001b[38;5;33mDense\u001b[0m)      │ (\u001b[38;5;45mNone\u001b[0m, \u001b[38;5;34m1\u001b[0m)         │        \u001b[38;5;34m769\u001b[0m │ dropout[\u001b[38;5;34m0\u001b[0m][\u001b[38;5;34m0\u001b[0m]     │\n",
       "└─────────────────────┴───────────────────┴────────────┴───────────────────┘\n"
      ]
     },
     "metadata": {},
     "output_type": "display_data"
    },
    {
     "data": {
      "text/html": [
       "<pre style=\"white-space:pre;overflow-x:auto;line-height:normal;font-family:Menlo,'DejaVu Sans Mono',consolas,'Courier New',monospace\"><span style=\"font-weight: bold\"> Total params: </span><span style=\"color: #00af00; text-decoration-color: #00af00\">109,483,009</span> (417.64 MB)\n",
       "</pre>\n"
      ],
      "text/plain": [
       "\u001b[1m Total params: \u001b[0m\u001b[38;5;34m109,483,009\u001b[0m (417.64 MB)\n"
      ]
     },
     "metadata": {},
     "output_type": "display_data"
    },
    {
     "data": {
      "text/html": [
       "<pre style=\"white-space:pre;overflow-x:auto;line-height:normal;font-family:Menlo,'DejaVu Sans Mono',consolas,'Courier New',monospace\"><span style=\"font-weight: bold\"> Trainable params: </span><span style=\"color: #00af00; text-decoration-color: #00af00\">109,483,009</span> (417.64 MB)\n",
       "</pre>\n"
      ],
      "text/plain": [
       "\u001b[1m Trainable params: \u001b[0m\u001b[38;5;34m109,483,009\u001b[0m (417.64 MB)\n"
      ]
     },
     "metadata": {},
     "output_type": "display_data"
    },
    {
     "data": {
      "text/html": [
       "<pre style=\"white-space:pre;overflow-x:auto;line-height:normal;font-family:Menlo,'DejaVu Sans Mono',consolas,'Courier New',monospace\"><span style=\"font-weight: bold\"> Non-trainable params: </span><span style=\"color: #00af00; text-decoration-color: #00af00\">0</span> (0.00 B)\n",
       "</pre>\n"
      ],
      "text/plain": [
       "\u001b[1m Non-trainable params: \u001b[0m\u001b[38;5;34m0\u001b[0m (0.00 B)\n"
      ]
     },
     "metadata": {},
     "output_type": "display_data"
    }
   ],
   "source": [
    "# Define input layer\n",
    "text_input = tf.keras.layers.Input(shape=(), dtype=tf.string, name='text')\n",
    "\n",
    "# Define BERT preprocessor and encoder from keras_nlp\n",
    "preprocessor = keras_nlp.models.BertPreprocessor.from_preset(\"bert_base_en_uncased\", trainable=True)\n",
    "encoder = keras_nlp.models.BertBackbone.from_preset(\"bert_base_en_uncased\")\n",
    "\n",
    "# Preprocess text input\n",
    "encoder_inputs = preprocessor(text_input)\n",
    "\n",
    "# Get BERT outputs\n",
    "outputs = encoder(encoder_inputs)\n",
    "pooled_output = outputs[\"pooled_output\"]\n",
    "\n",
    "# Neural network layers\n",
    "dropout = tf.keras.layers.Dropout(0.1, name=\"dropout\")(pooled_output)\n",
    "dense = tf.keras.layers.Dense(1, activation='sigmoid', name=\"output\")(dropout)\n",
    "\n",
    "# Construct the final model\n",
    "model = tf.keras.Model(inputs=text_input, outputs=dense)\n",
    "\n",
    "# Compile the model (optional, depending on your use case)\n",
    "model.compile(optimizer='adam', loss='binary_crossentropy', metrics=['accuracy'])\n",
    "\n",
    "# Model summary\n",
    "model.summary()\n"
   ]
  },
  {
   "cell_type": "code",
   "execution_count": 17,
   "id": "0384d9b4",
   "metadata": {
    "execution": {
     "iopub.execute_input": "2024-07-25T04:10:00.535018Z",
     "iopub.status.busy": "2024-07-25T04:10:00.534330Z",
     "iopub.status.idle": "2024-07-25T04:10:00.539640Z",
     "shell.execute_reply": "2024-07-25T04:10:00.538829Z"
    },
    "papermill": {
     "duration": 0.020009,
     "end_time": "2024-07-25T04:10:00.541576",
     "exception": false,
     "start_time": "2024-07-25T04:10:00.521567",
     "status": "completed"
    },
    "tags": []
   },
   "outputs": [
    {
     "data": {
      "text/plain": [
       "4179"
      ]
     },
     "execution_count": 17,
     "metadata": {},
     "output_type": "execute_result"
    }
   ],
   "source": [
    "len(X_train)"
   ]
  },
  {
   "cell_type": "code",
   "execution_count": 18,
   "id": "33cd2274",
   "metadata": {
    "execution": {
     "iopub.execute_input": "2024-07-25T04:10:00.566749Z",
     "iopub.status.busy": "2024-07-25T04:10:00.566474Z",
     "iopub.status.idle": "2024-07-25T04:10:00.570490Z",
     "shell.execute_reply": "2024-07-25T04:10:00.569673Z"
    },
    "papermill": {
     "duration": 0.018717,
     "end_time": "2024-07-25T04:10:00.572465",
     "exception": false,
     "start_time": "2024-07-25T04:10:00.553748",
     "status": "completed"
    },
    "tags": []
   },
   "outputs": [],
   "source": [
    "# METRICS = [\n",
    "#       tf.keras.metrics.BinaryAccuracy(name='accuracy'),\n",
    "#       tf.keras.metrics.Precision(name='precision'),\n",
    "#       tf.keras.metrics.Recall(name='recall')\n",
    "# ]\n",
    "\n",
    "# model.compile(optimizer='adam',\n",
    "#               loss='binary_crossentropy',\n",
    "#               metrics=METRICS)"
   ]
  },
  {
   "cell_type": "markdown",
   "id": "96d446b1",
   "metadata": {
    "papermill": {
     "duration": 0.011838,
     "end_time": "2024-07-25T04:10:00.596306",
     "exception": false,
     "start_time": "2024-07-25T04:10:00.584468",
     "status": "completed"
    },
    "tags": []
   },
   "source": [
    "## Model Training"
   ]
  },
  {
   "cell_type": "code",
   "execution_count": 19,
   "id": "c32248a2",
   "metadata": {
    "execution": {
     "iopub.execute_input": "2024-07-25T04:10:00.621302Z",
     "iopub.status.busy": "2024-07-25T04:10:00.621044Z",
     "iopub.status.idle": "2024-07-25T04:10:00.624483Z",
     "shell.execute_reply": "2024-07-25T04:10:00.623692Z"
    },
    "papermill": {
     "duration": 0.017999,
     "end_time": "2024-07-25T04:10:00.626342",
     "exception": false,
     "start_time": "2024-07-25T04:10:00.608343",
     "status": "completed"
    },
    "tags": []
   },
   "outputs": [],
   "source": [
    "# model.fit(X_train, y_train, epochs=5)"
   ]
  },
  {
   "cell_type": "code",
   "execution_count": 20,
   "id": "09ccabc5",
   "metadata": {
    "execution": {
     "iopub.execute_input": "2024-07-25T04:10:00.656710Z",
     "iopub.status.busy": "2024-07-25T04:10:00.656408Z",
     "iopub.status.idle": "2024-07-25T04:10:00.662908Z",
     "shell.execute_reply": "2024-07-25T04:10:00.661778Z"
    },
    "papermill": {
     "duration": 0.024102,
     "end_time": "2024-07-25T04:10:00.665485",
     "exception": false,
     "start_time": "2024-07-25T04:10:00.641383",
     "status": "completed"
    },
    "tags": []
   },
   "outputs": [],
   "source": [
    "# model.evaluate(X_test, y_test)"
   ]
  },
  {
   "cell_type": "markdown",
   "id": "cfe50afe",
   "metadata": {
    "papermill": {
     "duration": 0.016164,
     "end_time": "2024-07-25T04:10:00.695232",
     "exception": false,
     "start_time": "2024-07-25T04:10:00.679068",
     "status": "completed"
    },
    "tags": []
   },
   "source": [
    "# Inference"
   ]
  },
  {
   "cell_type": "code",
   "execution_count": 21,
   "id": "361435d5",
   "metadata": {
    "execution": {
     "iopub.execute_input": "2024-07-25T04:10:00.723411Z",
     "iopub.status.busy": "2024-07-25T04:10:00.722603Z",
     "iopub.status.idle": "2024-07-25T04:10:00.727289Z",
     "shell.execute_reply": "2024-07-25T04:10:00.726460Z"
    },
    "papermill": {
     "duration": 0.019948,
     "end_time": "2024-07-25T04:10:00.729308",
     "exception": false,
     "start_time": "2024-07-25T04:10:00.709360",
     "status": "completed"
    },
    "tags": []
   },
   "outputs": [],
   "source": [
    "# reviews = [\n",
    "#     'Reply to win Â£100 weekly! Where will the 2006 FIFA World Cup be held? Send STOP to 87239 to end service',\n",
    "#     'You are awarded a SiPix Digital Camera! call 09061221061 from landline. Delivery within 28days. T Cs Box177. M221BP. 2yr warranty. 150ppm. 16 . p pÂ£3.99',\n",
    "#     'it to 80488. Your 500 free text messages are valid until 31 December 2005.',\n",
    "#     'Hey Sam, Are you coming for a cricket game tomorrow',\n",
    "#     \"Why don't you wait 'til at least wednesday to see if you get your .\"\n",
    "# ]\n",
    "# model.predict(reviews)"
   ]
  }
 ],
 "metadata": {
  "kaggle": {
   "accelerator": "none",
   "dataSources": [
    {
     "databundleVersionId": 982,
     "datasetId": 483,
     "sourceId": 982,
     "sourceType": "datasetVersion"
    },
    {
     "databundleVersionId": 7429181,
     "modelInstanceId": 4678,
     "sourceId": 6057,
     "sourceType": "modelInstanceVersion"
    }
   ],
   "dockerImageVersionId": 30746,
   "isGpuEnabled": false,
   "isInternetEnabled": true,
   "language": "python",
   "sourceType": "notebook"
  },
  "kernelspec": {
   "display_name": "Python 3",
   "language": "python",
   "name": "python3"
  },
  "language_info": {
   "codemirror_mode": {
    "name": "ipython",
    "version": 3
   },
   "file_extension": ".py",
   "mimetype": "text/x-python",
   "name": "python",
   "nbconvert_exporter": "python",
   "pygments_lexer": "ipython3",
   "version": "3.10.13"
  },
  "papermill": {
   "default_parameters": {},
   "duration": 64.184301,
   "end_time": "2024-07-25T04:10:03.829265",
   "environment_variables": {},
   "exception": null,
   "input_path": "__notebook__.ipynb",
   "output_path": "__notebook__.ipynb",
   "parameters": {},
   "start_time": "2024-07-25T04:08:59.644964",
   "version": "2.5.0"
  }
 },
 "nbformat": 4,
 "nbformat_minor": 5
}
