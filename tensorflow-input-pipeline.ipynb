{
 "cells": [
  {
   "cell_type": "code",
   "execution_count": 1,
   "id": "798da9ac",
   "metadata": {
    "_cell_guid": "fa1e4d52-8b61-4ed2-b4c1-aa50285a92b6",
    "_uuid": "d5aada0e-706d-4f45-abc8-ca3d626b5cc2",
    "collapsed": false,
    "execution": {
     "iopub.execute_input": "2024-07-25T01:50:27.032932Z",
     "iopub.status.busy": "2024-07-25T01:50:27.032484Z",
     "iopub.status.idle": "2024-07-25T01:50:27.999793Z",
     "shell.execute_reply": "2024-07-25T01:50:27.998543Z"
    },
    "jupyter": {
     "outputs_hidden": false
    },
    "papermill": {
     "duration": 0.986854,
     "end_time": "2024-07-25T01:50:28.002637",
     "exception": false,
     "start_time": "2024-07-25T01:50:27.015783",
     "status": "completed"
    },
    "tags": []
   },
   "outputs": [],
   "source": [
    "# This Python 3 environment comes with many helpful analytics libraries installed\n",
    "# It is defined by the kaggle/python Docker image: https://github.com/kaggle/docker-python\n",
    "# For example, here's several helpful packages to load\n",
    "\n",
    "import numpy as np # linear algebra\n",
    "import pandas as pd # data processing, CSV file I/O (e.g. pd.read_csv)\n",
    "\n",
    "# Input data files are available in the read-only \"../input/\" directory\n",
    "# For example, running this (by clicking run or pressing Shift+Enter) will list all files under the input directory\n",
    "\n",
    "import os\n",
    "for dirname, _, filenames in os.walk('/kaggle/input'):\n",
    "    for filename in filenames:\n",
    "#         print(os.path.join(dirname, filename))\n",
    "          pass\n",
    "\n",
    "# You can write up to 20GB to the current directory (/kaggle/working/) that gets preserved as output when you create a version using \"Save & Run All\" \n",
    "# You can also write temporary files to /kaggle/temp/, but they won't be saved outside of the current session"
   ]
  },
  {
   "cell_type": "markdown",
   "id": "7e22565f",
   "metadata": {
    "_cell_guid": "33434956-ef94-4a6b-8d90-1437e1899a98",
    "_uuid": "bed3817b-2297-4767-973f-ff93bc455047",
    "papermill": {
     "duration": 0.014269,
     "end_time": "2024-07-25T01:50:28.031758",
     "exception": false,
     "start_time": "2024-07-25T01:50:28.017489",
     "status": "completed"
    },
    "tags": []
   },
   "source": [
    "# Tensorflow Input Pipeline"
   ]
  },
  {
   "cell_type": "code",
   "execution_count": 2,
   "id": "d2d46c52",
   "metadata": {
    "_cell_guid": "a8a6a74f-d8b9-485d-a7e1-02c55f9203b9",
    "_uuid": "a360e507-2960-46d4-ab25-64bb0d976f04",
    "collapsed": false,
    "execution": {
     "iopub.execute_input": "2024-07-25T01:50:28.063731Z",
     "iopub.status.busy": "2024-07-25T01:50:28.063195Z",
     "iopub.status.idle": "2024-07-25T01:50:43.047418Z",
     "shell.execute_reply": "2024-07-25T01:50:43.046020Z"
    },
    "jupyter": {
     "outputs_hidden": false
    },
    "papermill": {
     "duration": 15.003197,
     "end_time": "2024-07-25T01:50:43.050218",
     "exception": false,
     "start_time": "2024-07-25T01:50:28.047021",
     "status": "completed"
    },
    "tags": []
   },
   "outputs": [
    {
     "name": "stderr",
     "output_type": "stream",
     "text": [
      "2024-07-25 01:50:30.363531: E external/local_xla/xla/stream_executor/cuda/cuda_dnn.cc:9261] Unable to register cuDNN factory: Attempting to register factory for plugin cuDNN when one has already been registered\n",
      "2024-07-25 01:50:30.363705: E external/local_xla/xla/stream_executor/cuda/cuda_fft.cc:607] Unable to register cuFFT factory: Attempting to register factory for plugin cuFFT when one has already been registered\n",
      "2024-07-25 01:50:30.528941: E external/local_xla/xla/stream_executor/cuda/cuda_blas.cc:1515] Unable to register cuBLAS factory: Attempting to register factory for plugin cuBLAS when one has already been registered\n"
     ]
    }
   ],
   "source": [
    "import tensorflow as tf"
   ]
  },
  {
   "cell_type": "markdown",
   "id": "ae3ba84a",
   "metadata": {
    "_cell_guid": "ab1b6b65-d18c-47d5-83ab-d13742b4b2ed",
    "_uuid": "9651c359-8d8c-4526-b477-36ceaa7074c5",
    "papermill": {
     "duration": 0.014954,
     "end_time": "2024-07-25T01:50:43.081538",
     "exception": false,
     "start_time": "2024-07-25T01:50:43.066584",
     "status": "completed"
    },
    "tags": []
   },
   "source": [
    "## Create tf dataset from a list"
   ]
  },
  {
   "cell_type": "code",
   "execution_count": 3,
   "id": "4557af45",
   "metadata": {
    "_cell_guid": "1b603957-58a0-4110-8fd1-c70235b32b48",
    "_uuid": "5238ea3d-502a-48ff-ac31-8412d28d5e0d",
    "collapsed": false,
    "execution": {
     "iopub.execute_input": "2024-07-25T01:50:43.115572Z",
     "iopub.status.busy": "2024-07-25T01:50:43.114848Z",
     "iopub.status.idle": "2024-07-25T01:50:43.153910Z",
     "shell.execute_reply": "2024-07-25T01:50:43.152722Z"
    },
    "jupyter": {
     "outputs_hidden": false
    },
    "papermill": {
     "duration": 0.058721,
     "end_time": "2024-07-25T01:50:43.156667",
     "exception": false,
     "start_time": "2024-07-25T01:50:43.097946",
     "status": "completed"
    },
    "tags": []
   },
   "outputs": [
    {
     "data": {
      "text/plain": [
       "<_TensorSliceDataset element_spec=TensorSpec(shape=(), dtype=tf.int32, name=None)>"
      ]
     },
     "execution_count": 3,
     "metadata": {},
     "output_type": "execute_result"
    }
   ],
   "source": [
    "daily_sales_numbers = [21, 22, -108, 31, -1, 32, 34,31]\n",
    "\n",
    "tf_dataset = tf.data.Dataset.from_tensor_slices(daily_sales_numbers)\n",
    "tf_dataset"
   ]
  },
  {
   "cell_type": "markdown",
   "id": "a1e55b74",
   "metadata": {
    "_cell_guid": "8cf7cc0b-4517-49d3-9173-0d59a9b8d34b",
    "_uuid": "ff64cbd8-dd4a-4358-b66d-60a2efcc17c2",
    "papermill": {
     "duration": 0.014937,
     "end_time": "2024-07-25T01:50:43.186714",
     "exception": false,
     "start_time": "2024-07-25T01:50:43.171777",
     "status": "completed"
    },
    "tags": []
   },
   "source": [
    "# Iterate through tf dataset"
   ]
  },
  {
   "cell_type": "code",
   "execution_count": 4,
   "id": "54b1a341",
   "metadata": {
    "_cell_guid": "1e71c990-bab7-4642-abec-e44f0891d6c2",
    "_uuid": "e458b8a1-81ce-4908-9a8a-db05ee5c24c0",
    "collapsed": false,
    "execution": {
     "iopub.execute_input": "2024-07-25T01:50:43.219085Z",
     "iopub.status.busy": "2024-07-25T01:50:43.218664Z",
     "iopub.status.idle": "2024-07-25T01:50:43.278158Z",
     "shell.execute_reply": "2024-07-25T01:50:43.276579Z"
    },
    "jupyter": {
     "outputs_hidden": false
    },
    "papermill": {
     "duration": 0.078714,
     "end_time": "2024-07-25T01:50:43.280837",
     "exception": false,
     "start_time": "2024-07-25T01:50:43.202123",
     "status": "completed"
    },
    "tags": []
   },
   "outputs": [
    {
     "name": "stdout",
     "output_type": "stream",
     "text": [
      "21\n",
      "22\n",
      "-108\n",
      "31\n",
      "-1\n",
      "32\n",
      "34\n",
      "31\n"
     ]
    }
   ],
   "source": [
    "for sales in tf_dataset:\n",
    "    print(sales.numpy())"
   ]
  },
  {
   "cell_type": "markdown",
   "id": "a6b57d18",
   "metadata": {
    "_cell_guid": "58a22bd8-ae71-48f5-9cd0-c71300504108",
    "_uuid": "0bf26c48-6877-4b7d-b0d6-a9b8a09e8fa5",
    "papermill": {
     "duration": 0.014685,
     "end_time": "2024-07-25T01:50:43.310669",
     "exception": false,
     "start_time": "2024-07-25T01:50:43.295984",
     "status": "completed"
    },
    "tags": []
   },
   "source": [
    "## Iterate through elements as numpy elements"
   ]
  },
  {
   "cell_type": "code",
   "execution_count": 5,
   "id": "e1ef5443",
   "metadata": {
    "_cell_guid": "84a940ae-b344-433b-bfe2-b3243f816940",
    "_uuid": "950351bd-c0bf-4d39-98a8-a9f009b32f23",
    "collapsed": false,
    "execution": {
     "iopub.execute_input": "2024-07-25T01:50:43.343543Z",
     "iopub.status.busy": "2024-07-25T01:50:43.342794Z",
     "iopub.status.idle": "2024-07-25T01:50:43.353143Z",
     "shell.execute_reply": "2024-07-25T01:50:43.351611Z"
    },
    "jupyter": {
     "outputs_hidden": false
    },
    "papermill": {
     "duration": 0.030213,
     "end_time": "2024-07-25T01:50:43.355843",
     "exception": false,
     "start_time": "2024-07-25T01:50:43.325630",
     "status": "completed"
    },
    "tags": []
   },
   "outputs": [
    {
     "name": "stdout",
     "output_type": "stream",
     "text": [
      "21\n",
      "22\n",
      "-108\n",
      "31\n",
      "-1\n",
      "32\n",
      "34\n",
      "31\n"
     ]
    }
   ],
   "source": [
    "for sales in tf_dataset.as_numpy_iterator():\n",
    "    print(sales)"
   ]
  },
  {
   "cell_type": "markdown",
   "id": "af646970",
   "metadata": {
    "_cell_guid": "45a8a7d7-e5c0-4969-92f0-c7a3945ba48c",
    "_uuid": "205420dd-6f32-481c-bcdf-78dd31840c4f",
    "papermill": {
     "duration": 0.015821,
     "end_time": "2024-07-25T01:50:43.387124",
     "exception": false,
     "start_time": "2024-07-25T01:50:43.371303",
     "status": "completed"
    },
    "tags": []
   },
   "source": [
    "## Iterate through first n elements in tf dataset"
   ]
  },
  {
   "cell_type": "code",
   "execution_count": 6,
   "id": "da9a0b22",
   "metadata": {
    "_cell_guid": "55164adc-4cb7-4e27-8d10-ce65baa61b7f",
    "_uuid": "6abdf31d-8c6f-4e1d-b3be-1921b81ebc80",
    "collapsed": false,
    "execution": {
     "iopub.execute_input": "2024-07-25T01:50:43.426114Z",
     "iopub.status.busy": "2024-07-25T01:50:43.425646Z",
     "iopub.status.idle": "2024-07-25T01:50:43.448886Z",
     "shell.execute_reply": "2024-07-25T01:50:43.447369Z"
    },
    "jupyter": {
     "outputs_hidden": false
    },
    "papermill": {
     "duration": 0.046077,
     "end_time": "2024-07-25T01:50:43.451882",
     "exception": false,
     "start_time": "2024-07-25T01:50:43.405805",
     "status": "completed"
    },
    "tags": []
   },
   "outputs": [
    {
     "name": "stdout",
     "output_type": "stream",
     "text": [
      "21\n",
      "22\n",
      "-108\n"
     ]
    }
   ],
   "source": [
    "for sales in tf_dataset.take(3):\n",
    "    print(sales.numpy())"
   ]
  },
  {
   "cell_type": "markdown",
   "id": "8a4366e4",
   "metadata": {
    "_cell_guid": "0e24cfee-3160-4a45-ad4f-50d2087f150a",
    "_uuid": "ddd8668c-0742-4afe-8b01-c1a31e9082b1",
    "papermill": {
     "duration": 0.018953,
     "end_time": "2024-07-25T01:50:43.488903",
     "exception": false,
     "start_time": "2024-07-25T01:50:43.469950",
     "status": "completed"
    },
    "tags": []
   },
   "source": [
    "### Filter sales numbers that are < 0"
   ]
  },
  {
   "cell_type": "code",
   "execution_count": 7,
   "id": "a9cd669a",
   "metadata": {
    "_cell_guid": "04ccbb6c-d95d-4a54-bc9c-ce2e5a0992ae",
    "_uuid": "b3d9360d-0d0c-4eb8-8862-ce03a2f67d48",
    "collapsed": false,
    "execution": {
     "iopub.execute_input": "2024-07-25T01:50:43.522124Z",
     "iopub.status.busy": "2024-07-25T01:50:43.521715Z",
     "iopub.status.idle": "2024-07-25T01:50:43.583647Z",
     "shell.execute_reply": "2024-07-25T01:50:43.582277Z"
    },
    "jupyter": {
     "outputs_hidden": false
    },
    "papermill": {
     "duration": 0.08113,
     "end_time": "2024-07-25T01:50:43.585998",
     "exception": false,
     "start_time": "2024-07-25T01:50:43.504868",
     "status": "completed"
    },
    "tags": []
   },
   "outputs": [
    {
     "name": "stdout",
     "output_type": "stream",
     "text": [
      "21\n",
      "22\n",
      "31\n",
      "32\n",
      "34\n",
      "31\n"
     ]
    }
   ],
   "source": [
    "tf_dataset = tf_dataset.filter(lambda x: x>0)\n",
    "for sales in tf_dataset.as_numpy_iterator():\n",
    "    print(sales)"
   ]
  },
  {
   "cell_type": "markdown",
   "id": "f2e3201a",
   "metadata": {
    "_cell_guid": "c9993995-f5ea-4bcb-bb61-90acdc1c9502",
    "_uuid": "4728a8b9-2f76-455c-b4d8-eb9d348a0eb5",
    "papermill": {
     "duration": 0.015524,
     "end_time": "2024-07-25T01:50:43.617286",
     "exception": false,
     "start_time": "2024-07-25T01:50:43.601762",
     "status": "completed"
    },
    "tags": []
   },
   "source": [
    "### Convert sales numbers from USA dollars ($) to Indian Rupees (INR) Assuming 1->86 conversation rate"
   ]
  },
  {
   "cell_type": "code",
   "execution_count": 8,
   "id": "710affc5",
   "metadata": {
    "_cell_guid": "1b289d11-a271-4e48-b053-e5d541ed54f5",
    "_uuid": "063df0d3-4f8d-48f2-88da-484382ac9cea",
    "collapsed": false,
    "execution": {
     "iopub.execute_input": "2024-07-25T01:50:43.649835Z",
     "iopub.status.busy": "2024-07-25T01:50:43.649427Z",
     "iopub.status.idle": "2024-07-25T01:50:43.699836Z",
     "shell.execute_reply": "2024-07-25T01:50:43.698388Z"
    },
    "jupyter": {
     "outputs_hidden": false
    },
    "papermill": {
     "duration": 0.070246,
     "end_time": "2024-07-25T01:50:43.702986",
     "exception": false,
     "start_time": "2024-07-25T01:50:43.632740",
     "status": "completed"
    },
    "tags": []
   },
   "outputs": [
    {
     "name": "stdout",
     "output_type": "stream",
     "text": [
      "1806\n",
      "1892\n",
      "2666\n",
      "2752\n",
      "2924\n",
      "2666\n"
     ]
    }
   ],
   "source": [
    "tf_dataset = tf_dataset.map(lambda x: x*86)\n",
    "for sales in tf_dataset.as_numpy_iterator():\n",
    "    print(sales)"
   ]
  },
  {
   "cell_type": "markdown",
   "id": "a6367d37",
   "metadata": {
    "_cell_guid": "a4a60b43-e6e1-4b77-8b4b-1de899d37e33",
    "_uuid": "53a643a2-4dbe-4821-896e-60488b659edd",
    "papermill": {
     "duration": 0.015083,
     "end_time": "2024-07-25T01:50:43.733735",
     "exception": false,
     "start_time": "2024-07-25T01:50:43.718652",
     "status": "completed"
    },
    "tags": []
   },
   "source": [
    "# Shuffling"
   ]
  },
  {
   "cell_type": "code",
   "execution_count": 9,
   "id": "4cfdecb4",
   "metadata": {
    "_cell_guid": "5a44d633-b6ae-4b5f-be43-4c4f8b55cfad",
    "_uuid": "ae1c896b-1a08-4e53-a53c-dab9481043de",
    "collapsed": false,
    "execution": {
     "iopub.execute_input": "2024-07-25T01:50:43.766271Z",
     "iopub.status.busy": "2024-07-25T01:50:43.765825Z",
     "iopub.status.idle": "2024-07-25T01:50:43.795266Z",
     "shell.execute_reply": "2024-07-25T01:50:43.793752Z"
    },
    "jupyter": {
     "outputs_hidden": false
    },
    "papermill": {
     "duration": 0.049013,
     "end_time": "2024-07-25T01:50:43.797980",
     "exception": false,
     "start_time": "2024-07-25T01:50:43.748967",
     "status": "completed"
    },
    "tags": []
   },
   "outputs": [
    {
     "name": "stdout",
     "output_type": "stream",
     "text": [
      "1806\n",
      "2666\n",
      "1892\n",
      "2752\n",
      "2924\n",
      "2666\n"
     ]
    }
   ],
   "source": [
    "tf_dataset = tf_dataset.shuffle(2)\n",
    "for sales in tf_dataset.as_numpy_iterator():\n",
    "    print(sales)"
   ]
  },
  {
   "cell_type": "markdown",
   "id": "250d983d",
   "metadata": {
    "_cell_guid": "bdf7db6b-d75e-4c87-846d-25254c627434",
    "_uuid": "ace4e011-768b-49f1-bd0c-da275072319a",
    "papermill": {
     "duration": 0.015172,
     "end_time": "2024-07-25T01:50:43.828751",
     "exception": false,
     "start_time": "2024-07-25T01:50:43.813579",
     "status": "completed"
    },
    "tags": []
   },
   "source": [
    "For more information about the `batch`, `repeat`, and `shuffle` methods in TensorFlow Dataset, refer to this [Stack Overflow discussion](https://stackoverflow.com/questions/53514495/what-does-batch-repeat-and-shuffle-do-with-tensorflow-dataset)."
   ]
  },
  {
   "cell_type": "markdown",
   "id": "356834c7",
   "metadata": {
    "_cell_guid": "77551cd4-91d9-4512-a1e2-be00c68a7477",
    "_uuid": "d09daf93-507d-468b-8379-a7030fa2407a",
    "papermill": {
     "duration": 0.015195,
     "end_time": "2024-07-25T01:50:43.859297",
     "exception": false,
     "start_time": "2024-07-25T01:50:43.844102",
     "status": "completed"
    },
    "tags": []
   },
   "source": [
    "# Batching"
   ]
  },
  {
   "cell_type": "code",
   "execution_count": 10,
   "id": "dbff2619",
   "metadata": {
    "_cell_guid": "3d9893dd-74db-4c14-bcda-2f2537ebf704",
    "_uuid": "35c4f146-51ef-45bd-899e-496d5d5440f2",
    "collapsed": false,
    "execution": {
     "iopub.execute_input": "2024-07-25T01:50:43.893145Z",
     "iopub.status.busy": "2024-07-25T01:50:43.892758Z",
     "iopub.status.idle": "2024-07-25T01:50:43.924233Z",
     "shell.execute_reply": "2024-07-25T01:50:43.922579Z"
    },
    "jupyter": {
     "outputs_hidden": false
    },
    "papermill": {
     "duration": 0.05212,
     "end_time": "2024-07-25T01:50:43.926970",
     "exception": false,
     "start_time": "2024-07-25T01:50:43.874850",
     "status": "completed"
    },
    "tags": []
   },
   "outputs": [
    {
     "name": "stdout",
     "output_type": "stream",
     "text": [
      "[1806 2666]\n",
      "[1892 2752]\n",
      "[2924 2666]\n"
     ]
    }
   ],
   "source": [
    "for sales_batch in tf_dataset.batch(2):\n",
    "    print(sales_batch.numpy())"
   ]
  },
  {
   "cell_type": "markdown",
   "id": "fe107d66",
   "metadata": {
    "_cell_guid": "2ddb6e1a-a559-4c7f-b9d7-d4f98ffc5f7d",
    "_uuid": "7fd701c5-da99-401a-9ab3-657a74d05312",
    "papermill": {
     "duration": 0.015391,
     "end_time": "2024-07-25T01:50:43.958017",
     "exception": false,
     "start_time": "2024-07-25T01:50:43.942626",
     "status": "completed"
    },
    "tags": []
   },
   "source": [
    "### Perform all of the above operations in one shot"
   ]
  },
  {
   "cell_type": "code",
   "execution_count": 11,
   "id": "43e7a021",
   "metadata": {
    "_cell_guid": "30d4aee2-c796-487e-9156-447d730b963b",
    "_uuid": "6a31677a-632f-470e-974d-31b4e416a5c7",
    "collapsed": false,
    "execution": {
     "iopub.execute_input": "2024-07-25T01:50:43.993062Z",
     "iopub.status.busy": "2024-07-25T01:50:43.992064Z",
     "iopub.status.idle": "2024-07-25T01:50:44.074601Z",
     "shell.execute_reply": "2024-07-25T01:50:44.073216Z"
    },
    "jupyter": {
     "outputs_hidden": false
    },
    "papermill": {
     "duration": 0.102911,
     "end_time": "2024-07-25T01:50:44.077617",
     "exception": false,
     "start_time": "2024-07-25T01:50:43.974706",
     "status": "completed"
    },
    "tags": []
   },
   "outputs": [
    {
     "name": "stdout",
     "output_type": "stream",
     "text": [
      "[1584 1512]\n",
      "[2232 2304]\n",
      "[2448 2232]\n"
     ]
    }
   ],
   "source": [
    "tf_dataset = tf.data.Dataset.from_tensor_slices(daily_sales_numbers)\n",
    "\n",
    "tf_dataset = tf_dataset.filter(lambda x: x>0).map(lambda y: y*72).shuffle(2).batch(2)\n",
    "for sales in tf_dataset.as_numpy_iterator():\n",
    "    print(sales)"
   ]
  },
  {
   "cell_type": "markdown",
   "id": "837c5de8",
   "metadata": {
    "_cell_guid": "9996c0c0-b6a8-4fa8-bc1e-76f9df00842b",
    "_uuid": "5150b8ab-2232-40be-b480-a7ee04515ef4",
    "papermill": {
     "duration": 0.076981,
     "end_time": "2024-07-25T01:50:44.170435",
     "exception": false,
     "start_time": "2024-07-25T01:50:44.093454",
     "status": "completed"
    },
    "tags": []
   },
   "source": [
    "# Images"
   ]
  },
  {
   "cell_type": "code",
   "execution_count": 12,
   "id": "889407e0",
   "metadata": {
    "_cell_guid": "5860adcc-fd7b-4bb1-8027-ee58e050c0d1",
    "_uuid": "c1abc5ae-7469-4272-889f-66f20e15498a",
    "collapsed": false,
    "execution": {
     "iopub.execute_input": "2024-07-25T01:50:44.203778Z",
     "iopub.status.busy": "2024-07-25T01:50:44.203350Z",
     "iopub.status.idle": "2024-07-25T01:50:44.245859Z",
     "shell.execute_reply": "2024-07-25T01:50:44.244787Z"
    },
    "jupyter": {
     "outputs_hidden": false
    },
    "papermill": {
     "duration": 0.062404,
     "end_time": "2024-07-25T01:50:44.248718",
     "exception": false,
     "start_time": "2024-07-25T01:50:44.186314",
     "status": "completed"
    },
    "tags": []
   },
   "outputs": [],
   "source": [
    "images_ds = tf.data.Dataset.list_files('/kaggle/input/image-data/images/*/*', shuffle=False)"
   ]
  },
  {
   "cell_type": "code",
   "execution_count": 13,
   "id": "5f09b18b",
   "metadata": {
    "_cell_guid": "37ef566a-57a8-4f0f-a940-db003e5a8a99",
    "_uuid": "18542f54-0fd8-4fa9-ace1-8ddd0e341002",
    "collapsed": false,
    "execution": {
     "iopub.execute_input": "2024-07-25T01:50:44.284810Z",
     "iopub.status.busy": "2024-07-25T01:50:44.283754Z",
     "iopub.status.idle": "2024-07-25T01:50:44.292343Z",
     "shell.execute_reply": "2024-07-25T01:50:44.291018Z"
    },
    "jupyter": {
     "outputs_hidden": false
    },
    "papermill": {
     "duration": 0.02966,
     "end_time": "2024-07-25T01:50:44.295000",
     "exception": false,
     "start_time": "2024-07-25T01:50:44.265340",
     "status": "completed"
    },
    "tags": []
   },
   "outputs": [
    {
     "data": {
      "text/plain": [
       "130"
      ]
     },
     "execution_count": 13,
     "metadata": {},
     "output_type": "execute_result"
    }
   ],
   "source": [
    "image_count = len(images_ds)\n",
    "image_count"
   ]
  },
  {
   "cell_type": "code",
   "execution_count": 14,
   "id": "a0944374",
   "metadata": {
    "_cell_guid": "0c985a32-71eb-4179-b469-d1ae69aaf922",
    "_uuid": "ed7db237-9d70-4f10-8520-84cfdd9224c0",
    "collapsed": false,
    "execution": {
     "iopub.execute_input": "2024-07-25T01:50:44.328958Z",
     "iopub.status.busy": "2024-07-25T01:50:44.328539Z",
     "iopub.status.idle": "2024-07-25T01:50:44.336157Z",
     "shell.execute_reply": "2024-07-25T01:50:44.334940Z"
    },
    "jupyter": {
     "outputs_hidden": false
    },
    "papermill": {
     "duration": 0.027763,
     "end_time": "2024-07-25T01:50:44.338801",
     "exception": false,
     "start_time": "2024-07-25T01:50:44.311038",
     "status": "completed"
    },
    "tags": []
   },
   "outputs": [
    {
     "data": {
      "text/plain": [
       "tensorflow.python.data.ops.from_tensor_slices_op._TensorSliceDataset"
      ]
     },
     "execution_count": 14,
     "metadata": {},
     "output_type": "execute_result"
    }
   ],
   "source": [
    "type(images_ds)"
   ]
  },
  {
   "cell_type": "code",
   "execution_count": 15,
   "id": "6dcbdede",
   "metadata": {
    "_cell_guid": "1fa9a8ea-427a-4b24-908c-4c60dcd253f3",
    "_uuid": "6872827a-21ed-4240-bd83-54aabb6718a3",
    "collapsed": false,
    "execution": {
     "iopub.execute_input": "2024-07-25T01:50:44.374827Z",
     "iopub.status.busy": "2024-07-25T01:50:44.374372Z",
     "iopub.status.idle": "2024-07-25T01:50:44.388710Z",
     "shell.execute_reply": "2024-07-25T01:50:44.387353Z"
    },
    "jupyter": {
     "outputs_hidden": false
    },
    "papermill": {
     "duration": 0.03477,
     "end_time": "2024-07-25T01:50:44.391547",
     "exception": false,
     "start_time": "2024-07-25T01:50:44.356777",
     "status": "completed"
    },
    "tags": []
   },
   "outputs": [
    {
     "name": "stdout",
     "output_type": "stream",
     "text": [
      "b'/kaggle/input/image-data/images/cat/20 Reasons Why Cats Make the Best Pets....jpg'\n",
      "b'/kaggle/input/image-data/images/cat/7 Foods Your Cat Can_t Eat.jpg'\n",
      "b'/kaggle/input/image-data/images/cat/A cat appears to have caught the....jpg'\n"
     ]
    }
   ],
   "source": [
    "for file in images_ds.take(3):\n",
    "    print(file.numpy())"
   ]
  },
  {
   "cell_type": "code",
   "execution_count": 16,
   "id": "a94a243f",
   "metadata": {
    "_cell_guid": "b49db733-34cf-4f58-b2c5-a73a3c4d88ce",
    "_uuid": "c02095f7-2c6f-4a8e-947c-59286a99f5b8",
    "collapsed": false,
    "execution": {
     "iopub.execute_input": "2024-07-25T01:50:44.426363Z",
     "iopub.status.busy": "2024-07-25T01:50:44.425939Z",
     "iopub.status.idle": "2024-07-25T01:50:44.442118Z",
     "shell.execute_reply": "2024-07-25T01:50:44.440844Z"
    },
    "jupyter": {
     "outputs_hidden": false
    },
    "papermill": {
     "duration": 0.03666,
     "end_time": "2024-07-25T01:50:44.444653",
     "exception": false,
     "start_time": "2024-07-25T01:50:44.407993",
     "status": "completed"
    },
    "tags": []
   },
   "outputs": [
    {
     "name": "stdout",
     "output_type": "stream",
     "text": [
      "b'/kaggle/input/image-data/images/dog/Rescue turns dog with untreatable tumor....jpg'\n",
      "b'/kaggle/input/image-data/images/dog/11 Things Humans Do That Dogs Hate.jpg'\n",
      "b'/kaggle/input/image-data/images/dog/Most Popular Dog Names of 2020....jpg'\n"
     ]
    }
   ],
   "source": [
    "images_ds = images_ds.shuffle(200)\n",
    "for file in images_ds.take(3):\n",
    "    print(file.numpy())"
   ]
  },
  {
   "cell_type": "code",
   "execution_count": 17,
   "id": "0aa0ca5c",
   "metadata": {
    "_cell_guid": "8efa0c52-ae6c-425f-9b6c-61c89040c898",
    "_uuid": "de4df664-9406-4275-83bf-56d4ebbde257",
    "collapsed": false,
    "execution": {
     "iopub.execute_input": "2024-07-25T01:50:44.480253Z",
     "iopub.status.busy": "2024-07-25T01:50:44.479803Z",
     "iopub.status.idle": "2024-07-25T01:50:44.485369Z",
     "shell.execute_reply": "2024-07-25T01:50:44.484119Z"
    },
    "jupyter": {
     "outputs_hidden": false
    },
    "papermill": {
     "duration": 0.026283,
     "end_time": "2024-07-25T01:50:44.487882",
     "exception": false,
     "start_time": "2024-07-25T01:50:44.461599",
     "status": "completed"
    },
    "tags": []
   },
   "outputs": [],
   "source": [
    "class_names = [\"cat\",\"dog\"]"
   ]
  },
  {
   "cell_type": "code",
   "execution_count": 18,
   "id": "687191df",
   "metadata": {
    "_cell_guid": "ae6092e6-d449-42bd-86e6-692581a0f742",
    "_uuid": "d91abdd1-e74e-4cd6-bdc0-a637acc0ca8c",
    "collapsed": false,
    "execution": {
     "iopub.execute_input": "2024-07-25T01:50:44.523205Z",
     "iopub.status.busy": "2024-07-25T01:50:44.522357Z",
     "iopub.status.idle": "2024-07-25T01:50:44.534286Z",
     "shell.execute_reply": "2024-07-25T01:50:44.532964Z"
    },
    "jupyter": {
     "outputs_hidden": false
    },
    "papermill": {
     "duration": 0.032629,
     "end_time": "2024-07-25T01:50:44.537107",
     "exception": false,
     "start_time": "2024-07-25T01:50:44.504478",
     "status": "completed"
    },
    "tags": []
   },
   "outputs": [],
   "source": [
    "train_size = int(image_count*0.8)\n",
    "train_ds = images_ds.take(train_size)\n",
    "test_ds = images_ds.skip(train_size)"
   ]
  },
  {
   "cell_type": "code",
   "execution_count": 19,
   "id": "ab14301e",
   "metadata": {
    "_cell_guid": "210f6ced-18e3-4e2a-a667-43c7696460cb",
    "_uuid": "6fc1f793-a0bb-4add-b649-722e206c9760",
    "collapsed": false,
    "execution": {
     "iopub.execute_input": "2024-07-25T01:50:44.572421Z",
     "iopub.status.busy": "2024-07-25T01:50:44.571727Z",
     "iopub.status.idle": "2024-07-25T01:50:44.581329Z",
     "shell.execute_reply": "2024-07-25T01:50:44.579947Z"
    },
    "jupyter": {
     "outputs_hidden": false
    },
    "papermill": {
     "duration": 0.030068,
     "end_time": "2024-07-25T01:50:44.584087",
     "exception": false,
     "start_time": "2024-07-25T01:50:44.554019",
     "status": "completed"
    },
    "tags": []
   },
   "outputs": [
    {
     "data": {
      "text/plain": [
       "104"
      ]
     },
     "execution_count": 19,
     "metadata": {},
     "output_type": "execute_result"
    }
   ],
   "source": [
    "len(train_ds)"
   ]
  },
  {
   "cell_type": "code",
   "execution_count": 20,
   "id": "ac4fd06e",
   "metadata": {
    "_cell_guid": "8d0a12cd-064b-4d32-b9d3-9e924cbe5963",
    "_uuid": "02f27d3d-db5b-4f06-860e-1539774fff64",
    "collapsed": false,
    "execution": {
     "iopub.execute_input": "2024-07-25T01:50:44.619235Z",
     "iopub.status.busy": "2024-07-25T01:50:44.618735Z",
     "iopub.status.idle": "2024-07-25T01:50:44.626468Z",
     "shell.execute_reply": "2024-07-25T01:50:44.625348Z"
    },
    "jupyter": {
     "outputs_hidden": false
    },
    "papermill": {
     "duration": 0.027917,
     "end_time": "2024-07-25T01:50:44.628786",
     "exception": false,
     "start_time": "2024-07-25T01:50:44.600869",
     "status": "completed"
    },
    "tags": []
   },
   "outputs": [
    {
     "data": {
      "text/plain": [
       "26"
      ]
     },
     "execution_count": 20,
     "metadata": {},
     "output_type": "execute_result"
    }
   ],
   "source": [
    "len(test_ds)"
   ]
  },
  {
   "cell_type": "code",
   "execution_count": 21,
   "id": "96aba1e1",
   "metadata": {
    "_cell_guid": "d153f5fc-8b57-4f58-9628-a41cd4b03732",
    "_uuid": "b59a7aa9-fe5b-4548-97b6-b7d1a6641ae1",
    "collapsed": false,
    "execution": {
     "iopub.execute_input": "2024-07-25T01:50:44.664880Z",
     "iopub.status.busy": "2024-07-25T01:50:44.664461Z",
     "iopub.status.idle": "2024-07-25T01:50:44.671826Z",
     "shell.execute_reply": "2024-07-25T01:50:44.670750Z"
    },
    "jupyter": {
     "outputs_hidden": false
    },
    "papermill": {
     "duration": 0.028715,
     "end_time": "2024-07-25T01:50:44.674322",
     "exception": false,
     "start_time": "2024-07-25T01:50:44.645607",
     "status": "completed"
    },
    "tags": []
   },
   "outputs": [
    {
     "data": {
      "text/plain": [
       "'cat'"
      ]
     },
     "execution_count": 21,
     "metadata": {},
     "output_type": "execute_result"
    }
   ],
   "source": [
    "s = \"/kaggle/input/image-data/images/cat/The Cat Health Checklist_ Everything....jpg\"\n",
    "s.split(\"/\")[-2]"
   ]
  },
  {
   "cell_type": "code",
   "execution_count": 22,
   "id": "81559df5",
   "metadata": {
    "_cell_guid": "62cc680b-9eea-49e5-a3b6-a3dc57e51013",
    "_uuid": "e87dab1b-b249-46f8-bfea-61146c061336",
    "collapsed": false,
    "execution": {
     "iopub.execute_input": "2024-07-25T01:50:44.709858Z",
     "iopub.status.busy": "2024-07-25T01:50:44.709414Z",
     "iopub.status.idle": "2024-07-25T01:50:44.715459Z",
     "shell.execute_reply": "2024-07-25T01:50:44.714272Z"
    },
    "jupyter": {
     "outputs_hidden": false
    },
    "papermill": {
     "duration": 0.026657,
     "end_time": "2024-07-25T01:50:44.717899",
     "exception": false,
     "start_time": "2024-07-25T01:50:44.691242",
     "status": "completed"
    },
    "tags": []
   },
   "outputs": [],
   "source": [
    "def get_label(file_path):\n",
    "    parts = tf.strings.split(file_path, os.path.sep)\n",
    "    return parts[-2]"
   ]
  },
  {
   "cell_type": "code",
   "execution_count": 23,
   "id": "6df0dc5c",
   "metadata": {
    "_cell_guid": "a9f7a3a0-0abd-404b-86ba-1639d3705c49",
    "_uuid": "fe39665a-42db-4f88-ac16-f218ca8c631a",
    "collapsed": false,
    "execution": {
     "iopub.execute_input": "2024-07-25T01:50:44.753459Z",
     "iopub.status.busy": "2024-07-25T01:50:44.753017Z",
     "iopub.status.idle": "2024-07-25T01:50:44.810010Z",
     "shell.execute_reply": "2024-07-25T01:50:44.808747Z"
    },
    "jupyter": {
     "outputs_hidden": false
    },
    "papermill": {
     "duration": 0.078029,
     "end_time": "2024-07-25T01:50:44.812876",
     "exception": false,
     "start_time": "2024-07-25T01:50:44.734847",
     "status": "completed"
    },
    "tags": []
   },
   "outputs": [
    {
     "data": {
      "text/plain": [
       "<tf.Tensor: shape=(), dtype=string, numpy=b'dog'>"
      ]
     },
     "execution_count": 23,
     "metadata": {},
     "output_type": "execute_result"
    }
   ],
   "source": [
    "get_label(\"/kaggle/input/image-data/images/dog/The Cost of Owning a Dog.jpg\")"
   ]
  },
  {
   "cell_type": "code",
   "execution_count": 24,
   "id": "52bb57de",
   "metadata": {
    "_cell_guid": "aaa173fc-03ba-4658-91b8-04091169cf34",
    "_uuid": "3ea064b1-1c45-4e4d-8584-3fc11c7fc080",
    "collapsed": false,
    "execution": {
     "iopub.execute_input": "2024-07-25T01:50:44.850035Z",
     "iopub.status.busy": "2024-07-25T01:50:44.849054Z",
     "iopub.status.idle": "2024-07-25T01:50:44.855688Z",
     "shell.execute_reply": "2024-07-25T01:50:44.854525Z"
    },
    "jupyter": {
     "outputs_hidden": false
    },
    "papermill": {
     "duration": 0.027761,
     "end_time": "2024-07-25T01:50:44.858289",
     "exception": false,
     "start_time": "2024-07-25T01:50:44.830528",
     "status": "completed"
    },
    "tags": []
   },
   "outputs": [],
   "source": [
    "def process_image(file_path):\n",
    "    label = get_label(file_path)\n",
    "    img = tf.io.read_file(file_path) # load the raw data from the file as a string\n",
    "    img = tf.image.decode_jpeg(img)\n",
    "    img = tf.image.resize(img, [128, 128])\n",
    "    return img, label"
   ]
  },
  {
   "cell_type": "code",
   "execution_count": 25,
   "id": "ec153dff",
   "metadata": {
    "_cell_guid": "0d712656-a679-4e14-8219-a15535a92368",
    "_uuid": "03dfe96d-b38a-46ad-b0d5-ab973dd69073",
    "collapsed": false,
    "execution": {
     "iopub.execute_input": "2024-07-25T01:50:44.894820Z",
     "iopub.status.busy": "2024-07-25T01:50:44.894384Z",
     "iopub.status.idle": "2024-07-25T01:50:45.479201Z",
     "shell.execute_reply": "2024-07-25T01:50:45.477766Z"
    },
    "jupyter": {
     "outputs_hidden": false
    },
    "papermill": {
     "duration": 0.606211,
     "end_time": "2024-07-25T01:50:45.482157",
     "exception": false,
     "start_time": "2024-07-25T01:50:44.875946",
     "status": "completed"
    },
    "tags": []
   },
   "outputs": [],
   "source": [
    "img, label = process_image(\"/kaggle/input/image-data/images/dog/The Cost of Owning a Dog.jpg\")\n",
    "# img.numpy()[:2]"
   ]
  },
  {
   "cell_type": "code",
   "execution_count": 26,
   "id": "c6959d4f",
   "metadata": {
    "_cell_guid": "d4e21458-1db8-4907-b764-4e6e09097348",
    "_uuid": "d8362a88-ea80-4da9-8e02-f13b0ecff342",
    "collapsed": false,
    "execution": {
     "iopub.execute_input": "2024-07-25T01:50:45.518055Z",
     "iopub.status.busy": "2024-07-25T01:50:45.517615Z",
     "iopub.status.idle": "2024-07-25T01:50:45.532364Z",
     "shell.execute_reply": "2024-07-25T01:50:45.531132Z"
    },
    "jupyter": {
     "outputs_hidden": false
    },
    "papermill": {
     "duration": 0.035745,
     "end_time": "2024-07-25T01:50:45.535090",
     "exception": false,
     "start_time": "2024-07-25T01:50:45.499345",
     "status": "completed"
    },
    "tags": []
   },
   "outputs": [
    {
     "name": "stdout",
     "output_type": "stream",
     "text": [
      "b'/kaggle/input/image-data/images/dog/Rottweiler Dog Breed Information....jpg'\n",
      "b'/kaggle/input/image-data/images/dog/Most Popular Breeds \\xe2\\x80\\x93 American Kennel Club.jpg'\n",
      "b'/kaggle/input/image-data/images/dog/Mood-Boosting Benefits of Pets....jpg'\n",
      "b'/kaggle/input/image-data/images/cat/7 Foods Your Cat Can_t Eat.jpg'\n"
     ]
    }
   ],
   "source": [
    "for t in train_ds.take(4):\n",
    "    print(t.numpy())"
   ]
  },
  {
   "cell_type": "code",
   "execution_count": 27,
   "id": "9d6bd4eb",
   "metadata": {
    "execution": {
     "iopub.execute_input": "2024-07-25T01:50:45.571798Z",
     "iopub.status.busy": "2024-07-25T01:50:45.571402Z",
     "iopub.status.idle": "2024-07-25T01:50:45.576712Z",
     "shell.execute_reply": "2024-07-25T01:50:45.575190Z"
    },
    "papermill": {
     "duration": 0.026595,
     "end_time": "2024-07-25T01:50:45.579567",
     "exception": false,
     "start_time": "2024-07-25T01:50:45.552972",
     "status": "completed"
    },
    "tags": []
   },
   "outputs": [],
   "source": [
    "# train_ds = train_ds.map(process_image)\n",
    "# test_ds = test_ds.map(process_image)"
   ]
  },
  {
   "cell_type": "code",
   "execution_count": 28,
   "id": "ad31b50d",
   "metadata": {
    "_cell_guid": "5b1c2ae3-780e-4ffa-96e8-cc617d3feb9a",
    "_uuid": "5d392090-143e-4062-926b-e1af80033ed9",
    "collapsed": false,
    "execution": {
     "iopub.execute_input": "2024-07-25T01:50:45.617186Z",
     "iopub.status.busy": "2024-07-25T01:50:45.616770Z",
     "iopub.status.idle": "2024-07-25T01:50:45.621967Z",
     "shell.execute_reply": "2024-07-25T01:50:45.620452Z"
    },
    "jupyter": {
     "outputs_hidden": false
    },
    "papermill": {
     "duration": 0.02622,
     "end_time": "2024-07-25T01:50:45.624518",
     "exception": false,
     "start_time": "2024-07-25T01:50:45.598298",
     "status": "completed"
    },
    "tags": []
   },
   "outputs": [],
   "source": [
    "# train_ds = train_ds.map(process_image)\n",
    "# for image, label in train_ds.take(1):\n",
    "#     print(\"****\",image)\n",
    "#     print(\"****\",label)"
   ]
  },
  {
   "cell_type": "code",
   "execution_count": 29,
   "id": "cbd5ba83",
   "metadata": {
    "_cell_guid": "b6978f9d-8a1d-402b-9d2b-b4ced28e335d",
    "_uuid": "e1af35b5-ad7b-4531-b6e8-63bb3535df86",
    "collapsed": false,
    "execution": {
     "iopub.execute_input": "2024-07-25T01:50:45.662802Z",
     "iopub.status.busy": "2024-07-25T01:50:45.662376Z",
     "iopub.status.idle": "2024-07-25T01:50:45.667891Z",
     "shell.execute_reply": "2024-07-25T01:50:45.666526Z"
    },
    "jupyter": {
     "outputs_hidden": false
    },
    "papermill": {
     "duration": 0.028285,
     "end_time": "2024-07-25T01:50:45.670601",
     "exception": false,
     "start_time": "2024-07-25T01:50:45.642316",
     "status": "completed"
    },
    "tags": []
   },
   "outputs": [],
   "source": [
    "# for image, label in train_ds.take(1):\n",
    "#     print(\"****\",image)\n",
    "#     print(\"****\",label)"
   ]
  },
  {
   "cell_type": "code",
   "execution_count": 30,
   "id": "10a5a643",
   "metadata": {
    "_cell_guid": "bfe50169-53dd-47ad-9b22-bfc291eccf70",
    "_uuid": "ade576a3-be6d-49ba-b530-214468a152de",
    "collapsed": false,
    "execution": {
     "iopub.execute_input": "2024-07-25T01:50:45.706782Z",
     "iopub.status.busy": "2024-07-25T01:50:45.706350Z",
     "iopub.status.idle": "2024-07-25T01:50:45.711765Z",
     "shell.execute_reply": "2024-07-25T01:50:45.710552Z"
    },
    "jupyter": {
     "outputs_hidden": false
    },
    "papermill": {
     "duration": 0.026862,
     "end_time": "2024-07-25T01:50:45.714550",
     "exception": false,
     "start_time": "2024-07-25T01:50:45.687688",
     "status": "completed"
    },
    "tags": []
   },
   "outputs": [],
   "source": [
    "def scale(image, label):\n",
    "    return image/255, label"
   ]
  },
  {
   "cell_type": "code",
   "execution_count": 31,
   "id": "9e127702",
   "metadata": {
    "_cell_guid": "fd78aa54-6be0-4930-9c6b-4cc45ca6f7d3",
    "_uuid": "9522c43f-49b6-4592-8314-9e1eaa32d013",
    "collapsed": false,
    "execution": {
     "iopub.execute_input": "2024-07-25T01:50:45.751496Z",
     "iopub.status.busy": "2024-07-25T01:50:45.750909Z",
     "iopub.status.idle": "2024-07-25T01:50:45.756791Z",
     "shell.execute_reply": "2024-07-25T01:50:45.755208Z"
    },
    "jupyter": {
     "outputs_hidden": false
    },
    "papermill": {
     "duration": 0.026986,
     "end_time": "2024-07-25T01:50:45.759382",
     "exception": false,
     "start_time": "2024-07-25T01:50:45.732396",
     "status": "completed"
    },
    "tags": []
   },
   "outputs": [],
   "source": [
    "# train_ds = train_ds.map(scale)"
   ]
  },
  {
   "cell_type": "code",
   "execution_count": 32,
   "id": "a36ea2aa",
   "metadata": {
    "_cell_guid": "890043db-66d4-4fc1-b507-c129301df540",
    "_uuid": "5daad090-71f5-4a83-b752-d784277cb303",
    "collapsed": false,
    "execution": {
     "iopub.execute_input": "2024-07-25T01:50:45.796006Z",
     "iopub.status.busy": "2024-07-25T01:50:45.795022Z",
     "iopub.status.idle": "2024-07-25T01:50:45.800324Z",
     "shell.execute_reply": "2024-07-25T01:50:45.799153Z"
    },
    "jupyter": {
     "outputs_hidden": false
    },
    "papermill": {
     "duration": 0.026157,
     "end_time": "2024-07-25T01:50:45.802744",
     "exception": false,
     "start_time": "2024-07-25T01:50:45.776587",
     "status": "completed"
    },
    "tags": []
   },
   "outputs": [],
   "source": [
    "# for image, label in train_ds.take(5):\n",
    "#     print(\"****Image: \",image.numpy()[0][0])\n",
    "#     print(\"****Label: \",label.numpy())"
   ]
  }
 ],
 "metadata": {
  "kaggle": {
   "accelerator": "none",
   "dataSources": [
    {
     "datasetId": 5441545,
     "sourceId": 9028617,
     "sourceType": "datasetVersion"
    }
   ],
   "dockerImageVersionId": 30746,
   "isGpuEnabled": false,
   "isInternetEnabled": true,
   "language": "python",
   "sourceType": "notebook"
  },
  "kernelspec": {
   "display_name": "Python 3",
   "language": "python",
   "name": "python3"
  },
  "language_info": {
   "codemirror_mode": {
    "name": "ipython",
    "version": 3
   },
   "file_extension": ".py",
   "mimetype": "text/x-python",
   "name": "python",
   "nbconvert_exporter": "python",
   "pygments_lexer": "ipython3",
   "version": "3.10.13"
  },
  "papermill": {
   "default_parameters": {},
   "duration": 24.188954,
   "end_time": "2024-07-25T01:50:48.069573",
   "environment_variables": {},
   "exception": null,
   "input_path": "__notebook__.ipynb",
   "output_path": "__notebook__.ipynb",
   "parameters": {},
   "start_time": "2024-07-25T01:50:23.880619",
   "version": "2.5.0"
  }
 },
 "nbformat": 4,
 "nbformat_minor": 5
}
