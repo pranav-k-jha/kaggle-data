{
 "cells": [
  {
   "cell_type": "code",
   "execution_count": 1,
   "id": "eade5f06",
   "metadata": {
    "_cell_guid": "b1076dfc-b9ad-4769-8c92-a6c4dae69d19",
    "_uuid": "8f2839f25d086af736a60e9eeb907d3b93b6e0e5",
    "execution": {
     "iopub.execute_input": "2024-07-25T02:03:11.108882Z",
     "iopub.status.busy": "2024-07-25T02:03:11.108373Z",
     "iopub.status.idle": "2024-07-25T02:03:11.995183Z",
     "shell.execute_reply": "2024-07-25T02:03:11.994049Z"
    },
    "papermill": {
     "duration": 0.895544,
     "end_time": "2024-07-25T02:03:11.997706",
     "exception": false,
     "start_time": "2024-07-25T02:03:11.102162",
     "status": "completed"
    },
    "tags": []
   },
   "outputs": [],
   "source": [
    "# This Python 3 environment comes with many helpful analytics libraries installed\n",
    "# It is defined by the kaggle/python Docker image: https://github.com/kaggle/docker-python\n",
    "# For example, here's several helpful packages to load\n",
    "\n",
    "import numpy as np # linear algebra\n",
    "import pandas as pd # data processing, CSV file I/O (e.g. pd.read_csv)\n",
    "\n",
    "# Input data files are available in the read-only \"../input/\" directory\n",
    "# For example, running this (by clicking run or pressing Shift+Enter) will list all files under the input directory\n",
    "\n",
    "import os\n",
    "for dirname, _, filenames in os.walk('/kaggle/input'):\n",
    "    for filename in filenames:\n",
    "#         print(os.path.join(dirname, filename))\n",
    "          pass\n",
    "\n",
    "# You can write up to 20GB to the current directory (/kaggle/working/) that gets preserved as output when you create a version using \"Save & Run All\" \n",
    "# You can also write temporary files to /kaggle/temp/, but they won't be saved outside of the current session"
   ]
  },
  {
   "cell_type": "markdown",
   "id": "3c29d726",
   "metadata": {
    "papermill": {
     "duration": 0.003459,
     "end_time": "2024-07-25T02:03:12.005359",
     "exception": false,
     "start_time": "2024-07-25T02:03:12.001900",
     "status": "completed"
    },
    "tags": []
   },
   "source": [
    "# Problem Description\n",
    "\n",
    "We have a dataset of movie reviews organized in text files, with the following folder structure:\n",
    "\n",
    "## Folder structure\n",
    "```\n",
    "reviews\n",
    "    |__ positive\n",
    "        |__pos_1.txt\n",
    "        |__pos_2.txt\n",
    "        |__pos_3.txt\n",
    "    |__ negative\n",
    "        |__neg_1.txt\n",
    "        |__neg_2.txt\n",
    "        |__neg_3.txt\n",
    "```  \n",
    "\n",
    "\n",
    "\n",
    "## Task\n",
    "\n",
    "We need to preprocess these reviews using `tf.data.Dataset` and perform the following transformations:\n",
    "\n",
    "1. **Read Text Reviews**: Read the content of each text file and generate a label based on the folder name (`positive` or `negative`). The dataset should consist of tuples where each tuple contains the review text and its corresponding label.\n",
    "   \n",
    "2. **Filter Blank Reviews**: Exclude any text files that are blank. There are two blank files in this dataset.\n",
    "   \n",
    "3. **Shuffle Reviews**: Shuffle the dataset to randomize the order of the reviews.\n",
    "\n",
    "Implement all of these transformations in a single line of code.\n"
   ]
  },
  {
   "cell_type": "markdown",
   "id": "38c34cf1",
   "metadata": {
    "papermill": {
     "duration": 0.003539,
     "end_time": "2024-07-25T02:03:12.012601",
     "exception": false,
     "start_time": "2024-07-25T02:03:12.009062",
     "status": "completed"
    },
    "tags": []
   },
   "source": [
    "# Retrieve review file paths in a tensorflow dataset"
   ]
  },
  {
   "cell_type": "code",
   "execution_count": 2,
   "id": "f9258bb0",
   "metadata": {
    "execution": {
     "iopub.execute_input": "2024-07-25T02:03:12.021832Z",
     "iopub.status.busy": "2024-07-25T02:03:12.021278Z",
     "iopub.status.idle": "2024-07-25T02:03:25.502675Z",
     "shell.execute_reply": "2024-07-25T02:03:25.501543Z"
    },
    "papermill": {
     "duration": 13.48889,
     "end_time": "2024-07-25T02:03:25.505133",
     "exception": false,
     "start_time": "2024-07-25T02:03:12.016243",
     "status": "completed"
    },
    "tags": []
   },
   "outputs": [
    {
     "name": "stderr",
     "output_type": "stream",
     "text": [
      "2024-07-25 02:03:14.104310: E external/local_xla/xla/stream_executor/cuda/cuda_dnn.cc:9261] Unable to register cuDNN factory: Attempting to register factory for plugin cuDNN when one has already been registered\n",
      "2024-07-25 02:03:14.104446: E external/local_xla/xla/stream_executor/cuda/cuda_fft.cc:607] Unable to register cuFFT factory: Attempting to register factory for plugin cuFFT when one has already been registered\n",
      "2024-07-25 02:03:14.268753: E external/local_xla/xla/stream_executor/cuda/cuda_blas.cc:1515] Unable to register cuBLAS factory: Attempting to register factory for plugin cuBLAS when one has already been registered\n"
     ]
    }
   ],
   "source": [
    "import tensorflow as tf\n",
    "\n",
    "import warnings\n",
    "warnings.filterwarnings('ignore')\n"
   ]
  },
  {
   "cell_type": "code",
   "execution_count": 3,
   "id": "49c8d590",
   "metadata": {
    "execution": {
     "iopub.execute_input": "2024-07-25T02:03:25.514699Z",
     "iopub.status.busy": "2024-07-25T02:03:25.514040Z",
     "iopub.status.idle": "2024-07-25T02:03:25.574207Z",
     "shell.execute_reply": "2024-07-25T02:03:25.573125Z"
    },
    "papermill": {
     "duration": 0.067856,
     "end_time": "2024-07-25T02:03:25.576854",
     "exception": false,
     "start_time": "2024-07-25T02:03:25.508998",
     "status": "completed"
    },
    "tags": []
   },
   "outputs": [],
   "source": [
    "reviews_ds = tf.data.Dataset.list_files('/kaggle/input/reviews-data/reviews/*/*', shuffle=False)"
   ]
  },
  {
   "cell_type": "code",
   "execution_count": 4,
   "id": "146a1aca",
   "metadata": {
    "execution": {
     "iopub.execute_input": "2024-07-25T02:03:25.586293Z",
     "iopub.status.busy": "2024-07-25T02:03:25.585913Z",
     "iopub.status.idle": "2024-07-25T02:03:25.641910Z",
     "shell.execute_reply": "2024-07-25T02:03:25.640613Z"
    },
    "papermill": {
     "duration": 0.063606,
     "end_time": "2024-07-25T02:03:25.644361",
     "exception": false,
     "start_time": "2024-07-25T02:03:25.580755",
     "status": "completed"
    },
    "tags": []
   },
   "outputs": [
    {
     "name": "stdout",
     "output_type": "stream",
     "text": [
      "b'/kaggle/input/reviews-data/reviews/negative/neg_1.txt'\n",
      "b'/kaggle/input/reviews-data/reviews/negative/neg_2.txt'\n",
      "b'/kaggle/input/reviews-data/reviews/negative/neg_3.txt'\n",
      "b'/kaggle/input/reviews-data/reviews/positive/pos_1.txt'\n",
      "b'/kaggle/input/reviews-data/reviews/positive/pos_2.txt'\n",
      "b'/kaggle/input/reviews-data/reviews/positive/pos_3.txt'\n"
     ]
    }
   ],
   "source": [
    "for file in reviews_ds:\n",
    "    print(file.numpy())"
   ]
  },
  {
   "cell_type": "markdown",
   "id": "77d7830a",
   "metadata": {
    "papermill": {
     "duration": 0.00354,
     "end_time": "2024-07-25T02:03:25.652063",
     "exception": false,
     "start_time": "2024-07-25T02:03:25.648523",
     "status": "completed"
    },
    "tags": []
   },
   "source": [
    "## Extract Review Text and Labels\n",
    "\n",
    "- Extract the review text from each file.\n",
    "- Extract the label from the folder name (`positive` or `negative`).\n"
   ]
  },
  {
   "cell_type": "code",
   "execution_count": 5,
   "id": "9816ca7c",
   "metadata": {
    "execution": {
     "iopub.execute_input": "2024-07-25T02:03:25.662035Z",
     "iopub.status.busy": "2024-07-25T02:03:25.660963Z",
     "iopub.status.idle": "2024-07-25T02:03:25.666793Z",
     "shell.execute_reply": "2024-07-25T02:03:25.665744Z"
    },
    "papermill": {
     "duration": 0.013333,
     "end_time": "2024-07-25T02:03:25.669168",
     "exception": false,
     "start_time": "2024-07-25T02:03:25.655835",
     "status": "completed"
    },
    "tags": []
   },
   "outputs": [],
   "source": [
    "import os\n",
    "def extract_review_and_label(file_path):\n",
    "    return tf.io.read_file(file_path), tf.strings.split(file_path, os.path.sep)[-2]"
   ]
  },
  {
   "cell_type": "code",
   "execution_count": 6,
   "id": "69ae2bc2",
   "metadata": {
    "execution": {
     "iopub.execute_input": "2024-07-25T02:03:25.678994Z",
     "iopub.status.busy": "2024-07-25T02:03:25.678276Z",
     "iopub.status.idle": "2024-07-25T02:03:25.841764Z",
     "shell.execute_reply": "2024-07-25T02:03:25.840480Z"
    },
    "papermill": {
     "duration": 0.170972,
     "end_time": "2024-07-25T02:03:25.844295",
     "exception": false,
     "start_time": "2024-07-25T02:03:25.673323",
     "status": "completed"
    },
    "tags": []
   },
   "outputs": [
    {
     "name": "stdout",
     "output_type": "stream",
     "text": [
      "Review:  b\"Basically there's a family where a little boy (Jak\"\n",
      "Label:  b'negative'\n",
      "Review:  b'This show was an amazing, fresh & innovative idea '\n",
      "Label:  b'negative'\n",
      "Review:  b''\n",
      "Label:  b'negative'\n",
      "Review:  b'One of the other reviewers has mentioned that afte'\n",
      "Label:  b'positive'\n",
      "Review:  b'A wonderful little production. <br /><br />The fil'\n",
      "Label:  b'positive'\n",
      "Review:  b''\n",
      "Label:  b'positive'\n"
     ]
    }
   ],
   "source": [
    "reviews_ds_1 = reviews_ds.map(extract_review_and_label)\n",
    "for review, label in reviews_ds_1:\n",
    "    print(\"Review: \",review.numpy()[:50])\n",
    "    print(\"Label: \",label.numpy())"
   ]
  },
  {
   "cell_type": "markdown",
   "id": "a71a50cc",
   "metadata": {
    "papermill": {
     "duration": 0.003815,
     "end_time": "2024-07-25T02:03:25.852345",
     "exception": false,
     "start_time": "2024-07-25T02:03:25.848530",
     "status": "completed"
    },
    "tags": []
   },
   "source": [
    "## Filter blank reviews"
   ]
  },
  {
   "cell_type": "code",
   "execution_count": 7,
   "id": "71e8e590",
   "metadata": {
    "execution": {
     "iopub.execute_input": "2024-07-25T02:03:25.862634Z",
     "iopub.status.busy": "2024-07-25T02:03:25.861736Z",
     "iopub.status.idle": "2024-07-25T02:03:25.939778Z",
     "shell.execute_reply": "2024-07-25T02:03:25.938619Z"
    },
    "papermill": {
     "duration": 0.086276,
     "end_time": "2024-07-25T02:03:25.942656",
     "exception": false,
     "start_time": "2024-07-25T02:03:25.856380",
     "status": "completed"
    },
    "tags": []
   },
   "outputs": [
    {
     "name": "stdout",
     "output_type": "stream",
     "text": [
      "Review:  b\"Basically there's a family where a little boy (Jak\"\n",
      "Label:  b'negative'\n",
      "Review:  b'This show was an amazing, fresh & innovative idea '\n",
      "Label:  b'negative'\n",
      "Review:  b'One of the other reviewers has mentioned that afte'\n",
      "Label:  b'positive'\n",
      "Review:  b'A wonderful little production. <br /><br />The fil'\n",
      "Label:  b'positive'\n"
     ]
    }
   ],
   "source": [
    "reviews_ds_2 = reviews_ds_1.filter(lambda review, label: review!=\"\")\n",
    "for review, label in reviews_ds_2.as_numpy_iterator():\n",
    "    print(\"Review: \",review[:50])\n",
    "    print(\"Label: \",label)"
   ]
  },
  {
   "cell_type": "markdown",
   "id": "95a942c2",
   "metadata": {
    "papermill": {
     "duration": 0.003931,
     "end_time": "2024-07-25T02:03:25.950849",
     "exception": false,
     "start_time": "2024-07-25T02:03:25.946918",
     "status": "completed"
    },
    "tags": []
   },
   "source": [
    "# Perform map, filter and shuffle all in single line of code"
   ]
  },
  {
   "cell_type": "code",
   "execution_count": 8,
   "id": "a8b9c59f",
   "metadata": {
    "execution": {
     "iopub.execute_input": "2024-07-25T02:03:25.961372Z",
     "iopub.status.busy": "2024-07-25T02:03:25.960983Z",
     "iopub.status.idle": "2024-07-25T02:03:26.085758Z",
     "shell.execute_reply": "2024-07-25T02:03:26.084649Z"
    },
    "papermill": {
     "duration": 0.133377,
     "end_time": "2024-07-25T02:03:26.088480",
     "exception": false,
     "start_time": "2024-07-25T02:03:25.955103",
     "status": "completed"
    },
    "tags": []
   },
   "outputs": [
    {
     "name": "stdout",
     "output_type": "stream",
     "text": [
      "Review: b\"Basically there's a family where a little boy (Jak\"\n",
      "Label: b'negative'\n",
      "Review: b'This show was an amazing, fresh & innovative idea '\n",
      "Label: b'negative'\n",
      "Review: b'One of the other reviewers has mentioned that afte'\n",
      "Label: b'positive'\n",
      "Review: b'A wonderful little production. <br /><br />The fil'\n",
      "Label: b'positive'\n"
     ]
    }
   ],
   "source": [
    "final_ds = reviews_ds.map(extract_review_and_label).filter(lambda review, label: review!=\"\").shuffle(3)\n",
    "for review, label in final_ds.as_numpy_iterator():\n",
    "    print(\"Review:\",review[:50])\n",
    "    print(\"Label:\",label)"
   ]
  },
  {
   "cell_type": "code",
   "execution_count": null,
   "id": "e1d62796",
   "metadata": {
    "papermill": {
     "duration": 0.003967,
     "end_time": "2024-07-25T02:03:26.096773",
     "exception": false,
     "start_time": "2024-07-25T02:03:26.092806",
     "status": "completed"
    },
    "tags": []
   },
   "outputs": [],
   "source": []
  }
 ],
 "metadata": {
  "kaggle": {
   "accelerator": "none",
   "dataSources": [
    {
     "datasetId": 5441692,
     "sourceId": 9028827,
     "sourceType": "datasetVersion"
    }
   ],
   "dockerImageVersionId": 30746,
   "isGpuEnabled": false,
   "isInternetEnabled": true,
   "language": "python",
   "sourceType": "notebook"
  },
  "kernelspec": {
   "display_name": "Python 3",
   "language": "python",
   "name": "python3"
  },
  "language_info": {
   "codemirror_mode": {
    "name": "ipython",
    "version": 3
   },
   "file_extension": ".py",
   "mimetype": "text/x-python",
   "name": "python",
   "nbconvert_exporter": "python",
   "pygments_lexer": "ipython3",
   "version": "3.10.13"
  },
  "papermill": {
   "default_parameters": {},
   "duration": 20.040772,
   "end_time": "2024-07-25T02:03:28.403063",
   "environment_variables": {},
   "exception": null,
   "input_path": "__notebook__.ipynb",
   "output_path": "__notebook__.ipynb",
   "parameters": {},
   "start_time": "2024-07-25T02:03:08.362291",
   "version": "2.5.0"
  }
 },
 "nbformat": 4,
 "nbformat_minor": 5
}
